{
 "cells": [
  {
   "cell_type": "code",
   "execution_count": 263,
   "metadata": {},
   "outputs": [],
   "source": [
    "import pandas as pd\n",
    "import numpy as np\n",
    "import plotly.express as px\n",
    "import plotly.graph_objects as go\n",
    "import ast\n",
    "import plotly.figure_factory as ff\n",
    "\n",
    "\n",
    "from scipy.spatial import distance\n",
    "from scipy.cluster.hierarchy import dendrogram, linkage\n",
    "from sklearn.metrics import adjusted_rand_score as ari\n",
    "from sklearn.metrics import jaccard_score\n",
    "from sklearn.metrics import adjusted_mutual_info_score as ami\n",
    "\n",
    "import re\n",
    "import xarray as xr\n",
    "import random"
   ]
  },
  {
   "cell_type": "markdown",
   "metadata": {},
   "source": [
    "# Summary\n",
    "\n",
    "## Some Context\n",
    "At the start of the project I was asked to find a good clustering approach that could explain why sharks have been grouped in that way in a published model.  \n",
    "I did not have access yet to the original data they used, so I used independent data found in literature for the same spatial zone.\n",
    "\n",
    "Later this plan has been called off because of a change of direction of the whole project.\n",
    "\n",
    "## Goal\n",
    "The goal is to obtain clusters for sharks according to 3 different variables\n",
    "* Size\n",
    "* Depth in which sharks are found\n",
    "* Diet items (composition is not available)"
   ]
  },
  {
   "cell_type": "markdown",
   "metadata": {},
   "source": [
    "## Data Imports"
   ]
  },
  {
   "cell_type": "code",
   "execution_count": 264,
   "metadata": {},
   "outputs": [],
   "source": [
    "size_df = pd.read_csv('./calc_database/size_database.csv', usecols=['Species', 'W inf (kg)', 'Taxonomic Unit'])\n",
    "depth_df = pd.read_csv('./calc_database/depth_database.csv', usecols=['Species', 'Boolean Zones (reversed)', 'Fishbase Zones (reversed)'])\n",
    "depth_df['Fishbase Zones (reversed)'] =[ast.literal_eval(i) for i in depth_df['Fishbase Zones (reversed)']]\n",
    "depth_df['Boolean Zones (reversed)'] =[ast.literal_eval(i) for i in depth_df['Boolean Zones (reversed)']]\n",
    "diet_df = pd.read_csv('./calc_database/diet_database.csv')\n",
    "\n",
    "cont_scale=[\n",
    "    [0, 'rgb(234, 172, 139)'],\n",
    "    [0.5, 'rgb(181, 101, 118)'],\n",
    "    [1, 'rgb(53, 80, 112)']]\n",
    "\n",
    "cont_scale_boolean=[\n",
    "    [0, 'rgb(255,255,255)'],\n",
    "    [0.01, 'rgb(234, 172, 139)'],\n",
    "    [0.5, 'rgb(181, 101, 118)'],\n",
    "    [1, 'rgb(53, 80, 112)']]\n",
    "\n",
    "discrete_scale=[\n",
    "    'rgb(231, 111, 81)',\n",
    "    'rgb(244, 162, 97)',\n",
    "    'rgb(233, 196, 106)',\n",
    "    'rgb(42, 157, 143)',\n",
    "    'rgb(38, 70, 83)',\n",
    "]"
   ]
  },
  {
   "cell_type": "markdown",
   "metadata": {},
   "source": [
    "# Quantitative data Clustering <a class=\"anchor\" id='quantitativeclus'></a>\n",
    "In this case an agglomerative hierarchical clustering algorythm has been applied.  \n",
    "The ward linkage seems to be more informative.\n",
    "\n",
    "[Scipy Linkage Doc.](https://docs.scipy.org/doc/scipy/reference/generated/scipy.cluster.hierarchy.linkage.html)  \n",
    "[Scipy Dendrogram Doc.](https://docs.scipy.org/doc/scipy/reference/generated/scipy.cluster.hierarchy.dendrogram.html)  \n",
    "[Plotly FF Dendrogram Doc.](https://plotly.github.io/plotly.py-docs/generated/plotly.figure_factory.create_dendrogram.html)\n",
    "\n",
    "#### Ward Algorithm\n",
    "Ward's minimum variance criterion minimizes the total within-cluster variance. To implement this method, at each step find the pair of clusters that leads to **minimum increase in total within-cluster variance** after merging. This increase is a weighted squared distance between cluster centers. At the initial step, all clusters are singletons.  \n",
    "To apply a recursive algorithm under this objective function, the initial distance between individual objects must be (proportional to) squared Euclidean distance.  \n",
    "The initial cluster distances in Ward's minimum variance method are therefore defined to be the squared Euclidean distance between points:\n",
    "$$ d_{ij}=d(\\{X_i\\}, \\{X_j\\}) = { \\|X_i - X_j\\|^2} $$\n",
    "The algorithm implemented in this function calculates the distance as  \n",
    "$$ d(u,v) = \\sqrt{\\frac{|v|+|s|}{T}d(v,s)^2+ \\frac{|v|+|t|}{T}d(v,t)^2- \\frac{|v|}{T}d(s,t)^2} $$  \n",
    "Where $u$ is the newly joined cluster consisting of clusters $s$ and $t$;  \n",
    "$v$ is an unused cluster in the forest, $T=|v|+|s|+|t|$, and $|*|$ is the cardinality of its argument (number of elements in the cluster).  \n",
    "This is also known as the **Lance-Williams** recursive algorithm."
   ]
  },
  {
   "cell_type": "markdown",
   "metadata": {},
   "source": [
    "## Size Clustering <a class=\"anchor\" id=\"size\"></a>\n",
    "#### Size Cluster correction\n",
    "3 species have been left out from clusters due to lack of data. Since comparisons with NaN are troublesome, these species will be manually assigned the appropriate value of $W_{\\infty}$  according to unverified data found on the internet.\n",
    "\n",
    "|Species|Length [mm] (unpublished)| $W_{\\infty}$ [Kg] (calculated)|Source|\n",
    "|---|---|---|---|\n",
    "|*Leucoraja fullonica*| 1100 | 16| [Shark Reference](https://shark-references.com/species/view/Leucoraja-fullonica)|\n",
    "|*Leucoraja melitensis*|500 | 0.56 | [Shark Reference](https://shark-references.com/species/view/Leucoraja-melitensis)|\n",
    "|*Myliobatis aquila*| ND | 21 | [Fishbase](https://www.fishbase.in/popdyn/KeyfactsSummary_2v2.php?ID=4330&GenusName=Myliobatis&SpeciesName=aquila&vStockCode=4518&fc=22)|"
   ]
  },
  {
   "cell_type": "code",
   "execution_count": 265,
   "metadata": {},
   "outputs": [],
   "source": [
    "## manually setting ND data\n",
    "size_df.loc[size_df['Species']=='Leucoraja fullonica', 'W inf (kg)'] = 16\n",
    "size_df.loc[size_df['Species']=='Leucoraja melitensis', 'W inf (kg)'] = 0.56\n",
    "size_df.loc[size_df['Species']=='Myliobatis aquila', 'W inf (kg)'] = 21"
   ]
  },
  {
   "cell_type": "code",
   "execution_count": 266,
   "metadata": {},
   "outputs": [
    {
     "data": {
      "application/vnd.plotly.v1+json": {
       "config": {
        "plotlyServerURL": "https://plot.ly"
       },
       "data": [
        {
         "hoverinfo": "text",
         "marker": {
          "color": "rgb(248, 156, 116)"
         },
         "mode": "lines",
         "type": "scatter",
         "x": [
          35,
          35,
          45,
          45
         ],
         "xaxis": "x",
         "y": [
          0,
          6,
          6,
          0
         ],
         "yaxis": "y"
        },
        {
         "hoverinfo": "text",
         "marker": {
          "color": "rgb(248, 156, 116)"
         },
         "mode": "lines",
         "type": "scatter",
         "x": [
          25,
          25,
          40,
          40
         ],
         "xaxis": "x",
         "y": [
          0,
          14.295192665135128,
          14.295192665135128,
          6
         ],
         "yaxis": "y"
        },
        {
         "hoverinfo": "text",
         "marker": {
          "color": "rgb(248, 156, 116)"
         },
         "mode": "lines",
         "type": "scatter",
         "x": [
          15,
          15,
          32.5,
          32.5
         ],
         "xaxis": "x",
         "y": [
          0,
          53.19475224744135,
          53.19475224744135,
          14.295192665135128
         ],
         "yaxis": "y"
        },
        {
         "hoverinfo": "text",
         "marker": {
          "color": "rgb(158, 185, 243)"
         },
         "mode": "lines",
         "type": "scatter",
         "x": [
          65,
          65,
          75,
          75
         ],
         "xaxis": "x",
         "y": [
          0,
          0.8500000000000014,
          0.8500000000000014,
          0
         ],
         "yaxis": "y"
        },
        {
         "hoverinfo": "text",
         "marker": {
          "color": "rgb(158, 185, 243)"
         },
         "mode": "lines",
         "type": "scatter",
         "x": [
          55,
          55,
          70,
          70
         ],
         "xaxis": "x",
         "y": [
          0,
          4.716951699279247,
          4.716951699279247,
          0.8500000000000014
         ],
         "yaxis": "y"
        },
        {
         "hoverinfo": "text",
         "marker": {
          "color": "rgb(158, 185, 243)"
         },
         "mode": "lines",
         "type": "scatter",
         "x": [
          95,
          95,
          105,
          105
         ],
         "xaxis": "x",
         "y": [
          0,
          0.6799999999999997,
          0.6799999999999997,
          0
         ],
         "yaxis": "y"
        },
        {
         "hoverinfo": "text",
         "marker": {
          "color": "rgb(158, 185, 243)"
         },
         "mode": "lines",
         "type": "scatter",
         "x": [
          85,
          85,
          100,
          100
         ],
         "xaxis": "x",
         "y": [
          0,
          2.482606157515389,
          2.482606157515389,
          0.6799999999999997
         ],
         "yaxis": "y"
        },
        {
         "hoverinfo": "text",
         "marker": {
          "color": "rgb(158, 185, 243)"
         },
         "mode": "lines",
         "type": "scatter",
         "x": [
          125,
          125,
          135,
          135
         ],
         "xaxis": "x",
         "y": [
          0,
          0.010000000000001563,
          0.010000000000001563,
          0
         ],
         "yaxis": "y"
        },
        {
         "hoverinfo": "text",
         "marker": {
          "color": "rgb(158, 185, 243)"
         },
         "mode": "lines",
         "type": "scatter",
         "x": [
          115,
          115,
          130,
          130
         ],
         "xaxis": "x",
         "y": [
          0,
          3.2042939940024238,
          3.2042939940024238,
          0.010000000000001563
         ],
         "yaxis": "y"
        },
        {
         "hoverinfo": "text",
         "marker": {
          "color": "rgb(158, 185, 243)"
         },
         "mode": "lines",
         "type": "scatter",
         "x": [
          92.5,
          92.5,
          122.5,
          122.5
         ],
         "xaxis": "x",
         "y": [
          2.482606157515389,
          7.2861603971730755,
          7.2861603971730755,
          3.2042939940024238
         ],
         "yaxis": "y"
        },
        {
         "hoverinfo": "text",
         "marker": {
          "color": "rgb(158, 185, 243)"
         },
         "mode": "lines",
         "type": "scatter",
         "x": [
          62.5,
          62.5,
          107.5,
          107.5
         ],
         "xaxis": "x",
         "y": [
          4.716951699279247,
          23.826666666666664,
          23.826666666666664,
          7.2861603971730755
         ],
         "yaxis": "y"
        },
        {
         "hoverinfo": "text",
         "marker": {
          "color": "rgb(246, 207, 113)"
         },
         "mode": "lines",
         "type": "scatter",
         "x": [
          155,
          155,
          165,
          165
         ],
         "xaxis": "x",
         "y": [
          0,
          0.2599999999999998,
          0.2599999999999998,
          0
         ],
         "yaxis": "y"
        },
        {
         "hoverinfo": "text",
         "marker": {
          "color": "rgb(246, 207, 113)"
         },
         "mode": "lines",
         "type": "scatter",
         "x": [
          145,
          145,
          160,
          160
         ],
         "xaxis": "x",
         "y": [
          0,
          1.1893415545306294,
          1.1893415545306294,
          0.2599999999999998
         ],
         "yaxis": "y"
        },
        {
         "hoverinfo": "text",
         "marker": {
          "color": "rgb(246, 207, 113)"
         },
         "mode": "lines",
         "type": "scatter",
         "x": [
          185,
          185,
          195,
          195
         ],
         "xaxis": "x",
         "y": [
          0,
          0.11999999999999988,
          0.11999999999999988,
          0
         ],
         "yaxis": "y"
        },
        {
         "hoverinfo": "text",
         "marker": {
          "color": "rgb(246, 207, 113)"
         },
         "mode": "lines",
         "type": "scatter",
         "x": [
          205,
          205,
          215,
          215
         ],
         "xaxis": "x",
         "y": [
          0,
          0.26,
          0.26,
          0
         ],
         "yaxis": "y"
        },
        {
         "hoverinfo": "text",
         "marker": {
          "color": "rgb(246, 207, 113)"
         },
         "mode": "lines",
         "type": "scatter",
         "x": [
          190,
          190,
          210,
          210
         ],
         "xaxis": "x",
         "y": [
          0.11999999999999988,
          0.6363961030678927,
          0.6363961030678927,
          0.26
         ],
         "yaxis": "y"
        },
        {
         "hoverinfo": "text",
         "marker": {
          "color": "rgb(246, 207, 113)"
         },
         "mode": "lines",
         "type": "scatter",
         "x": [
          175,
          175,
          200,
          200
         ],
         "xaxis": "x",
         "y": [
          0,
          0.9929551852928711,
          0.9929551852928711,
          0.6363961030678927
         ],
         "yaxis": "y"
        },
        {
         "hoverinfo": "text",
         "marker": {
          "color": "rgb(246, 207, 113)"
         },
         "mode": "lines",
         "type": "scatter",
         "x": [
          235,
          235,
          245,
          245
         ],
         "xaxis": "x",
         "y": [
          0,
          0.17999999999999972,
          0.17999999999999972,
          0
         ],
         "yaxis": "y"
        },
        {
         "hoverinfo": "text",
         "marker": {
          "color": "rgb(246, 207, 113)"
         },
         "mode": "lines",
         "type": "scatter",
         "x": [
          225,
          225,
          240,
          240
         ],
         "xaxis": "x",
         "y": [
          0,
          0.357957166897568,
          0.357957166897568,
          0.17999999999999972
         ],
         "yaxis": "y"
        },
        {
         "hoverinfo": "text",
         "marker": {
          "color": "rgb(246, 207, 113)"
         },
         "mode": "lines",
         "type": "scatter",
         "x": [
          255,
          255,
          265,
          265
         ],
         "xaxis": "x",
         "y": [
          0,
          0.04999999999999982,
          0.04999999999999982,
          0
         ],
         "yaxis": "y"
        },
        {
         "hoverinfo": "text",
         "marker": {
          "color": "rgb(246, 207, 113)"
         },
         "mode": "lines",
         "type": "scatter",
         "x": [
          275,
          275,
          285,
          285
         ],
         "xaxis": "x",
         "y": [
          0,
          0.050000000000000266,
          0.050000000000000266,
          0
         ],
         "yaxis": "y"
        },
        {
         "hoverinfo": "text",
         "marker": {
          "color": "rgb(246, 207, 113)"
         },
         "mode": "lines",
         "type": "scatter",
         "x": [
          260,
          260,
          280,
          280
         ],
         "xaxis": "x",
         "y": [
          0.04999999999999982,
          0.5656854249492381,
          0.5656854249492381,
          0.050000000000000266
         ],
         "yaxis": "y"
        },
        {
         "hoverinfo": "text",
         "marker": {
          "color": "rgb(246, 207, 113)"
         },
         "mode": "lines",
         "type": "scatter",
         "x": [
          232.5,
          232.5,
          270,
          270
         ],
         "xaxis": "x",
         "y": [
          0.357957166897568,
          1.0893816507323688,
          1.0893816507323688,
          0.5656854249492381
         ],
         "yaxis": "y"
        },
        {
         "hoverinfo": "text",
         "marker": {
          "color": "rgb(246, 207, 113)"
         },
         "mode": "lines",
         "type": "scatter",
         "x": [
          187.5,
          187.5,
          251.25,
          251.25
         ],
         "xaxis": "x",
         "y": [
          0.9929551852928711,
          3.8139923464851915,
          3.8139923464851915,
          1.0893816507323688
         ],
         "yaxis": "y"
        },
        {
         "hoverinfo": "text",
         "marker": {
          "color": "rgb(246, 207, 113)"
         },
         "mode": "lines",
         "type": "scatter",
         "x": [
          152.5,
          152.5,
          219.375,
          219.375
         ],
         "xaxis": "x",
         "y": [
          1.1893415545306294,
          6.567193464486942,
          6.567193464486942,
          3.8139923464851915
         ],
         "yaxis": "y"
        },
        {
         "hoverinfo": "text",
         "marker": {
          "color": "rgb(246, 207, 113)"
         },
         "mode": "lines",
         "type": "scatter",
         "x": [
          305,
          305,
          315,
          315
         ],
         "xaxis": "x",
         "y": [
          0,
          0.2400000000000002,
          0.2400000000000002,
          0
         ],
         "yaxis": "y"
        },
        {
         "hoverinfo": "text",
         "marker": {
          "color": "rgb(246, 207, 113)"
         },
         "mode": "lines",
         "type": "scatter",
         "x": [
          295,
          295,
          310,
          310
         ],
         "xaxis": "x",
         "y": [
          0,
          1.605033748347159,
          1.605033748347159,
          0.2400000000000002
         ],
         "yaxis": "y"
        },
        {
         "hoverinfo": "text",
         "marker": {
          "color": "rgb(246, 207, 113)"
         },
         "mode": "lines",
         "type": "scatter",
         "x": [
          335,
          335,
          345,
          345
         ],
         "xaxis": "x",
         "y": [
          0,
          0.10999999999999943,
          0.10999999999999943,
          0
         ],
         "yaxis": "y"
        },
        {
         "hoverinfo": "text",
         "marker": {
          "color": "rgb(246, 207, 113)"
         },
         "mode": "lines",
         "type": "scatter",
         "x": [
          325,
          325,
          340,
          340
         ],
         "xaxis": "x",
         "y": [
          0,
          0.5600297611139363,
          0.5600297611139363,
          0.10999999999999943
         ],
         "yaxis": "y"
        },
        {
         "hoverinfo": "text",
         "marker": {
          "color": "rgb(246, 207, 113)"
         },
         "mode": "lines",
         "type": "scatter",
         "x": [
          365,
          365,
          375,
          375
         ],
         "xaxis": "x",
         "y": [
          0,
          0.6999999999999993,
          0.6999999999999993,
          0
         ],
         "yaxis": "y"
        },
        {
         "hoverinfo": "text",
         "marker": {
          "color": "rgb(246, 207, 113)"
         },
         "mode": "lines",
         "type": "scatter",
         "x": [
          355,
          355,
          370,
          370
         ],
         "xaxis": "x",
         "y": [
          0,
          1.4549226783578566,
          1.4549226783578566,
          0.6999999999999993
         ],
         "yaxis": "y"
        },
        {
         "hoverinfo": "text",
         "marker": {
          "color": "rgb(246, 207, 113)"
         },
         "mode": "lines",
         "type": "scatter",
         "x": [
          332.5,
          332.5,
          362.5,
          362.5
         ],
         "xaxis": "x",
         "y": [
          0.5600297611139363,
          3.6315331932027464,
          3.6315331932027464,
          1.4549226783578566
         ],
         "yaxis": "y"
        },
        {
         "hoverinfo": "text",
         "marker": {
          "color": "rgb(246, 207, 113)"
         },
         "mode": "lines",
         "type": "scatter",
         "x": [
          302.5,
          302.5,
          347.5,
          347.5
         ],
         "xaxis": "x",
         "y": [
          1.605033748347159,
          7.036666666666666,
          7.036666666666666,
          3.6315331932027464
         ],
         "yaxis": "y"
        },
        {
         "hoverinfo": "text",
         "marker": {
          "color": "rgb(246, 207, 113)"
         },
         "mode": "lines",
         "type": "scatter",
         "x": [
          185.9375,
          185.9375,
          325,
          325
         ],
         "xaxis": "x",
         "y": [
          6.567193464486942,
          26.606227508277495,
          26.606227508277495,
          7.036666666666666
         ],
         "yaxis": "y"
        },
        {
         "hoverinfo": "text",
         "marker": {
          "color": "rgb(102, 197, 204)"
         },
         "mode": "lines",
         "type": "scatter",
         "x": [
          85,
          85,
          255.46875,
          255.46875
         ],
         "xaxis": "x",
         "y": [
          23.826666666666664,
          65.99882325244195,
          65.99882325244195,
          26.606227508277495
         ],
         "yaxis": "y"
        },
        {
         "hoverinfo": "text",
         "marker": {
          "color": "rgb(102, 197, 204)"
         },
         "mode": "lines",
         "type": "scatter",
         "x": [
          23.75,
          23.75,
          170.234375,
          170.234375
         ],
         "xaxis": "x",
         "y": [
          53.19475224744135,
          134.21766132955983,
          134.21766132955983,
          65.99882325244195
         ],
         "yaxis": "y"
        },
        {
         "hoverinfo": "text",
         "marker": {
          "color": "rgb(102, 197, 204)"
         },
         "mode": "lines",
         "type": "scatter",
         "x": [
          5,
          5,
          96.9921875,
          96.9921875
         ],
         "xaxis": "x",
         "y": [
          0,
          799.9733073179347,
          799.9733073179347,
          134.21766132955983
         ],
         "yaxis": "y"
        }
       ],
       "layout": {
        "autosize": false,
        "height": 600,
        "hovermode": "closest",
        "showlegend": false,
        "template": {
         "data": {
          "bar": [
           {
            "error_x": {
             "color": "#2a3f5f"
            },
            "error_y": {
             "color": "#2a3f5f"
            },
            "marker": {
             "line": {
              "color": "white",
              "width": 0.5
             },
             "pattern": {
              "fillmode": "overlay",
              "size": 10,
              "solidity": 0.2
             }
            },
            "type": "bar"
           }
          ],
          "barpolar": [
           {
            "marker": {
             "line": {
              "color": "white",
              "width": 0.5
             },
             "pattern": {
              "fillmode": "overlay",
              "size": 10,
              "solidity": 0.2
             }
            },
            "type": "barpolar"
           }
          ],
          "carpet": [
           {
            "aaxis": {
             "endlinecolor": "#2a3f5f",
             "gridcolor": "#C8D4E3",
             "linecolor": "#C8D4E3",
             "minorgridcolor": "#C8D4E3",
             "startlinecolor": "#2a3f5f"
            },
            "baxis": {
             "endlinecolor": "#2a3f5f",
             "gridcolor": "#C8D4E3",
             "linecolor": "#C8D4E3",
             "minorgridcolor": "#C8D4E3",
             "startlinecolor": "#2a3f5f"
            },
            "type": "carpet"
           }
          ],
          "choropleth": [
           {
            "colorbar": {
             "outlinewidth": 0,
             "ticks": ""
            },
            "type": "choropleth"
           }
          ],
          "contour": [
           {
            "colorbar": {
             "outlinewidth": 0,
             "ticks": ""
            },
            "colorscale": [
             [
              0,
              "#0d0887"
             ],
             [
              0.1111111111111111,
              "#46039f"
             ],
             [
              0.2222222222222222,
              "#7201a8"
             ],
             [
              0.3333333333333333,
              "#9c179e"
             ],
             [
              0.4444444444444444,
              "#bd3786"
             ],
             [
              0.5555555555555556,
              "#d8576b"
             ],
             [
              0.6666666666666666,
              "#ed7953"
             ],
             [
              0.7777777777777778,
              "#fb9f3a"
             ],
             [
              0.8888888888888888,
              "#fdca26"
             ],
             [
              1,
              "#f0f921"
             ]
            ],
            "type": "contour"
           }
          ],
          "contourcarpet": [
           {
            "colorbar": {
             "outlinewidth": 0,
             "ticks": ""
            },
            "type": "contourcarpet"
           }
          ],
          "heatmap": [
           {
            "colorbar": {
             "outlinewidth": 0,
             "ticks": ""
            },
            "colorscale": [
             [
              0,
              "#0d0887"
             ],
             [
              0.1111111111111111,
              "#46039f"
             ],
             [
              0.2222222222222222,
              "#7201a8"
             ],
             [
              0.3333333333333333,
              "#9c179e"
             ],
             [
              0.4444444444444444,
              "#bd3786"
             ],
             [
              0.5555555555555556,
              "#d8576b"
             ],
             [
              0.6666666666666666,
              "#ed7953"
             ],
             [
              0.7777777777777778,
              "#fb9f3a"
             ],
             [
              0.8888888888888888,
              "#fdca26"
             ],
             [
              1,
              "#f0f921"
             ]
            ],
            "type": "heatmap"
           }
          ],
          "heatmapgl": [
           {
            "colorbar": {
             "outlinewidth": 0,
             "ticks": ""
            },
            "colorscale": [
             [
              0,
              "#0d0887"
             ],
             [
              0.1111111111111111,
              "#46039f"
             ],
             [
              0.2222222222222222,
              "#7201a8"
             ],
             [
              0.3333333333333333,
              "#9c179e"
             ],
             [
              0.4444444444444444,
              "#bd3786"
             ],
             [
              0.5555555555555556,
              "#d8576b"
             ],
             [
              0.6666666666666666,
              "#ed7953"
             ],
             [
              0.7777777777777778,
              "#fb9f3a"
             ],
             [
              0.8888888888888888,
              "#fdca26"
             ],
             [
              1,
              "#f0f921"
             ]
            ],
            "type": "heatmapgl"
           }
          ],
          "histogram": [
           {
            "marker": {
             "pattern": {
              "fillmode": "overlay",
              "size": 10,
              "solidity": 0.2
             }
            },
            "type": "histogram"
           }
          ],
          "histogram2d": [
           {
            "colorbar": {
             "outlinewidth": 0,
             "ticks": ""
            },
            "colorscale": [
             [
              0,
              "#0d0887"
             ],
             [
              0.1111111111111111,
              "#46039f"
             ],
             [
              0.2222222222222222,
              "#7201a8"
             ],
             [
              0.3333333333333333,
              "#9c179e"
             ],
             [
              0.4444444444444444,
              "#bd3786"
             ],
             [
              0.5555555555555556,
              "#d8576b"
             ],
             [
              0.6666666666666666,
              "#ed7953"
             ],
             [
              0.7777777777777778,
              "#fb9f3a"
             ],
             [
              0.8888888888888888,
              "#fdca26"
             ],
             [
              1,
              "#f0f921"
             ]
            ],
            "type": "histogram2d"
           }
          ],
          "histogram2dcontour": [
           {
            "colorbar": {
             "outlinewidth": 0,
             "ticks": ""
            },
            "colorscale": [
             [
              0,
              "#0d0887"
             ],
             [
              0.1111111111111111,
              "#46039f"
             ],
             [
              0.2222222222222222,
              "#7201a8"
             ],
             [
              0.3333333333333333,
              "#9c179e"
             ],
             [
              0.4444444444444444,
              "#bd3786"
             ],
             [
              0.5555555555555556,
              "#d8576b"
             ],
             [
              0.6666666666666666,
              "#ed7953"
             ],
             [
              0.7777777777777778,
              "#fb9f3a"
             ],
             [
              0.8888888888888888,
              "#fdca26"
             ],
             [
              1,
              "#f0f921"
             ]
            ],
            "type": "histogram2dcontour"
           }
          ],
          "mesh3d": [
           {
            "colorbar": {
             "outlinewidth": 0,
             "ticks": ""
            },
            "type": "mesh3d"
           }
          ],
          "parcoords": [
           {
            "line": {
             "colorbar": {
              "outlinewidth": 0,
              "ticks": ""
             }
            },
            "type": "parcoords"
           }
          ],
          "pie": [
           {
            "automargin": true,
            "type": "pie"
           }
          ],
          "scatter": [
           {
            "fillpattern": {
             "fillmode": "overlay",
             "size": 10,
             "solidity": 0.2
            },
            "type": "scatter"
           }
          ],
          "scatter3d": [
           {
            "line": {
             "colorbar": {
              "outlinewidth": 0,
              "ticks": ""
             }
            },
            "marker": {
             "colorbar": {
              "outlinewidth": 0,
              "ticks": ""
             }
            },
            "type": "scatter3d"
           }
          ],
          "scattercarpet": [
           {
            "marker": {
             "colorbar": {
              "outlinewidth": 0,
              "ticks": ""
             }
            },
            "type": "scattercarpet"
           }
          ],
          "scattergeo": [
           {
            "marker": {
             "colorbar": {
              "outlinewidth": 0,
              "ticks": ""
             }
            },
            "type": "scattergeo"
           }
          ],
          "scattergl": [
           {
            "marker": {
             "colorbar": {
              "outlinewidth": 0,
              "ticks": ""
             }
            },
            "type": "scattergl"
           }
          ],
          "scattermapbox": [
           {
            "marker": {
             "colorbar": {
              "outlinewidth": 0,
              "ticks": ""
             }
            },
            "type": "scattermapbox"
           }
          ],
          "scatterpolar": [
           {
            "marker": {
             "colorbar": {
              "outlinewidth": 0,
              "ticks": ""
             }
            },
            "type": "scatterpolar"
           }
          ],
          "scatterpolargl": [
           {
            "marker": {
             "colorbar": {
              "outlinewidth": 0,
              "ticks": ""
             }
            },
            "type": "scatterpolargl"
           }
          ],
          "scatterternary": [
           {
            "marker": {
             "colorbar": {
              "outlinewidth": 0,
              "ticks": ""
             }
            },
            "type": "scatterternary"
           }
          ],
          "surface": [
           {
            "colorbar": {
             "outlinewidth": 0,
             "ticks": ""
            },
            "colorscale": [
             [
              0,
              "#0d0887"
             ],
             [
              0.1111111111111111,
              "#46039f"
             ],
             [
              0.2222222222222222,
              "#7201a8"
             ],
             [
              0.3333333333333333,
              "#9c179e"
             ],
             [
              0.4444444444444444,
              "#bd3786"
             ],
             [
              0.5555555555555556,
              "#d8576b"
             ],
             [
              0.6666666666666666,
              "#ed7953"
             ],
             [
              0.7777777777777778,
              "#fb9f3a"
             ],
             [
              0.8888888888888888,
              "#fdca26"
             ],
             [
              1,
              "#f0f921"
             ]
            ],
            "type": "surface"
           }
          ],
          "table": [
           {
            "cells": {
             "fill": {
              "color": "#EBF0F8"
             },
             "line": {
              "color": "white"
             }
            },
            "header": {
             "fill": {
              "color": "#C8D4E3"
             },
             "line": {
              "color": "white"
             }
            },
            "type": "table"
           }
          ]
         },
         "layout": {
          "annotationdefaults": {
           "arrowcolor": "#2a3f5f",
           "arrowhead": 0,
           "arrowwidth": 1
          },
          "autotypenumbers": "strict",
          "coloraxis": {
           "colorbar": {
            "outlinewidth": 0,
            "ticks": ""
           }
          },
          "colorscale": {
           "diverging": [
            [
             0,
             "#8e0152"
            ],
            [
             0.1,
             "#c51b7d"
            ],
            [
             0.2,
             "#de77ae"
            ],
            [
             0.3,
             "#f1b6da"
            ],
            [
             0.4,
             "#fde0ef"
            ],
            [
             0.5,
             "#f7f7f7"
            ],
            [
             0.6,
             "#e6f5d0"
            ],
            [
             0.7,
             "#b8e186"
            ],
            [
             0.8,
             "#7fbc41"
            ],
            [
             0.9,
             "#4d9221"
            ],
            [
             1,
             "#276419"
            ]
           ],
           "sequential": [
            [
             0,
             "#0d0887"
            ],
            [
             0.1111111111111111,
             "#46039f"
            ],
            [
             0.2222222222222222,
             "#7201a8"
            ],
            [
             0.3333333333333333,
             "#9c179e"
            ],
            [
             0.4444444444444444,
             "#bd3786"
            ],
            [
             0.5555555555555556,
             "#d8576b"
            ],
            [
             0.6666666666666666,
             "#ed7953"
            ],
            [
             0.7777777777777778,
             "#fb9f3a"
            ],
            [
             0.8888888888888888,
             "#fdca26"
            ],
            [
             1,
             "#f0f921"
            ]
           ],
           "sequentialminus": [
            [
             0,
             "#0d0887"
            ],
            [
             0.1111111111111111,
             "#46039f"
            ],
            [
             0.2222222222222222,
             "#7201a8"
            ],
            [
             0.3333333333333333,
             "#9c179e"
            ],
            [
             0.4444444444444444,
             "#bd3786"
            ],
            [
             0.5555555555555556,
             "#d8576b"
            ],
            [
             0.6666666666666666,
             "#ed7953"
            ],
            [
             0.7777777777777778,
             "#fb9f3a"
            ],
            [
             0.8888888888888888,
             "#fdca26"
            ],
            [
             1,
             "#f0f921"
            ]
           ]
          },
          "colorway": [
           "#636efa",
           "#EF553B",
           "#00cc96",
           "#ab63fa",
           "#FFA15A",
           "#19d3f3",
           "#FF6692",
           "#B6E880",
           "#FF97FF",
           "#FECB52"
          ],
          "font": {
           "color": "#2a3f5f"
          },
          "geo": {
           "bgcolor": "white",
           "lakecolor": "white",
           "landcolor": "white",
           "showlakes": true,
           "showland": true,
           "subunitcolor": "#C8D4E3"
          },
          "hoverlabel": {
           "align": "left"
          },
          "hovermode": "closest",
          "mapbox": {
           "style": "light"
          },
          "paper_bgcolor": "white",
          "plot_bgcolor": "white",
          "polar": {
           "angularaxis": {
            "gridcolor": "#EBF0F8",
            "linecolor": "#EBF0F8",
            "ticks": ""
           },
           "bgcolor": "white",
           "radialaxis": {
            "gridcolor": "#EBF0F8",
            "linecolor": "#EBF0F8",
            "ticks": ""
           }
          },
          "scene": {
           "xaxis": {
            "backgroundcolor": "white",
            "gridcolor": "#DFE8F3",
            "gridwidth": 2,
            "linecolor": "#EBF0F8",
            "showbackground": true,
            "ticks": "",
            "zerolinecolor": "#EBF0F8"
           },
           "yaxis": {
            "backgroundcolor": "white",
            "gridcolor": "#DFE8F3",
            "gridwidth": 2,
            "linecolor": "#EBF0F8",
            "showbackground": true,
            "ticks": "",
            "zerolinecolor": "#EBF0F8"
           },
           "zaxis": {
            "backgroundcolor": "white",
            "gridcolor": "#DFE8F3",
            "gridwidth": 2,
            "linecolor": "#EBF0F8",
            "showbackground": true,
            "ticks": "",
            "zerolinecolor": "#EBF0F8"
           }
          },
          "shapedefaults": {
           "line": {
            "color": "#2a3f5f"
           }
          },
          "ternary": {
           "aaxis": {
            "gridcolor": "#DFE8F3",
            "linecolor": "#A2B1C6",
            "ticks": ""
           },
           "baxis": {
            "gridcolor": "#DFE8F3",
            "linecolor": "#A2B1C6",
            "ticks": ""
           },
           "bgcolor": "white",
           "caxis": {
            "gridcolor": "#DFE8F3",
            "linecolor": "#A2B1C6",
            "ticks": ""
           }
          },
          "title": {
           "x": 0.05
          },
          "xaxis": {
           "automargin": true,
           "gridcolor": "#EBF0F8",
           "linecolor": "#EBF0F8",
           "ticks": "",
           "title": {
            "standoff": 15
           },
           "zerolinecolor": "#EBF0F8",
           "zerolinewidth": 2
          },
          "yaxis": {
           "automargin": true,
           "gridcolor": "#EBF0F8",
           "linecolor": "#EBF0F8",
           "ticks": "",
           "title": {
            "standoff": 15
           },
           "zerolinecolor": "#EBF0F8",
           "zerolinewidth": 2
          }
         }
        },
        "title": {
         "text": "Hierarchical Clustering from size data"
        },
        "width": 1200,
        "xaxis": {
         "mirror": "allticks",
         "rangemode": "tozero",
         "showgrid": false,
         "showline": true,
         "showticklabels": true,
         "tickmode": "array",
         "ticks": "outside",
         "ticktext": [
          "Hexanchus griseus",
          "Dipturus batis",
          "Dasyatis pastinaca",
          "Centrophorus granulosus",
          "Rostroraja alba",
          "Bathyraja brachyurops",
          "Mustelus punctulatus",
          "Aetomylaeus bovinus",
          "Scyliorhinus stellaris",
          "Myliobatis aquila",
          "Dalatias licha",
          "Leucoraja fullonica",
          "Pteroplatytrygon violacea",
          "Mustelus mustelus",
          "Raja radula",
          "Squalus blainville",
          "Mustelus asterias",
          "Leucoraja melitensis",
          "Scyliorhinus canicula",
          "Galeus melastomus",
          "Etmopterus spinax",
          "Torpedo torpedo",
          "Raja miraletus",
          "Chimaera monstrosa",
          "Raja montagui",
          "Raja asterias",
          "Leucoraja naevus",
          "Raja polystigma",
          "Torpedo marmorata",
          "Leucoraja circularis",
          "Dipturus oxyrinchus",
          "Raja clavata",
          "Raja brachyura",
          "Heptranchias perlo",
          "Squalus acanthias",
          "Tetronarce nobiliana",
          "Centrophorus uyato",
          "Oxynotus centrina"
         ],
         "tickvals": [
          5,
          15,
          25,
          35,
          45,
          55,
          65,
          75,
          85,
          95,
          105,
          115,
          125,
          135,
          145,
          155,
          165,
          175,
          185,
          195,
          205,
          215,
          225,
          235,
          245,
          255,
          265,
          275,
          285,
          295,
          305,
          315,
          325,
          335,
          345,
          355,
          365,
          375
         ],
         "type": "linear",
         "zeroline": false
        },
        "yaxis": {
         "mirror": "allticks",
         "range": [
          0,
          150
         ],
         "rangemode": "tozero",
         "showgrid": false,
         "showline": true,
         "showticklabels": true,
         "ticks": "outside",
         "type": "linear",
         "zeroline": false
        }
       }
      }
     },
     "metadata": {},
     "output_type": "display_data"
    },
    {
     "data": {
      "application/vnd.plotly.v1+json": {
       "config": {
        "plotlyServerURL": "https://plot.ly"
       },
       "data": [
        {
         "hovertemplate": "Size Cluster=C1<br>Species=%{x}<br>W inf (kg)=%{y}<extra></extra>",
         "legendgroup": "C1",
         "marker": {
          "color": "rgb(102, 197, 204)",
          "symbol": "circle"
         },
         "mode": "markers",
         "name": "C1",
         "orientation": "v",
         "showlegend": true,
         "type": "scatter",
         "x": [
          "Leucoraja melitensis",
          "Etmopterus spinax",
          "Torpedo torpedo",
          "Scyliorhinus canicula",
          "Galeus melastomus",
          "Raja asterias",
          "Leucoraja naevus",
          "Raja polystigma",
          "Torpedo marmorata",
          "Chimaera monstrosa",
          "Raja montagui",
          "Raja miraletus",
          "Raja radula",
          "Squalus blainville",
          "Mustelus asterias",
          "Tetronarce nobiliana",
          "Centrophorus uyato",
          "Oxynotus centrina",
          "Heptranchias perlo",
          "Squalus acanthias",
          "Raja brachyura",
          "Leucoraja circularis",
          "Dipturus oxyrinchus",
          "Raja clavata"
         ],
         "xaxis": "x",
         "y": [
          0.56,
          0.988372093,
          1.245640415,
          1.511627907,
          1.627906977,
          2.293090414,
          2.337789821,
          2.693694092,
          2.741765018,
          2.906976744,
          3.09450362,
          3.309068028,
          4.422863785,
          5.316541214,
          5.581395349,
          7.583123492,
          8.488372093,
          9.186046512,
          10.30312781,
          10.40892417,
          10.84201052,
          12.06278201,
          13.33112361,
          13.5675094
         ],
         "yaxis": "y"
        },
        {
         "hovertemplate": "Size Cluster=C2<br>Species=%{x}<br>W inf (kg)=%{y}<extra></extra>",
         "legendgroup": "C2",
         "marker": {
          "color": "rgb(246, 207, 113)",
          "symbol": "circle"
         },
         "mode": "markers",
         "name": "C2",
         "orientation": "v",
         "showlegend": true,
         "type": "scatter",
         "x": [
          "Leucoraja fullonica",
          "Pteroplatytrygon violacea",
          "Mustelus mustelus",
          "Myliobatis aquila",
          "Dalatias licha",
          "Scyliorhinus stellaris",
          "Mustelus punctulatus",
          "Aetomylaeus bovinus",
          "Bathyraja brachyurops"
         ],
         "xaxis": "x",
         "y": [
          16,
          18.77209871,
          18.77536524,
          21,
          21.67528231,
          23.49415367,
          30.08482474,
          30.92770759,
          34.5906502
         ],
         "yaxis": "y"
        },
        {
         "hovertemplate": "Size Cluster=C3<br>Species=%{x}<br>W inf (kg)=%{y}<extra></extra>",
         "legendgroup": "C3",
         "marker": {
          "color": "rgb(248, 156, 116)",
          "symbol": "circle"
         },
         "mode": "markers",
         "name": "C3",
         "orientation": "v",
         "showlegend": true,
         "type": "scatter",
         "x": [
          "Centrophorus granulosus",
          "Rostroraja alba",
          "Dasyatis pastinaca",
          "Dipturus batis"
         ],
         "xaxis": "x",
         "y": [
          42.91529037,
          48.92101818,
          58.29759917,
          93.4771978
         ],
         "yaxis": "y"
        },
        {
         "hovertemplate": "Size Cluster=C4<br>Species=%{x}<br>W inf (kg)=%{y}<extra></extra>",
         "legendgroup": "C4",
         "marker": {
          "color": "rgb(220, 176, 242)",
          "symbol": "circle"
         },
         "mode": "markers",
         "name": "C4",
         "orientation": "v",
         "showlegend": true,
         "type": "scatter",
         "x": [
          "Hexanchus griseus"
         ],
         "xaxis": "x",
         "y": [
          589.3513776
         ],
         "yaxis": "y"
        }
       ],
       "layout": {
        "height": 600,
        "legend": {
         "title": {
          "text": "Size Cluster"
         },
         "tracegroupgap": 0
        },
        "margin": {
         "t": 60
        },
        "template": {
         "data": {
          "bar": [
           {
            "error_x": {
             "color": "#2a3f5f"
            },
            "error_y": {
             "color": "#2a3f5f"
            },
            "marker": {
             "line": {
              "color": "white",
              "width": 0.5
             },
             "pattern": {
              "fillmode": "overlay",
              "size": 10,
              "solidity": 0.2
             }
            },
            "type": "bar"
           }
          ],
          "barpolar": [
           {
            "marker": {
             "line": {
              "color": "white",
              "width": 0.5
             },
             "pattern": {
              "fillmode": "overlay",
              "size": 10,
              "solidity": 0.2
             }
            },
            "type": "barpolar"
           }
          ],
          "carpet": [
           {
            "aaxis": {
             "endlinecolor": "#2a3f5f",
             "gridcolor": "#C8D4E3",
             "linecolor": "#C8D4E3",
             "minorgridcolor": "#C8D4E3",
             "startlinecolor": "#2a3f5f"
            },
            "baxis": {
             "endlinecolor": "#2a3f5f",
             "gridcolor": "#C8D4E3",
             "linecolor": "#C8D4E3",
             "minorgridcolor": "#C8D4E3",
             "startlinecolor": "#2a3f5f"
            },
            "type": "carpet"
           }
          ],
          "choropleth": [
           {
            "colorbar": {
             "outlinewidth": 0,
             "ticks": ""
            },
            "type": "choropleth"
           }
          ],
          "contour": [
           {
            "colorbar": {
             "outlinewidth": 0,
             "ticks": ""
            },
            "colorscale": [
             [
              0,
              "#0d0887"
             ],
             [
              0.1111111111111111,
              "#46039f"
             ],
             [
              0.2222222222222222,
              "#7201a8"
             ],
             [
              0.3333333333333333,
              "#9c179e"
             ],
             [
              0.4444444444444444,
              "#bd3786"
             ],
             [
              0.5555555555555556,
              "#d8576b"
             ],
             [
              0.6666666666666666,
              "#ed7953"
             ],
             [
              0.7777777777777778,
              "#fb9f3a"
             ],
             [
              0.8888888888888888,
              "#fdca26"
             ],
             [
              1,
              "#f0f921"
             ]
            ],
            "type": "contour"
           }
          ],
          "contourcarpet": [
           {
            "colorbar": {
             "outlinewidth": 0,
             "ticks": ""
            },
            "type": "contourcarpet"
           }
          ],
          "heatmap": [
           {
            "colorbar": {
             "outlinewidth": 0,
             "ticks": ""
            },
            "colorscale": [
             [
              0,
              "#0d0887"
             ],
             [
              0.1111111111111111,
              "#46039f"
             ],
             [
              0.2222222222222222,
              "#7201a8"
             ],
             [
              0.3333333333333333,
              "#9c179e"
             ],
             [
              0.4444444444444444,
              "#bd3786"
             ],
             [
              0.5555555555555556,
              "#d8576b"
             ],
             [
              0.6666666666666666,
              "#ed7953"
             ],
             [
              0.7777777777777778,
              "#fb9f3a"
             ],
             [
              0.8888888888888888,
              "#fdca26"
             ],
             [
              1,
              "#f0f921"
             ]
            ],
            "type": "heatmap"
           }
          ],
          "heatmapgl": [
           {
            "colorbar": {
             "outlinewidth": 0,
             "ticks": ""
            },
            "colorscale": [
             [
              0,
              "#0d0887"
             ],
             [
              0.1111111111111111,
              "#46039f"
             ],
             [
              0.2222222222222222,
              "#7201a8"
             ],
             [
              0.3333333333333333,
              "#9c179e"
             ],
             [
              0.4444444444444444,
              "#bd3786"
             ],
             [
              0.5555555555555556,
              "#d8576b"
             ],
             [
              0.6666666666666666,
              "#ed7953"
             ],
             [
              0.7777777777777778,
              "#fb9f3a"
             ],
             [
              0.8888888888888888,
              "#fdca26"
             ],
             [
              1,
              "#f0f921"
             ]
            ],
            "type": "heatmapgl"
           }
          ],
          "histogram": [
           {
            "marker": {
             "pattern": {
              "fillmode": "overlay",
              "size": 10,
              "solidity": 0.2
             }
            },
            "type": "histogram"
           }
          ],
          "histogram2d": [
           {
            "colorbar": {
             "outlinewidth": 0,
             "ticks": ""
            },
            "colorscale": [
             [
              0,
              "#0d0887"
             ],
             [
              0.1111111111111111,
              "#46039f"
             ],
             [
              0.2222222222222222,
              "#7201a8"
             ],
             [
              0.3333333333333333,
              "#9c179e"
             ],
             [
              0.4444444444444444,
              "#bd3786"
             ],
             [
              0.5555555555555556,
              "#d8576b"
             ],
             [
              0.6666666666666666,
              "#ed7953"
             ],
             [
              0.7777777777777778,
              "#fb9f3a"
             ],
             [
              0.8888888888888888,
              "#fdca26"
             ],
             [
              1,
              "#f0f921"
             ]
            ],
            "type": "histogram2d"
           }
          ],
          "histogram2dcontour": [
           {
            "colorbar": {
             "outlinewidth": 0,
             "ticks": ""
            },
            "colorscale": [
             [
              0,
              "#0d0887"
             ],
             [
              0.1111111111111111,
              "#46039f"
             ],
             [
              0.2222222222222222,
              "#7201a8"
             ],
             [
              0.3333333333333333,
              "#9c179e"
             ],
             [
              0.4444444444444444,
              "#bd3786"
             ],
             [
              0.5555555555555556,
              "#d8576b"
             ],
             [
              0.6666666666666666,
              "#ed7953"
             ],
             [
              0.7777777777777778,
              "#fb9f3a"
             ],
             [
              0.8888888888888888,
              "#fdca26"
             ],
             [
              1,
              "#f0f921"
             ]
            ],
            "type": "histogram2dcontour"
           }
          ],
          "mesh3d": [
           {
            "colorbar": {
             "outlinewidth": 0,
             "ticks": ""
            },
            "type": "mesh3d"
           }
          ],
          "parcoords": [
           {
            "line": {
             "colorbar": {
              "outlinewidth": 0,
              "ticks": ""
             }
            },
            "type": "parcoords"
           }
          ],
          "pie": [
           {
            "automargin": true,
            "type": "pie"
           }
          ],
          "scatter": [
           {
            "fillpattern": {
             "fillmode": "overlay",
             "size": 10,
             "solidity": 0.2
            },
            "type": "scatter"
           }
          ],
          "scatter3d": [
           {
            "line": {
             "colorbar": {
              "outlinewidth": 0,
              "ticks": ""
             }
            },
            "marker": {
             "colorbar": {
              "outlinewidth": 0,
              "ticks": ""
             }
            },
            "type": "scatter3d"
           }
          ],
          "scattercarpet": [
           {
            "marker": {
             "colorbar": {
              "outlinewidth": 0,
              "ticks": ""
             }
            },
            "type": "scattercarpet"
           }
          ],
          "scattergeo": [
           {
            "marker": {
             "colorbar": {
              "outlinewidth": 0,
              "ticks": ""
             }
            },
            "type": "scattergeo"
           }
          ],
          "scattergl": [
           {
            "marker": {
             "colorbar": {
              "outlinewidth": 0,
              "ticks": ""
             }
            },
            "type": "scattergl"
           }
          ],
          "scattermapbox": [
           {
            "marker": {
             "colorbar": {
              "outlinewidth": 0,
              "ticks": ""
             }
            },
            "type": "scattermapbox"
           }
          ],
          "scatterpolar": [
           {
            "marker": {
             "colorbar": {
              "outlinewidth": 0,
              "ticks": ""
             }
            },
            "type": "scatterpolar"
           }
          ],
          "scatterpolargl": [
           {
            "marker": {
             "colorbar": {
              "outlinewidth": 0,
              "ticks": ""
             }
            },
            "type": "scatterpolargl"
           }
          ],
          "scatterternary": [
           {
            "marker": {
             "colorbar": {
              "outlinewidth": 0,
              "ticks": ""
             }
            },
            "type": "scatterternary"
           }
          ],
          "surface": [
           {
            "colorbar": {
             "outlinewidth": 0,
             "ticks": ""
            },
            "colorscale": [
             [
              0,
              "#0d0887"
             ],
             [
              0.1111111111111111,
              "#46039f"
             ],
             [
              0.2222222222222222,
              "#7201a8"
             ],
             [
              0.3333333333333333,
              "#9c179e"
             ],
             [
              0.4444444444444444,
              "#bd3786"
             ],
             [
              0.5555555555555556,
              "#d8576b"
             ],
             [
              0.6666666666666666,
              "#ed7953"
             ],
             [
              0.7777777777777778,
              "#fb9f3a"
             ],
             [
              0.8888888888888888,
              "#fdca26"
             ],
             [
              1,
              "#f0f921"
             ]
            ],
            "type": "surface"
           }
          ],
          "table": [
           {
            "cells": {
             "fill": {
              "color": "#EBF0F8"
             },
             "line": {
              "color": "white"
             }
            },
            "header": {
             "fill": {
              "color": "#C8D4E3"
             },
             "line": {
              "color": "white"
             }
            },
            "type": "table"
           }
          ]
         },
         "layout": {
          "annotationdefaults": {
           "arrowcolor": "#2a3f5f",
           "arrowhead": 0,
           "arrowwidth": 1
          },
          "autotypenumbers": "strict",
          "coloraxis": {
           "colorbar": {
            "outlinewidth": 0,
            "ticks": ""
           }
          },
          "colorscale": {
           "diverging": [
            [
             0,
             "#8e0152"
            ],
            [
             0.1,
             "#c51b7d"
            ],
            [
             0.2,
             "#de77ae"
            ],
            [
             0.3,
             "#f1b6da"
            ],
            [
             0.4,
             "#fde0ef"
            ],
            [
             0.5,
             "#f7f7f7"
            ],
            [
             0.6,
             "#e6f5d0"
            ],
            [
             0.7,
             "#b8e186"
            ],
            [
             0.8,
             "#7fbc41"
            ],
            [
             0.9,
             "#4d9221"
            ],
            [
             1,
             "#276419"
            ]
           ],
           "sequential": [
            [
             0,
             "#0d0887"
            ],
            [
             0.1111111111111111,
             "#46039f"
            ],
            [
             0.2222222222222222,
             "#7201a8"
            ],
            [
             0.3333333333333333,
             "#9c179e"
            ],
            [
             0.4444444444444444,
             "#bd3786"
            ],
            [
             0.5555555555555556,
             "#d8576b"
            ],
            [
             0.6666666666666666,
             "#ed7953"
            ],
            [
             0.7777777777777778,
             "#fb9f3a"
            ],
            [
             0.8888888888888888,
             "#fdca26"
            ],
            [
             1,
             "#f0f921"
            ]
           ],
           "sequentialminus": [
            [
             0,
             "#0d0887"
            ],
            [
             0.1111111111111111,
             "#46039f"
            ],
            [
             0.2222222222222222,
             "#7201a8"
            ],
            [
             0.3333333333333333,
             "#9c179e"
            ],
            [
             0.4444444444444444,
             "#bd3786"
            ],
            [
             0.5555555555555556,
             "#d8576b"
            ],
            [
             0.6666666666666666,
             "#ed7953"
            ],
            [
             0.7777777777777778,
             "#fb9f3a"
            ],
            [
             0.8888888888888888,
             "#fdca26"
            ],
            [
             1,
             "#f0f921"
            ]
           ]
          },
          "colorway": [
           "#636efa",
           "#EF553B",
           "#00cc96",
           "#ab63fa",
           "#FFA15A",
           "#19d3f3",
           "#FF6692",
           "#B6E880",
           "#FF97FF",
           "#FECB52"
          ],
          "font": {
           "color": "#2a3f5f"
          },
          "geo": {
           "bgcolor": "white",
           "lakecolor": "white",
           "landcolor": "white",
           "showlakes": true,
           "showland": true,
           "subunitcolor": "#C8D4E3"
          },
          "hoverlabel": {
           "align": "left"
          },
          "hovermode": "closest",
          "mapbox": {
           "style": "light"
          },
          "paper_bgcolor": "white",
          "plot_bgcolor": "white",
          "polar": {
           "angularaxis": {
            "gridcolor": "#EBF0F8",
            "linecolor": "#EBF0F8",
            "ticks": ""
           },
           "bgcolor": "white",
           "radialaxis": {
            "gridcolor": "#EBF0F8",
            "linecolor": "#EBF0F8",
            "ticks": ""
           }
          },
          "scene": {
           "xaxis": {
            "backgroundcolor": "white",
            "gridcolor": "#DFE8F3",
            "gridwidth": 2,
            "linecolor": "#EBF0F8",
            "showbackground": true,
            "ticks": "",
            "zerolinecolor": "#EBF0F8"
           },
           "yaxis": {
            "backgroundcolor": "white",
            "gridcolor": "#DFE8F3",
            "gridwidth": 2,
            "linecolor": "#EBF0F8",
            "showbackground": true,
            "ticks": "",
            "zerolinecolor": "#EBF0F8"
           },
           "zaxis": {
            "backgroundcolor": "white",
            "gridcolor": "#DFE8F3",
            "gridwidth": 2,
            "linecolor": "#EBF0F8",
            "showbackground": true,
            "ticks": "",
            "zerolinecolor": "#EBF0F8"
           }
          },
          "shapedefaults": {
           "line": {
            "color": "#2a3f5f"
           }
          },
          "ternary": {
           "aaxis": {
            "gridcolor": "#DFE8F3",
            "linecolor": "#A2B1C6",
            "ticks": ""
           },
           "baxis": {
            "gridcolor": "#DFE8F3",
            "linecolor": "#A2B1C6",
            "ticks": ""
           },
           "bgcolor": "white",
           "caxis": {
            "gridcolor": "#DFE8F3",
            "linecolor": "#A2B1C6",
            "ticks": ""
           }
          },
          "title": {
           "x": 0.05
          },
          "xaxis": {
           "automargin": true,
           "gridcolor": "#EBF0F8",
           "linecolor": "#EBF0F8",
           "ticks": "",
           "title": {
            "standoff": 15
           },
           "zerolinecolor": "#EBF0F8",
           "zerolinewidth": 2
          },
          "yaxis": {
           "automargin": true,
           "gridcolor": "#EBF0F8",
           "linecolor": "#EBF0F8",
           "ticks": "",
           "title": {
            "standoff": 15
           },
           "zerolinecolor": "#EBF0F8",
           "zerolinewidth": 2
          }
         }
        },
        "width": 1200,
        "xaxis": {
         "anchor": "y",
         "domain": [
          0,
          1
         ],
         "title": {
          "text": "Species"
         }
        },
        "yaxis": {
         "anchor": "x",
         "domain": [
          0,
          1
         ],
         "title": {
          "text": "W inf (kg)"
         }
        }
       }
      }
     },
     "metadata": {},
     "output_type": "display_data"
    }
   ],
   "source": [
    "## Data preparation\n",
    "size_series = size_df.set_index('Species')['W inf (kg)']\n",
    "size_labels = size_series.index\n",
    "size_list = [[np.round(i, 2)] for i in size_series]   ## dendrogram() need a list of list as input\n",
    "\n",
    "#defining a function to clusterize and returns cluster names in the same order of input matrix\n",
    "def get_cluster_names(input_data, method, threshold, raw_data=False, offset=0):\n",
    "    ## input_data can be either a distance matrix or raw data in which case you need to flag raw_data=true\n",
    "    if raw_data == False:\n",
    "        link = linkage(distance.squareform(input_data)+offset, method=method)\n",
    "    else:\n",
    "        link = linkage(input_data, method=method)\n",
    "    dendro = dendrogram(link, no_plot=True, color_threshold=threshold)\n",
    "    indexes = [int(dendro['ivl'][i]) for i in range(len(dendro['ivl']))]\n",
    "    clusterindex = dendro['leaves_color_list']\n",
    "    clusterindex = pd.Series(clusterindex, index=indexes).sort_index()\n",
    "    new_cluster_names = ['C{}'.format(i) for i in range(1, len(clusterindex.unique())+1)]\n",
    "    clusterindex.replace(clusterindex.unique(), new_cluster_names, inplace=True)\n",
    "    return clusterindex\n",
    "\n",
    "# ## Hierarchical clustering\n",
    "## Adding the Cluster info to the original dataset\n",
    "size_threshold = 55\n",
    "size_df['Size Cluster'] = get_cluster_names(size_list, 'ward', size_threshold, raw_data=True)\n",
    "size_df.sort_values('W inf (kg)', ignore_index=True, inplace=True)\n",
    "\n",
    "## plotting the dendrogram in plotly\n",
    "size_list = np.array(size_list)\n",
    "fig = ff.create_dendrogram(size_list, labels=size_labels,\n",
    "    linkagefun=lambda x: linkage(size_list, 'ward', metric='euclidean'),\n",
    "    color_threshold=size_threshold, colorscale=px.colors.qualitative.Pastel)\n",
    "fig.update_layout(width=1200, height=600, title='Hierarchical Clustering from size data',\n",
    "    template='plotly_white'\n",
    ")\n",
    "fig.update_yaxes(range=[0, 150])\n",
    "fig.show()\n",
    "fig2 = px.scatter(size_df, color=size_df['Size Cluster'], x='Species', y='W inf (kg)', color_discrete_sequence=px.colors.qualitative.Pastel)\n",
    "fig2.update_layout(template='plotly_white', width=1200, height=600)\n",
    "fig2.show()\n"
   ]
  },
  {
   "cell_type": "markdown",
   "metadata": {},
   "source": [
    "# Qualitative data Clustering <a class=\"anchor\" id=\"qualitativeclus\"></a>\n",
    "## Depth Clustering <a class=\"anchor\" id='depth'></a>"
   ]
  },
  {
   "cell_type": "markdown",
   "metadata": {},
   "source": [
    "### Data Correction\n",
    "Depth from MEDITS surveys reported discontinuous presence of sharks in the 5 depth blocks defined. This data will be merged with literature data to fill the discontinuity.\n",
    "\n",
    "### Similarity coefficient\n",
    "To address the ecological double-zero problem an **Asymmetric similarity coefficient** has been chosen to define the distance between objects.\n",
    "\n",
    "### *Coincidence Index*\n",
    "### $ S_8 = \\frac{2a}{2a+b+c}$\n",
    "\n",
    "If data are expressed in a contingency table  \n",
    "||Obj1|||\n",
    "|-|-|-|-|\n",
    "|**Obj2**||1|0|\n",
    "||1|a|b|\n",
    "||0|c|d|\n",
    "\n",
    "where each parameter (a,b,c,d) is the number of times that the comparison between obj1 and obj2 had an outcome of that type \n",
    "\n",
    "- *a* = True x True\n",
    "- *b* and *c* = True x False // False x True  \n",
    "\n",
    "(if they both have a feature then it is a match and thus *a* increases while a mismatch is accounted for by *b* and *c*)\n",
    "\n",
    "This index is calculated for each couple of species in the dataset.  \n",
    "To obtain a **metric** distance matrix the following transformation must be conducted.  \n",
    "#### $D = \\sqrt{1-S_8}$\n",
    "\n",
    "This index is monotonic with **Jaccard's Index** of similarity.\n",
    "\n",
    "<sub> P. Legendre, L. Legendre, Numerical ecology 2ed. *eq. 7.11* </sub>"
   ]
  },
  {
   "cell_type": "markdown",
   "metadata": {},
   "source": [
    "#### Average Linkage Algorithm\n",
    "'Average Linkage' assigns $$ d(u,v) = \\sum_{ij} \\frac{d(u[i], v[j])}{(|u|*|v|)}$$ \n",
    "for all points $i$ and $j$ where $|u|$ and $|v|$ are the cardinalities of clusters $u$ and $v$, respectively. \n",
    "This is also called the **UPGMA**   \n",
    "The distance between any two clusters is taken to be the average of all distances $d(u[i], v[j])$ between pairs of objects, that is the mean distance between elements of each cluster.  \n",
    "The UPGMA algorithm produces rooted dendrograms and requires a constant-rate assumption - that is, it assumes an ultrametric tree in which the distances from the root to every branch tip are equal.\n"
   ]
  },
  {
   "cell_type": "markdown",
   "metadata": {},
   "source": [
    "#### Depth Zones Correction"
   ]
  },
  {
   "cell_type": "code",
   "execution_count": 267,
   "metadata": {},
   "outputs": [],
   "source": [
    "## Function to plot heatmaps with only 2 colors \n",
    "def plot_binary_heatmap(z_matrix, title='Title', **kwargs):\n",
    "    my_colorscale=[\n",
    "    [0, 'rgba(255,255,255,0)'],\n",
    "    [0.5, 'rgba(255,255,255,0)'],\n",
    "    [0.5, px.colors.qualitative.Pastel[0]],\n",
    "    [1, px.colors.qualitative.Pastel[0]]]\n",
    "\n",
    "    if 'xticks' not in kwargs.keys():\n",
    "        xticks = list(range(len(z_matrix)))\n",
    "    else:\n",
    "        xticks = kwargs['xticks']\n",
    "    if 'yticks' not in kwargs.keys():\n",
    "        yticks = list(range(len(z_matrix)))\n",
    "    else:\n",
    "        yticks = kwargs['yticks']\n",
    "    fig = go.Figure()\n",
    "\n",
    "    fig.add_trace(go.Heatmap(\n",
    "        z=z_matrix,\n",
    "        transpose=True,\n",
    "        x=xticks,\n",
    "        y=yticks,\n",
    "        colorscale=my_colorscale,\n",
    "        showscale= False,\n",
    "        colorbar=dict(\n",
    "                tickvals=[0.25, 0.75],\n",
    "                ticktext=['0', '1'],\n",
    "            )\n",
    "    ))\n",
    "    fig.update_layout(\n",
    "        title=title,\n",
    "        template = 'plotly_white',\n",
    "    )\n",
    "    fig.show()"
   ]
  },
  {
   "cell_type": "code",
   "execution_count": 268,
   "metadata": {},
   "outputs": [
    {
     "data": {
      "application/vnd.plotly.v1+json": {
       "config": {
        "plotlyServerURL": "https://plot.ly"
       },
       "data": [
        {
         "colorbar": {
          "ticktext": [
           "0",
           "1"
          ],
          "tickvals": [
           0.25,
           0.75
          ]
         },
         "colorscale": [
          [
           0,
           "rgba(255,255,255,0)"
          ],
          [
           0.5,
           "rgba(255,255,255,0)"
          ],
          [
           0.5,
           "rgb(102, 197, 204)"
          ],
          [
           1,
           "rgb(102, 197, 204)"
          ]
         ],
         "showscale": false,
         "transpose": true,
         "type": "heatmap",
         "x": [
          "Aetomylaeus bovinus",
          "Bathyraja brachyurops",
          "Centrophorus granulosus",
          "Centrophorus uyato",
          "Chimaera monstrosa",
          "Dalatias licha",
          "Dasyatis pastinaca",
          "Dipturus batis",
          "Dipturus oxyrinchus",
          "Etmopterus spinax",
          "Galeus melastomus",
          "Heptranchias perlo",
          "Hexanchus griseus",
          "Leucoraja circularis",
          "Leucoraja fullonica",
          "Leucoraja melitensis",
          "Leucoraja naevus",
          "Mustelus asterias",
          "Mustelus mustelus",
          "Mustelus punctulatus",
          "Myliobatis aquila",
          "Oxynotus centrina",
          "Pteroplatytrygon violacea",
          "Raja asterias",
          "Raja brachyura",
          "Raja clavata",
          "Raja miraletus",
          "Raja montagui",
          "Raja polystigma",
          "Raja radula",
          "Rostroraja alba",
          "Scyliorhinus canicula",
          "Scyliorhinus stellaris",
          "Squalus acanthias",
          "Squalus blainville",
          "Tetronarce nobiliana",
          "Torpedo marmorata",
          "Torpedo torpedo"
         ],
         "y": [
          "500-800m",
          "200-500m",
          "100-200m",
          "50-100m",
          "10-50m"
         ],
         "z": [
          [
           0,
           0,
           1,
           1,
           1
          ],
          [
           0,
           1,
           1,
           1,
           0
          ],
          [
           1,
           1,
           1,
           1,
           0
          ],
          [
           1,
           1,
           1,
           1,
           0
          ],
          [
           1,
           1,
           1,
           1,
           0
          ],
          [
           1,
           1,
           1,
           1,
           1
          ],
          [
           0,
           1,
           1,
           1,
           1
          ],
          [
           1,
           1,
           1,
           0,
           0
          ],
          [
           1,
           1,
           1,
           0,
           0
          ],
          [
           1,
           1,
           1,
           1,
           0
          ],
          [
           1,
           1,
           1,
           1,
           0
          ],
          [
           1,
           1,
           1,
           1,
           1
          ],
          [
           1,
           1,
           1,
           1,
           1
          ],
          [
           1,
           1,
           1,
           0,
           0
          ],
          [
           0,
           1,
           1,
           1,
           1
          ],
          [
           1,
           1,
           1,
           1,
           1
          ],
          [
           0,
           1,
           1,
           1,
           1
          ],
          [
           0,
           1,
           1,
           1,
           1
          ],
          [
           0,
           1,
           1,
           1,
           1
          ],
          [
           0,
           0,
           1,
           1,
           1
          ],
          [
           0,
           1,
           1,
           1,
           1
          ],
          [
           1,
           1,
           1,
           1,
           0
          ],
          [
           0,
           1,
           1,
           1,
           1
          ],
          [
           1,
           1,
           1,
           1,
           1
          ],
          [
           0,
           1,
           1,
           1,
           1
          ],
          [
           1,
           1,
           1,
           1,
           1
          ],
          [
           1,
           1,
           1,
           1,
           1
          ],
          [
           0,
           1,
           1,
           1,
           1
          ],
          [
           0,
           1,
           1,
           1,
           1
          ],
          [
           0,
           1,
           1,
           1,
           1
          ],
          [
           1,
           1,
           1,
           1,
           1
          ],
          [
           1,
           1,
           1,
           1,
           1
          ],
          [
           0,
           1,
           1,
           1,
           1
          ],
          [
           1,
           1,
           1,
           1,
           1
          ],
          [
           1,
           1,
           1,
           1,
           1
          ],
          [
           1,
           1,
           1,
           1,
           1
          ],
          [
           1,
           1,
           1,
           1,
           1
          ],
          [
           0,
           1,
           1,
           1,
           1
          ]
         ]
        }
       ],
       "layout": {
        "template": {
         "data": {
          "bar": [
           {
            "error_x": {
             "color": "#2a3f5f"
            },
            "error_y": {
             "color": "#2a3f5f"
            },
            "marker": {
             "line": {
              "color": "white",
              "width": 0.5
             },
             "pattern": {
              "fillmode": "overlay",
              "size": 10,
              "solidity": 0.2
             }
            },
            "type": "bar"
           }
          ],
          "barpolar": [
           {
            "marker": {
             "line": {
              "color": "white",
              "width": 0.5
             },
             "pattern": {
              "fillmode": "overlay",
              "size": 10,
              "solidity": 0.2
             }
            },
            "type": "barpolar"
           }
          ],
          "carpet": [
           {
            "aaxis": {
             "endlinecolor": "#2a3f5f",
             "gridcolor": "#C8D4E3",
             "linecolor": "#C8D4E3",
             "minorgridcolor": "#C8D4E3",
             "startlinecolor": "#2a3f5f"
            },
            "baxis": {
             "endlinecolor": "#2a3f5f",
             "gridcolor": "#C8D4E3",
             "linecolor": "#C8D4E3",
             "minorgridcolor": "#C8D4E3",
             "startlinecolor": "#2a3f5f"
            },
            "type": "carpet"
           }
          ],
          "choropleth": [
           {
            "colorbar": {
             "outlinewidth": 0,
             "ticks": ""
            },
            "type": "choropleth"
           }
          ],
          "contour": [
           {
            "colorbar": {
             "outlinewidth": 0,
             "ticks": ""
            },
            "colorscale": [
             [
              0,
              "#0d0887"
             ],
             [
              0.1111111111111111,
              "#46039f"
             ],
             [
              0.2222222222222222,
              "#7201a8"
             ],
             [
              0.3333333333333333,
              "#9c179e"
             ],
             [
              0.4444444444444444,
              "#bd3786"
             ],
             [
              0.5555555555555556,
              "#d8576b"
             ],
             [
              0.6666666666666666,
              "#ed7953"
             ],
             [
              0.7777777777777778,
              "#fb9f3a"
             ],
             [
              0.8888888888888888,
              "#fdca26"
             ],
             [
              1,
              "#f0f921"
             ]
            ],
            "type": "contour"
           }
          ],
          "contourcarpet": [
           {
            "colorbar": {
             "outlinewidth": 0,
             "ticks": ""
            },
            "type": "contourcarpet"
           }
          ],
          "heatmap": [
           {
            "colorbar": {
             "outlinewidth": 0,
             "ticks": ""
            },
            "colorscale": [
             [
              0,
              "#0d0887"
             ],
             [
              0.1111111111111111,
              "#46039f"
             ],
             [
              0.2222222222222222,
              "#7201a8"
             ],
             [
              0.3333333333333333,
              "#9c179e"
             ],
             [
              0.4444444444444444,
              "#bd3786"
             ],
             [
              0.5555555555555556,
              "#d8576b"
             ],
             [
              0.6666666666666666,
              "#ed7953"
             ],
             [
              0.7777777777777778,
              "#fb9f3a"
             ],
             [
              0.8888888888888888,
              "#fdca26"
             ],
             [
              1,
              "#f0f921"
             ]
            ],
            "type": "heatmap"
           }
          ],
          "heatmapgl": [
           {
            "colorbar": {
             "outlinewidth": 0,
             "ticks": ""
            },
            "colorscale": [
             [
              0,
              "#0d0887"
             ],
             [
              0.1111111111111111,
              "#46039f"
             ],
             [
              0.2222222222222222,
              "#7201a8"
             ],
             [
              0.3333333333333333,
              "#9c179e"
             ],
             [
              0.4444444444444444,
              "#bd3786"
             ],
             [
              0.5555555555555556,
              "#d8576b"
             ],
             [
              0.6666666666666666,
              "#ed7953"
             ],
             [
              0.7777777777777778,
              "#fb9f3a"
             ],
             [
              0.8888888888888888,
              "#fdca26"
             ],
             [
              1,
              "#f0f921"
             ]
            ],
            "type": "heatmapgl"
           }
          ],
          "histogram": [
           {
            "marker": {
             "pattern": {
              "fillmode": "overlay",
              "size": 10,
              "solidity": 0.2
             }
            },
            "type": "histogram"
           }
          ],
          "histogram2d": [
           {
            "colorbar": {
             "outlinewidth": 0,
             "ticks": ""
            },
            "colorscale": [
             [
              0,
              "#0d0887"
             ],
             [
              0.1111111111111111,
              "#46039f"
             ],
             [
              0.2222222222222222,
              "#7201a8"
             ],
             [
              0.3333333333333333,
              "#9c179e"
             ],
             [
              0.4444444444444444,
              "#bd3786"
             ],
             [
              0.5555555555555556,
              "#d8576b"
             ],
             [
              0.6666666666666666,
              "#ed7953"
             ],
             [
              0.7777777777777778,
              "#fb9f3a"
             ],
             [
              0.8888888888888888,
              "#fdca26"
             ],
             [
              1,
              "#f0f921"
             ]
            ],
            "type": "histogram2d"
           }
          ],
          "histogram2dcontour": [
           {
            "colorbar": {
             "outlinewidth": 0,
             "ticks": ""
            },
            "colorscale": [
             [
              0,
              "#0d0887"
             ],
             [
              0.1111111111111111,
              "#46039f"
             ],
             [
              0.2222222222222222,
              "#7201a8"
             ],
             [
              0.3333333333333333,
              "#9c179e"
             ],
             [
              0.4444444444444444,
              "#bd3786"
             ],
             [
              0.5555555555555556,
              "#d8576b"
             ],
             [
              0.6666666666666666,
              "#ed7953"
             ],
             [
              0.7777777777777778,
              "#fb9f3a"
             ],
             [
              0.8888888888888888,
              "#fdca26"
             ],
             [
              1,
              "#f0f921"
             ]
            ],
            "type": "histogram2dcontour"
           }
          ],
          "mesh3d": [
           {
            "colorbar": {
             "outlinewidth": 0,
             "ticks": ""
            },
            "type": "mesh3d"
           }
          ],
          "parcoords": [
           {
            "line": {
             "colorbar": {
              "outlinewidth": 0,
              "ticks": ""
             }
            },
            "type": "parcoords"
           }
          ],
          "pie": [
           {
            "automargin": true,
            "type": "pie"
           }
          ],
          "scatter": [
           {
            "fillpattern": {
             "fillmode": "overlay",
             "size": 10,
             "solidity": 0.2
            },
            "type": "scatter"
           }
          ],
          "scatter3d": [
           {
            "line": {
             "colorbar": {
              "outlinewidth": 0,
              "ticks": ""
             }
            },
            "marker": {
             "colorbar": {
              "outlinewidth": 0,
              "ticks": ""
             }
            },
            "type": "scatter3d"
           }
          ],
          "scattercarpet": [
           {
            "marker": {
             "colorbar": {
              "outlinewidth": 0,
              "ticks": ""
             }
            },
            "type": "scattercarpet"
           }
          ],
          "scattergeo": [
           {
            "marker": {
             "colorbar": {
              "outlinewidth": 0,
              "ticks": ""
             }
            },
            "type": "scattergeo"
           }
          ],
          "scattergl": [
           {
            "marker": {
             "colorbar": {
              "outlinewidth": 0,
              "ticks": ""
             }
            },
            "type": "scattergl"
           }
          ],
          "scattermapbox": [
           {
            "marker": {
             "colorbar": {
              "outlinewidth": 0,
              "ticks": ""
             }
            },
            "type": "scattermapbox"
           }
          ],
          "scatterpolar": [
           {
            "marker": {
             "colorbar": {
              "outlinewidth": 0,
              "ticks": ""
             }
            },
            "type": "scatterpolar"
           }
          ],
          "scatterpolargl": [
           {
            "marker": {
             "colorbar": {
              "outlinewidth": 0,
              "ticks": ""
             }
            },
            "type": "scatterpolargl"
           }
          ],
          "scatterternary": [
           {
            "marker": {
             "colorbar": {
              "outlinewidth": 0,
              "ticks": ""
             }
            },
            "type": "scatterternary"
           }
          ],
          "surface": [
           {
            "colorbar": {
             "outlinewidth": 0,
             "ticks": ""
            },
            "colorscale": [
             [
              0,
              "#0d0887"
             ],
             [
              0.1111111111111111,
              "#46039f"
             ],
             [
              0.2222222222222222,
              "#7201a8"
             ],
             [
              0.3333333333333333,
              "#9c179e"
             ],
             [
              0.4444444444444444,
              "#bd3786"
             ],
             [
              0.5555555555555556,
              "#d8576b"
             ],
             [
              0.6666666666666666,
              "#ed7953"
             ],
             [
              0.7777777777777778,
              "#fb9f3a"
             ],
             [
              0.8888888888888888,
              "#fdca26"
             ],
             [
              1,
              "#f0f921"
             ]
            ],
            "type": "surface"
           }
          ],
          "table": [
           {
            "cells": {
             "fill": {
              "color": "#EBF0F8"
             },
             "line": {
              "color": "white"
             }
            },
            "header": {
             "fill": {
              "color": "#C8D4E3"
             },
             "line": {
              "color": "white"
             }
            },
            "type": "table"
           }
          ]
         },
         "layout": {
          "annotationdefaults": {
           "arrowcolor": "#2a3f5f",
           "arrowhead": 0,
           "arrowwidth": 1
          },
          "autotypenumbers": "strict",
          "coloraxis": {
           "colorbar": {
            "outlinewidth": 0,
            "ticks": ""
           }
          },
          "colorscale": {
           "diverging": [
            [
             0,
             "#8e0152"
            ],
            [
             0.1,
             "#c51b7d"
            ],
            [
             0.2,
             "#de77ae"
            ],
            [
             0.3,
             "#f1b6da"
            ],
            [
             0.4,
             "#fde0ef"
            ],
            [
             0.5,
             "#f7f7f7"
            ],
            [
             0.6,
             "#e6f5d0"
            ],
            [
             0.7,
             "#b8e186"
            ],
            [
             0.8,
             "#7fbc41"
            ],
            [
             0.9,
             "#4d9221"
            ],
            [
             1,
             "#276419"
            ]
           ],
           "sequential": [
            [
             0,
             "#0d0887"
            ],
            [
             0.1111111111111111,
             "#46039f"
            ],
            [
             0.2222222222222222,
             "#7201a8"
            ],
            [
             0.3333333333333333,
             "#9c179e"
            ],
            [
             0.4444444444444444,
             "#bd3786"
            ],
            [
             0.5555555555555556,
             "#d8576b"
            ],
            [
             0.6666666666666666,
             "#ed7953"
            ],
            [
             0.7777777777777778,
             "#fb9f3a"
            ],
            [
             0.8888888888888888,
             "#fdca26"
            ],
            [
             1,
             "#f0f921"
            ]
           ],
           "sequentialminus": [
            [
             0,
             "#0d0887"
            ],
            [
             0.1111111111111111,
             "#46039f"
            ],
            [
             0.2222222222222222,
             "#7201a8"
            ],
            [
             0.3333333333333333,
             "#9c179e"
            ],
            [
             0.4444444444444444,
             "#bd3786"
            ],
            [
             0.5555555555555556,
             "#d8576b"
            ],
            [
             0.6666666666666666,
             "#ed7953"
            ],
            [
             0.7777777777777778,
             "#fb9f3a"
            ],
            [
             0.8888888888888888,
             "#fdca26"
            ],
            [
             1,
             "#f0f921"
            ]
           ]
          },
          "colorway": [
           "#636efa",
           "#EF553B",
           "#00cc96",
           "#ab63fa",
           "#FFA15A",
           "#19d3f3",
           "#FF6692",
           "#B6E880",
           "#FF97FF",
           "#FECB52"
          ],
          "font": {
           "color": "#2a3f5f"
          },
          "geo": {
           "bgcolor": "white",
           "lakecolor": "white",
           "landcolor": "white",
           "showlakes": true,
           "showland": true,
           "subunitcolor": "#C8D4E3"
          },
          "hoverlabel": {
           "align": "left"
          },
          "hovermode": "closest",
          "mapbox": {
           "style": "light"
          },
          "paper_bgcolor": "white",
          "plot_bgcolor": "white",
          "polar": {
           "angularaxis": {
            "gridcolor": "#EBF0F8",
            "linecolor": "#EBF0F8",
            "ticks": ""
           },
           "bgcolor": "white",
           "radialaxis": {
            "gridcolor": "#EBF0F8",
            "linecolor": "#EBF0F8",
            "ticks": ""
           }
          },
          "scene": {
           "xaxis": {
            "backgroundcolor": "white",
            "gridcolor": "#DFE8F3",
            "gridwidth": 2,
            "linecolor": "#EBF0F8",
            "showbackground": true,
            "ticks": "",
            "zerolinecolor": "#EBF0F8"
           },
           "yaxis": {
            "backgroundcolor": "white",
            "gridcolor": "#DFE8F3",
            "gridwidth": 2,
            "linecolor": "#EBF0F8",
            "showbackground": true,
            "ticks": "",
            "zerolinecolor": "#EBF0F8"
           },
           "zaxis": {
            "backgroundcolor": "white",
            "gridcolor": "#DFE8F3",
            "gridwidth": 2,
            "linecolor": "#EBF0F8",
            "showbackground": true,
            "ticks": "",
            "zerolinecolor": "#EBF0F8"
           }
          },
          "shapedefaults": {
           "line": {
            "color": "#2a3f5f"
           }
          },
          "ternary": {
           "aaxis": {
            "gridcolor": "#DFE8F3",
            "linecolor": "#A2B1C6",
            "ticks": ""
           },
           "baxis": {
            "gridcolor": "#DFE8F3",
            "linecolor": "#A2B1C6",
            "ticks": ""
           },
           "bgcolor": "white",
           "caxis": {
            "gridcolor": "#DFE8F3",
            "linecolor": "#A2B1C6",
            "ticks": ""
           }
          },
          "title": {
           "x": 0.05
          },
          "xaxis": {
           "automargin": true,
           "gridcolor": "#EBF0F8",
           "linecolor": "#EBF0F8",
           "ticks": "",
           "title": {
            "standoff": 15
           },
           "zerolinecolor": "#EBF0F8",
           "zerolinewidth": 2
          },
          "yaxis": {
           "automargin": true,
           "gridcolor": "#EBF0F8",
           "linecolor": "#EBF0F8",
           "ticks": "",
           "title": {
            "standoff": 15
           },
           "zerolinecolor": "#EBF0F8",
           "zerolinewidth": 2
          }
         }
        },
        "title": {
         "text": "Shark Depths (with Literature Data)"
        }
       }
      }
     },
     "metadata": {},
     "output_type": "display_data"
    }
   ],
   "source": [
    "## Data preparation\n",
    "# Replacing the discontinuous df with the continuous df\n",
    "depth_df.sort_values('Species', inplace=True, ignore_index=True)\n",
    "continuous_depth = pd.Series([[max(x) for x in zip(depth_df['Boolean Zones (reversed)'][i], depth_df['Fishbase Zones (reversed)'][i])] for i in range(len(depth_df['Fishbase Zones (reversed)']))])\n",
    "depth_df['Fishbase Zones (reversed)'] = continuous_depth\n",
    "depths = ['500-800m', '200-500m', '100-200m', '50-100m', '10-50m',]\n",
    "depth_df = pd.DataFrame(depth_df.set_index('Species')['Fishbase Zones (reversed)'].tolist(), columns=depths, index=depth_df['Species'])\n",
    "\n",
    "plot_binary_heatmap(depth_df, xticks=depth_df.index, yticks=depth_df.columns, title='Shark Depths (with Literature Data)')\n"
   ]
  },
  {
   "cell_type": "markdown",
   "metadata": {},
   "source": [
    "### Coincidence Index Calculation"
   ]
  },
  {
   "cell_type": "code",
   "execution_count": 269,
   "metadata": {},
   "outputs": [],
   "source": [
    "def calc_coincidence(v1, v2):\n",
    "    s8 = 0          #name taken from Legendre book\n",
    "    a = 0\n",
    "    bc = 0\n",
    "    for k in range(len(v1)):\n",
    "        a += v1[k] & v2[k]\n",
    "        bc += int(v1[k] != v2[k])\n",
    "    try:\n",
    "        s8 = (2*a)/(2*a+bc)\n",
    "    except ZeroDivisionError:\n",
    "        s8 = np.nan\n",
    "    return s8\n",
    "\n",
    "def calc_coincidence_matrix(df_series):\n",
    "    length = len(df_series)\n",
    "    coinc_mtx = [[0 for i in range(length)] for j in range(length)]\n",
    "    for i in range(length):\n",
    "        for j in range(length):\n",
    "            coinc_mtx[i][j] = calc_coincidence(df_series[i], df_series[j])\n",
    "    return coinc_mtx\n",
    "\n",
    "def calc_metric_distance(s_mtx):\n",
    "    s_mtx = np.matrix(s_mtx)\n",
    "    d = np.sqrt(1-s_mtx)\n",
    "    return d\n"
   ]
  },
  {
   "cell_type": "markdown",
   "metadata": {},
   "source": [
    "#### Hierarchical Clustering"
   ]
  },
  {
   "cell_type": "code",
   "execution_count": 270,
   "metadata": {},
   "outputs": [],
   "source": [
    "## function to plot dendrogram in plotly\n",
    "def plot_dendro(df, method, threshold, title='Title', offset=0):\n",
    "    ## check if a cluster name columns is present and delete it\n",
    "    cluster_col = re.compile('.*Cluster')\n",
    "    filtered_columns = list(filter(cluster_col.match, df.columns))\n",
    "    if len(filtered_columns) > 0:\n",
    "        df = df.drop(columns=filtered_columns)\n",
    "    #Creating ff plotly figure\n",
    "    distance_mtx = calc_metric_distance(calc_coincidence_matrix(df.values))\n",
    "    fig = ff.create_dendrogram(df.values, \n",
    "        labels=df.index.tolist(),\n",
    "        color_threshold=threshold,\n",
    "        linkagefun=lambda x: linkage((distance.squareform(distance_mtx) +offset), method),\n",
    "        colorscale=px.colors.qualitative.Pastel)\n",
    "    fig.update_layout(title=title)\n",
    "    fig.show()\n",
    "    #getting clusters names\n",
    "    clusters_names = get_cluster_names(distance_mtx, method, threshold, offset=offset)\n",
    "    clusters_names.index = df.index\n",
    "    return clusters_names\n",
    "\n",
    "## Functions to plot clustered heatmaps \n",
    "def calc_z_matrix(df, clusternames_column): #df must have an object in each row, a feature in each column\n",
    "    df.sort_values(clusternames_column, inplace=True)\n",
    "    replacements = [i for i in range(1,len(df[clusternames_column].unique())+1)]\n",
    "    clusternumbers = df[clusternames_column].replace(df[clusternames_column].unique(), replacements)\n",
    "    z_matrix = df.drop(columns=clusternames_column).mul(clusternumbers, axis=0)\n",
    "    return z_matrix\n",
    "\n",
    "\n",
    "def plot_clustered_heatmap(z_matrix, title='Title', transpose=False, **kwargs):\n",
    "    if 'xticks' not in kwargs:\n",
    "        xticks = list(range(len(z_matrix)))\n",
    "    else:\n",
    "        xticks = kwargs['xticks']\n",
    "    if 'yticks' not in kwargs:\n",
    "        yticks = list(range(len(z_matrix)))\n",
    "    else:\n",
    "        yticks = kwargs['yticks']\n",
    "\n",
    "\n",
    "    fig = go.Figure()\n",
    "    fig.add_trace(go.Heatmap(\n",
    "        z=z_matrix,\n",
    "        x=xticks,\n",
    "        y=yticks,\n",
    "        transpose=transpose,\n",
    "        colorscale=cont_scale_boolean,\n",
    "        colorbar=dict(\n",
    "                tickvals=[0.25, 0.75],\n",
    "                ticktext=['',''],\n",
    "            ),\n",
    "        showlegend=False\n",
    "    ))\n",
    "    fig.update_layout(\n",
    "        title=title,\n",
    "    )\n",
    "    if 'annotation' in kwargs:\n",
    "        fig.add_annotation(text=kwargs['annotation'], showarrow=False, x=1, y=len(yticks)-1)\n",
    "    return fig"
   ]
  },
  {
   "cell_type": "code",
   "execution_count": 271,
   "metadata": {},
   "outputs": [
    {
     "data": {
      "application/vnd.plotly.v1+json": {
       "config": {
        "plotlyServerURL": "https://plot.ly"
       },
       "data": [
        {
         "coloraxis": "coloraxis",
         "hovertemplate": "x: %{x}<br>y: %{y}<br>color: %{z}<extra></extra>",
         "name": "0",
         "type": "heatmap",
         "x": [
          "Aetomylaeus bovinus",
          "Bathyraja brachyurops",
          "Centrophorus granulosus",
          "Centrophorus uyato",
          "Chimaera monstrosa",
          "Dalatias licha",
          "Dasyatis pastinaca",
          "Dipturus batis",
          "Dipturus oxyrinchus",
          "Etmopterus spinax",
          "Galeus melastomus",
          "Heptranchias perlo",
          "Hexanchus griseus",
          "Leucoraja circularis",
          "Leucoraja fullonica",
          "Leucoraja melitensis",
          "Leucoraja naevus",
          "Mustelus asterias",
          "Mustelus mustelus",
          "Mustelus punctulatus",
          "Myliobatis aquila",
          "Oxynotus centrina",
          "Pteroplatytrygon violacea",
          "Raja asterias",
          "Raja brachyura",
          "Raja clavata",
          "Raja miraletus",
          "Raja montagui",
          "Raja polystigma",
          "Raja radula",
          "Rostroraja alba",
          "Scyliorhinus canicula",
          "Scyliorhinus stellaris",
          "Squalus acanthias",
          "Squalus blainville",
          "Tetronarce nobiliana",
          "Torpedo marmorata",
          "Torpedo torpedo"
         ],
         "xaxis": "x",
         "y": [
          "Aetomylaeus bovinus",
          "Bathyraja brachyurops",
          "Centrophorus granulosus",
          "Centrophorus uyato",
          "Chimaera monstrosa",
          "Dalatias licha",
          "Dasyatis pastinaca",
          "Dipturus batis",
          "Dipturus oxyrinchus",
          "Etmopterus spinax",
          "Galeus melastomus",
          "Heptranchias perlo",
          "Hexanchus griseus",
          "Leucoraja circularis",
          "Leucoraja fullonica",
          "Leucoraja melitensis",
          "Leucoraja naevus",
          "Mustelus asterias",
          "Mustelus mustelus",
          "Mustelus punctulatus",
          "Myliobatis aquila",
          "Oxynotus centrina",
          "Pteroplatytrygon violacea",
          "Raja asterias",
          "Raja brachyura",
          "Raja clavata",
          "Raja miraletus",
          "Raja montagui",
          "Raja polystigma",
          "Raja radula",
          "Rostroraja alba",
          "Scyliorhinus canicula",
          "Scyliorhinus stellaris",
          "Squalus acanthias",
          "Squalus blainville",
          "Tetronarce nobiliana",
          "Torpedo marmorata",
          "Torpedo torpedo"
         ],
         "yaxis": "y",
         "z": [
          [
           0,
           0.5773502691896258,
           0.6546536707079772,
           0.6546536707079772,
           0.6546536707079772,
           0.5,
           0.3779644730092273,
           0.816496580927726,
           0.816496580927726,
           0.6546536707079772,
           0.6546536707079772,
           0.5,
           0.5,
           0.816496580927726,
           0.3779644730092273,
           0.5,
           0.3779644730092273,
           0.3779644730092273,
           0.3779644730092273,
           0,
           0.3779644730092273,
           0.6546536707079772,
           0.3779644730092273,
           0.5,
           0.3779644730092273,
           0.5,
           0.5,
           0.3779644730092273,
           0.3779644730092273,
           0.3779644730092273,
           0.5,
           0.5,
           0.3779644730092273,
           0.5,
           0.5,
           0.5,
           0.5,
           0.3779644730092273
          ],
          [
           0.5773502691896258,
           0,
           0.3779644730092273,
           0.3779644730092273,
           0.3779644730092273,
           0.5,
           0.3779644730092273,
           0.5773502691896258,
           0.5773502691896258,
           0.3779644730092273,
           0.3779644730092273,
           0.5,
           0.5,
           0.5773502691896258,
           0.3779644730092273,
           0.5,
           0.3779644730092273,
           0.3779644730092273,
           0.3779644730092273,
           0.5773502691896258,
           0.3779644730092273,
           0.3779644730092273,
           0.3779644730092273,
           0.5,
           0.3779644730092273,
           0.5,
           0.5,
           0.3779644730092273,
           0.3779644730092273,
           0.3779644730092273,
           0.5,
           0.5,
           0.3779644730092273,
           0.5,
           0.5,
           0.5,
           0.5,
           0.3779644730092273
          ],
          [
           0.6546536707079772,
           0.3779644730092273,
           0,
           0,
           0,
           0.3333333333333334,
           0.5,
           0.3779644730092273,
           0.3779644730092273,
           0,
           0,
           0.3333333333333334,
           0.3333333333333334,
           0.3779644730092273,
           0.5,
           0.3333333333333334,
           0.5,
           0.5,
           0.5,
           0.6546536707079772,
           0.5,
           0,
           0.5,
           0.3333333333333334,
           0.5,
           0.3333333333333334,
           0.3333333333333334,
           0.5,
           0.5,
           0.5,
           0.3333333333333334,
           0.3333333333333334,
           0.5,
           0.3333333333333334,
           0.3333333333333334,
           0.3333333333333334,
           0.3333333333333334,
           0.5
          ],
          [
           0.6546536707079772,
           0.3779644730092273,
           0,
           0,
           0,
           0.3333333333333334,
           0.5,
           0.3779644730092273,
           0.3779644730092273,
           0,
           0,
           0.3333333333333334,
           0.3333333333333334,
           0.3779644730092273,
           0.5,
           0.3333333333333334,
           0.5,
           0.5,
           0.5,
           0.6546536707079772,
           0.5,
           0,
           0.5,
           0.3333333333333334,
           0.5,
           0.3333333333333334,
           0.3333333333333334,
           0.5,
           0.5,
           0.5,
           0.3333333333333334,
           0.3333333333333334,
           0.5,
           0.3333333333333334,
           0.3333333333333334,
           0.3333333333333334,
           0.3333333333333334,
           0.5
          ],
          [
           0.6546536707079772,
           0.3779644730092273,
           0,
           0,
           0,
           0.3333333333333334,
           0.5,
           0.3779644730092273,
           0.3779644730092273,
           0,
           0,
           0.3333333333333334,
           0.3333333333333334,
           0.3779644730092273,
           0.5,
           0.3333333333333334,
           0.5,
           0.5,
           0.5,
           0.6546536707079772,
           0.5,
           0,
           0.5,
           0.3333333333333334,
           0.5,
           0.3333333333333334,
           0.3333333333333334,
           0.5,
           0.5,
           0.5,
           0.3333333333333334,
           0.3333333333333334,
           0.5,
           0.3333333333333334,
           0.3333333333333334,
           0.3333333333333334,
           0.3333333333333334,
           0.5
          ],
          [
           0.5,
           0.5,
           0.3333333333333334,
           0.3333333333333334,
           0.3333333333333334,
           0,
           0.3333333333333334,
           0.5,
           0.5,
           0.3333333333333334,
           0.3333333333333334,
           0,
           0,
           0.5,
           0.3333333333333334,
           0,
           0.3333333333333334,
           0.3333333333333334,
           0.3333333333333334,
           0.5,
           0.3333333333333334,
           0.3333333333333334,
           0.3333333333333334,
           0,
           0.3333333333333334,
           0,
           0,
           0.3333333333333334,
           0.3333333333333334,
           0.3333333333333334,
           0,
           0,
           0.3333333333333334,
           0,
           0,
           0,
           0,
           0.3333333333333334
          ],
          [
           0.3779644730092273,
           0.3779644730092273,
           0.5,
           0.5,
           0.5,
           0.3333333333333334,
           0,
           0.6546536707079772,
           0.6546536707079772,
           0.5,
           0.5,
           0.3333333333333334,
           0.3333333333333334,
           0.6546536707079772,
           0,
           0.3333333333333334,
           0,
           0,
           0,
           0.3779644730092273,
           0,
           0.5,
           0,
           0.3333333333333334,
           0,
           0.3333333333333334,
           0.3333333333333334,
           0,
           0,
           0,
           0.3333333333333334,
           0.3333333333333334,
           0,
           0.3333333333333334,
           0.3333333333333334,
           0.3333333333333334,
           0.3333333333333334,
           0
          ],
          [
           0.816496580927726,
           0.5773502691896258,
           0.3779644730092273,
           0.3779644730092273,
           0.3779644730092273,
           0.5,
           0.6546536707079772,
           0,
           0,
           0.3779644730092273,
           0.3779644730092273,
           0.5,
           0.5,
           0,
           0.6546536707079772,
           0.5,
           0.6546536707079772,
           0.6546536707079772,
           0.6546536707079772,
           0.816496580927726,
           0.6546536707079772,
           0.3779644730092273,
           0.6546536707079772,
           0.5,
           0.6546536707079772,
           0.5,
           0.5,
           0.6546536707079772,
           0.6546536707079772,
           0.6546536707079772,
           0.5,
           0.5,
           0.6546536707079772,
           0.5,
           0.5,
           0.5,
           0.5,
           0.6546536707079772
          ],
          [
           0.816496580927726,
           0.5773502691896258,
           0.3779644730092273,
           0.3779644730092273,
           0.3779644730092273,
           0.5,
           0.6546536707079772,
           0,
           0,
           0.3779644730092273,
           0.3779644730092273,
           0.5,
           0.5,
           0,
           0.6546536707079772,
           0.5,
           0.6546536707079772,
           0.6546536707079772,
           0.6546536707079772,
           0.816496580927726,
           0.6546536707079772,
           0.3779644730092273,
           0.6546536707079772,
           0.5,
           0.6546536707079772,
           0.5,
           0.5,
           0.6546536707079772,
           0.6546536707079772,
           0.6546536707079772,
           0.5,
           0.5,
           0.6546536707079772,
           0.5,
           0.5,
           0.5,
           0.5,
           0.6546536707079772
          ],
          [
           0.6546536707079772,
           0.3779644730092273,
           0,
           0,
           0,
           0.3333333333333334,
           0.5,
           0.3779644730092273,
           0.3779644730092273,
           0,
           0,
           0.3333333333333334,
           0.3333333333333334,
           0.3779644730092273,
           0.5,
           0.3333333333333334,
           0.5,
           0.5,
           0.5,
           0.6546536707079772,
           0.5,
           0,
           0.5,
           0.3333333333333334,
           0.5,
           0.3333333333333334,
           0.3333333333333334,
           0.5,
           0.5,
           0.5,
           0.3333333333333334,
           0.3333333333333334,
           0.5,
           0.3333333333333334,
           0.3333333333333334,
           0.3333333333333334,
           0.3333333333333334,
           0.5
          ],
          [
           0.6546536707079772,
           0.3779644730092273,
           0,
           0,
           0,
           0.3333333333333334,
           0.5,
           0.3779644730092273,
           0.3779644730092273,
           0,
           0,
           0.3333333333333334,
           0.3333333333333334,
           0.3779644730092273,
           0.5,
           0.3333333333333334,
           0.5,
           0.5,
           0.5,
           0.6546536707079772,
           0.5,
           0,
           0.5,
           0.3333333333333334,
           0.5,
           0.3333333333333334,
           0.3333333333333334,
           0.5,
           0.5,
           0.5,
           0.3333333333333334,
           0.3333333333333334,
           0.5,
           0.3333333333333334,
           0.3333333333333334,
           0.3333333333333334,
           0.3333333333333334,
           0.5
          ],
          [
           0.5,
           0.5,
           0.3333333333333334,
           0.3333333333333334,
           0.3333333333333334,
           0,
           0.3333333333333334,
           0.5,
           0.5,
           0.3333333333333334,
           0.3333333333333334,
           0,
           0,
           0.5,
           0.3333333333333334,
           0,
           0.3333333333333334,
           0.3333333333333334,
           0.3333333333333334,
           0.5,
           0.3333333333333334,
           0.3333333333333334,
           0.3333333333333334,
           0,
           0.3333333333333334,
           0,
           0,
           0.3333333333333334,
           0.3333333333333334,
           0.3333333333333334,
           0,
           0,
           0.3333333333333334,
           0,
           0,
           0,
           0,
           0.3333333333333334
          ],
          [
           0.5,
           0.5,
           0.3333333333333334,
           0.3333333333333334,
           0.3333333333333334,
           0,
           0.3333333333333334,
           0.5,
           0.5,
           0.3333333333333334,
           0.3333333333333334,
           0,
           0,
           0.5,
           0.3333333333333334,
           0,
           0.3333333333333334,
           0.3333333333333334,
           0.3333333333333334,
           0.5,
           0.3333333333333334,
           0.3333333333333334,
           0.3333333333333334,
           0,
           0.3333333333333334,
           0,
           0,
           0.3333333333333334,
           0.3333333333333334,
           0.3333333333333334,
           0,
           0,
           0.3333333333333334,
           0,
           0,
           0,
           0,
           0.3333333333333334
          ],
          [
           0.816496580927726,
           0.5773502691896258,
           0.3779644730092273,
           0.3779644730092273,
           0.3779644730092273,
           0.5,
           0.6546536707079772,
           0,
           0,
           0.3779644730092273,
           0.3779644730092273,
           0.5,
           0.5,
           0,
           0.6546536707079772,
           0.5,
           0.6546536707079772,
           0.6546536707079772,
           0.6546536707079772,
           0.816496580927726,
           0.6546536707079772,
           0.3779644730092273,
           0.6546536707079772,
           0.5,
           0.6546536707079772,
           0.5,
           0.5,
           0.6546536707079772,
           0.6546536707079772,
           0.6546536707079772,
           0.5,
           0.5,
           0.6546536707079772,
           0.5,
           0.5,
           0.5,
           0.5,
           0.6546536707079772
          ],
          [
           0.3779644730092273,
           0.3779644730092273,
           0.5,
           0.5,
           0.5,
           0.3333333333333334,
           0,
           0.6546536707079772,
           0.6546536707079772,
           0.5,
           0.5,
           0.3333333333333334,
           0.3333333333333334,
           0.6546536707079772,
           0,
           0.3333333333333334,
           0,
           0,
           0,
           0.3779644730092273,
           0,
           0.5,
           0,
           0.3333333333333334,
           0,
           0.3333333333333334,
           0.3333333333333334,
           0,
           0,
           0,
           0.3333333333333334,
           0.3333333333333334,
           0,
           0.3333333333333334,
           0.3333333333333334,
           0.3333333333333334,
           0.3333333333333334,
           0
          ],
          [
           0.5,
           0.5,
           0.3333333333333334,
           0.3333333333333334,
           0.3333333333333334,
           0,
           0.3333333333333334,
           0.5,
           0.5,
           0.3333333333333334,
           0.3333333333333334,
           0,
           0,
           0.5,
           0.3333333333333334,
           0,
           0.3333333333333334,
           0.3333333333333334,
           0.3333333333333334,
           0.5,
           0.3333333333333334,
           0.3333333333333334,
           0.3333333333333334,
           0,
           0.3333333333333334,
           0,
           0,
           0.3333333333333334,
           0.3333333333333334,
           0.3333333333333334,
           0,
           0,
           0.3333333333333334,
           0,
           0,
           0,
           0,
           0.3333333333333334
          ],
          [
           0.3779644730092273,
           0.3779644730092273,
           0.5,
           0.5,
           0.5,
           0.3333333333333334,
           0,
           0.6546536707079772,
           0.6546536707079772,
           0.5,
           0.5,
           0.3333333333333334,
           0.3333333333333334,
           0.6546536707079772,
           0,
           0.3333333333333334,
           0,
           0,
           0,
           0.3779644730092273,
           0,
           0.5,
           0,
           0.3333333333333334,
           0,
           0.3333333333333334,
           0.3333333333333334,
           0,
           0,
           0,
           0.3333333333333334,
           0.3333333333333334,
           0,
           0.3333333333333334,
           0.3333333333333334,
           0.3333333333333334,
           0.3333333333333334,
           0
          ],
          [
           0.3779644730092273,
           0.3779644730092273,
           0.5,
           0.5,
           0.5,
           0.3333333333333334,
           0,
           0.6546536707079772,
           0.6546536707079772,
           0.5,
           0.5,
           0.3333333333333334,
           0.3333333333333334,
           0.6546536707079772,
           0,
           0.3333333333333334,
           0,
           0,
           0,
           0.3779644730092273,
           0,
           0.5,
           0,
           0.3333333333333334,
           0,
           0.3333333333333334,
           0.3333333333333334,
           0,
           0,
           0,
           0.3333333333333334,
           0.3333333333333334,
           0,
           0.3333333333333334,
           0.3333333333333334,
           0.3333333333333334,
           0.3333333333333334,
           0
          ],
          [
           0.3779644730092273,
           0.3779644730092273,
           0.5,
           0.5,
           0.5,
           0.3333333333333334,
           0,
           0.6546536707079772,
           0.6546536707079772,
           0.5,
           0.5,
           0.3333333333333334,
           0.3333333333333334,
           0.6546536707079772,
           0,
           0.3333333333333334,
           0,
           0,
           0,
           0.3779644730092273,
           0,
           0.5,
           0,
           0.3333333333333334,
           0,
           0.3333333333333334,
           0.3333333333333334,
           0,
           0,
           0,
           0.3333333333333334,
           0.3333333333333334,
           0,
           0.3333333333333334,
           0.3333333333333334,
           0.3333333333333334,
           0.3333333333333334,
           0
          ],
          [
           0,
           0.5773502691896258,
           0.6546536707079772,
           0.6546536707079772,
           0.6546536707079772,
           0.5,
           0.3779644730092273,
           0.816496580927726,
           0.816496580927726,
           0.6546536707079772,
           0.6546536707079772,
           0.5,
           0.5,
           0.816496580927726,
           0.3779644730092273,
           0.5,
           0.3779644730092273,
           0.3779644730092273,
           0.3779644730092273,
           0,
           0.3779644730092273,
           0.6546536707079772,
           0.3779644730092273,
           0.5,
           0.3779644730092273,
           0.5,
           0.5,
           0.3779644730092273,
           0.3779644730092273,
           0.3779644730092273,
           0.5,
           0.5,
           0.3779644730092273,
           0.5,
           0.5,
           0.5,
           0.5,
           0.3779644730092273
          ],
          [
           0.3779644730092273,
           0.3779644730092273,
           0.5,
           0.5,
           0.5,
           0.3333333333333334,
           0,
           0.6546536707079772,
           0.6546536707079772,
           0.5,
           0.5,
           0.3333333333333334,
           0.3333333333333334,
           0.6546536707079772,
           0,
           0.3333333333333334,
           0,
           0,
           0,
           0.3779644730092273,
           0,
           0.5,
           0,
           0.3333333333333334,
           0,
           0.3333333333333334,
           0.3333333333333334,
           0,
           0,
           0,
           0.3333333333333334,
           0.3333333333333334,
           0,
           0.3333333333333334,
           0.3333333333333334,
           0.3333333333333334,
           0.3333333333333334,
           0
          ],
          [
           0.6546536707079772,
           0.3779644730092273,
           0,
           0,
           0,
           0.3333333333333334,
           0.5,
           0.3779644730092273,
           0.3779644730092273,
           0,
           0,
           0.3333333333333334,
           0.3333333333333334,
           0.3779644730092273,
           0.5,
           0.3333333333333334,
           0.5,
           0.5,
           0.5,
           0.6546536707079772,
           0.5,
           0,
           0.5,
           0.3333333333333334,
           0.5,
           0.3333333333333334,
           0.3333333333333334,
           0.5,
           0.5,
           0.5,
           0.3333333333333334,
           0.3333333333333334,
           0.5,
           0.3333333333333334,
           0.3333333333333334,
           0.3333333333333334,
           0.3333333333333334,
           0.5
          ],
          [
           0.3779644730092273,
           0.3779644730092273,
           0.5,
           0.5,
           0.5,
           0.3333333333333334,
           0,
           0.6546536707079772,
           0.6546536707079772,
           0.5,
           0.5,
           0.3333333333333334,
           0.3333333333333334,
           0.6546536707079772,
           0,
           0.3333333333333334,
           0,
           0,
           0,
           0.3779644730092273,
           0,
           0.5,
           0,
           0.3333333333333334,
           0,
           0.3333333333333334,
           0.3333333333333334,
           0,
           0,
           0,
           0.3333333333333334,
           0.3333333333333334,
           0,
           0.3333333333333334,
           0.3333333333333334,
           0.3333333333333334,
           0.3333333333333334,
           0
          ],
          [
           0.5,
           0.5,
           0.3333333333333334,
           0.3333333333333334,
           0.3333333333333334,
           0,
           0.3333333333333334,
           0.5,
           0.5,
           0.3333333333333334,
           0.3333333333333334,
           0,
           0,
           0.5,
           0.3333333333333334,
           0,
           0.3333333333333334,
           0.3333333333333334,
           0.3333333333333334,
           0.5,
           0.3333333333333334,
           0.3333333333333334,
           0.3333333333333334,
           0,
           0.3333333333333334,
           0,
           0,
           0.3333333333333334,
           0.3333333333333334,
           0.3333333333333334,
           0,
           0,
           0.3333333333333334,
           0,
           0,
           0,
           0,
           0.3333333333333334
          ],
          [
           0.3779644730092273,
           0.3779644730092273,
           0.5,
           0.5,
           0.5,
           0.3333333333333334,
           0,
           0.6546536707079772,
           0.6546536707079772,
           0.5,
           0.5,
           0.3333333333333334,
           0.3333333333333334,
           0.6546536707079772,
           0,
           0.3333333333333334,
           0,
           0,
           0,
           0.3779644730092273,
           0,
           0.5,
           0,
           0.3333333333333334,
           0,
           0.3333333333333334,
           0.3333333333333334,
           0,
           0,
           0,
           0.3333333333333334,
           0.3333333333333334,
           0,
           0.3333333333333334,
           0.3333333333333334,
           0.3333333333333334,
           0.3333333333333334,
           0
          ],
          [
           0.5,
           0.5,
           0.3333333333333334,
           0.3333333333333334,
           0.3333333333333334,
           0,
           0.3333333333333334,
           0.5,
           0.5,
           0.3333333333333334,
           0.3333333333333334,
           0,
           0,
           0.5,
           0.3333333333333334,
           0,
           0.3333333333333334,
           0.3333333333333334,
           0.3333333333333334,
           0.5,
           0.3333333333333334,
           0.3333333333333334,
           0.3333333333333334,
           0,
           0.3333333333333334,
           0,
           0,
           0.3333333333333334,
           0.3333333333333334,
           0.3333333333333334,
           0,
           0,
           0.3333333333333334,
           0,
           0,
           0,
           0,
           0.3333333333333334
          ],
          [
           0.5,
           0.5,
           0.3333333333333334,
           0.3333333333333334,
           0.3333333333333334,
           0,
           0.3333333333333334,
           0.5,
           0.5,
           0.3333333333333334,
           0.3333333333333334,
           0,
           0,
           0.5,
           0.3333333333333334,
           0,
           0.3333333333333334,
           0.3333333333333334,
           0.3333333333333334,
           0.5,
           0.3333333333333334,
           0.3333333333333334,
           0.3333333333333334,
           0,
           0.3333333333333334,
           0,
           0,
           0.3333333333333334,
           0.3333333333333334,
           0.3333333333333334,
           0,
           0,
           0.3333333333333334,
           0,
           0,
           0,
           0,
           0.3333333333333334
          ],
          [
           0.3779644730092273,
           0.3779644730092273,
           0.5,
           0.5,
           0.5,
           0.3333333333333334,
           0,
           0.6546536707079772,
           0.6546536707079772,
           0.5,
           0.5,
           0.3333333333333334,
           0.3333333333333334,
           0.6546536707079772,
           0,
           0.3333333333333334,
           0,
           0,
           0,
           0.3779644730092273,
           0,
           0.5,
           0,
           0.3333333333333334,
           0,
           0.3333333333333334,
           0.3333333333333334,
           0,
           0,
           0,
           0.3333333333333334,
           0.3333333333333334,
           0,
           0.3333333333333334,
           0.3333333333333334,
           0.3333333333333334,
           0.3333333333333334,
           0
          ],
          [
           0.3779644730092273,
           0.3779644730092273,
           0.5,
           0.5,
           0.5,
           0.3333333333333334,
           0,
           0.6546536707079772,
           0.6546536707079772,
           0.5,
           0.5,
           0.3333333333333334,
           0.3333333333333334,
           0.6546536707079772,
           0,
           0.3333333333333334,
           0,
           0,
           0,
           0.3779644730092273,
           0,
           0.5,
           0,
           0.3333333333333334,
           0,
           0.3333333333333334,
           0.3333333333333334,
           0,
           0,
           0,
           0.3333333333333334,
           0.3333333333333334,
           0,
           0.3333333333333334,
           0.3333333333333334,
           0.3333333333333334,
           0.3333333333333334,
           0
          ],
          [
           0.3779644730092273,
           0.3779644730092273,
           0.5,
           0.5,
           0.5,
           0.3333333333333334,
           0,
           0.6546536707079772,
           0.6546536707079772,
           0.5,
           0.5,
           0.3333333333333334,
           0.3333333333333334,
           0.6546536707079772,
           0,
           0.3333333333333334,
           0,
           0,
           0,
           0.3779644730092273,
           0,
           0.5,
           0,
           0.3333333333333334,
           0,
           0.3333333333333334,
           0.3333333333333334,
           0,
           0,
           0,
           0.3333333333333334,
           0.3333333333333334,
           0,
           0.3333333333333334,
           0.3333333333333334,
           0.3333333333333334,
           0.3333333333333334,
           0
          ],
          [
           0.5,
           0.5,
           0.3333333333333334,
           0.3333333333333334,
           0.3333333333333334,
           0,
           0.3333333333333334,
           0.5,
           0.5,
           0.3333333333333334,
           0.3333333333333334,
           0,
           0,
           0.5,
           0.3333333333333334,
           0,
           0.3333333333333334,
           0.3333333333333334,
           0.3333333333333334,
           0.5,
           0.3333333333333334,
           0.3333333333333334,
           0.3333333333333334,
           0,
           0.3333333333333334,
           0,
           0,
           0.3333333333333334,
           0.3333333333333334,
           0.3333333333333334,
           0,
           0,
           0.3333333333333334,
           0,
           0,
           0,
           0,
           0.3333333333333334
          ],
          [
           0.5,
           0.5,
           0.3333333333333334,
           0.3333333333333334,
           0.3333333333333334,
           0,
           0.3333333333333334,
           0.5,
           0.5,
           0.3333333333333334,
           0.3333333333333334,
           0,
           0,
           0.5,
           0.3333333333333334,
           0,
           0.3333333333333334,
           0.3333333333333334,
           0.3333333333333334,
           0.5,
           0.3333333333333334,
           0.3333333333333334,
           0.3333333333333334,
           0,
           0.3333333333333334,
           0,
           0,
           0.3333333333333334,
           0.3333333333333334,
           0.3333333333333334,
           0,
           0,
           0.3333333333333334,
           0,
           0,
           0,
           0,
           0.3333333333333334
          ],
          [
           0.3779644730092273,
           0.3779644730092273,
           0.5,
           0.5,
           0.5,
           0.3333333333333334,
           0,
           0.6546536707079772,
           0.6546536707079772,
           0.5,
           0.5,
           0.3333333333333334,
           0.3333333333333334,
           0.6546536707079772,
           0,
           0.3333333333333334,
           0,
           0,
           0,
           0.3779644730092273,
           0,
           0.5,
           0,
           0.3333333333333334,
           0,
           0.3333333333333334,
           0.3333333333333334,
           0,
           0,
           0,
           0.3333333333333334,
           0.3333333333333334,
           0,
           0.3333333333333334,
           0.3333333333333334,
           0.3333333333333334,
           0.3333333333333334,
           0
          ],
          [
           0.5,
           0.5,
           0.3333333333333334,
           0.3333333333333334,
           0.3333333333333334,
           0,
           0.3333333333333334,
           0.5,
           0.5,
           0.3333333333333334,
           0.3333333333333334,
           0,
           0,
           0.5,
           0.3333333333333334,
           0,
           0.3333333333333334,
           0.3333333333333334,
           0.3333333333333334,
           0.5,
           0.3333333333333334,
           0.3333333333333334,
           0.3333333333333334,
           0,
           0.3333333333333334,
           0,
           0,
           0.3333333333333334,
           0.3333333333333334,
           0.3333333333333334,
           0,
           0,
           0.3333333333333334,
           0,
           0,
           0,
           0,
           0.3333333333333334
          ],
          [
           0.5,
           0.5,
           0.3333333333333334,
           0.3333333333333334,
           0.3333333333333334,
           0,
           0.3333333333333334,
           0.5,
           0.5,
           0.3333333333333334,
           0.3333333333333334,
           0,
           0,
           0.5,
           0.3333333333333334,
           0,
           0.3333333333333334,
           0.3333333333333334,
           0.3333333333333334,
           0.5,
           0.3333333333333334,
           0.3333333333333334,
           0.3333333333333334,
           0,
           0.3333333333333334,
           0,
           0,
           0.3333333333333334,
           0.3333333333333334,
           0.3333333333333334,
           0,
           0,
           0.3333333333333334,
           0,
           0,
           0,
           0,
           0.3333333333333334
          ],
          [
           0.5,
           0.5,
           0.3333333333333334,
           0.3333333333333334,
           0.3333333333333334,
           0,
           0.3333333333333334,
           0.5,
           0.5,
           0.3333333333333334,
           0.3333333333333334,
           0,
           0,
           0.5,
           0.3333333333333334,
           0,
           0.3333333333333334,
           0.3333333333333334,
           0.3333333333333334,
           0.5,
           0.3333333333333334,
           0.3333333333333334,
           0.3333333333333334,
           0,
           0.3333333333333334,
           0,
           0,
           0.3333333333333334,
           0.3333333333333334,
           0.3333333333333334,
           0,
           0,
           0.3333333333333334,
           0,
           0,
           0,
           0,
           0.3333333333333334
          ],
          [
           0.5,
           0.5,
           0.3333333333333334,
           0.3333333333333334,
           0.3333333333333334,
           0,
           0.3333333333333334,
           0.5,
           0.5,
           0.3333333333333334,
           0.3333333333333334,
           0,
           0,
           0.5,
           0.3333333333333334,
           0,
           0.3333333333333334,
           0.3333333333333334,
           0.3333333333333334,
           0.5,
           0.3333333333333334,
           0.3333333333333334,
           0.3333333333333334,
           0,
           0.3333333333333334,
           0,
           0,
           0.3333333333333334,
           0.3333333333333334,
           0.3333333333333334,
           0,
           0,
           0.3333333333333334,
           0,
           0,
           0,
           0,
           0.3333333333333334
          ],
          [
           0.3779644730092273,
           0.3779644730092273,
           0.5,
           0.5,
           0.5,
           0.3333333333333334,
           0,
           0.6546536707079772,
           0.6546536707079772,
           0.5,
           0.5,
           0.3333333333333334,
           0.3333333333333334,
           0.6546536707079772,
           0,
           0.3333333333333334,
           0,
           0,
           0,
           0.3779644730092273,
           0,
           0.5,
           0,
           0.3333333333333334,
           0,
           0.3333333333333334,
           0.3333333333333334,
           0,
           0,
           0,
           0.3333333333333334,
           0.3333333333333334,
           0,
           0.3333333333333334,
           0.3333333333333334,
           0.3333333333333334,
           0.3333333333333334,
           0
          ]
         ]
        }
       ],
       "layout": {
        "coloraxis": {
         "colorscale": [
          [
           0,
           "rgb(234, 172, 139)"
          ],
          [
           0.5,
           "rgb(181, 101, 118)"
          ],
          [
           1,
           "rgb(53, 80, 112)"
          ]
         ]
        },
        "template": {
         "data": {
          "bar": [
           {
            "error_x": {
             "color": "#2a3f5f"
            },
            "error_y": {
             "color": "#2a3f5f"
            },
            "marker": {
             "line": {
              "color": "#E5ECF6",
              "width": 0.5
             },
             "pattern": {
              "fillmode": "overlay",
              "size": 10,
              "solidity": 0.2
             }
            },
            "type": "bar"
           }
          ],
          "barpolar": [
           {
            "marker": {
             "line": {
              "color": "#E5ECF6",
              "width": 0.5
             },
             "pattern": {
              "fillmode": "overlay",
              "size": 10,
              "solidity": 0.2
             }
            },
            "type": "barpolar"
           }
          ],
          "carpet": [
           {
            "aaxis": {
             "endlinecolor": "#2a3f5f",
             "gridcolor": "white",
             "linecolor": "white",
             "minorgridcolor": "white",
             "startlinecolor": "#2a3f5f"
            },
            "baxis": {
             "endlinecolor": "#2a3f5f",
             "gridcolor": "white",
             "linecolor": "white",
             "minorgridcolor": "white",
             "startlinecolor": "#2a3f5f"
            },
            "type": "carpet"
           }
          ],
          "choropleth": [
           {
            "colorbar": {
             "outlinewidth": 0,
             "ticks": ""
            },
            "type": "choropleth"
           }
          ],
          "contour": [
           {
            "colorbar": {
             "outlinewidth": 0,
             "ticks": ""
            },
            "colorscale": [
             [
              0,
              "#0d0887"
             ],
             [
              0.1111111111111111,
              "#46039f"
             ],
             [
              0.2222222222222222,
              "#7201a8"
             ],
             [
              0.3333333333333333,
              "#9c179e"
             ],
             [
              0.4444444444444444,
              "#bd3786"
             ],
             [
              0.5555555555555556,
              "#d8576b"
             ],
             [
              0.6666666666666666,
              "#ed7953"
             ],
             [
              0.7777777777777778,
              "#fb9f3a"
             ],
             [
              0.8888888888888888,
              "#fdca26"
             ],
             [
              1,
              "#f0f921"
             ]
            ],
            "type": "contour"
           }
          ],
          "contourcarpet": [
           {
            "colorbar": {
             "outlinewidth": 0,
             "ticks": ""
            },
            "type": "contourcarpet"
           }
          ],
          "heatmap": [
           {
            "colorbar": {
             "outlinewidth": 0,
             "ticks": ""
            },
            "colorscale": [
             [
              0,
              "#0d0887"
             ],
             [
              0.1111111111111111,
              "#46039f"
             ],
             [
              0.2222222222222222,
              "#7201a8"
             ],
             [
              0.3333333333333333,
              "#9c179e"
             ],
             [
              0.4444444444444444,
              "#bd3786"
             ],
             [
              0.5555555555555556,
              "#d8576b"
             ],
             [
              0.6666666666666666,
              "#ed7953"
             ],
             [
              0.7777777777777778,
              "#fb9f3a"
             ],
             [
              0.8888888888888888,
              "#fdca26"
             ],
             [
              1,
              "#f0f921"
             ]
            ],
            "type": "heatmap"
           }
          ],
          "heatmapgl": [
           {
            "colorbar": {
             "outlinewidth": 0,
             "ticks": ""
            },
            "colorscale": [
             [
              0,
              "#0d0887"
             ],
             [
              0.1111111111111111,
              "#46039f"
             ],
             [
              0.2222222222222222,
              "#7201a8"
             ],
             [
              0.3333333333333333,
              "#9c179e"
             ],
             [
              0.4444444444444444,
              "#bd3786"
             ],
             [
              0.5555555555555556,
              "#d8576b"
             ],
             [
              0.6666666666666666,
              "#ed7953"
             ],
             [
              0.7777777777777778,
              "#fb9f3a"
             ],
             [
              0.8888888888888888,
              "#fdca26"
             ],
             [
              1,
              "#f0f921"
             ]
            ],
            "type": "heatmapgl"
           }
          ],
          "histogram": [
           {
            "marker": {
             "pattern": {
              "fillmode": "overlay",
              "size": 10,
              "solidity": 0.2
             }
            },
            "type": "histogram"
           }
          ],
          "histogram2d": [
           {
            "colorbar": {
             "outlinewidth": 0,
             "ticks": ""
            },
            "colorscale": [
             [
              0,
              "#0d0887"
             ],
             [
              0.1111111111111111,
              "#46039f"
             ],
             [
              0.2222222222222222,
              "#7201a8"
             ],
             [
              0.3333333333333333,
              "#9c179e"
             ],
             [
              0.4444444444444444,
              "#bd3786"
             ],
             [
              0.5555555555555556,
              "#d8576b"
             ],
             [
              0.6666666666666666,
              "#ed7953"
             ],
             [
              0.7777777777777778,
              "#fb9f3a"
             ],
             [
              0.8888888888888888,
              "#fdca26"
             ],
             [
              1,
              "#f0f921"
             ]
            ],
            "type": "histogram2d"
           }
          ],
          "histogram2dcontour": [
           {
            "colorbar": {
             "outlinewidth": 0,
             "ticks": ""
            },
            "colorscale": [
             [
              0,
              "#0d0887"
             ],
             [
              0.1111111111111111,
              "#46039f"
             ],
             [
              0.2222222222222222,
              "#7201a8"
             ],
             [
              0.3333333333333333,
              "#9c179e"
             ],
             [
              0.4444444444444444,
              "#bd3786"
             ],
             [
              0.5555555555555556,
              "#d8576b"
             ],
             [
              0.6666666666666666,
              "#ed7953"
             ],
             [
              0.7777777777777778,
              "#fb9f3a"
             ],
             [
              0.8888888888888888,
              "#fdca26"
             ],
             [
              1,
              "#f0f921"
             ]
            ],
            "type": "histogram2dcontour"
           }
          ],
          "mesh3d": [
           {
            "colorbar": {
             "outlinewidth": 0,
             "ticks": ""
            },
            "type": "mesh3d"
           }
          ],
          "parcoords": [
           {
            "line": {
             "colorbar": {
              "outlinewidth": 0,
              "ticks": ""
             }
            },
            "type": "parcoords"
           }
          ],
          "pie": [
           {
            "automargin": true,
            "type": "pie"
           }
          ],
          "scatter": [
           {
            "fillpattern": {
             "fillmode": "overlay",
             "size": 10,
             "solidity": 0.2
            },
            "type": "scatter"
           }
          ],
          "scatter3d": [
           {
            "line": {
             "colorbar": {
              "outlinewidth": 0,
              "ticks": ""
             }
            },
            "marker": {
             "colorbar": {
              "outlinewidth": 0,
              "ticks": ""
             }
            },
            "type": "scatter3d"
           }
          ],
          "scattercarpet": [
           {
            "marker": {
             "colorbar": {
              "outlinewidth": 0,
              "ticks": ""
             }
            },
            "type": "scattercarpet"
           }
          ],
          "scattergeo": [
           {
            "marker": {
             "colorbar": {
              "outlinewidth": 0,
              "ticks": ""
             }
            },
            "type": "scattergeo"
           }
          ],
          "scattergl": [
           {
            "marker": {
             "colorbar": {
              "outlinewidth": 0,
              "ticks": ""
             }
            },
            "type": "scattergl"
           }
          ],
          "scattermapbox": [
           {
            "marker": {
             "colorbar": {
              "outlinewidth": 0,
              "ticks": ""
             }
            },
            "type": "scattermapbox"
           }
          ],
          "scatterpolar": [
           {
            "marker": {
             "colorbar": {
              "outlinewidth": 0,
              "ticks": ""
             }
            },
            "type": "scatterpolar"
           }
          ],
          "scatterpolargl": [
           {
            "marker": {
             "colorbar": {
              "outlinewidth": 0,
              "ticks": ""
             }
            },
            "type": "scatterpolargl"
           }
          ],
          "scatterternary": [
           {
            "marker": {
             "colorbar": {
              "outlinewidth": 0,
              "ticks": ""
             }
            },
            "type": "scatterternary"
           }
          ],
          "surface": [
           {
            "colorbar": {
             "outlinewidth": 0,
             "ticks": ""
            },
            "colorscale": [
             [
              0,
              "#0d0887"
             ],
             [
              0.1111111111111111,
              "#46039f"
             ],
             [
              0.2222222222222222,
              "#7201a8"
             ],
             [
              0.3333333333333333,
              "#9c179e"
             ],
             [
              0.4444444444444444,
              "#bd3786"
             ],
             [
              0.5555555555555556,
              "#d8576b"
             ],
             [
              0.6666666666666666,
              "#ed7953"
             ],
             [
              0.7777777777777778,
              "#fb9f3a"
             ],
             [
              0.8888888888888888,
              "#fdca26"
             ],
             [
              1,
              "#f0f921"
             ]
            ],
            "type": "surface"
           }
          ],
          "table": [
           {
            "cells": {
             "fill": {
              "color": "#EBF0F8"
             },
             "line": {
              "color": "white"
             }
            },
            "header": {
             "fill": {
              "color": "#C8D4E3"
             },
             "line": {
              "color": "white"
             }
            },
            "type": "table"
           }
          ]
         },
         "layout": {
          "annotationdefaults": {
           "arrowcolor": "#2a3f5f",
           "arrowhead": 0,
           "arrowwidth": 1
          },
          "autotypenumbers": "strict",
          "coloraxis": {
           "colorbar": {
            "outlinewidth": 0,
            "ticks": ""
           }
          },
          "colorscale": {
           "diverging": [
            [
             0,
             "#8e0152"
            ],
            [
             0.1,
             "#c51b7d"
            ],
            [
             0.2,
             "#de77ae"
            ],
            [
             0.3,
             "#f1b6da"
            ],
            [
             0.4,
             "#fde0ef"
            ],
            [
             0.5,
             "#f7f7f7"
            ],
            [
             0.6,
             "#e6f5d0"
            ],
            [
             0.7,
             "#b8e186"
            ],
            [
             0.8,
             "#7fbc41"
            ],
            [
             0.9,
             "#4d9221"
            ],
            [
             1,
             "#276419"
            ]
           ],
           "sequential": [
            [
             0,
             "#0d0887"
            ],
            [
             0.1111111111111111,
             "#46039f"
            ],
            [
             0.2222222222222222,
             "#7201a8"
            ],
            [
             0.3333333333333333,
             "#9c179e"
            ],
            [
             0.4444444444444444,
             "#bd3786"
            ],
            [
             0.5555555555555556,
             "#d8576b"
            ],
            [
             0.6666666666666666,
             "#ed7953"
            ],
            [
             0.7777777777777778,
             "#fb9f3a"
            ],
            [
             0.8888888888888888,
             "#fdca26"
            ],
            [
             1,
             "#f0f921"
            ]
           ],
           "sequentialminus": [
            [
             0,
             "#0d0887"
            ],
            [
             0.1111111111111111,
             "#46039f"
            ],
            [
             0.2222222222222222,
             "#7201a8"
            ],
            [
             0.3333333333333333,
             "#9c179e"
            ],
            [
             0.4444444444444444,
             "#bd3786"
            ],
            [
             0.5555555555555556,
             "#d8576b"
            ],
            [
             0.6666666666666666,
             "#ed7953"
            ],
            [
             0.7777777777777778,
             "#fb9f3a"
            ],
            [
             0.8888888888888888,
             "#fdca26"
            ],
            [
             1,
             "#f0f921"
            ]
           ]
          },
          "colorway": [
           "#636efa",
           "#EF553B",
           "#00cc96",
           "#ab63fa",
           "#FFA15A",
           "#19d3f3",
           "#FF6692",
           "#B6E880",
           "#FF97FF",
           "#FECB52"
          ],
          "font": {
           "color": "#2a3f5f"
          },
          "geo": {
           "bgcolor": "white",
           "lakecolor": "white",
           "landcolor": "#E5ECF6",
           "showlakes": true,
           "showland": true,
           "subunitcolor": "white"
          },
          "hoverlabel": {
           "align": "left"
          },
          "hovermode": "closest",
          "mapbox": {
           "style": "light"
          },
          "paper_bgcolor": "white",
          "plot_bgcolor": "#E5ECF6",
          "polar": {
           "angularaxis": {
            "gridcolor": "white",
            "linecolor": "white",
            "ticks": ""
           },
           "bgcolor": "#E5ECF6",
           "radialaxis": {
            "gridcolor": "white",
            "linecolor": "white",
            "ticks": ""
           }
          },
          "scene": {
           "xaxis": {
            "backgroundcolor": "#E5ECF6",
            "gridcolor": "white",
            "gridwidth": 2,
            "linecolor": "white",
            "showbackground": true,
            "ticks": "",
            "zerolinecolor": "white"
           },
           "yaxis": {
            "backgroundcolor": "#E5ECF6",
            "gridcolor": "white",
            "gridwidth": 2,
            "linecolor": "white",
            "showbackground": true,
            "ticks": "",
            "zerolinecolor": "white"
           },
           "zaxis": {
            "backgroundcolor": "#E5ECF6",
            "gridcolor": "white",
            "gridwidth": 2,
            "linecolor": "white",
            "showbackground": true,
            "ticks": "",
            "zerolinecolor": "white"
           }
          },
          "shapedefaults": {
           "line": {
            "color": "#2a3f5f"
           }
          },
          "ternary": {
           "aaxis": {
            "gridcolor": "white",
            "linecolor": "white",
            "ticks": ""
           },
           "baxis": {
            "gridcolor": "white",
            "linecolor": "white",
            "ticks": ""
           },
           "bgcolor": "#E5ECF6",
           "caxis": {
            "gridcolor": "white",
            "linecolor": "white",
            "ticks": ""
           }
          },
          "title": {
           "x": 0.05
          },
          "xaxis": {
           "automargin": true,
           "gridcolor": "white",
           "linecolor": "white",
           "ticks": "",
           "title": {
            "standoff": 15
           },
           "zerolinecolor": "white",
           "zerolinewidth": 2
          },
          "yaxis": {
           "automargin": true,
           "gridcolor": "white",
           "linecolor": "white",
           "ticks": "",
           "title": {
            "standoff": 15
           },
           "zerolinecolor": "white",
           "zerolinewidth": 2
          }
         }
        },
        "title": {
         "text": "Distance Matrix for Depths (alphabetical order)"
        },
        "xaxis": {
         "anchor": "y",
         "constrain": "domain",
         "domain": [
          0,
          1
         ],
         "scaleanchor": "y"
        },
        "yaxis": {
         "anchor": "x",
         "autorange": "reversed",
         "constrain": "domain",
         "domain": [
          0,
          1
         ]
        }
       }
      }
     },
     "metadata": {},
     "output_type": "display_data"
    },
    {
     "data": {
      "application/vnd.plotly.v1+json": {
       "config": {
        "plotlyServerURL": "https://plot.ly"
       },
       "data": [
        {
         "hoverinfo": "text",
         "marker": {
          "color": "rgb(248, 156, 116)"
         },
         "mode": "lines",
         "type": "scatter",
         "x": [
          15,
          15,
          25,
          25
         ],
         "xaxis": "x",
         "y": [
          0,
          0.1,
          0.1,
          0
         ],
         "yaxis": "y"
        },
        {
         "hoverinfo": "text",
         "marker": {
          "color": "rgb(248, 156, 116)"
         },
         "mode": "lines",
         "type": "scatter",
         "x": [
          5,
          5,
          20,
          20
         ],
         "xaxis": "x",
         "y": [
          0,
          0.1,
          0.1,
          0.1
         ],
         "yaxis": "y"
        },
        {
         "hoverinfo": "text",
         "marker": {
          "color": "rgb(158, 185, 243)"
         },
         "mode": "lines",
         "type": "scatter",
         "x": [
          35,
          35,
          45,
          45
         ],
         "xaxis": "x",
         "y": [
          0,
          0.1,
          0.1,
          0
         ],
         "yaxis": "y"
        },
        {
         "hoverinfo": "text",
         "marker": {
          "color": "rgb(246, 207, 113)"
         },
         "mode": "lines",
         "type": "scatter",
         "x": [
          65,
          65,
          75,
          75
         ],
         "xaxis": "x",
         "y": [
          0,
          0.1,
          0.1,
          0
         ],
         "yaxis": "y"
        },
        {
         "hoverinfo": "text",
         "marker": {
          "color": "rgb(246, 207, 113)"
         },
         "mode": "lines",
         "type": "scatter",
         "x": [
          55,
          55,
          70,
          70
         ],
         "xaxis": "x",
         "y": [
          0,
          0.1,
          0.1,
          0.1
         ],
         "yaxis": "y"
        },
        {
         "hoverinfo": "text",
         "marker": {
          "color": "rgb(246, 207, 113)"
         },
         "mode": "lines",
         "type": "scatter",
         "x": [
          95,
          95,
          105,
          105
         ],
         "xaxis": "x",
         "y": [
          0,
          0.1,
          0.1,
          0
         ],
         "yaxis": "y"
        },
        {
         "hoverinfo": "text",
         "marker": {
          "color": "rgb(246, 207, 113)"
         },
         "mode": "lines",
         "type": "scatter",
         "x": [
          85,
          85,
          100,
          100
         ],
         "xaxis": "x",
         "y": [
          0,
          0.1,
          0.1,
          0.1
         ],
         "yaxis": "y"
        },
        {
         "hoverinfo": "text",
         "marker": {
          "color": "rgb(246, 207, 113)"
         },
         "mode": "lines",
         "type": "scatter",
         "x": [
          62.5,
          62.5,
          92.5,
          92.5
         ],
         "xaxis": "x",
         "y": [
          0.1,
          0.10000000000000002,
          0.10000000000000002,
          0.1
         ],
         "yaxis": "y"
        },
        {
         "hoverinfo": "text",
         "marker": {
          "color": "rgb(246, 207, 113)"
         },
         "mode": "lines",
         "type": "scatter",
         "x": [
          135,
          135,
          145,
          145
         ],
         "xaxis": "x",
         "y": [
          0,
          0.1,
          0.1,
          0
         ],
         "yaxis": "y"
        },
        {
         "hoverinfo": "text",
         "marker": {
          "color": "rgb(246, 207, 113)"
         },
         "mode": "lines",
         "type": "scatter",
         "x": [
          125,
          125,
          140,
          140
         ],
         "xaxis": "x",
         "y": [
          0,
          0.1,
          0.1,
          0.1
         ],
         "yaxis": "y"
        },
        {
         "hoverinfo": "text",
         "marker": {
          "color": "rgb(246, 207, 113)"
         },
         "mode": "lines",
         "type": "scatter",
         "x": [
          165,
          165,
          175,
          175
         ],
         "xaxis": "x",
         "y": [
          0,
          0.1,
          0.1,
          0
         ],
         "yaxis": "y"
        },
        {
         "hoverinfo": "text",
         "marker": {
          "color": "rgb(246, 207, 113)"
         },
         "mode": "lines",
         "type": "scatter",
         "x": [
          155,
          155,
          170,
          170
         ],
         "xaxis": "x",
         "y": [
          0,
          0.1,
          0.1,
          0.1
         ],
         "yaxis": "y"
        },
        {
         "hoverinfo": "text",
         "marker": {
          "color": "rgb(246, 207, 113)"
         },
         "mode": "lines",
         "type": "scatter",
         "x": [
          195,
          195,
          205,
          205
         ],
         "xaxis": "x",
         "y": [
          0,
          0.1,
          0.1,
          0
         ],
         "yaxis": "y"
        },
        {
         "hoverinfo": "text",
         "marker": {
          "color": "rgb(246, 207, 113)"
         },
         "mode": "lines",
         "type": "scatter",
         "x": [
          185,
          185,
          200,
          200
         ],
         "xaxis": "x",
         "y": [
          0,
          0.1,
          0.1,
          0.1
         ],
         "yaxis": "y"
        },
        {
         "hoverinfo": "text",
         "marker": {
          "color": "rgb(246, 207, 113)"
         },
         "mode": "lines",
         "type": "scatter",
         "x": [
          225,
          225,
          235,
          235
         ],
         "xaxis": "x",
         "y": [
          0,
          0.1,
          0.1,
          0
         ],
         "yaxis": "y"
        },
        {
         "hoverinfo": "text",
         "marker": {
          "color": "rgb(246, 207, 113)"
         },
         "mode": "lines",
         "type": "scatter",
         "x": [
          215,
          215,
          230,
          230
         ],
         "xaxis": "x",
         "y": [
          0,
          0.1,
          0.1,
          0.1
         ],
         "yaxis": "y"
        },
        {
         "hoverinfo": "text",
         "marker": {
          "color": "rgb(246, 207, 113)"
         },
         "mode": "lines",
         "type": "scatter",
         "x": [
          192.5,
          192.5,
          222.5,
          222.5
         ],
         "xaxis": "x",
         "y": [
          0.1,
          0.10000000000000002,
          0.10000000000000002,
          0.1
         ],
         "yaxis": "y"
        },
        {
         "hoverinfo": "text",
         "marker": {
          "color": "rgb(246, 207, 113)"
         },
         "mode": "lines",
         "type": "scatter",
         "x": [
          162.5,
          162.5,
          207.5,
          207.5
         ],
         "xaxis": "x",
         "y": [
          0.1,
          0.10000000000000002,
          0.10000000000000002,
          0.10000000000000002
         ],
         "yaxis": "y"
        },
        {
         "hoverinfo": "text",
         "marker": {
          "color": "rgb(246, 207, 113)"
         },
         "mode": "lines",
         "type": "scatter",
         "x": [
          132.5,
          132.5,
          185,
          185
         ],
         "xaxis": "x",
         "y": [
          0.1,
          0.10000000000000002,
          0.10000000000000002,
          0.10000000000000002
         ],
         "yaxis": "y"
        },
        {
         "hoverinfo": "text",
         "marker": {
          "color": "rgb(246, 207, 113)"
         },
         "mode": "lines",
         "type": "scatter",
         "x": [
          115,
          115,
          158.75,
          158.75
         ],
         "xaxis": "x",
         "y": [
          0,
          0.10000000000000002,
          0.10000000000000002,
          0.10000000000000002
         ],
         "yaxis": "y"
        },
        {
         "hoverinfo": "text",
         "marker": {
          "color": "rgb(246, 207, 113)"
         },
         "mode": "lines",
         "type": "scatter",
         "x": [
          77.5,
          77.5,
          136.875,
          136.875
         ],
         "xaxis": "x",
         "y": [
          0.10000000000000002,
          0.43333333333333346,
          0.43333333333333346,
          0.10000000000000002
         ],
         "yaxis": "y"
        },
        {
         "hoverinfo": "text",
         "marker": {
          "color": "rgb(135, 197, 95)"
         },
         "mode": "lines",
         "type": "scatter",
         "x": [
          275,
          275,
          285,
          285
         ],
         "xaxis": "x",
         "y": [
          0,
          0.1,
          0.1,
          0
         ],
         "yaxis": "y"
        },
        {
         "hoverinfo": "text",
         "marker": {
          "color": "rgb(135, 197, 95)"
         },
         "mode": "lines",
         "type": "scatter",
         "x": [
          265,
          265,
          280,
          280
         ],
         "xaxis": "x",
         "y": [
          0,
          0.1,
          0.1,
          0.1
         ],
         "yaxis": "y"
        },
        {
         "hoverinfo": "text",
         "marker": {
          "color": "rgb(135, 197, 95)"
         },
         "mode": "lines",
         "type": "scatter",
         "x": [
          305,
          305,
          315,
          315
         ],
         "xaxis": "x",
         "y": [
          0,
          0.1,
          0.1,
          0
         ],
         "yaxis": "y"
        },
        {
         "hoverinfo": "text",
         "marker": {
          "color": "rgb(135, 197, 95)"
         },
         "mode": "lines",
         "type": "scatter",
         "x": [
          295,
          295,
          310,
          310
         ],
         "xaxis": "x",
         "y": [
          0,
          0.1,
          0.1,
          0.1
         ],
         "yaxis": "y"
        },
        {
         "hoverinfo": "text",
         "marker": {
          "color": "rgb(135, 197, 95)"
         },
         "mode": "lines",
         "type": "scatter",
         "x": [
          335,
          335,
          345,
          345
         ],
         "xaxis": "x",
         "y": [
          0,
          0.1,
          0.1,
          0
         ],
         "yaxis": "y"
        },
        {
         "hoverinfo": "text",
         "marker": {
          "color": "rgb(135, 197, 95)"
         },
         "mode": "lines",
         "type": "scatter",
         "x": [
          325,
          325,
          340,
          340
         ],
         "xaxis": "x",
         "y": [
          0,
          0.1,
          0.1,
          0.1
         ],
         "yaxis": "y"
        },
        {
         "hoverinfo": "text",
         "marker": {
          "color": "rgb(135, 197, 95)"
         },
         "mode": "lines",
         "type": "scatter",
         "x": [
          365,
          365,
          375,
          375
         ],
         "xaxis": "x",
         "y": [
          0,
          0.1,
          0.1,
          0
         ],
         "yaxis": "y"
        },
        {
         "hoverinfo": "text",
         "marker": {
          "color": "rgb(135, 197, 95)"
         },
         "mode": "lines",
         "type": "scatter",
         "x": [
          355,
          355,
          370,
          370
         ],
         "xaxis": "x",
         "y": [
          0,
          0.1,
          0.1,
          0.1
         ],
         "yaxis": "y"
        },
        {
         "hoverinfo": "text",
         "marker": {
          "color": "rgb(135, 197, 95)"
         },
         "mode": "lines",
         "type": "scatter",
         "x": [
          332.5,
          332.5,
          362.5,
          362.5
         ],
         "xaxis": "x",
         "y": [
          0.1,
          0.10000000000000002,
          0.10000000000000002,
          0.1
         ],
         "yaxis": "y"
        },
        {
         "hoverinfo": "text",
         "marker": {
          "color": "rgb(135, 197, 95)"
         },
         "mode": "lines",
         "type": "scatter",
         "x": [
          302.5,
          302.5,
          347.5,
          347.5
         ],
         "xaxis": "x",
         "y": [
          0.1,
          0.10000000000000002,
          0.10000000000000002,
          0.10000000000000002
         ],
         "yaxis": "y"
        },
        {
         "hoverinfo": "text",
         "marker": {
          "color": "rgb(135, 197, 95)"
         },
         "mode": "lines",
         "type": "scatter",
         "x": [
          272.5,
          272.5,
          325,
          325
         ],
         "xaxis": "x",
         "y": [
          0.1,
          0.10000000000000002,
          0.10000000000000002,
          0.10000000000000002
         ],
         "yaxis": "y"
        },
        {
         "hoverinfo": "text",
         "marker": {
          "color": "rgb(135, 197, 95)"
         },
         "mode": "lines",
         "type": "scatter",
         "x": [
          255,
          255,
          298.75,
          298.75
         ],
         "xaxis": "x",
         "y": [
          0,
          0.10000000000000002,
          0.10000000000000002,
          0.10000000000000002
         ],
         "yaxis": "y"
        },
        {
         "hoverinfo": "text",
         "marker": {
          "color": "rgb(135, 197, 95)"
         },
         "mode": "lines",
         "type": "scatter",
         "x": [
          245,
          245,
          276.875,
          276.875
         ],
         "xaxis": "x",
         "y": [
          0,
          0.4779644730092273,
          0.4779644730092273,
          0.10000000000000002
         ],
         "yaxis": "y"
        },
        {
         "hoverinfo": "text",
         "marker": {
          "color": "rgb(102, 197, 204)"
         },
         "mode": "lines",
         "type": "scatter",
         "x": [
          107.1875,
          107.1875,
          260.9375,
          260.9375
         ],
         "xaxis": "x",
         "y": [
          0.43333333333333346,
          0.49135759462928086,
          0.49135759462928086,
          0.4779644730092273
         ],
         "yaxis": "y"
        },
        {
         "hoverinfo": "text",
         "marker": {
          "color": "rgb(102, 197, 204)"
         },
         "mode": "lines",
         "type": "scatter",
         "x": [
          40,
          40,
          184.0625,
          184.0625
         ],
         "xaxis": "x",
         "y": [
          0.1,
          0.5823881952290133,
          0.5823881952290133,
          0.49135759462928086
         ],
         "yaxis": "y"
        },
        {
         "hoverinfo": "text",
         "marker": {
          "color": "rgb(102, 197, 204)"
         },
         "mode": "lines",
         "type": "scatter",
         "x": [
          12.5,
          12.5,
          112.03125,
          112.03125
         ],
         "xaxis": "x",
         "y": [
          0.1,
          0.6568179425229754,
          0.6568179425229754,
          0.5823881952290133
         ],
         "yaxis": "y"
        }
       ],
       "layout": {
        "autosize": false,
        "height": null,
        "hovermode": "closest",
        "showlegend": false,
        "template": {
         "data": {
          "bar": [
           {
            "error_x": {
             "color": "#2a3f5f"
            },
            "error_y": {
             "color": "#2a3f5f"
            },
            "marker": {
             "line": {
              "color": "#E5ECF6",
              "width": 0.5
             },
             "pattern": {
              "fillmode": "overlay",
              "size": 10,
              "solidity": 0.2
             }
            },
            "type": "bar"
           }
          ],
          "barpolar": [
           {
            "marker": {
             "line": {
              "color": "#E5ECF6",
              "width": 0.5
             },
             "pattern": {
              "fillmode": "overlay",
              "size": 10,
              "solidity": 0.2
             }
            },
            "type": "barpolar"
           }
          ],
          "carpet": [
           {
            "aaxis": {
             "endlinecolor": "#2a3f5f",
             "gridcolor": "white",
             "linecolor": "white",
             "minorgridcolor": "white",
             "startlinecolor": "#2a3f5f"
            },
            "baxis": {
             "endlinecolor": "#2a3f5f",
             "gridcolor": "white",
             "linecolor": "white",
             "minorgridcolor": "white",
             "startlinecolor": "#2a3f5f"
            },
            "type": "carpet"
           }
          ],
          "choropleth": [
           {
            "colorbar": {
             "outlinewidth": 0,
             "ticks": ""
            },
            "type": "choropleth"
           }
          ],
          "contour": [
           {
            "colorbar": {
             "outlinewidth": 0,
             "ticks": ""
            },
            "colorscale": [
             [
              0,
              "#0d0887"
             ],
             [
              0.1111111111111111,
              "#46039f"
             ],
             [
              0.2222222222222222,
              "#7201a8"
             ],
             [
              0.3333333333333333,
              "#9c179e"
             ],
             [
              0.4444444444444444,
              "#bd3786"
             ],
             [
              0.5555555555555556,
              "#d8576b"
             ],
             [
              0.6666666666666666,
              "#ed7953"
             ],
             [
              0.7777777777777778,
              "#fb9f3a"
             ],
             [
              0.8888888888888888,
              "#fdca26"
             ],
             [
              1,
              "#f0f921"
             ]
            ],
            "type": "contour"
           }
          ],
          "contourcarpet": [
           {
            "colorbar": {
             "outlinewidth": 0,
             "ticks": ""
            },
            "type": "contourcarpet"
           }
          ],
          "heatmap": [
           {
            "colorbar": {
             "outlinewidth": 0,
             "ticks": ""
            },
            "colorscale": [
             [
              0,
              "#0d0887"
             ],
             [
              0.1111111111111111,
              "#46039f"
             ],
             [
              0.2222222222222222,
              "#7201a8"
             ],
             [
              0.3333333333333333,
              "#9c179e"
             ],
             [
              0.4444444444444444,
              "#bd3786"
             ],
             [
              0.5555555555555556,
              "#d8576b"
             ],
             [
              0.6666666666666666,
              "#ed7953"
             ],
             [
              0.7777777777777778,
              "#fb9f3a"
             ],
             [
              0.8888888888888888,
              "#fdca26"
             ],
             [
              1,
              "#f0f921"
             ]
            ],
            "type": "heatmap"
           }
          ],
          "heatmapgl": [
           {
            "colorbar": {
             "outlinewidth": 0,
             "ticks": ""
            },
            "colorscale": [
             [
              0,
              "#0d0887"
             ],
             [
              0.1111111111111111,
              "#46039f"
             ],
             [
              0.2222222222222222,
              "#7201a8"
             ],
             [
              0.3333333333333333,
              "#9c179e"
             ],
             [
              0.4444444444444444,
              "#bd3786"
             ],
             [
              0.5555555555555556,
              "#d8576b"
             ],
             [
              0.6666666666666666,
              "#ed7953"
             ],
             [
              0.7777777777777778,
              "#fb9f3a"
             ],
             [
              0.8888888888888888,
              "#fdca26"
             ],
             [
              1,
              "#f0f921"
             ]
            ],
            "type": "heatmapgl"
           }
          ],
          "histogram": [
           {
            "marker": {
             "pattern": {
              "fillmode": "overlay",
              "size": 10,
              "solidity": 0.2
             }
            },
            "type": "histogram"
           }
          ],
          "histogram2d": [
           {
            "colorbar": {
             "outlinewidth": 0,
             "ticks": ""
            },
            "colorscale": [
             [
              0,
              "#0d0887"
             ],
             [
              0.1111111111111111,
              "#46039f"
             ],
             [
              0.2222222222222222,
              "#7201a8"
             ],
             [
              0.3333333333333333,
              "#9c179e"
             ],
             [
              0.4444444444444444,
              "#bd3786"
             ],
             [
              0.5555555555555556,
              "#d8576b"
             ],
             [
              0.6666666666666666,
              "#ed7953"
             ],
             [
              0.7777777777777778,
              "#fb9f3a"
             ],
             [
              0.8888888888888888,
              "#fdca26"
             ],
             [
              1,
              "#f0f921"
             ]
            ],
            "type": "histogram2d"
           }
          ],
          "histogram2dcontour": [
           {
            "colorbar": {
             "outlinewidth": 0,
             "ticks": ""
            },
            "colorscale": [
             [
              0,
              "#0d0887"
             ],
             [
              0.1111111111111111,
              "#46039f"
             ],
             [
              0.2222222222222222,
              "#7201a8"
             ],
             [
              0.3333333333333333,
              "#9c179e"
             ],
             [
              0.4444444444444444,
              "#bd3786"
             ],
             [
              0.5555555555555556,
              "#d8576b"
             ],
             [
              0.6666666666666666,
              "#ed7953"
             ],
             [
              0.7777777777777778,
              "#fb9f3a"
             ],
             [
              0.8888888888888888,
              "#fdca26"
             ],
             [
              1,
              "#f0f921"
             ]
            ],
            "type": "histogram2dcontour"
           }
          ],
          "mesh3d": [
           {
            "colorbar": {
             "outlinewidth": 0,
             "ticks": ""
            },
            "type": "mesh3d"
           }
          ],
          "parcoords": [
           {
            "line": {
             "colorbar": {
              "outlinewidth": 0,
              "ticks": ""
             }
            },
            "type": "parcoords"
           }
          ],
          "pie": [
           {
            "automargin": true,
            "type": "pie"
           }
          ],
          "scatter": [
           {
            "fillpattern": {
             "fillmode": "overlay",
             "size": 10,
             "solidity": 0.2
            },
            "type": "scatter"
           }
          ],
          "scatter3d": [
           {
            "line": {
             "colorbar": {
              "outlinewidth": 0,
              "ticks": ""
             }
            },
            "marker": {
             "colorbar": {
              "outlinewidth": 0,
              "ticks": ""
             }
            },
            "type": "scatter3d"
           }
          ],
          "scattercarpet": [
           {
            "marker": {
             "colorbar": {
              "outlinewidth": 0,
              "ticks": ""
             }
            },
            "type": "scattercarpet"
           }
          ],
          "scattergeo": [
           {
            "marker": {
             "colorbar": {
              "outlinewidth": 0,
              "ticks": ""
             }
            },
            "type": "scattergeo"
           }
          ],
          "scattergl": [
           {
            "marker": {
             "colorbar": {
              "outlinewidth": 0,
              "ticks": ""
             }
            },
            "type": "scattergl"
           }
          ],
          "scattermapbox": [
           {
            "marker": {
             "colorbar": {
              "outlinewidth": 0,
              "ticks": ""
             }
            },
            "type": "scattermapbox"
           }
          ],
          "scatterpolar": [
           {
            "marker": {
             "colorbar": {
              "outlinewidth": 0,
              "ticks": ""
             }
            },
            "type": "scatterpolar"
           }
          ],
          "scatterpolargl": [
           {
            "marker": {
             "colorbar": {
              "outlinewidth": 0,
              "ticks": ""
             }
            },
            "type": "scatterpolargl"
           }
          ],
          "scatterternary": [
           {
            "marker": {
             "colorbar": {
              "outlinewidth": 0,
              "ticks": ""
             }
            },
            "type": "scatterternary"
           }
          ],
          "surface": [
           {
            "colorbar": {
             "outlinewidth": 0,
             "ticks": ""
            },
            "colorscale": [
             [
              0,
              "#0d0887"
             ],
             [
              0.1111111111111111,
              "#46039f"
             ],
             [
              0.2222222222222222,
              "#7201a8"
             ],
             [
              0.3333333333333333,
              "#9c179e"
             ],
             [
              0.4444444444444444,
              "#bd3786"
             ],
             [
              0.5555555555555556,
              "#d8576b"
             ],
             [
              0.6666666666666666,
              "#ed7953"
             ],
             [
              0.7777777777777778,
              "#fb9f3a"
             ],
             [
              0.8888888888888888,
              "#fdca26"
             ],
             [
              1,
              "#f0f921"
             ]
            ],
            "type": "surface"
           }
          ],
          "table": [
           {
            "cells": {
             "fill": {
              "color": "#EBF0F8"
             },
             "line": {
              "color": "white"
             }
            },
            "header": {
             "fill": {
              "color": "#C8D4E3"
             },
             "line": {
              "color": "white"
             }
            },
            "type": "table"
           }
          ]
         },
         "layout": {
          "annotationdefaults": {
           "arrowcolor": "#2a3f5f",
           "arrowhead": 0,
           "arrowwidth": 1
          },
          "autotypenumbers": "strict",
          "coloraxis": {
           "colorbar": {
            "outlinewidth": 0,
            "ticks": ""
           }
          },
          "colorscale": {
           "diverging": [
            [
             0,
             "#8e0152"
            ],
            [
             0.1,
             "#c51b7d"
            ],
            [
             0.2,
             "#de77ae"
            ],
            [
             0.3,
             "#f1b6da"
            ],
            [
             0.4,
             "#fde0ef"
            ],
            [
             0.5,
             "#f7f7f7"
            ],
            [
             0.6,
             "#e6f5d0"
            ],
            [
             0.7,
             "#b8e186"
            ],
            [
             0.8,
             "#7fbc41"
            ],
            [
             0.9,
             "#4d9221"
            ],
            [
             1,
             "#276419"
            ]
           ],
           "sequential": [
            [
             0,
             "#0d0887"
            ],
            [
             0.1111111111111111,
             "#46039f"
            ],
            [
             0.2222222222222222,
             "#7201a8"
            ],
            [
             0.3333333333333333,
             "#9c179e"
            ],
            [
             0.4444444444444444,
             "#bd3786"
            ],
            [
             0.5555555555555556,
             "#d8576b"
            ],
            [
             0.6666666666666666,
             "#ed7953"
            ],
            [
             0.7777777777777778,
             "#fb9f3a"
            ],
            [
             0.8888888888888888,
             "#fdca26"
            ],
            [
             1,
             "#f0f921"
            ]
           ],
           "sequentialminus": [
            [
             0,
             "#0d0887"
            ],
            [
             0.1111111111111111,
             "#46039f"
            ],
            [
             0.2222222222222222,
             "#7201a8"
            ],
            [
             0.3333333333333333,
             "#9c179e"
            ],
            [
             0.4444444444444444,
             "#bd3786"
            ],
            [
             0.5555555555555556,
             "#d8576b"
            ],
            [
             0.6666666666666666,
             "#ed7953"
            ],
            [
             0.7777777777777778,
             "#fb9f3a"
            ],
            [
             0.8888888888888888,
             "#fdca26"
            ],
            [
             1,
             "#f0f921"
            ]
           ]
          },
          "colorway": [
           "#636efa",
           "#EF553B",
           "#00cc96",
           "#ab63fa",
           "#FFA15A",
           "#19d3f3",
           "#FF6692",
           "#B6E880",
           "#FF97FF",
           "#FECB52"
          ],
          "font": {
           "color": "#2a3f5f"
          },
          "geo": {
           "bgcolor": "white",
           "lakecolor": "white",
           "landcolor": "#E5ECF6",
           "showlakes": true,
           "showland": true,
           "subunitcolor": "white"
          },
          "hoverlabel": {
           "align": "left"
          },
          "hovermode": "closest",
          "mapbox": {
           "style": "light"
          },
          "paper_bgcolor": "white",
          "plot_bgcolor": "#E5ECF6",
          "polar": {
           "angularaxis": {
            "gridcolor": "white",
            "linecolor": "white",
            "ticks": ""
           },
           "bgcolor": "#E5ECF6",
           "radialaxis": {
            "gridcolor": "white",
            "linecolor": "white",
            "ticks": ""
           }
          },
          "scene": {
           "xaxis": {
            "backgroundcolor": "#E5ECF6",
            "gridcolor": "white",
            "gridwidth": 2,
            "linecolor": "white",
            "showbackground": true,
            "ticks": "",
            "zerolinecolor": "white"
           },
           "yaxis": {
            "backgroundcolor": "#E5ECF6",
            "gridcolor": "white",
            "gridwidth": 2,
            "linecolor": "white",
            "showbackground": true,
            "ticks": "",
            "zerolinecolor": "white"
           },
           "zaxis": {
            "backgroundcolor": "#E5ECF6",
            "gridcolor": "white",
            "gridwidth": 2,
            "linecolor": "white",
            "showbackground": true,
            "ticks": "",
            "zerolinecolor": "white"
           }
          },
          "shapedefaults": {
           "line": {
            "color": "#2a3f5f"
           }
          },
          "ternary": {
           "aaxis": {
            "gridcolor": "white",
            "linecolor": "white",
            "ticks": ""
           },
           "baxis": {
            "gridcolor": "white",
            "linecolor": "white",
            "ticks": ""
           },
           "bgcolor": "#E5ECF6",
           "caxis": {
            "gridcolor": "white",
            "linecolor": "white",
            "ticks": ""
           }
          },
          "title": {
           "x": 0.05
          },
          "xaxis": {
           "automargin": true,
           "gridcolor": "white",
           "linecolor": "white",
           "ticks": "",
           "title": {
            "standoff": 15
           },
           "zerolinecolor": "white",
           "zerolinewidth": 2
          },
          "yaxis": {
           "automargin": true,
           "gridcolor": "white",
           "linecolor": "white",
           "ticks": "",
           "title": {
            "standoff": 15
           },
           "zerolinecolor": "white",
           "zerolinewidth": 2
          }
         }
        },
        "title": {
         "text": "Hierarchical clustering for depth data"
        },
        "width": null,
        "xaxis": {
         "mirror": "allticks",
         "rangemode": "tozero",
         "showgrid": false,
         "showline": true,
         "showticklabels": true,
         "tickmode": "array",
         "ticks": "outside",
         "ticktext": [
          "Leucoraja circularis",
          "Dipturus batis",
          "Dipturus oxyrinchus",
          "Aetomylaeus bovinus",
          "Mustelus punctulatus",
          "Chimaera monstrosa",
          "Centrophorus granulosus",
          "Centrophorus uyato",
          "Oxynotus centrina",
          "Etmopterus spinax",
          "Galeus melastomus",
          "Torpedo marmorata",
          "Tetronarce nobiliana",
          "Squalus acanthias",
          "Squalus blainville",
          "Scyliorhinus canicula",
          "Raja miraletus",
          "Rostroraja alba",
          "Hexanchus griseus",
          "Dalatias licha",
          "Heptranchias perlo",
          "Raja clavata",
          "Leucoraja melitensis",
          "Raja asterias",
          "Bathyraja brachyurops",
          "Torpedo torpedo",
          "Scyliorhinus stellaris",
          "Raja polystigma",
          "Raja radula",
          "Raja montagui",
          "Pteroplatytrygon violacea",
          "Raja brachyura",
          "Leucoraja naevus",
          "Dasyatis pastinaca",
          "Leucoraja fullonica",
          "Myliobatis aquila",
          "Mustelus asterias",
          "Mustelus mustelus"
         ],
         "tickvals": [
          5,
          15,
          25,
          35,
          45,
          55,
          65,
          75,
          85,
          95,
          105,
          115,
          125,
          135,
          145,
          155,
          165,
          175,
          185,
          195,
          205,
          215,
          225,
          235,
          245,
          255,
          265,
          275,
          285,
          295,
          305,
          315,
          325,
          335,
          345,
          355,
          365,
          375
         ],
         "type": "linear",
         "zeroline": false
        },
        "yaxis": {
         "mirror": "allticks",
         "rangemode": "tozero",
         "showgrid": false,
         "showline": true,
         "showticklabels": true,
         "ticks": "outside",
         "type": "linear",
         "zeroline": false
        }
       }
      }
     },
     "metadata": {},
     "output_type": "display_data"
    },
    {
     "data": {
      "application/vnd.plotly.v1+json": {
       "config": {
        "plotlyServerURL": "https://plot.ly"
       },
       "data": [
        {
         "coloraxis": "coloraxis",
         "hovertemplate": "x: %{x}<br>y: %{y}<br>color: %{z}<extra></extra>",
         "name": "0",
         "type": "heatmap",
         "x": [
          "Aetomylaeus bovinus",
          "Mustelus punctulatus",
          "Scyliorhinus stellaris",
          "Raja radula",
          "Raja polystigma",
          "Raja montagui",
          "Raja brachyura",
          "Pteroplatytrygon violacea",
          "Myliobatis aquila",
          "Mustelus asterias",
          "Leucoraja naevus",
          "Leucoraja fullonica",
          "Mustelus mustelus",
          "Torpedo torpedo",
          "Bathyraja brachyurops",
          "Dasyatis pastinaca",
          "Tetronarce nobiliana",
          "Squalus blainville",
          "Squalus acanthias",
          "Scyliorhinus canicula",
          "Rostroraja alba",
          "Centrophorus granulosus",
          "Centrophorus uyato",
          "Chimaera monstrosa",
          "Raja miraletus",
          "Raja clavata",
          "Dalatias licha",
          "Raja asterias",
          "Oxynotus centrina",
          "Torpedo marmorata",
          "Etmopterus spinax",
          "Galeus melastomus",
          "Leucoraja melitensis",
          "Heptranchias perlo",
          "Hexanchus griseus",
          "Dipturus batis",
          "Dipturus oxyrinchus",
          "Leucoraja circularis"
         ],
         "xaxis": "x",
         "y": [
          "Aetomylaeus bovinus",
          "Mustelus punctulatus",
          "Scyliorhinus stellaris",
          "Raja radula",
          "Raja polystigma",
          "Raja montagui",
          "Raja brachyura",
          "Pteroplatytrygon violacea",
          "Myliobatis aquila",
          "Mustelus asterias",
          "Leucoraja naevus",
          "Leucoraja fullonica",
          "Mustelus mustelus",
          "Torpedo torpedo",
          "Bathyraja brachyurops",
          "Dasyatis pastinaca",
          "Tetronarce nobiliana",
          "Squalus blainville",
          "Squalus acanthias",
          "Scyliorhinus canicula",
          "Rostroraja alba",
          "Centrophorus granulosus",
          "Centrophorus uyato",
          "Chimaera monstrosa",
          "Raja miraletus",
          "Raja clavata",
          "Dalatias licha",
          "Raja asterias",
          "Oxynotus centrina",
          "Torpedo marmorata",
          "Etmopterus spinax",
          "Galeus melastomus",
          "Leucoraja melitensis",
          "Heptranchias perlo",
          "Hexanchus griseus",
          "Dipturus batis",
          "Dipturus oxyrinchus",
          "Leucoraja circularis"
         ],
         "yaxis": "y",
         "z": [
          [
           0,
           0,
           0.3779644730092273,
           0.3779644730092273,
           0.3779644730092273,
           0.3779644730092273,
           0.3779644730092273,
           0.3779644730092273,
           0.3779644730092273,
           0.3779644730092273,
           0.3779644730092273,
           0.3779644730092273,
           0.3779644730092273,
           0.3779644730092273,
           0.5773502691896258,
           0.3779644730092273,
           0.5,
           0.5,
           0.5,
           0.5,
           0.5,
           0.6546536707079772,
           0.6546536707079772,
           0.6546536707079772,
           0.5,
           0.5,
           0.5,
           0.5,
           0.6546536707079772,
           0.5,
           0.6546536707079772,
           0.6546536707079772,
           0.5,
           0.5,
           0.5,
           0.816496580927726,
           0.816496580927726,
           0.816496580927726
          ],
          [
           0,
           0,
           0.3779644730092273,
           0.3779644730092273,
           0.3779644730092273,
           0.3779644730092273,
           0.3779644730092273,
           0.3779644730092273,
           0.3779644730092273,
           0.3779644730092273,
           0.3779644730092273,
           0.3779644730092273,
           0.3779644730092273,
           0.3779644730092273,
           0.5773502691896258,
           0.3779644730092273,
           0.5,
           0.5,
           0.5,
           0.5,
           0.5,
           0.6546536707079772,
           0.6546536707079772,
           0.6546536707079772,
           0.5,
           0.5,
           0.5,
           0.5,
           0.6546536707079772,
           0.5,
           0.6546536707079772,
           0.6546536707079772,
           0.5,
           0.5,
           0.5,
           0.816496580927726,
           0.816496580927726,
           0.816496580927726
          ],
          [
           0.3779644730092273,
           0.3779644730092273,
           0,
           0,
           0,
           0,
           0,
           0,
           0,
           0,
           0,
           0,
           0,
           0,
           0.3779644730092273,
           0,
           0.3333333333333334,
           0.3333333333333334,
           0.3333333333333334,
           0.3333333333333334,
           0.3333333333333334,
           0.5,
           0.5,
           0.5,
           0.3333333333333334,
           0.3333333333333334,
           0.3333333333333334,
           0.3333333333333334,
           0.5,
           0.3333333333333334,
           0.5,
           0.5,
           0.3333333333333334,
           0.3333333333333334,
           0.3333333333333334,
           0.6546536707079772,
           0.6546536707079772,
           0.6546536707079772
          ],
          [
           0.3779644730092273,
           0.3779644730092273,
           0,
           0,
           0,
           0,
           0,
           0,
           0,
           0,
           0,
           0,
           0,
           0,
           0.3779644730092273,
           0,
           0.3333333333333334,
           0.3333333333333334,
           0.3333333333333334,
           0.3333333333333334,
           0.3333333333333334,
           0.5,
           0.5,
           0.5,
           0.3333333333333334,
           0.3333333333333334,
           0.3333333333333334,
           0.3333333333333334,
           0.5,
           0.3333333333333334,
           0.5,
           0.5,
           0.3333333333333334,
           0.3333333333333334,
           0.3333333333333334,
           0.6546536707079772,
           0.6546536707079772,
           0.6546536707079772
          ],
          [
           0.3779644730092273,
           0.3779644730092273,
           0,
           0,
           0,
           0,
           0,
           0,
           0,
           0,
           0,
           0,
           0,
           0,
           0.3779644730092273,
           0,
           0.3333333333333334,
           0.3333333333333334,
           0.3333333333333334,
           0.3333333333333334,
           0.3333333333333334,
           0.5,
           0.5,
           0.5,
           0.3333333333333334,
           0.3333333333333334,
           0.3333333333333334,
           0.3333333333333334,
           0.5,
           0.3333333333333334,
           0.5,
           0.5,
           0.3333333333333334,
           0.3333333333333334,
           0.3333333333333334,
           0.6546536707079772,
           0.6546536707079772,
           0.6546536707079772
          ],
          [
           0.3779644730092273,
           0.3779644730092273,
           0,
           0,
           0,
           0,
           0,
           0,
           0,
           0,
           0,
           0,
           0,
           0,
           0.3779644730092273,
           0,
           0.3333333333333334,
           0.3333333333333334,
           0.3333333333333334,
           0.3333333333333334,
           0.3333333333333334,
           0.5,
           0.5,
           0.5,
           0.3333333333333334,
           0.3333333333333334,
           0.3333333333333334,
           0.3333333333333334,
           0.5,
           0.3333333333333334,
           0.5,
           0.5,
           0.3333333333333334,
           0.3333333333333334,
           0.3333333333333334,
           0.6546536707079772,
           0.6546536707079772,
           0.6546536707079772
          ],
          [
           0.3779644730092273,
           0.3779644730092273,
           0,
           0,
           0,
           0,
           0,
           0,
           0,
           0,
           0,
           0,
           0,
           0,
           0.3779644730092273,
           0,
           0.3333333333333334,
           0.3333333333333334,
           0.3333333333333334,
           0.3333333333333334,
           0.3333333333333334,
           0.5,
           0.5,
           0.5,
           0.3333333333333334,
           0.3333333333333334,
           0.3333333333333334,
           0.3333333333333334,
           0.5,
           0.3333333333333334,
           0.5,
           0.5,
           0.3333333333333334,
           0.3333333333333334,
           0.3333333333333334,
           0.6546536707079772,
           0.6546536707079772,
           0.6546536707079772
          ],
          [
           0.3779644730092273,
           0.3779644730092273,
           0,
           0,
           0,
           0,
           0,
           0,
           0,
           0,
           0,
           0,
           0,
           0,
           0.3779644730092273,
           0,
           0.3333333333333334,
           0.3333333333333334,
           0.3333333333333334,
           0.3333333333333334,
           0.3333333333333334,
           0.5,
           0.5,
           0.5,
           0.3333333333333334,
           0.3333333333333334,
           0.3333333333333334,
           0.3333333333333334,
           0.5,
           0.3333333333333334,
           0.5,
           0.5,
           0.3333333333333334,
           0.3333333333333334,
           0.3333333333333334,
           0.6546536707079772,
           0.6546536707079772,
           0.6546536707079772
          ],
          [
           0.3779644730092273,
           0.3779644730092273,
           0,
           0,
           0,
           0,
           0,
           0,
           0,
           0,
           0,
           0,
           0,
           0,
           0.3779644730092273,
           0,
           0.3333333333333334,
           0.3333333333333334,
           0.3333333333333334,
           0.3333333333333334,
           0.3333333333333334,
           0.5,
           0.5,
           0.5,
           0.3333333333333334,
           0.3333333333333334,
           0.3333333333333334,
           0.3333333333333334,
           0.5,
           0.3333333333333334,
           0.5,
           0.5,
           0.3333333333333334,
           0.3333333333333334,
           0.3333333333333334,
           0.6546536707079772,
           0.6546536707079772,
           0.6546536707079772
          ],
          [
           0.3779644730092273,
           0.3779644730092273,
           0,
           0,
           0,
           0,
           0,
           0,
           0,
           0,
           0,
           0,
           0,
           0,
           0.3779644730092273,
           0,
           0.3333333333333334,
           0.3333333333333334,
           0.3333333333333334,
           0.3333333333333334,
           0.3333333333333334,
           0.5,
           0.5,
           0.5,
           0.3333333333333334,
           0.3333333333333334,
           0.3333333333333334,
           0.3333333333333334,
           0.5,
           0.3333333333333334,
           0.5,
           0.5,
           0.3333333333333334,
           0.3333333333333334,
           0.3333333333333334,
           0.6546536707079772,
           0.6546536707079772,
           0.6546536707079772
          ],
          [
           0.3779644730092273,
           0.3779644730092273,
           0,
           0,
           0,
           0,
           0,
           0,
           0,
           0,
           0,
           0,
           0,
           0,
           0.3779644730092273,
           0,
           0.3333333333333334,
           0.3333333333333334,
           0.3333333333333334,
           0.3333333333333334,
           0.3333333333333334,
           0.5,
           0.5,
           0.5,
           0.3333333333333334,
           0.3333333333333334,
           0.3333333333333334,
           0.3333333333333334,
           0.5,
           0.3333333333333334,
           0.5,
           0.5,
           0.3333333333333334,
           0.3333333333333334,
           0.3333333333333334,
           0.6546536707079772,
           0.6546536707079772,
           0.6546536707079772
          ],
          [
           0.3779644730092273,
           0.3779644730092273,
           0,
           0,
           0,
           0,
           0,
           0,
           0,
           0,
           0,
           0,
           0,
           0,
           0.3779644730092273,
           0,
           0.3333333333333334,
           0.3333333333333334,
           0.3333333333333334,
           0.3333333333333334,
           0.3333333333333334,
           0.5,
           0.5,
           0.5,
           0.3333333333333334,
           0.3333333333333334,
           0.3333333333333334,
           0.3333333333333334,
           0.5,
           0.3333333333333334,
           0.5,
           0.5,
           0.3333333333333334,
           0.3333333333333334,
           0.3333333333333334,
           0.6546536707079772,
           0.6546536707079772,
           0.6546536707079772
          ],
          [
           0.3779644730092273,
           0.3779644730092273,
           0,
           0,
           0,
           0,
           0,
           0,
           0,
           0,
           0,
           0,
           0,
           0,
           0.3779644730092273,
           0,
           0.3333333333333334,
           0.3333333333333334,
           0.3333333333333334,
           0.3333333333333334,
           0.3333333333333334,
           0.5,
           0.5,
           0.5,
           0.3333333333333334,
           0.3333333333333334,
           0.3333333333333334,
           0.3333333333333334,
           0.5,
           0.3333333333333334,
           0.5,
           0.5,
           0.3333333333333334,
           0.3333333333333334,
           0.3333333333333334,
           0.6546536707079772,
           0.6546536707079772,
           0.6546536707079772
          ],
          [
           0.3779644730092273,
           0.3779644730092273,
           0,
           0,
           0,
           0,
           0,
           0,
           0,
           0,
           0,
           0,
           0,
           0,
           0.3779644730092273,
           0,
           0.3333333333333334,
           0.3333333333333334,
           0.3333333333333334,
           0.3333333333333334,
           0.3333333333333334,
           0.5,
           0.5,
           0.5,
           0.3333333333333334,
           0.3333333333333334,
           0.3333333333333334,
           0.3333333333333334,
           0.5,
           0.3333333333333334,
           0.5,
           0.5,
           0.3333333333333334,
           0.3333333333333334,
           0.3333333333333334,
           0.6546536707079772,
           0.6546536707079772,
           0.6546536707079772
          ],
          [
           0.5773502691896258,
           0.5773502691896258,
           0.3779644730092273,
           0.3779644730092273,
           0.3779644730092273,
           0.3779644730092273,
           0.3779644730092273,
           0.3779644730092273,
           0.3779644730092273,
           0.3779644730092273,
           0.3779644730092273,
           0.3779644730092273,
           0.3779644730092273,
           0.3779644730092273,
           0,
           0.3779644730092273,
           0.5,
           0.5,
           0.5,
           0.5,
           0.5,
           0.3779644730092273,
           0.3779644730092273,
           0.3779644730092273,
           0.5,
           0.5,
           0.5,
           0.5,
           0.3779644730092273,
           0.5,
           0.3779644730092273,
           0.3779644730092273,
           0.5,
           0.5,
           0.5,
           0.5773502691896258,
           0.5773502691896258,
           0.5773502691896258
          ],
          [
           0.3779644730092273,
           0.3779644730092273,
           0,
           0,
           0,
           0,
           0,
           0,
           0,
           0,
           0,
           0,
           0,
           0,
           0.3779644730092273,
           0,
           0.3333333333333334,
           0.3333333333333334,
           0.3333333333333334,
           0.3333333333333334,
           0.3333333333333334,
           0.5,
           0.5,
           0.5,
           0.3333333333333334,
           0.3333333333333334,
           0.3333333333333334,
           0.3333333333333334,
           0.5,
           0.3333333333333334,
           0.5,
           0.5,
           0.3333333333333334,
           0.3333333333333334,
           0.3333333333333334,
           0.6546536707079772,
           0.6546536707079772,
           0.6546536707079772
          ],
          [
           0.5,
           0.5,
           0.3333333333333334,
           0.3333333333333334,
           0.3333333333333334,
           0.3333333333333334,
           0.3333333333333334,
           0.3333333333333334,
           0.3333333333333334,
           0.3333333333333334,
           0.3333333333333334,
           0.3333333333333334,
           0.3333333333333334,
           0.3333333333333334,
           0.5,
           0.3333333333333334,
           0,
           0,
           0,
           0,
           0,
           0.3333333333333334,
           0.3333333333333334,
           0.3333333333333334,
           0,
           0,
           0,
           0,
           0.3333333333333334,
           0,
           0.3333333333333334,
           0.3333333333333334,
           0,
           0,
           0,
           0.5,
           0.5,
           0.5
          ],
          [
           0.5,
           0.5,
           0.3333333333333334,
           0.3333333333333334,
           0.3333333333333334,
           0.3333333333333334,
           0.3333333333333334,
           0.3333333333333334,
           0.3333333333333334,
           0.3333333333333334,
           0.3333333333333334,
           0.3333333333333334,
           0.3333333333333334,
           0.3333333333333334,
           0.5,
           0.3333333333333334,
           0,
           0,
           0,
           0,
           0,
           0.3333333333333334,
           0.3333333333333334,
           0.3333333333333334,
           0,
           0,
           0,
           0,
           0.3333333333333334,
           0,
           0.3333333333333334,
           0.3333333333333334,
           0,
           0,
           0,
           0.5,
           0.5,
           0.5
          ],
          [
           0.5,
           0.5,
           0.3333333333333334,
           0.3333333333333334,
           0.3333333333333334,
           0.3333333333333334,
           0.3333333333333334,
           0.3333333333333334,
           0.3333333333333334,
           0.3333333333333334,
           0.3333333333333334,
           0.3333333333333334,
           0.3333333333333334,
           0.3333333333333334,
           0.5,
           0.3333333333333334,
           0,
           0,
           0,
           0,
           0,
           0.3333333333333334,
           0.3333333333333334,
           0.3333333333333334,
           0,
           0,
           0,
           0,
           0.3333333333333334,
           0,
           0.3333333333333334,
           0.3333333333333334,
           0,
           0,
           0,
           0.5,
           0.5,
           0.5
          ],
          [
           0.5,
           0.5,
           0.3333333333333334,
           0.3333333333333334,
           0.3333333333333334,
           0.3333333333333334,
           0.3333333333333334,
           0.3333333333333334,
           0.3333333333333334,
           0.3333333333333334,
           0.3333333333333334,
           0.3333333333333334,
           0.3333333333333334,
           0.3333333333333334,
           0.5,
           0.3333333333333334,
           0,
           0,
           0,
           0,
           0,
           0.3333333333333334,
           0.3333333333333334,
           0.3333333333333334,
           0,
           0,
           0,
           0,
           0.3333333333333334,
           0,
           0.3333333333333334,
           0.3333333333333334,
           0,
           0,
           0,
           0.5,
           0.5,
           0.5
          ],
          [
           0.5,
           0.5,
           0.3333333333333334,
           0.3333333333333334,
           0.3333333333333334,
           0.3333333333333334,
           0.3333333333333334,
           0.3333333333333334,
           0.3333333333333334,
           0.3333333333333334,
           0.3333333333333334,
           0.3333333333333334,
           0.3333333333333334,
           0.3333333333333334,
           0.5,
           0.3333333333333334,
           0,
           0,
           0,
           0,
           0,
           0.3333333333333334,
           0.3333333333333334,
           0.3333333333333334,
           0,
           0,
           0,
           0,
           0.3333333333333334,
           0,
           0.3333333333333334,
           0.3333333333333334,
           0,
           0,
           0,
           0.5,
           0.5,
           0.5
          ],
          [
           0.6546536707079772,
           0.6546536707079772,
           0.5,
           0.5,
           0.5,
           0.5,
           0.5,
           0.5,
           0.5,
           0.5,
           0.5,
           0.5,
           0.5,
           0.5,
           0.3779644730092273,
           0.5,
           0.3333333333333334,
           0.3333333333333334,
           0.3333333333333334,
           0.3333333333333334,
           0.3333333333333334,
           0,
           0,
           0,
           0.3333333333333334,
           0.3333333333333334,
           0.3333333333333334,
           0.3333333333333334,
           0,
           0.3333333333333334,
           0,
           0,
           0.3333333333333334,
           0.3333333333333334,
           0.3333333333333334,
           0.3779644730092273,
           0.3779644730092273,
           0.3779644730092273
          ],
          [
           0.6546536707079772,
           0.6546536707079772,
           0.5,
           0.5,
           0.5,
           0.5,
           0.5,
           0.5,
           0.5,
           0.5,
           0.5,
           0.5,
           0.5,
           0.5,
           0.3779644730092273,
           0.5,
           0.3333333333333334,
           0.3333333333333334,
           0.3333333333333334,
           0.3333333333333334,
           0.3333333333333334,
           0,
           0,
           0,
           0.3333333333333334,
           0.3333333333333334,
           0.3333333333333334,
           0.3333333333333334,
           0,
           0.3333333333333334,
           0,
           0,
           0.3333333333333334,
           0.3333333333333334,
           0.3333333333333334,
           0.3779644730092273,
           0.3779644730092273,
           0.3779644730092273
          ],
          [
           0.6546536707079772,
           0.6546536707079772,
           0.5,
           0.5,
           0.5,
           0.5,
           0.5,
           0.5,
           0.5,
           0.5,
           0.5,
           0.5,
           0.5,
           0.5,
           0.3779644730092273,
           0.5,
           0.3333333333333334,
           0.3333333333333334,
           0.3333333333333334,
           0.3333333333333334,
           0.3333333333333334,
           0,
           0,
           0,
           0.3333333333333334,
           0.3333333333333334,
           0.3333333333333334,
           0.3333333333333334,
           0,
           0.3333333333333334,
           0,
           0,
           0.3333333333333334,
           0.3333333333333334,
           0.3333333333333334,
           0.3779644730092273,
           0.3779644730092273,
           0.3779644730092273
          ],
          [
           0.5,
           0.5,
           0.3333333333333334,
           0.3333333333333334,
           0.3333333333333334,
           0.3333333333333334,
           0.3333333333333334,
           0.3333333333333334,
           0.3333333333333334,
           0.3333333333333334,
           0.3333333333333334,
           0.3333333333333334,
           0.3333333333333334,
           0.3333333333333334,
           0.5,
           0.3333333333333334,
           0,
           0,
           0,
           0,
           0,
           0.3333333333333334,
           0.3333333333333334,
           0.3333333333333334,
           0,
           0,
           0,
           0,
           0.3333333333333334,
           0,
           0.3333333333333334,
           0.3333333333333334,
           0,
           0,
           0,
           0.5,
           0.5,
           0.5
          ],
          [
           0.5,
           0.5,
           0.3333333333333334,
           0.3333333333333334,
           0.3333333333333334,
           0.3333333333333334,
           0.3333333333333334,
           0.3333333333333334,
           0.3333333333333334,
           0.3333333333333334,
           0.3333333333333334,
           0.3333333333333334,
           0.3333333333333334,
           0.3333333333333334,
           0.5,
           0.3333333333333334,
           0,
           0,
           0,
           0,
           0,
           0.3333333333333334,
           0.3333333333333334,
           0.3333333333333334,
           0,
           0,
           0,
           0,
           0.3333333333333334,
           0,
           0.3333333333333334,
           0.3333333333333334,
           0,
           0,
           0,
           0.5,
           0.5,
           0.5
          ],
          [
           0.5,
           0.5,
           0.3333333333333334,
           0.3333333333333334,
           0.3333333333333334,
           0.3333333333333334,
           0.3333333333333334,
           0.3333333333333334,
           0.3333333333333334,
           0.3333333333333334,
           0.3333333333333334,
           0.3333333333333334,
           0.3333333333333334,
           0.3333333333333334,
           0.5,
           0.3333333333333334,
           0,
           0,
           0,
           0,
           0,
           0.3333333333333334,
           0.3333333333333334,
           0.3333333333333334,
           0,
           0,
           0,
           0,
           0.3333333333333334,
           0,
           0.3333333333333334,
           0.3333333333333334,
           0,
           0,
           0,
           0.5,
           0.5,
           0.5
          ],
          [
           0.5,
           0.5,
           0.3333333333333334,
           0.3333333333333334,
           0.3333333333333334,
           0.3333333333333334,
           0.3333333333333334,
           0.3333333333333334,
           0.3333333333333334,
           0.3333333333333334,
           0.3333333333333334,
           0.3333333333333334,
           0.3333333333333334,
           0.3333333333333334,
           0.5,
           0.3333333333333334,
           0,
           0,
           0,
           0,
           0,
           0.3333333333333334,
           0.3333333333333334,
           0.3333333333333334,
           0,
           0,
           0,
           0,
           0.3333333333333334,
           0,
           0.3333333333333334,
           0.3333333333333334,
           0,
           0,
           0,
           0.5,
           0.5,
           0.5
          ],
          [
           0.6546536707079772,
           0.6546536707079772,
           0.5,
           0.5,
           0.5,
           0.5,
           0.5,
           0.5,
           0.5,
           0.5,
           0.5,
           0.5,
           0.5,
           0.5,
           0.3779644730092273,
           0.5,
           0.3333333333333334,
           0.3333333333333334,
           0.3333333333333334,
           0.3333333333333334,
           0.3333333333333334,
           0,
           0,
           0,
           0.3333333333333334,
           0.3333333333333334,
           0.3333333333333334,
           0.3333333333333334,
           0,
           0.3333333333333334,
           0,
           0,
           0.3333333333333334,
           0.3333333333333334,
           0.3333333333333334,
           0.3779644730092273,
           0.3779644730092273,
           0.3779644730092273
          ],
          [
           0.5,
           0.5,
           0.3333333333333334,
           0.3333333333333334,
           0.3333333333333334,
           0.3333333333333334,
           0.3333333333333334,
           0.3333333333333334,
           0.3333333333333334,
           0.3333333333333334,
           0.3333333333333334,
           0.3333333333333334,
           0.3333333333333334,
           0.3333333333333334,
           0.5,
           0.3333333333333334,
           0,
           0,
           0,
           0,
           0,
           0.3333333333333334,
           0.3333333333333334,
           0.3333333333333334,
           0,
           0,
           0,
           0,
           0.3333333333333334,
           0,
           0.3333333333333334,
           0.3333333333333334,
           0,
           0,
           0,
           0.5,
           0.5,
           0.5
          ],
          [
           0.6546536707079772,
           0.6546536707079772,
           0.5,
           0.5,
           0.5,
           0.5,
           0.5,
           0.5,
           0.5,
           0.5,
           0.5,
           0.5,
           0.5,
           0.5,
           0.3779644730092273,
           0.5,
           0.3333333333333334,
           0.3333333333333334,
           0.3333333333333334,
           0.3333333333333334,
           0.3333333333333334,
           0,
           0,
           0,
           0.3333333333333334,
           0.3333333333333334,
           0.3333333333333334,
           0.3333333333333334,
           0,
           0.3333333333333334,
           0,
           0,
           0.3333333333333334,
           0.3333333333333334,
           0.3333333333333334,
           0.3779644730092273,
           0.3779644730092273,
           0.3779644730092273
          ],
          [
           0.6546536707079772,
           0.6546536707079772,
           0.5,
           0.5,
           0.5,
           0.5,
           0.5,
           0.5,
           0.5,
           0.5,
           0.5,
           0.5,
           0.5,
           0.5,
           0.3779644730092273,
           0.5,
           0.3333333333333334,
           0.3333333333333334,
           0.3333333333333334,
           0.3333333333333334,
           0.3333333333333334,
           0,
           0,
           0,
           0.3333333333333334,
           0.3333333333333334,
           0.3333333333333334,
           0.3333333333333334,
           0,
           0.3333333333333334,
           0,
           0,
           0.3333333333333334,
           0.3333333333333334,
           0.3333333333333334,
           0.3779644730092273,
           0.3779644730092273,
           0.3779644730092273
          ],
          [
           0.5,
           0.5,
           0.3333333333333334,
           0.3333333333333334,
           0.3333333333333334,
           0.3333333333333334,
           0.3333333333333334,
           0.3333333333333334,
           0.3333333333333334,
           0.3333333333333334,
           0.3333333333333334,
           0.3333333333333334,
           0.3333333333333334,
           0.3333333333333334,
           0.5,
           0.3333333333333334,
           0,
           0,
           0,
           0,
           0,
           0.3333333333333334,
           0.3333333333333334,
           0.3333333333333334,
           0,
           0,
           0,
           0,
           0.3333333333333334,
           0,
           0.3333333333333334,
           0.3333333333333334,
           0,
           0,
           0,
           0.5,
           0.5,
           0.5
          ],
          [
           0.5,
           0.5,
           0.3333333333333334,
           0.3333333333333334,
           0.3333333333333334,
           0.3333333333333334,
           0.3333333333333334,
           0.3333333333333334,
           0.3333333333333334,
           0.3333333333333334,
           0.3333333333333334,
           0.3333333333333334,
           0.3333333333333334,
           0.3333333333333334,
           0.5,
           0.3333333333333334,
           0,
           0,
           0,
           0,
           0,
           0.3333333333333334,
           0.3333333333333334,
           0.3333333333333334,
           0,
           0,
           0,
           0,
           0.3333333333333334,
           0,
           0.3333333333333334,
           0.3333333333333334,
           0,
           0,
           0,
           0.5,
           0.5,
           0.5
          ],
          [
           0.5,
           0.5,
           0.3333333333333334,
           0.3333333333333334,
           0.3333333333333334,
           0.3333333333333334,
           0.3333333333333334,
           0.3333333333333334,
           0.3333333333333334,
           0.3333333333333334,
           0.3333333333333334,
           0.3333333333333334,
           0.3333333333333334,
           0.3333333333333334,
           0.5,
           0.3333333333333334,
           0,
           0,
           0,
           0,
           0,
           0.3333333333333334,
           0.3333333333333334,
           0.3333333333333334,
           0,
           0,
           0,
           0,
           0.3333333333333334,
           0,
           0.3333333333333334,
           0.3333333333333334,
           0,
           0,
           0,
           0.5,
           0.5,
           0.5
          ],
          [
           0.816496580927726,
           0.816496580927726,
           0.6546536707079772,
           0.6546536707079772,
           0.6546536707079772,
           0.6546536707079772,
           0.6546536707079772,
           0.6546536707079772,
           0.6546536707079772,
           0.6546536707079772,
           0.6546536707079772,
           0.6546536707079772,
           0.6546536707079772,
           0.6546536707079772,
           0.5773502691896258,
           0.6546536707079772,
           0.5,
           0.5,
           0.5,
           0.5,
           0.5,
           0.3779644730092273,
           0.3779644730092273,
           0.3779644730092273,
           0.5,
           0.5,
           0.5,
           0.5,
           0.3779644730092273,
           0.5,
           0.3779644730092273,
           0.3779644730092273,
           0.5,
           0.5,
           0.5,
           0,
           0,
           0
          ],
          [
           0.816496580927726,
           0.816496580927726,
           0.6546536707079772,
           0.6546536707079772,
           0.6546536707079772,
           0.6546536707079772,
           0.6546536707079772,
           0.6546536707079772,
           0.6546536707079772,
           0.6546536707079772,
           0.6546536707079772,
           0.6546536707079772,
           0.6546536707079772,
           0.6546536707079772,
           0.5773502691896258,
           0.6546536707079772,
           0.5,
           0.5,
           0.5,
           0.5,
           0.5,
           0.3779644730092273,
           0.3779644730092273,
           0.3779644730092273,
           0.5,
           0.5,
           0.5,
           0.5,
           0.3779644730092273,
           0.5,
           0.3779644730092273,
           0.3779644730092273,
           0.5,
           0.5,
           0.5,
           0,
           0,
           0
          ],
          [
           0.816496580927726,
           0.816496580927726,
           0.6546536707079772,
           0.6546536707079772,
           0.6546536707079772,
           0.6546536707079772,
           0.6546536707079772,
           0.6546536707079772,
           0.6546536707079772,
           0.6546536707079772,
           0.6546536707079772,
           0.6546536707079772,
           0.6546536707079772,
           0.6546536707079772,
           0.5773502691896258,
           0.6546536707079772,
           0.5,
           0.5,
           0.5,
           0.5,
           0.5,
           0.3779644730092273,
           0.3779644730092273,
           0.3779644730092273,
           0.5,
           0.5,
           0.5,
           0.5,
           0.3779644730092273,
           0.5,
           0.3779644730092273,
           0.3779644730092273,
           0.5,
           0.5,
           0.5,
           0,
           0,
           0
          ]
         ]
        }
       ],
       "layout": {
        "coloraxis": {
         "colorscale": [
          [
           0,
           "rgb(234, 172, 139)"
          ],
          [
           0.5,
           "rgb(181, 101, 118)"
          ],
          [
           1,
           "rgb(53, 80, 112)"
          ]
         ]
        },
        "template": {
         "data": {
          "bar": [
           {
            "error_x": {
             "color": "#2a3f5f"
            },
            "error_y": {
             "color": "#2a3f5f"
            },
            "marker": {
             "line": {
              "color": "#E5ECF6",
              "width": 0.5
             },
             "pattern": {
              "fillmode": "overlay",
              "size": 10,
              "solidity": 0.2
             }
            },
            "type": "bar"
           }
          ],
          "barpolar": [
           {
            "marker": {
             "line": {
              "color": "#E5ECF6",
              "width": 0.5
             },
             "pattern": {
              "fillmode": "overlay",
              "size": 10,
              "solidity": 0.2
             }
            },
            "type": "barpolar"
           }
          ],
          "carpet": [
           {
            "aaxis": {
             "endlinecolor": "#2a3f5f",
             "gridcolor": "white",
             "linecolor": "white",
             "minorgridcolor": "white",
             "startlinecolor": "#2a3f5f"
            },
            "baxis": {
             "endlinecolor": "#2a3f5f",
             "gridcolor": "white",
             "linecolor": "white",
             "minorgridcolor": "white",
             "startlinecolor": "#2a3f5f"
            },
            "type": "carpet"
           }
          ],
          "choropleth": [
           {
            "colorbar": {
             "outlinewidth": 0,
             "ticks": ""
            },
            "type": "choropleth"
           }
          ],
          "contour": [
           {
            "colorbar": {
             "outlinewidth": 0,
             "ticks": ""
            },
            "colorscale": [
             [
              0,
              "#0d0887"
             ],
             [
              0.1111111111111111,
              "#46039f"
             ],
             [
              0.2222222222222222,
              "#7201a8"
             ],
             [
              0.3333333333333333,
              "#9c179e"
             ],
             [
              0.4444444444444444,
              "#bd3786"
             ],
             [
              0.5555555555555556,
              "#d8576b"
             ],
             [
              0.6666666666666666,
              "#ed7953"
             ],
             [
              0.7777777777777778,
              "#fb9f3a"
             ],
             [
              0.8888888888888888,
              "#fdca26"
             ],
             [
              1,
              "#f0f921"
             ]
            ],
            "type": "contour"
           }
          ],
          "contourcarpet": [
           {
            "colorbar": {
             "outlinewidth": 0,
             "ticks": ""
            },
            "type": "contourcarpet"
           }
          ],
          "heatmap": [
           {
            "colorbar": {
             "outlinewidth": 0,
             "ticks": ""
            },
            "colorscale": [
             [
              0,
              "#0d0887"
             ],
             [
              0.1111111111111111,
              "#46039f"
             ],
             [
              0.2222222222222222,
              "#7201a8"
             ],
             [
              0.3333333333333333,
              "#9c179e"
             ],
             [
              0.4444444444444444,
              "#bd3786"
             ],
             [
              0.5555555555555556,
              "#d8576b"
             ],
             [
              0.6666666666666666,
              "#ed7953"
             ],
             [
              0.7777777777777778,
              "#fb9f3a"
             ],
             [
              0.8888888888888888,
              "#fdca26"
             ],
             [
              1,
              "#f0f921"
             ]
            ],
            "type": "heatmap"
           }
          ],
          "heatmapgl": [
           {
            "colorbar": {
             "outlinewidth": 0,
             "ticks": ""
            },
            "colorscale": [
             [
              0,
              "#0d0887"
             ],
             [
              0.1111111111111111,
              "#46039f"
             ],
             [
              0.2222222222222222,
              "#7201a8"
             ],
             [
              0.3333333333333333,
              "#9c179e"
             ],
             [
              0.4444444444444444,
              "#bd3786"
             ],
             [
              0.5555555555555556,
              "#d8576b"
             ],
             [
              0.6666666666666666,
              "#ed7953"
             ],
             [
              0.7777777777777778,
              "#fb9f3a"
             ],
             [
              0.8888888888888888,
              "#fdca26"
             ],
             [
              1,
              "#f0f921"
             ]
            ],
            "type": "heatmapgl"
           }
          ],
          "histogram": [
           {
            "marker": {
             "pattern": {
              "fillmode": "overlay",
              "size": 10,
              "solidity": 0.2
             }
            },
            "type": "histogram"
           }
          ],
          "histogram2d": [
           {
            "colorbar": {
             "outlinewidth": 0,
             "ticks": ""
            },
            "colorscale": [
             [
              0,
              "#0d0887"
             ],
             [
              0.1111111111111111,
              "#46039f"
             ],
             [
              0.2222222222222222,
              "#7201a8"
             ],
             [
              0.3333333333333333,
              "#9c179e"
             ],
             [
              0.4444444444444444,
              "#bd3786"
             ],
             [
              0.5555555555555556,
              "#d8576b"
             ],
             [
              0.6666666666666666,
              "#ed7953"
             ],
             [
              0.7777777777777778,
              "#fb9f3a"
             ],
             [
              0.8888888888888888,
              "#fdca26"
             ],
             [
              1,
              "#f0f921"
             ]
            ],
            "type": "histogram2d"
           }
          ],
          "histogram2dcontour": [
           {
            "colorbar": {
             "outlinewidth": 0,
             "ticks": ""
            },
            "colorscale": [
             [
              0,
              "#0d0887"
             ],
             [
              0.1111111111111111,
              "#46039f"
             ],
             [
              0.2222222222222222,
              "#7201a8"
             ],
             [
              0.3333333333333333,
              "#9c179e"
             ],
             [
              0.4444444444444444,
              "#bd3786"
             ],
             [
              0.5555555555555556,
              "#d8576b"
             ],
             [
              0.6666666666666666,
              "#ed7953"
             ],
             [
              0.7777777777777778,
              "#fb9f3a"
             ],
             [
              0.8888888888888888,
              "#fdca26"
             ],
             [
              1,
              "#f0f921"
             ]
            ],
            "type": "histogram2dcontour"
           }
          ],
          "mesh3d": [
           {
            "colorbar": {
             "outlinewidth": 0,
             "ticks": ""
            },
            "type": "mesh3d"
           }
          ],
          "parcoords": [
           {
            "line": {
             "colorbar": {
              "outlinewidth": 0,
              "ticks": ""
             }
            },
            "type": "parcoords"
           }
          ],
          "pie": [
           {
            "automargin": true,
            "type": "pie"
           }
          ],
          "scatter": [
           {
            "fillpattern": {
             "fillmode": "overlay",
             "size": 10,
             "solidity": 0.2
            },
            "type": "scatter"
           }
          ],
          "scatter3d": [
           {
            "line": {
             "colorbar": {
              "outlinewidth": 0,
              "ticks": ""
             }
            },
            "marker": {
             "colorbar": {
              "outlinewidth": 0,
              "ticks": ""
             }
            },
            "type": "scatter3d"
           }
          ],
          "scattercarpet": [
           {
            "marker": {
             "colorbar": {
              "outlinewidth": 0,
              "ticks": ""
             }
            },
            "type": "scattercarpet"
           }
          ],
          "scattergeo": [
           {
            "marker": {
             "colorbar": {
              "outlinewidth": 0,
              "ticks": ""
             }
            },
            "type": "scattergeo"
           }
          ],
          "scattergl": [
           {
            "marker": {
             "colorbar": {
              "outlinewidth": 0,
              "ticks": ""
             }
            },
            "type": "scattergl"
           }
          ],
          "scattermapbox": [
           {
            "marker": {
             "colorbar": {
              "outlinewidth": 0,
              "ticks": ""
             }
            },
            "type": "scattermapbox"
           }
          ],
          "scatterpolar": [
           {
            "marker": {
             "colorbar": {
              "outlinewidth": 0,
              "ticks": ""
             }
            },
            "type": "scatterpolar"
           }
          ],
          "scatterpolargl": [
           {
            "marker": {
             "colorbar": {
              "outlinewidth": 0,
              "ticks": ""
             }
            },
            "type": "scatterpolargl"
           }
          ],
          "scatterternary": [
           {
            "marker": {
             "colorbar": {
              "outlinewidth": 0,
              "ticks": ""
             }
            },
            "type": "scatterternary"
           }
          ],
          "surface": [
           {
            "colorbar": {
             "outlinewidth": 0,
             "ticks": ""
            },
            "colorscale": [
             [
              0,
              "#0d0887"
             ],
             [
              0.1111111111111111,
              "#46039f"
             ],
             [
              0.2222222222222222,
              "#7201a8"
             ],
             [
              0.3333333333333333,
              "#9c179e"
             ],
             [
              0.4444444444444444,
              "#bd3786"
             ],
             [
              0.5555555555555556,
              "#d8576b"
             ],
             [
              0.6666666666666666,
              "#ed7953"
             ],
             [
              0.7777777777777778,
              "#fb9f3a"
             ],
             [
              0.8888888888888888,
              "#fdca26"
             ],
             [
              1,
              "#f0f921"
             ]
            ],
            "type": "surface"
           }
          ],
          "table": [
           {
            "cells": {
             "fill": {
              "color": "#EBF0F8"
             },
             "line": {
              "color": "white"
             }
            },
            "header": {
             "fill": {
              "color": "#C8D4E3"
             },
             "line": {
              "color": "white"
             }
            },
            "type": "table"
           }
          ]
         },
         "layout": {
          "annotationdefaults": {
           "arrowcolor": "#2a3f5f",
           "arrowhead": 0,
           "arrowwidth": 1
          },
          "autotypenumbers": "strict",
          "coloraxis": {
           "colorbar": {
            "outlinewidth": 0,
            "ticks": ""
           }
          },
          "colorscale": {
           "diverging": [
            [
             0,
             "#8e0152"
            ],
            [
             0.1,
             "#c51b7d"
            ],
            [
             0.2,
             "#de77ae"
            ],
            [
             0.3,
             "#f1b6da"
            ],
            [
             0.4,
             "#fde0ef"
            ],
            [
             0.5,
             "#f7f7f7"
            ],
            [
             0.6,
             "#e6f5d0"
            ],
            [
             0.7,
             "#b8e186"
            ],
            [
             0.8,
             "#7fbc41"
            ],
            [
             0.9,
             "#4d9221"
            ],
            [
             1,
             "#276419"
            ]
           ],
           "sequential": [
            [
             0,
             "#0d0887"
            ],
            [
             0.1111111111111111,
             "#46039f"
            ],
            [
             0.2222222222222222,
             "#7201a8"
            ],
            [
             0.3333333333333333,
             "#9c179e"
            ],
            [
             0.4444444444444444,
             "#bd3786"
            ],
            [
             0.5555555555555556,
             "#d8576b"
            ],
            [
             0.6666666666666666,
             "#ed7953"
            ],
            [
             0.7777777777777778,
             "#fb9f3a"
            ],
            [
             0.8888888888888888,
             "#fdca26"
            ],
            [
             1,
             "#f0f921"
            ]
           ],
           "sequentialminus": [
            [
             0,
             "#0d0887"
            ],
            [
             0.1111111111111111,
             "#46039f"
            ],
            [
             0.2222222222222222,
             "#7201a8"
            ],
            [
             0.3333333333333333,
             "#9c179e"
            ],
            [
             0.4444444444444444,
             "#bd3786"
            ],
            [
             0.5555555555555556,
             "#d8576b"
            ],
            [
             0.6666666666666666,
             "#ed7953"
            ],
            [
             0.7777777777777778,
             "#fb9f3a"
            ],
            [
             0.8888888888888888,
             "#fdca26"
            ],
            [
             1,
             "#f0f921"
            ]
           ]
          },
          "colorway": [
           "#636efa",
           "#EF553B",
           "#00cc96",
           "#ab63fa",
           "#FFA15A",
           "#19d3f3",
           "#FF6692",
           "#B6E880",
           "#FF97FF",
           "#FECB52"
          ],
          "font": {
           "color": "#2a3f5f"
          },
          "geo": {
           "bgcolor": "white",
           "lakecolor": "white",
           "landcolor": "#E5ECF6",
           "showlakes": true,
           "showland": true,
           "subunitcolor": "white"
          },
          "hoverlabel": {
           "align": "left"
          },
          "hovermode": "closest",
          "mapbox": {
           "style": "light"
          },
          "paper_bgcolor": "white",
          "plot_bgcolor": "#E5ECF6",
          "polar": {
           "angularaxis": {
            "gridcolor": "white",
            "linecolor": "white",
            "ticks": ""
           },
           "bgcolor": "#E5ECF6",
           "radialaxis": {
            "gridcolor": "white",
            "linecolor": "white",
            "ticks": ""
           }
          },
          "scene": {
           "xaxis": {
            "backgroundcolor": "#E5ECF6",
            "gridcolor": "white",
            "gridwidth": 2,
            "linecolor": "white",
            "showbackground": true,
            "ticks": "",
            "zerolinecolor": "white"
           },
           "yaxis": {
            "backgroundcolor": "#E5ECF6",
            "gridcolor": "white",
            "gridwidth": 2,
            "linecolor": "white",
            "showbackground": true,
            "ticks": "",
            "zerolinecolor": "white"
           },
           "zaxis": {
            "backgroundcolor": "#E5ECF6",
            "gridcolor": "white",
            "gridwidth": 2,
            "linecolor": "white",
            "showbackground": true,
            "ticks": "",
            "zerolinecolor": "white"
           }
          },
          "shapedefaults": {
           "line": {
            "color": "#2a3f5f"
           }
          },
          "ternary": {
           "aaxis": {
            "gridcolor": "white",
            "linecolor": "white",
            "ticks": ""
           },
           "baxis": {
            "gridcolor": "white",
            "linecolor": "white",
            "ticks": ""
           },
           "bgcolor": "#E5ECF6",
           "caxis": {
            "gridcolor": "white",
            "linecolor": "white",
            "ticks": ""
           }
          },
          "title": {
           "x": 0.05
          },
          "xaxis": {
           "automargin": true,
           "gridcolor": "white",
           "linecolor": "white",
           "ticks": "",
           "title": {
            "standoff": 15
           },
           "zerolinecolor": "white",
           "zerolinewidth": 2
          },
          "yaxis": {
           "automargin": true,
           "gridcolor": "white",
           "linecolor": "white",
           "ticks": "",
           "title": {
            "standoff": 15
           },
           "zerolinecolor": "white",
           "zerolinewidth": 2
          }
         }
        },
        "title": {
         "text": "Distance Matrix for Depths sorted by cluster"
        },
        "xaxis": {
         "anchor": "y",
         "constrain": "domain",
         "domain": [
          0,
          1
         ],
         "scaleanchor": "y"
        },
        "yaxis": {
         "anchor": "x",
         "autorange": "reversed",
         "constrain": "domain",
         "domain": [
          0,
          1
         ]
        }
       }
      }
     },
     "metadata": {},
     "output_type": "display_data"
    },
    {
     "data": {
      "application/vnd.plotly.v1+json": {
       "config": {
        "plotlyServerURL": "https://plot.ly"
       },
       "data": [
        {
         "colorbar": {
          "ticktext": [
           "",
           ""
          ],
          "tickvals": [
           0.25,
           0.75
          ]
         },
         "colorscale": [
          [
           0,
           "rgb(255,255,255)"
          ],
          [
           0.01,
           "rgb(234, 172, 139)"
          ],
          [
           0.5,
           "rgb(181, 101, 118)"
          ],
          [
           1,
           "rgb(53, 80, 112)"
          ]
         ],
         "showlegend": false,
         "transpose": true,
         "type": "heatmap",
         "x": [
          "Aetomylaeus bovinus",
          "Mustelus punctulatus",
          "Dasyatis pastinaca",
          "Bathyraja brachyurops",
          "Torpedo torpedo",
          "Leucoraja fullonica",
          "Leucoraja naevus",
          "Mustelus asterias",
          "Mustelus mustelus",
          "Pteroplatytrygon violacea",
          "Raja brachyura",
          "Raja montagui",
          "Raja polystigma",
          "Raja radula",
          "Scyliorhinus stellaris",
          "Myliobatis aquila",
          "Raja asterias",
          "Hexanchus griseus",
          "Heptranchias perlo",
          "Leucoraja melitensis",
          "Galeus melastomus",
          "Etmopterus spinax",
          "Torpedo marmorata",
          "Oxynotus centrina",
          "Dalatias licha",
          "Squalus acanthias",
          "Raja miraletus",
          "Chimaera monstrosa",
          "Centrophorus uyato",
          "Centrophorus granulosus",
          "Rostroraja alba",
          "Scyliorhinus canicula",
          "Squalus blainville",
          "Tetronarce nobiliana",
          "Raja clavata",
          "Dipturus oxyrinchus",
          "Dipturus batis",
          "Leucoraja circularis"
         ],
         "y": [
          "500-800m",
          "200-500m",
          "100-200m",
          "50-100m",
          "10-50m"
         ],
         "z": [
          [
           0,
           0,
           1,
           1,
           1
          ],
          [
           0,
           0,
           1,
           1,
           1
          ],
          [
           0,
           2,
           2,
           2,
           2
          ],
          [
           0,
           2,
           2,
           2,
           0
          ],
          [
           0,
           2,
           2,
           2,
           2
          ],
          [
           0,
           2,
           2,
           2,
           2
          ],
          [
           0,
           2,
           2,
           2,
           2
          ],
          [
           0,
           2,
           2,
           2,
           2
          ],
          [
           0,
           2,
           2,
           2,
           2
          ],
          [
           0,
           2,
           2,
           2,
           2
          ],
          [
           0,
           2,
           2,
           2,
           2
          ],
          [
           0,
           2,
           2,
           2,
           2
          ],
          [
           0,
           2,
           2,
           2,
           2
          ],
          [
           0,
           2,
           2,
           2,
           2
          ],
          [
           0,
           2,
           2,
           2,
           2
          ],
          [
           0,
           2,
           2,
           2,
           2
          ],
          [
           3,
           3,
           3,
           3,
           3
          ],
          [
           3,
           3,
           3,
           3,
           3
          ],
          [
           3,
           3,
           3,
           3,
           3
          ],
          [
           3,
           3,
           3,
           3,
           3
          ],
          [
           3,
           3,
           3,
           3,
           0
          ],
          [
           3,
           3,
           3,
           3,
           0
          ],
          [
           3,
           3,
           3,
           3,
           3
          ],
          [
           3,
           3,
           3,
           3,
           0
          ],
          [
           3,
           3,
           3,
           3,
           3
          ],
          [
           3,
           3,
           3,
           3,
           3
          ],
          [
           3,
           3,
           3,
           3,
           3
          ],
          [
           3,
           3,
           3,
           3,
           0
          ],
          [
           3,
           3,
           3,
           3,
           0
          ],
          [
           3,
           3,
           3,
           3,
           0
          ],
          [
           3,
           3,
           3,
           3,
           3
          ],
          [
           3,
           3,
           3,
           3,
           3
          ],
          [
           3,
           3,
           3,
           3,
           3
          ],
          [
           3,
           3,
           3,
           3,
           3
          ],
          [
           3,
           3,
           3,
           3,
           3
          ],
          [
           4,
           4,
           4,
           0,
           0
          ],
          [
           4,
           4,
           4,
           0,
           0
          ],
          [
           4,
           4,
           4,
           0,
           0
          ]
         ]
        }
       ],
       "layout": {
        "template": {
         "data": {
          "bar": [
           {
            "error_x": {
             "color": "#2a3f5f"
            },
            "error_y": {
             "color": "#2a3f5f"
            },
            "marker": {
             "line": {
              "color": "#E5ECF6",
              "width": 0.5
             },
             "pattern": {
              "fillmode": "overlay",
              "size": 10,
              "solidity": 0.2
             }
            },
            "type": "bar"
           }
          ],
          "barpolar": [
           {
            "marker": {
             "line": {
              "color": "#E5ECF6",
              "width": 0.5
             },
             "pattern": {
              "fillmode": "overlay",
              "size": 10,
              "solidity": 0.2
             }
            },
            "type": "barpolar"
           }
          ],
          "carpet": [
           {
            "aaxis": {
             "endlinecolor": "#2a3f5f",
             "gridcolor": "white",
             "linecolor": "white",
             "minorgridcolor": "white",
             "startlinecolor": "#2a3f5f"
            },
            "baxis": {
             "endlinecolor": "#2a3f5f",
             "gridcolor": "white",
             "linecolor": "white",
             "minorgridcolor": "white",
             "startlinecolor": "#2a3f5f"
            },
            "type": "carpet"
           }
          ],
          "choropleth": [
           {
            "colorbar": {
             "outlinewidth": 0,
             "ticks": ""
            },
            "type": "choropleth"
           }
          ],
          "contour": [
           {
            "colorbar": {
             "outlinewidth": 0,
             "ticks": ""
            },
            "colorscale": [
             [
              0,
              "#0d0887"
             ],
             [
              0.1111111111111111,
              "#46039f"
             ],
             [
              0.2222222222222222,
              "#7201a8"
             ],
             [
              0.3333333333333333,
              "#9c179e"
             ],
             [
              0.4444444444444444,
              "#bd3786"
             ],
             [
              0.5555555555555556,
              "#d8576b"
             ],
             [
              0.6666666666666666,
              "#ed7953"
             ],
             [
              0.7777777777777778,
              "#fb9f3a"
             ],
             [
              0.8888888888888888,
              "#fdca26"
             ],
             [
              1,
              "#f0f921"
             ]
            ],
            "type": "contour"
           }
          ],
          "contourcarpet": [
           {
            "colorbar": {
             "outlinewidth": 0,
             "ticks": ""
            },
            "type": "contourcarpet"
           }
          ],
          "heatmap": [
           {
            "colorbar": {
             "outlinewidth": 0,
             "ticks": ""
            },
            "colorscale": [
             [
              0,
              "#0d0887"
             ],
             [
              0.1111111111111111,
              "#46039f"
             ],
             [
              0.2222222222222222,
              "#7201a8"
             ],
             [
              0.3333333333333333,
              "#9c179e"
             ],
             [
              0.4444444444444444,
              "#bd3786"
             ],
             [
              0.5555555555555556,
              "#d8576b"
             ],
             [
              0.6666666666666666,
              "#ed7953"
             ],
             [
              0.7777777777777778,
              "#fb9f3a"
             ],
             [
              0.8888888888888888,
              "#fdca26"
             ],
             [
              1,
              "#f0f921"
             ]
            ],
            "type": "heatmap"
           }
          ],
          "heatmapgl": [
           {
            "colorbar": {
             "outlinewidth": 0,
             "ticks": ""
            },
            "colorscale": [
             [
              0,
              "#0d0887"
             ],
             [
              0.1111111111111111,
              "#46039f"
             ],
             [
              0.2222222222222222,
              "#7201a8"
             ],
             [
              0.3333333333333333,
              "#9c179e"
             ],
             [
              0.4444444444444444,
              "#bd3786"
             ],
             [
              0.5555555555555556,
              "#d8576b"
             ],
             [
              0.6666666666666666,
              "#ed7953"
             ],
             [
              0.7777777777777778,
              "#fb9f3a"
             ],
             [
              0.8888888888888888,
              "#fdca26"
             ],
             [
              1,
              "#f0f921"
             ]
            ],
            "type": "heatmapgl"
           }
          ],
          "histogram": [
           {
            "marker": {
             "pattern": {
              "fillmode": "overlay",
              "size": 10,
              "solidity": 0.2
             }
            },
            "type": "histogram"
           }
          ],
          "histogram2d": [
           {
            "colorbar": {
             "outlinewidth": 0,
             "ticks": ""
            },
            "colorscale": [
             [
              0,
              "#0d0887"
             ],
             [
              0.1111111111111111,
              "#46039f"
             ],
             [
              0.2222222222222222,
              "#7201a8"
             ],
             [
              0.3333333333333333,
              "#9c179e"
             ],
             [
              0.4444444444444444,
              "#bd3786"
             ],
             [
              0.5555555555555556,
              "#d8576b"
             ],
             [
              0.6666666666666666,
              "#ed7953"
             ],
             [
              0.7777777777777778,
              "#fb9f3a"
             ],
             [
              0.8888888888888888,
              "#fdca26"
             ],
             [
              1,
              "#f0f921"
             ]
            ],
            "type": "histogram2d"
           }
          ],
          "histogram2dcontour": [
           {
            "colorbar": {
             "outlinewidth": 0,
             "ticks": ""
            },
            "colorscale": [
             [
              0,
              "#0d0887"
             ],
             [
              0.1111111111111111,
              "#46039f"
             ],
             [
              0.2222222222222222,
              "#7201a8"
             ],
             [
              0.3333333333333333,
              "#9c179e"
             ],
             [
              0.4444444444444444,
              "#bd3786"
             ],
             [
              0.5555555555555556,
              "#d8576b"
             ],
             [
              0.6666666666666666,
              "#ed7953"
             ],
             [
              0.7777777777777778,
              "#fb9f3a"
             ],
             [
              0.8888888888888888,
              "#fdca26"
             ],
             [
              1,
              "#f0f921"
             ]
            ],
            "type": "histogram2dcontour"
           }
          ],
          "mesh3d": [
           {
            "colorbar": {
             "outlinewidth": 0,
             "ticks": ""
            },
            "type": "mesh3d"
           }
          ],
          "parcoords": [
           {
            "line": {
             "colorbar": {
              "outlinewidth": 0,
              "ticks": ""
             }
            },
            "type": "parcoords"
           }
          ],
          "pie": [
           {
            "automargin": true,
            "type": "pie"
           }
          ],
          "scatter": [
           {
            "fillpattern": {
             "fillmode": "overlay",
             "size": 10,
             "solidity": 0.2
            },
            "type": "scatter"
           }
          ],
          "scatter3d": [
           {
            "line": {
             "colorbar": {
              "outlinewidth": 0,
              "ticks": ""
             }
            },
            "marker": {
             "colorbar": {
              "outlinewidth": 0,
              "ticks": ""
             }
            },
            "type": "scatter3d"
           }
          ],
          "scattercarpet": [
           {
            "marker": {
             "colorbar": {
              "outlinewidth": 0,
              "ticks": ""
             }
            },
            "type": "scattercarpet"
           }
          ],
          "scattergeo": [
           {
            "marker": {
             "colorbar": {
              "outlinewidth": 0,
              "ticks": ""
             }
            },
            "type": "scattergeo"
           }
          ],
          "scattergl": [
           {
            "marker": {
             "colorbar": {
              "outlinewidth": 0,
              "ticks": ""
             }
            },
            "type": "scattergl"
           }
          ],
          "scattermapbox": [
           {
            "marker": {
             "colorbar": {
              "outlinewidth": 0,
              "ticks": ""
             }
            },
            "type": "scattermapbox"
           }
          ],
          "scatterpolar": [
           {
            "marker": {
             "colorbar": {
              "outlinewidth": 0,
              "ticks": ""
             }
            },
            "type": "scatterpolar"
           }
          ],
          "scatterpolargl": [
           {
            "marker": {
             "colorbar": {
              "outlinewidth": 0,
              "ticks": ""
             }
            },
            "type": "scatterpolargl"
           }
          ],
          "scatterternary": [
           {
            "marker": {
             "colorbar": {
              "outlinewidth": 0,
              "ticks": ""
             }
            },
            "type": "scatterternary"
           }
          ],
          "surface": [
           {
            "colorbar": {
             "outlinewidth": 0,
             "ticks": ""
            },
            "colorscale": [
             [
              0,
              "#0d0887"
             ],
             [
              0.1111111111111111,
              "#46039f"
             ],
             [
              0.2222222222222222,
              "#7201a8"
             ],
             [
              0.3333333333333333,
              "#9c179e"
             ],
             [
              0.4444444444444444,
              "#bd3786"
             ],
             [
              0.5555555555555556,
              "#d8576b"
             ],
             [
              0.6666666666666666,
              "#ed7953"
             ],
             [
              0.7777777777777778,
              "#fb9f3a"
             ],
             [
              0.8888888888888888,
              "#fdca26"
             ],
             [
              1,
              "#f0f921"
             ]
            ],
            "type": "surface"
           }
          ],
          "table": [
           {
            "cells": {
             "fill": {
              "color": "#EBF0F8"
             },
             "line": {
              "color": "white"
             }
            },
            "header": {
             "fill": {
              "color": "#C8D4E3"
             },
             "line": {
              "color": "white"
             }
            },
            "type": "table"
           }
          ]
         },
         "layout": {
          "annotationdefaults": {
           "arrowcolor": "#2a3f5f",
           "arrowhead": 0,
           "arrowwidth": 1
          },
          "autotypenumbers": "strict",
          "coloraxis": {
           "colorbar": {
            "outlinewidth": 0,
            "ticks": ""
           }
          },
          "colorscale": {
           "diverging": [
            [
             0,
             "#8e0152"
            ],
            [
             0.1,
             "#c51b7d"
            ],
            [
             0.2,
             "#de77ae"
            ],
            [
             0.3,
             "#f1b6da"
            ],
            [
             0.4,
             "#fde0ef"
            ],
            [
             0.5,
             "#f7f7f7"
            ],
            [
             0.6,
             "#e6f5d0"
            ],
            [
             0.7,
             "#b8e186"
            ],
            [
             0.8,
             "#7fbc41"
            ],
            [
             0.9,
             "#4d9221"
            ],
            [
             1,
             "#276419"
            ]
           ],
           "sequential": [
            [
             0,
             "#0d0887"
            ],
            [
             0.1111111111111111,
             "#46039f"
            ],
            [
             0.2222222222222222,
             "#7201a8"
            ],
            [
             0.3333333333333333,
             "#9c179e"
            ],
            [
             0.4444444444444444,
             "#bd3786"
            ],
            [
             0.5555555555555556,
             "#d8576b"
            ],
            [
             0.6666666666666666,
             "#ed7953"
            ],
            [
             0.7777777777777778,
             "#fb9f3a"
            ],
            [
             0.8888888888888888,
             "#fdca26"
            ],
            [
             1,
             "#f0f921"
            ]
           ],
           "sequentialminus": [
            [
             0,
             "#0d0887"
            ],
            [
             0.1111111111111111,
             "#46039f"
            ],
            [
             0.2222222222222222,
             "#7201a8"
            ],
            [
             0.3333333333333333,
             "#9c179e"
            ],
            [
             0.4444444444444444,
             "#bd3786"
            ],
            [
             0.5555555555555556,
             "#d8576b"
            ],
            [
             0.6666666666666666,
             "#ed7953"
            ],
            [
             0.7777777777777778,
             "#fb9f3a"
            ],
            [
             0.8888888888888888,
             "#fdca26"
            ],
            [
             1,
             "#f0f921"
            ]
           ]
          },
          "colorway": [
           "#636efa",
           "#EF553B",
           "#00cc96",
           "#ab63fa",
           "#FFA15A",
           "#19d3f3",
           "#FF6692",
           "#B6E880",
           "#FF97FF",
           "#FECB52"
          ],
          "font": {
           "color": "#2a3f5f"
          },
          "geo": {
           "bgcolor": "white",
           "lakecolor": "white",
           "landcolor": "#E5ECF6",
           "showlakes": true,
           "showland": true,
           "subunitcolor": "white"
          },
          "hoverlabel": {
           "align": "left"
          },
          "hovermode": "closest",
          "mapbox": {
           "style": "light"
          },
          "paper_bgcolor": "white",
          "plot_bgcolor": "#E5ECF6",
          "polar": {
           "angularaxis": {
            "gridcolor": "white",
            "linecolor": "white",
            "ticks": ""
           },
           "bgcolor": "#E5ECF6",
           "radialaxis": {
            "gridcolor": "white",
            "linecolor": "white",
            "ticks": ""
           }
          },
          "scene": {
           "xaxis": {
            "backgroundcolor": "#E5ECF6",
            "gridcolor": "white",
            "gridwidth": 2,
            "linecolor": "white",
            "showbackground": true,
            "ticks": "",
            "zerolinecolor": "white"
           },
           "yaxis": {
            "backgroundcolor": "#E5ECF6",
            "gridcolor": "white",
            "gridwidth": 2,
            "linecolor": "white",
            "showbackground": true,
            "ticks": "",
            "zerolinecolor": "white"
           },
           "zaxis": {
            "backgroundcolor": "#E5ECF6",
            "gridcolor": "white",
            "gridwidth": 2,
            "linecolor": "white",
            "showbackground": true,
            "ticks": "",
            "zerolinecolor": "white"
           }
          },
          "shapedefaults": {
           "line": {
            "color": "#2a3f5f"
           }
          },
          "ternary": {
           "aaxis": {
            "gridcolor": "white",
            "linecolor": "white",
            "ticks": ""
           },
           "baxis": {
            "gridcolor": "white",
            "linecolor": "white",
            "ticks": ""
           },
           "bgcolor": "#E5ECF6",
           "caxis": {
            "gridcolor": "white",
            "linecolor": "white",
            "ticks": ""
           }
          },
          "title": {
           "x": 0.05
          },
          "xaxis": {
           "automargin": true,
           "gridcolor": "white",
           "linecolor": "white",
           "ticks": "",
           "title": {
            "standoff": 15
           },
           "zerolinecolor": "white",
           "zerolinewidth": 2
          },
          "yaxis": {
           "automargin": true,
           "gridcolor": "white",
           "linecolor": "white",
           "ticks": "",
           "title": {
            "standoff": 15
           },
           "zerolinecolor": "white",
           "zerolinewidth": 2
          }
         }
        },
        "title": {
         "text": "Clusters based on depth"
        }
       }
      }
     },
     "metadata": {},
     "output_type": "display_data"
    }
   ],
   "source": [
    "## Calculating coincidence matrix and distance for depths between sharks\n",
    "depth_coincidence_matrix = calc_coincidence_matrix(depth_df.values)\n",
    "depth_distance_matrix = calc_metric_distance(depth_coincidence_matrix)\n",
    "\n",
    "#plot the distance matrix unsorted\n",
    "fig0 = px.imshow(depth_distance_matrix, title='Distance Matrix for Depths (alphabetical order)', x=depth_df.index, y=depth_df.index, color_continuous_scale=cont_scale)\n",
    "fig0.show()\n",
    "\n",
    "## plotting dendrogram and assinging clusters to Depth Cluster column in df\n",
    "depth_threshold = 0.48\n",
    "depth_df['Depth Cluster'] = plot_dendro(depth_df, 'average', depth_threshold, 'Hierarchical clustering for depth data', offset=0.1)\n",
    "\n",
    "#plotting sorted distance matrix\n",
    "depth_df = depth_df.sort_values('Depth Cluster')\n",
    "sorted_depth_distance = calc_metric_distance(calc_coincidence_matrix(depth_df.drop(columns='Depth Cluster').values))\n",
    "fig2 = px.imshow(sorted_depth_distance, title='Distance Matrix for Depths sorted by cluster', x=depth_df.index, y=depth_df.index, color_continuous_scale=cont_scale)\n",
    "fig2.show()\n",
    "\n",
    "## plotting the clustered heatmap\n",
    "z_matrix = calc_z_matrix(depth_df, 'Depth Cluster')\n",
    "plot_clustered_heatmap(z_matrix, xticks=depth_df.index, yticks=depth_df.drop(columns='Depth Cluster').columns, transpose=True, title='Clusters based on depth', )\n",
    "\n"
   ]
  },
  {
   "cell_type": "markdown",
   "metadata": {},
   "source": [
    "___ \n",
    "# Diet Clustering\n",
    "### Data preparation\n",
    "* In Fishbase the difference between 'Other benthonic invertebrates' and 'benthonic crustacean' is somewhat conventional and strongly affected by the operator who carried out the identification. To avoid possible bias in the following analysis the 2 categories will be merged together in a single category _'benthonic invertebrates'_\n",
    "* The same ambiguity relies in 'other plank. invertebrates' and 'plank crust.', thus these categories have been merged too\n",
    "* 'other' and 'other plants' do not appear to be informative"
   ]
  },
  {
   "cell_type": "code",
   "execution_count": 272,
   "metadata": {},
   "outputs": [],
   "source": [
    "diet_df.drop(columns=['others', 'other plants', 'fish (early stages)'], inplace=True)\n",
    "\n",
    "newplank = [max(diet_df[['plank. crust.', 'other plank. invertebrates']].loc[i].tolist()) for i in range(len(diet_df))]\n",
    "diet_df['plank. invertebrates'] = newplank\n",
    "\n",
    "newbenth = [max(diet_df[['benth. crust.', 'other benth. invertebrates']].loc[i].tolist()) for i in range(len(diet_df))]\n",
    "diet_df['benth. invertebrates'] = newbenth\n",
    "diet_df.drop(columns=['benth. crust.', 'other benth. invertebrates', 'insects', 'birds', 'mammals'], inplace=True) #delete uncertain diet item\n",
    "diet_df = diet_df.set_index('Species')"
   ]
  },
  {
   "cell_type": "code",
   "execution_count": 273,
   "metadata": {},
   "outputs": [
    {
     "data": {
      "application/vnd.plotly.v1+json": {
       "config": {
        "plotlyServerURL": "https://plot.ly"
       },
       "data": [
        {
         "colorbar": {
          "ticktext": [
           "0",
           "1"
          ],
          "tickvals": [
           0.25,
           0.75
          ]
         },
         "colorscale": [
          [
           0,
           "rgba(255,255,255,0)"
          ],
          [
           0.5,
           "rgba(255,255,255,0)"
          ],
          [
           0.5,
           "rgb(102, 197, 204)"
          ],
          [
           1,
           "rgb(102, 197, 204)"
          ]
         ],
         "showscale": false,
         "transpose": true,
         "type": "heatmap",
         "x": [
          "Aetomylaeus bovinus",
          "Bathyraja brachyurops",
          "Centrophorus granulosus",
          "Centrophorus uyato",
          "Chimaera monstrosa",
          "Dalatias licha",
          "Dasyatis pastinaca",
          "Dipturus batis",
          "Dipturus oxyrinchus",
          "Etmopterus spinax",
          "Galeus melastomus",
          "Heptranchias perlo",
          "Hexanchus griseus",
          "Leucoraja circularis",
          "Leucoraja fullonica",
          "Leucoraja melitensis",
          "Leucoraja naevus",
          "Mustelus asterias",
          "Mustelus mustelus",
          "Mustelus punctulatus",
          "Myliobatis aquila",
          "Oxynotus centrina",
          "Pteroplatytrygon violacea",
          "Raja asterias",
          "Raja brachyura",
          "Raja clavata",
          "Raja miraletus",
          "Raja montagui",
          "Raja polystigma",
          "Raja radula",
          "Rostroraja alba",
          "Scyliorhinus canicula",
          "Scyliorhinus stellaris",
          "Squalus acanthias",
          "Squalus blainville",
          "Tetronarce nobiliana",
          "Torpedo marmorata",
          "Torpedo torpedo"
         ],
         "y": [
          "cephalopods",
          "cnidarians",
          "detritus",
          "echinoderms",
          "finfish",
          "jellyfish/hydroids",
          "mollusks",
          "other plank. invertebrates",
          "plank. crust.",
          "sponges/tunicates",
          "worms",
          "plank. invertebrates",
          "benth. invertebrates"
         ],
         "z": [
          [
           1,
           0,
           0,
           0,
           1,
           0,
           1,
           0,
           0,
           0,
           0,
           0,
           1
          ],
          [
           1,
           0,
           0,
           0,
           1,
           0,
           1,
           0,
           1,
           0,
           1,
           1,
           1
          ],
          [
           1,
           0,
           0,
           0,
           1,
           0,
           1,
           0,
           0,
           0,
           0,
           0,
           1
          ],
          [
           1,
           0,
           0,
           0,
           1,
           0,
           0,
           0,
           0,
           0,
           0,
           0,
           0
          ],
          [
           0,
           0,
           0,
           1,
           1,
           0,
           1,
           0,
           1,
           0,
           1,
           1,
           1
          ],
          [
           1,
           0,
           0,
           0,
           1,
           0,
           1,
           0,
           0,
           0,
           1,
           0,
           1
          ],
          [
           0,
           0,
           0,
           0,
           1,
           0,
           0,
           0,
           0,
           0,
           0,
           0,
           1
          ],
          [
           0,
           0,
           0,
           0,
           1,
           0,
           1,
           0,
           1,
           0,
           1,
           1,
           1
          ],
          [
           0,
           0,
           0,
           0,
           0,
           0,
           0,
           0,
           0,
           0,
           0,
           0,
           1
          ],
          [
           1,
           0,
           0,
           0,
           1,
           1,
           1,
           0,
           1,
           0,
           0,
           1,
           1
          ],
          [
           1,
           0,
           1,
           0,
           1,
           1,
           1,
           1,
           1,
           1,
           1,
           1,
           1
          ],
          [
           1,
           0,
           0,
           0,
           1,
           0,
           0,
           0,
           0,
           0,
           0,
           0,
           1
          ],
          [
           1,
           0,
           1,
           0,
           1,
           0,
           0,
           0,
           0,
           0,
           0,
           0,
           1
          ],
          [
           0,
           0,
           0,
           0,
           0,
           0,
           0,
           0,
           0,
           0,
           0,
           0,
           1
          ],
          [
           0,
           0,
           0,
           0,
           0,
           0,
           0,
           0,
           0,
           0,
           0,
           0,
           1
          ],
          [
           0,
           0,
           0,
           0,
           0,
           0,
           0,
           0,
           0,
           0,
           0,
           0,
           1
          ],
          [
           0,
           0,
           0,
           0,
           1,
           0,
           0,
           0,
           0,
           0,
           0,
           0,
           1
          ],
          [
           0,
           0,
           0,
           1,
           1,
           0,
           0,
           0,
           0,
           0,
           0,
           0,
           1
          ],
          [
           1,
           0,
           0,
           1,
           1,
           0,
           1,
           0,
           1,
           0,
           1,
           1,
           1
          ],
          [
           1,
           0,
           0,
           0,
           1,
           0,
           0,
           0,
           0,
           0,
           0,
           0,
           1
          ],
          [
           1,
           0,
           0,
           0,
           1,
           0,
           1,
           0,
           1,
           1,
           1,
           1,
           1
          ],
          [
           0,
           0,
           0,
           0,
           0,
           0,
           0,
           0,
           0,
           0,
           1,
           0,
           0
          ],
          [
           1,
           0,
           0,
           0,
           1,
           1,
           0,
           0,
           0,
           0,
           0,
           0,
           1
          ],
          [
           1,
           0,
           0,
           0,
           1,
           0,
           0,
           0,
           0,
           0,
           0,
           0,
           1
          ],
          [
           0,
           0,
           0,
           0,
           1,
           0,
           0,
           0,
           0,
           0,
           0,
           0,
           1
          ],
          [
           0,
           0,
           0,
           0,
           1,
           0,
           0,
           0,
           0,
           0,
           0,
           0,
           1
          ],
          [
           1,
           0,
           0,
           0,
           1,
           0,
           1,
           0,
           1,
           0,
           1,
           1,
           1
          ],
          [
           0,
           0,
           0,
           0,
           0,
           0,
           0,
           0,
           0,
           0,
           0,
           0,
           1
          ],
          [
           0,
           0,
           0,
           0,
           0,
           0,
           0,
           0,
           0,
           0,
           0,
           0,
           1
          ],
          [
           0,
           0,
           0,
           0,
           1,
           0,
           1,
           0,
           0,
           0,
           0,
           0,
           1
          ],
          [
           1,
           0,
           0,
           0,
           1,
           0,
           1,
           0,
           1,
           0,
           0,
           1,
           1
          ],
          [
           1,
           0,
           0,
           0,
           1,
           0,
           1,
           0,
           1,
           0,
           1,
           1,
           1
          ],
          [
           0,
           0,
           0,
           0,
           1,
           0,
           0,
           0,
           0,
           0,
           0,
           0,
           1
          ],
          [
           1,
           1,
           0,
           1,
           1,
           1,
           1,
           1,
           1,
           0,
           1,
           1,
           1
          ],
          [
           1,
           0,
           0,
           0,
           1,
           0,
           0,
           0,
           0,
           0,
           0,
           0,
           1
          ],
          [
           0,
           0,
           0,
           0,
           1,
           0,
           0,
           0,
           0,
           0,
           0,
           0,
           0
          ],
          [
           0,
           0,
           0,
           0,
           1,
           0,
           0,
           0,
           0,
           0,
           0,
           0,
           0
          ],
          [
           0,
           0,
           0,
           0,
           1,
           0,
           0,
           0,
           0,
           0,
           0,
           0,
           0
          ]
         ]
        }
       ],
       "layout": {
        "template": {
         "data": {
          "bar": [
           {
            "error_x": {
             "color": "#2a3f5f"
            },
            "error_y": {
             "color": "#2a3f5f"
            },
            "marker": {
             "line": {
              "color": "white",
              "width": 0.5
             },
             "pattern": {
              "fillmode": "overlay",
              "size": 10,
              "solidity": 0.2
             }
            },
            "type": "bar"
           }
          ],
          "barpolar": [
           {
            "marker": {
             "line": {
              "color": "white",
              "width": 0.5
             },
             "pattern": {
              "fillmode": "overlay",
              "size": 10,
              "solidity": 0.2
             }
            },
            "type": "barpolar"
           }
          ],
          "carpet": [
           {
            "aaxis": {
             "endlinecolor": "#2a3f5f",
             "gridcolor": "#C8D4E3",
             "linecolor": "#C8D4E3",
             "minorgridcolor": "#C8D4E3",
             "startlinecolor": "#2a3f5f"
            },
            "baxis": {
             "endlinecolor": "#2a3f5f",
             "gridcolor": "#C8D4E3",
             "linecolor": "#C8D4E3",
             "minorgridcolor": "#C8D4E3",
             "startlinecolor": "#2a3f5f"
            },
            "type": "carpet"
           }
          ],
          "choropleth": [
           {
            "colorbar": {
             "outlinewidth": 0,
             "ticks": ""
            },
            "type": "choropleth"
           }
          ],
          "contour": [
           {
            "colorbar": {
             "outlinewidth": 0,
             "ticks": ""
            },
            "colorscale": [
             [
              0,
              "#0d0887"
             ],
             [
              0.1111111111111111,
              "#46039f"
             ],
             [
              0.2222222222222222,
              "#7201a8"
             ],
             [
              0.3333333333333333,
              "#9c179e"
             ],
             [
              0.4444444444444444,
              "#bd3786"
             ],
             [
              0.5555555555555556,
              "#d8576b"
             ],
             [
              0.6666666666666666,
              "#ed7953"
             ],
             [
              0.7777777777777778,
              "#fb9f3a"
             ],
             [
              0.8888888888888888,
              "#fdca26"
             ],
             [
              1,
              "#f0f921"
             ]
            ],
            "type": "contour"
           }
          ],
          "contourcarpet": [
           {
            "colorbar": {
             "outlinewidth": 0,
             "ticks": ""
            },
            "type": "contourcarpet"
           }
          ],
          "heatmap": [
           {
            "colorbar": {
             "outlinewidth": 0,
             "ticks": ""
            },
            "colorscale": [
             [
              0,
              "#0d0887"
             ],
             [
              0.1111111111111111,
              "#46039f"
             ],
             [
              0.2222222222222222,
              "#7201a8"
             ],
             [
              0.3333333333333333,
              "#9c179e"
             ],
             [
              0.4444444444444444,
              "#bd3786"
             ],
             [
              0.5555555555555556,
              "#d8576b"
             ],
             [
              0.6666666666666666,
              "#ed7953"
             ],
             [
              0.7777777777777778,
              "#fb9f3a"
             ],
             [
              0.8888888888888888,
              "#fdca26"
             ],
             [
              1,
              "#f0f921"
             ]
            ],
            "type": "heatmap"
           }
          ],
          "heatmapgl": [
           {
            "colorbar": {
             "outlinewidth": 0,
             "ticks": ""
            },
            "colorscale": [
             [
              0,
              "#0d0887"
             ],
             [
              0.1111111111111111,
              "#46039f"
             ],
             [
              0.2222222222222222,
              "#7201a8"
             ],
             [
              0.3333333333333333,
              "#9c179e"
             ],
             [
              0.4444444444444444,
              "#bd3786"
             ],
             [
              0.5555555555555556,
              "#d8576b"
             ],
             [
              0.6666666666666666,
              "#ed7953"
             ],
             [
              0.7777777777777778,
              "#fb9f3a"
             ],
             [
              0.8888888888888888,
              "#fdca26"
             ],
             [
              1,
              "#f0f921"
             ]
            ],
            "type": "heatmapgl"
           }
          ],
          "histogram": [
           {
            "marker": {
             "pattern": {
              "fillmode": "overlay",
              "size": 10,
              "solidity": 0.2
             }
            },
            "type": "histogram"
           }
          ],
          "histogram2d": [
           {
            "colorbar": {
             "outlinewidth": 0,
             "ticks": ""
            },
            "colorscale": [
             [
              0,
              "#0d0887"
             ],
             [
              0.1111111111111111,
              "#46039f"
             ],
             [
              0.2222222222222222,
              "#7201a8"
             ],
             [
              0.3333333333333333,
              "#9c179e"
             ],
             [
              0.4444444444444444,
              "#bd3786"
             ],
             [
              0.5555555555555556,
              "#d8576b"
             ],
             [
              0.6666666666666666,
              "#ed7953"
             ],
             [
              0.7777777777777778,
              "#fb9f3a"
             ],
             [
              0.8888888888888888,
              "#fdca26"
             ],
             [
              1,
              "#f0f921"
             ]
            ],
            "type": "histogram2d"
           }
          ],
          "histogram2dcontour": [
           {
            "colorbar": {
             "outlinewidth": 0,
             "ticks": ""
            },
            "colorscale": [
             [
              0,
              "#0d0887"
             ],
             [
              0.1111111111111111,
              "#46039f"
             ],
             [
              0.2222222222222222,
              "#7201a8"
             ],
             [
              0.3333333333333333,
              "#9c179e"
             ],
             [
              0.4444444444444444,
              "#bd3786"
             ],
             [
              0.5555555555555556,
              "#d8576b"
             ],
             [
              0.6666666666666666,
              "#ed7953"
             ],
             [
              0.7777777777777778,
              "#fb9f3a"
             ],
             [
              0.8888888888888888,
              "#fdca26"
             ],
             [
              1,
              "#f0f921"
             ]
            ],
            "type": "histogram2dcontour"
           }
          ],
          "mesh3d": [
           {
            "colorbar": {
             "outlinewidth": 0,
             "ticks": ""
            },
            "type": "mesh3d"
           }
          ],
          "parcoords": [
           {
            "line": {
             "colorbar": {
              "outlinewidth": 0,
              "ticks": ""
             }
            },
            "type": "parcoords"
           }
          ],
          "pie": [
           {
            "automargin": true,
            "type": "pie"
           }
          ],
          "scatter": [
           {
            "fillpattern": {
             "fillmode": "overlay",
             "size": 10,
             "solidity": 0.2
            },
            "type": "scatter"
           }
          ],
          "scatter3d": [
           {
            "line": {
             "colorbar": {
              "outlinewidth": 0,
              "ticks": ""
             }
            },
            "marker": {
             "colorbar": {
              "outlinewidth": 0,
              "ticks": ""
             }
            },
            "type": "scatter3d"
           }
          ],
          "scattercarpet": [
           {
            "marker": {
             "colorbar": {
              "outlinewidth": 0,
              "ticks": ""
             }
            },
            "type": "scattercarpet"
           }
          ],
          "scattergeo": [
           {
            "marker": {
             "colorbar": {
              "outlinewidth": 0,
              "ticks": ""
             }
            },
            "type": "scattergeo"
           }
          ],
          "scattergl": [
           {
            "marker": {
             "colorbar": {
              "outlinewidth": 0,
              "ticks": ""
             }
            },
            "type": "scattergl"
           }
          ],
          "scattermapbox": [
           {
            "marker": {
             "colorbar": {
              "outlinewidth": 0,
              "ticks": ""
             }
            },
            "type": "scattermapbox"
           }
          ],
          "scatterpolar": [
           {
            "marker": {
             "colorbar": {
              "outlinewidth": 0,
              "ticks": ""
             }
            },
            "type": "scatterpolar"
           }
          ],
          "scatterpolargl": [
           {
            "marker": {
             "colorbar": {
              "outlinewidth": 0,
              "ticks": ""
             }
            },
            "type": "scatterpolargl"
           }
          ],
          "scatterternary": [
           {
            "marker": {
             "colorbar": {
              "outlinewidth": 0,
              "ticks": ""
             }
            },
            "type": "scatterternary"
           }
          ],
          "surface": [
           {
            "colorbar": {
             "outlinewidth": 0,
             "ticks": ""
            },
            "colorscale": [
             [
              0,
              "#0d0887"
             ],
             [
              0.1111111111111111,
              "#46039f"
             ],
             [
              0.2222222222222222,
              "#7201a8"
             ],
             [
              0.3333333333333333,
              "#9c179e"
             ],
             [
              0.4444444444444444,
              "#bd3786"
             ],
             [
              0.5555555555555556,
              "#d8576b"
             ],
             [
              0.6666666666666666,
              "#ed7953"
             ],
             [
              0.7777777777777778,
              "#fb9f3a"
             ],
             [
              0.8888888888888888,
              "#fdca26"
             ],
             [
              1,
              "#f0f921"
             ]
            ],
            "type": "surface"
           }
          ],
          "table": [
           {
            "cells": {
             "fill": {
              "color": "#EBF0F8"
             },
             "line": {
              "color": "white"
             }
            },
            "header": {
             "fill": {
              "color": "#C8D4E3"
             },
             "line": {
              "color": "white"
             }
            },
            "type": "table"
           }
          ]
         },
         "layout": {
          "annotationdefaults": {
           "arrowcolor": "#2a3f5f",
           "arrowhead": 0,
           "arrowwidth": 1
          },
          "autotypenumbers": "strict",
          "coloraxis": {
           "colorbar": {
            "outlinewidth": 0,
            "ticks": ""
           }
          },
          "colorscale": {
           "diverging": [
            [
             0,
             "#8e0152"
            ],
            [
             0.1,
             "#c51b7d"
            ],
            [
             0.2,
             "#de77ae"
            ],
            [
             0.3,
             "#f1b6da"
            ],
            [
             0.4,
             "#fde0ef"
            ],
            [
             0.5,
             "#f7f7f7"
            ],
            [
             0.6,
             "#e6f5d0"
            ],
            [
             0.7,
             "#b8e186"
            ],
            [
             0.8,
             "#7fbc41"
            ],
            [
             0.9,
             "#4d9221"
            ],
            [
             1,
             "#276419"
            ]
           ],
           "sequential": [
            [
             0,
             "#0d0887"
            ],
            [
             0.1111111111111111,
             "#46039f"
            ],
            [
             0.2222222222222222,
             "#7201a8"
            ],
            [
             0.3333333333333333,
             "#9c179e"
            ],
            [
             0.4444444444444444,
             "#bd3786"
            ],
            [
             0.5555555555555556,
             "#d8576b"
            ],
            [
             0.6666666666666666,
             "#ed7953"
            ],
            [
             0.7777777777777778,
             "#fb9f3a"
            ],
            [
             0.8888888888888888,
             "#fdca26"
            ],
            [
             1,
             "#f0f921"
            ]
           ],
           "sequentialminus": [
            [
             0,
             "#0d0887"
            ],
            [
             0.1111111111111111,
             "#46039f"
            ],
            [
             0.2222222222222222,
             "#7201a8"
            ],
            [
             0.3333333333333333,
             "#9c179e"
            ],
            [
             0.4444444444444444,
             "#bd3786"
            ],
            [
             0.5555555555555556,
             "#d8576b"
            ],
            [
             0.6666666666666666,
             "#ed7953"
            ],
            [
             0.7777777777777778,
             "#fb9f3a"
            ],
            [
             0.8888888888888888,
             "#fdca26"
            ],
            [
             1,
             "#f0f921"
            ]
           ]
          },
          "colorway": [
           "#636efa",
           "#EF553B",
           "#00cc96",
           "#ab63fa",
           "#FFA15A",
           "#19d3f3",
           "#FF6692",
           "#B6E880",
           "#FF97FF",
           "#FECB52"
          ],
          "font": {
           "color": "#2a3f5f"
          },
          "geo": {
           "bgcolor": "white",
           "lakecolor": "white",
           "landcolor": "white",
           "showlakes": true,
           "showland": true,
           "subunitcolor": "#C8D4E3"
          },
          "hoverlabel": {
           "align": "left"
          },
          "hovermode": "closest",
          "mapbox": {
           "style": "light"
          },
          "paper_bgcolor": "white",
          "plot_bgcolor": "white",
          "polar": {
           "angularaxis": {
            "gridcolor": "#EBF0F8",
            "linecolor": "#EBF0F8",
            "ticks": ""
           },
           "bgcolor": "white",
           "radialaxis": {
            "gridcolor": "#EBF0F8",
            "linecolor": "#EBF0F8",
            "ticks": ""
           }
          },
          "scene": {
           "xaxis": {
            "backgroundcolor": "white",
            "gridcolor": "#DFE8F3",
            "gridwidth": 2,
            "linecolor": "#EBF0F8",
            "showbackground": true,
            "ticks": "",
            "zerolinecolor": "#EBF0F8"
           },
           "yaxis": {
            "backgroundcolor": "white",
            "gridcolor": "#DFE8F3",
            "gridwidth": 2,
            "linecolor": "#EBF0F8",
            "showbackground": true,
            "ticks": "",
            "zerolinecolor": "#EBF0F8"
           },
           "zaxis": {
            "backgroundcolor": "white",
            "gridcolor": "#DFE8F3",
            "gridwidth": 2,
            "linecolor": "#EBF0F8",
            "showbackground": true,
            "ticks": "",
            "zerolinecolor": "#EBF0F8"
           }
          },
          "shapedefaults": {
           "line": {
            "color": "#2a3f5f"
           }
          },
          "ternary": {
           "aaxis": {
            "gridcolor": "#DFE8F3",
            "linecolor": "#A2B1C6",
            "ticks": ""
           },
           "baxis": {
            "gridcolor": "#DFE8F3",
            "linecolor": "#A2B1C6",
            "ticks": ""
           },
           "bgcolor": "white",
           "caxis": {
            "gridcolor": "#DFE8F3",
            "linecolor": "#A2B1C6",
            "ticks": ""
           }
          },
          "title": {
           "x": 0.05
          },
          "xaxis": {
           "automargin": true,
           "gridcolor": "#EBF0F8",
           "linecolor": "#EBF0F8",
           "ticks": "",
           "title": {
            "standoff": 15
           },
           "zerolinecolor": "#EBF0F8",
           "zerolinewidth": 2
          },
          "yaxis": {
           "automargin": true,
           "gridcolor": "#EBF0F8",
           "linecolor": "#EBF0F8",
           "ticks": "",
           "title": {
            "standoff": 15
           },
           "zerolinecolor": "#EBF0F8",
           "zerolinewidth": 2
          }
         }
        },
        "title": {
         "text": "Diet"
        }
       }
      }
     },
     "metadata": {},
     "output_type": "display_data"
    }
   ],
   "source": [
    "plot_binary_heatmap(diet_df, xticks=diet_df.index.tolist(), yticks=diet_df.columns, title='Diet')"
   ]
  },
  {
   "cell_type": "code",
   "execution_count": 274,
   "metadata": {},
   "outputs": [
    {
     "data": {
      "application/vnd.plotly.v1+json": {
       "config": {
        "plotlyServerURL": "https://plot.ly"
       },
       "data": [
        {
         "coloraxis": "coloraxis",
         "hovertemplate": "x: %{x}<br>y: %{y}<br>color: %{z}<extra></extra>",
         "name": "0",
         "type": "heatmap",
         "x": [
          "Aetomylaeus bovinus",
          "Bathyraja brachyurops",
          "Centrophorus granulosus",
          "Centrophorus uyato",
          "Chimaera monstrosa",
          "Dalatias licha",
          "Dasyatis pastinaca",
          "Dipturus batis",
          "Dipturus oxyrinchus",
          "Etmopterus spinax",
          "Galeus melastomus",
          "Heptranchias perlo",
          "Hexanchus griseus",
          "Leucoraja circularis",
          "Leucoraja fullonica",
          "Leucoraja melitensis",
          "Leucoraja naevus",
          "Mustelus asterias",
          "Mustelus mustelus",
          "Mustelus punctulatus",
          "Myliobatis aquila",
          "Oxynotus centrina",
          "Pteroplatytrygon violacea",
          "Raja asterias",
          "Raja brachyura",
          "Raja clavata",
          "Raja miraletus",
          "Raja montagui",
          "Raja polystigma",
          "Raja radula",
          "Rostroraja alba",
          "Scyliorhinus canicula",
          "Scyliorhinus stellaris",
          "Squalus acanthias",
          "Squalus blainville",
          "Tetronarce nobiliana",
          "Torpedo marmorata",
          "Torpedo torpedo"
         ],
         "xaxis": "x",
         "y": [
          "Aetomylaeus bovinus",
          "Bathyraja brachyurops",
          "Centrophorus granulosus",
          "Centrophorus uyato",
          "Chimaera monstrosa",
          "Dalatias licha",
          "Dasyatis pastinaca",
          "Dipturus batis",
          "Dipturus oxyrinchus",
          "Etmopterus spinax",
          "Galeus melastomus",
          "Heptranchias perlo",
          "Hexanchus griseus",
          "Leucoraja circularis",
          "Leucoraja fullonica",
          "Leucoraja melitensis",
          "Leucoraja naevus",
          "Mustelus asterias",
          "Mustelus mustelus",
          "Mustelus punctulatus",
          "Myliobatis aquila",
          "Oxynotus centrina",
          "Pteroplatytrygon violacea",
          "Raja asterias",
          "Raja brachyura",
          "Raja clavata",
          "Raja miraletus",
          "Raja montagui",
          "Raja polystigma",
          "Raja radula",
          "Rostroraja alba",
          "Scyliorhinus canicula",
          "Scyliorhinus stellaris",
          "Squalus acanthias",
          "Squalus blainville",
          "Tetronarce nobiliana",
          "Torpedo marmorata",
          "Torpedo torpedo"
         ],
         "yaxis": "y",
         "z": [
          [
           0,
           0.5222329678670935,
           0,
           0.5773502691896258,
           0.6741998624632421,
           0.3333333333333334,
           0.5773502691896258,
           0.6324555320336759,
           0.7745966692414834,
           0.5222329678670935,
           0.6831300510639732,
           0.3779644730092273,
           0.5,
           0.7745966692414834,
           0.7745966692414834,
           0.7745966692414834,
           0.5773502691896258,
           0.6546536707079772,
           0.5773502691896258,
           0.3779644730092273,
           0.5773502691896258,
           1,
           0.5,
           0.3779644730092273,
           0.5773502691896258,
           0.5773502691896258,
           0.5222329678670935,
           0.7745966692414834,
           0.7745966692414834,
           0.3779644730092273,
           0.44721359549995787,
           0.5222329678670935,
           0.5773502691896258,
           0.6831300510639732,
           0.3779644730092273,
           0.7745966692414834,
           0.7745966692414834,
           0.7745966692414834
          ],
          [
           0.5222329678670935,
           0,
           0.5222329678670935,
           0.7453559924999299,
           0.3779644730092273,
           0.40824829046386296,
           0.7453559924999299,
           0.27735009811261446,
           0.8660254037844386,
           0.3779644730092273,
           0.4714045207910317,
           0.6324555320336759,
           0.6741998624632421,
           0.8660254037844386,
           0.8660254037844386,
           0.8660254037844386,
           0.7453559924999299,
           0.7745966692414834,
           0.2581988897471611,
           0.6324555320336759,
           0.2581988897471611,
           0.8660254037844386,
           0.6741998624632421,
           0.6324555320336759,
           0.7453559924999299,
           0.7453559924999299,
           0,
           0.8660254037844386,
           0.8660254037844386,
           0.6324555320336759,
           0.27735009811261446,
           0,
           0.7453559924999299,
           0.4714045207910317,
           0.6324555320336759,
           0.8660254037844386,
           0.8660254037844386,
           0.8660254037844386
          ],
          [
           0,
           0.5222329678670935,
           0,
           0.5773502691896258,
           0.6741998624632421,
           0.3333333333333334,
           0.5773502691896258,
           0.6324555320336759,
           0.7745966692414834,
           0.5222329678670935,
           0.6831300510639732,
           0.3779644730092273,
           0.5,
           0.7745966692414834,
           0.7745966692414834,
           0.7745966692414834,
           0.5773502691896258,
           0.6546536707079772,
           0.5773502691896258,
           0.3779644730092273,
           0.5773502691896258,
           1,
           0.5,
           0.3779644730092273,
           0.5773502691896258,
           0.5773502691896258,
           0.5222329678670935,
           0.7745966692414834,
           0.7745966692414834,
           0.3779644730092273,
           0.44721359549995787,
           0.5222329678670935,
           0.5773502691896258,
           0.6831300510639732,
           0.3779644730092273,
           0.7745966692414834,
           0.7745966692414834,
           0.7745966692414834
          ],
          [
           0.5773502691896258,
           0.7453559924999299,
           0.5773502691896258,
           0,
           0.8819171036881969,
           0.6546536707079772,
           0.7071067811865476,
           0.8660254037844386,
           1,
           0.7453559924999299,
           0.8320502943378437,
           0.44721359549995787,
           0.5773502691896258,
           1,
           1,
           1,
           0.7071067811865476,
           0.7745966692414834,
           0.7745966692414834,
           0.44721359549995787,
           0.7745966692414834,
           1,
           0.5773502691896258,
           0.44721359549995787,
           0.7071067811865476,
           0.7071067811865476,
           0.7453559924999299,
           1,
           1,
           0.7745966692414834,
           0.7071067811865476,
           0.7453559924999299,
           0.7071067811865476,
           0.8320502943378437,
           0.44721359549995787,
           0.5773502691896258,
           0.5773502691896258,
           0.5773502691896258
          ],
          [
           0.6741998624632421,
           0.3779644730092273,
           0.6741998624632421,
           0.8819171036881969,
           0,
           0.5773502691896258,
           0.7453559924999299,
           0.27735009811261446,
           0.8660254037844386,
           0.5345224838248488,
           0.5773502691896258,
           0.7745966692414834,
           0.7977240352174656,
           0.8660254037844386,
           0.8660254037844386,
           0.8660254037844386,
           0.7453559924999299,
           0.6324555320336759,
           0.2581988897471611,
           0.7745966692414834,
           0.44721359549995787,
           0.8660254037844386,
           0.7977240352174656,
           0.7745966692414834,
           0.7453559924999299,
           0.7453559924999299,
           0.3779644730092273,
           0.8660254037844386,
           0.8660254037844386,
           0.6324555320336759,
           0.48038446141526137,
           0.3779644730092273,
           0.7453559924999299,
           0.4714045207910317,
           0.7745966692414834,
           0.8660254037844386,
           0.8660254037844386,
           0.8660254037844386
          ],
          [
           0.3333333333333334,
           0.40824829046386296,
           0.3333333333333334,
           0.6546536707079772,
           0.5773502691896258,
           0,
           0.6546536707079772,
           0.5222329678670935,
           0.816496580927726,
           0.5773502691896258,
           0.6123724356957945,
           0.5,
           0.5773502691896258,
           0.816496580927726,
           0.816496580927726,
           0.816496580927726,
           0.6546536707079772,
           0.7071067811865476,
           0.48038446141526137,
           0.5,
           0.48038446141526137,
           0.816496580927726,
           0.5773502691896258,
           0.5,
           0.6546536707079772,
           0.6546536707079772,
           0.40824829046386296,
           0.816496580927726,
           0.816496580927726,
           0.5,
           0.5222329678670935,
           0.40824829046386296,
           0.6546536707079772,
           0.6123724356957945,
           0.5,
           0.816496580927726,
           0.816496580927726,
           0.816496580927726
          ],
          [
           0.5773502691896258,
           0.7453559924999299,
           0.5773502691896258,
           0.7071067811865476,
           0.7453559924999299,
           0.6546536707079772,
           0,
           0.7071067811865476,
           0.5773502691896258,
           0.7453559924999299,
           0.8320502943378437,
           0.44721359549995787,
           0.5773502691896258,
           0.5773502691896258,
           0.5773502691896258,
           0.5773502691896258,
           0,
           0.44721359549995787,
           0.7745966692414834,
           0.44721359549995787,
           0.7745966692414834,
           1,
           0.5773502691896258,
           0.44721359549995787,
           0,
           0,
           0.7453559924999299,
           0.5773502691896258,
           0.5773502691896258,
           0.44721359549995787,
           0.7071067811865476,
           0.7453559924999299,
           0,
           0.8320502943378437,
           0.44721359549995787,
           0.5773502691896258,
           0.5773502691896258,
           0.5773502691896258
          ],
          [
           0.6324555320336759,
           0.27735009811261446,
           0.6324555320336759,
           0.8660254037844386,
           0.27735009811261446,
           0.5222329678670935,
           0.7071067811865476,
           0,
           0.8451542547285166,
           0.48038446141526137,
           0.5423261445466404,
           0.7453559924999299,
           0.7745966692414834,
           0.8451542547285166,
           0.8451542547285166,
           0.8451542547285166,
           0.7071067811865476,
           0.7453559924999299,
           0.3779644730092273,
           0.7453559924999299,
           0.3779644730092273,
           0.8451542547285166,
           0.7745966692414834,
           0.7453559924999299,
           0.7071067811865476,
           0.7071067811865476,
           0.27735009811261446,
           0.8451542547285166,
           0.8451542547285166,
           0.5773502691896258,
           0.40824829046386296,
           0.27735009811261446,
           0.7071067811865476,
           0.5423261445466404,
           0.7453559924999299,
           0.8451542547285166,
           0.8451542547285166,
           0.8451542547285166
          ],
          [
           0.7745966692414834,
           0.8660254037844386,
           0.7745966692414834,
           1,
           0.8660254037844386,
           0.816496580927726,
           0.5773502691896258,
           0.8451542547285166,
           0,
           0.8660254037844386,
           0.9128709291752769,
           0.7071067811865476,
           0.7745966692414834,
           0,
           0,
           0,
           0.5773502691896258,
           0.7071067811865476,
           0.8819171036881969,
           0.7071067811865476,
           0.8819171036881969,
           1,
           0.7745966692414834,
           0.7071067811865476,
           0.5773502691896258,
           0.5773502691896258,
           0.8660254037844386,
           0,
           0,
           0.7071067811865476,
           0.8451542547285166,
           0.8660254037844386,
           0.5773502691896258,
           0.9128709291752769,
           0.7071067811865476,
           1,
           1,
           1
          ],
          [
           0.5222329678670935,
           0.3779644730092273,
           0.5222329678670935,
           0.7453559924999299,
           0.5345224838248488,
           0.5773502691896258,
           0.7453559924999299,
           0.48038446141526137,
           0.8660254037844386,
           0,
           0.4714045207910317,
           0.6324555320336759,
           0.6741998624632421,
           0.8660254037844386,
           0.8660254037844386,
           0.8660254037844386,
           0.7453559924999299,
           0.7745966692414834,
           0.44721359549995787,
           0.6324555320336759,
           0.44721359549995787,
           1,
           0.5222329678670935,
           0.6324555320336759,
           0.7453559924999299,
           0.7453559924999299,
           0.3779644730092273,
           0.8660254037844386,
           0.8660254037844386,
           0.6324555320336759,
           0.27735009811261446,
           0.3779644730092273,
           0.7453559924999299,
           0.4714045207910317,
           0.6324555320336759,
           0.8660254037844386,
           0.8660254037844386,
           0.8660254037844386
          ],
          [
           0.6831300510639732,
           0.4714045207910317,
           0.6831300510639732,
           0.8320502943378437,
           0.5773502691896258,
           0.6123724356957945,
           0.8320502943378437,
           0.5423261445466404,
           0.9128709291752769,
           0.4714045207910317,
           0,
           0.7559289460184544,
           0.6831300510639732,
           0.9128709291752769,
           0.9128709291752769,
           0.9128709291752769,
           0.8320502943378437,
           0.8451542547285166,
           0.5129891760425771,
           0.7559289460184544,
           0.3973597071195132,
           0.9128709291752769,
           0.6831300510639732,
           0.7559289460184544,
           0.8320502943378437,
           0.8320502943378437,
           0.4714045207910317,
           0.9128709291752769,
           0.9128709291752769,
           0.7559289460184544,
           0.5423261445466404,
           0.4714045207910317,
           0.8320502943378437,
           0.42640143271122083,
           0.7559289460184544,
           0.9128709291752769,
           0.9128709291752769,
           0.9128709291752769
          ],
          [
           0.3779644730092273,
           0.6324555320336759,
           0.3779644730092273,
           0.44721359549995787,
           0.7745966692414834,
           0.5,
           0.44721359549995787,
           0.7453559924999299,
           0.7071067811865476,
           0.6324555320336759,
           0.7559289460184544,
           0,
           0.3779644730092273,
           0.7071067811865476,
           0.7071067811865476,
           0.7071067811865476,
           0.44721359549995787,
           0.5773502691896258,
           0.6741998624632421,
           0,
           0.6741998624632421,
           1,
           0.3779644730092273,
           0,
           0.44721359549995787,
           0.44721359549995787,
           0.6324555320336759,
           0.7071067811865476,
           0.7071067811865476,
           0.5773502691896258,
           0.5773502691896258,
           0.6324555320336759,
           0.44721359549995787,
           0.7559289460184544,
           0,
           0.7071067811865476,
           0.7071067811865476,
           0.7071067811865476
          ],
          [
           0.5,
           0.6741998624632421,
           0.5,
           0.5773502691896258,
           0.7977240352174656,
           0.5773502691896258,
           0.5773502691896258,
           0.7745966692414834,
           0.7745966692414834,
           0.6741998624632421,
           0.6831300510639732,
           0.3779644730092273,
           0,
           0.7745966692414834,
           0.7745966692414834,
           0.7745966692414834,
           0.5773502691896258,
           0.6546536707079772,
           0.7071067811865476,
           0.3779644730092273,
           0.7071067811865476,
           1,
           0.5,
           0.3779644730092273,
           0.5773502691896258,
           0.5773502691896258,
           0.6741998624632421,
           0.7745966692414834,
           0.7745966692414834,
           0.6546536707079772,
           0.6324555320336759,
           0.6741998624632421,
           0.5773502691896258,
           0.7745966692414834,
           0.3779644730092273,
           0.7745966692414834,
           0.7745966692414834,
           0.7745966692414834
          ],
          [
           0.7745966692414834,
           0.8660254037844386,
           0.7745966692414834,
           1,
           0.8660254037844386,
           0.816496580927726,
           0.5773502691896258,
           0.8451542547285166,
           0,
           0.8660254037844386,
           0.9128709291752769,
           0.7071067811865476,
           0.7745966692414834,
           0,
           0,
           0,
           0.5773502691896258,
           0.7071067811865476,
           0.8819171036881969,
           0.7071067811865476,
           0.8819171036881969,
           1,
           0.7745966692414834,
           0.7071067811865476,
           0.5773502691896258,
           0.5773502691896258,
           0.8660254037844386,
           0,
           0,
           0.7071067811865476,
           0.8451542547285166,
           0.8660254037844386,
           0.5773502691896258,
           0.9128709291752769,
           0.7071067811865476,
           1,
           1,
           1
          ],
          [
           0.7745966692414834,
           0.8660254037844386,
           0.7745966692414834,
           1,
           0.8660254037844386,
           0.816496580927726,
           0.5773502691896258,
           0.8451542547285166,
           0,
           0.8660254037844386,
           0.9128709291752769,
           0.7071067811865476,
           0.7745966692414834,
           0,
           0,
           0,
           0.5773502691896258,
           0.7071067811865476,
           0.8819171036881969,
           0.7071067811865476,
           0.8819171036881969,
           1,
           0.7745966692414834,
           0.7071067811865476,
           0.5773502691896258,
           0.5773502691896258,
           0.8660254037844386,
           0,
           0,
           0.7071067811865476,
           0.8451542547285166,
           0.8660254037844386,
           0.5773502691896258,
           0.9128709291752769,
           0.7071067811865476,
           1,
           1,
           1
          ],
          [
           0.7745966692414834,
           0.8660254037844386,
           0.7745966692414834,
           1,
           0.8660254037844386,
           0.816496580927726,
           0.5773502691896258,
           0.8451542547285166,
           0,
           0.8660254037844386,
           0.9128709291752769,
           0.7071067811865476,
           0.7745966692414834,
           0,
           0,
           0,
           0.5773502691896258,
           0.7071067811865476,
           0.8819171036881969,
           0.7071067811865476,
           0.8819171036881969,
           1,
           0.7745966692414834,
           0.7071067811865476,
           0.5773502691896258,
           0.5773502691896258,
           0.8660254037844386,
           0,
           0,
           0.7071067811865476,
           0.8451542547285166,
           0.8660254037844386,
           0.5773502691896258,
           0.9128709291752769,
           0.7071067811865476,
           1,
           1,
           1
          ],
          [
           0.5773502691896258,
           0.7453559924999299,
           0.5773502691896258,
           0.7071067811865476,
           0.7453559924999299,
           0.6546536707079772,
           0,
           0.7071067811865476,
           0.5773502691896258,
           0.7453559924999299,
           0.8320502943378437,
           0.44721359549995787,
           0.5773502691896258,
           0.5773502691896258,
           0.5773502691896258,
           0.5773502691896258,
           0,
           0.44721359549995787,
           0.7745966692414834,
           0.44721359549995787,
           0.7745966692414834,
           1,
           0.5773502691896258,
           0.44721359549995787,
           0,
           0,
           0.7453559924999299,
           0.5773502691896258,
           0.5773502691896258,
           0.44721359549995787,
           0.7071067811865476,
           0.7453559924999299,
           0,
           0.8320502943378437,
           0.44721359549995787,
           0.5773502691896258,
           0.5773502691896258,
           0.5773502691896258
          ],
          [
           0.6546536707079772,
           0.7745966692414834,
           0.6546536707079772,
           0.7745966692414834,
           0.6324555320336759,
           0.7071067811865476,
           0.44721359549995787,
           0.7453559924999299,
           0.7071067811865476,
           0.7745966692414834,
           0.8451542547285166,
           0.5773502691896258,
           0.6546536707079772,
           0.7071067811865476,
           0.7071067811865476,
           0.7071067811865476,
           0.44721359549995787,
           0,
           0.6741998624632421,
           0.5773502691896258,
           0.7977240352174656,
           1,
           0.6546536707079772,
           0.5773502691896258,
           0.44721359549995787,
           0.44721359549995787,
           0.7745966692414834,
           0.7071067811865476,
           0.7071067811865476,
           0.5773502691896258,
           0.7453559924999299,
           0.7745966692414834,
           0.44721359549995787,
           0.7559289460184544,
           0.5773502691896258,
           0.7071067811865476,
           0.7071067811865476,
           0.7071067811865476
          ],
          [
           0.5773502691896258,
           0.2581988897471611,
           0.5773502691896258,
           0.7745966692414834,
           0.2581988897471611,
           0.48038446141526137,
           0.7745966692414834,
           0.3779644730092273,
           0.8819171036881969,
           0.44721359549995787,
           0.5129891760425771,
           0.6741998624632421,
           0.7071067811865476,
           0.8819171036881969,
           0.8819171036881969,
           0.8819171036881969,
           0.7745966692414834,
           0.6741998624632421,
           0,
           0.6741998624632421,
           0.3535533905932738,
           0.8819171036881969,
           0.7071067811865476,
           0.6741998624632421,
           0.7745966692414834,
           0.7745966692414834,
           0.2581988897471611,
           0.8819171036881969,
           0.8819171036881969,
           0.6741998624632421,
           0.3779644730092273,
           0.2581988897471611,
           0.7745966692414834,
           0.3973597071195132,
           0.6741998624632421,
           0.8819171036881969,
           0.8819171036881969,
           0.8819171036881969
          ],
          [
           0.3779644730092273,
           0.6324555320336759,
           0.3779644730092273,
           0.44721359549995787,
           0.7745966692414834,
           0.5,
           0.44721359549995787,
           0.7453559924999299,
           0.7071067811865476,
           0.6324555320336759,
           0.7559289460184544,
           0,
           0.3779644730092273,
           0.7071067811865476,
           0.7071067811865476,
           0.7071067811865476,
           0.44721359549995787,
           0.5773502691896258,
           0.6741998624632421,
           0,
           0.6741998624632421,
           1,
           0.3779644730092273,
           0,
           0.44721359549995787,
           0.44721359549995787,
           0.6324555320336759,
           0.7071067811865476,
           0.7071067811865476,
           0.5773502691896258,
           0.5773502691896258,
           0.6324555320336759,
           0.44721359549995787,
           0.7559289460184544,
           0,
           0.7071067811865476,
           0.7071067811865476,
           0.7071067811865476
          ],
          [
           0.5773502691896258,
           0.2581988897471611,
           0.5773502691896258,
           0.7745966692414834,
           0.44721359549995787,
           0.48038446141526137,
           0.7745966692414834,
           0.3779644730092273,
           0.8819171036881969,
           0.44721359549995787,
           0.3973597071195132,
           0.6741998624632421,
           0.7071067811865476,
           0.8819171036881969,
           0.8819171036881969,
           0.8819171036881969,
           0.7745966692414834,
           0.7977240352174656,
           0.3535533905932738,
           0.6741998624632421,
           0,
           0.8819171036881969,
           0.7071067811865476,
           0.6741998624632421,
           0.7745966692414834,
           0.7745966692414834,
           0.2581988897471611,
           0.8819171036881969,
           0.8819171036881969,
           0.6741998624632421,
           0.3779644730092273,
           0.2581988897471611,
           0.7745966692414834,
           0.5129891760425771,
           0.6741998624632421,
           0.8819171036881969,
           0.8819171036881969,
           0.8819171036881969
          ],
          [
           1,
           0.8660254037844386,
           1,
           1,
           0.8660254037844386,
           0.816496580927726,
           1,
           0.8451542547285166,
           1,
           1,
           0.9128709291752769,
           1,
           1,
           1,
           1,
           1,
           1,
           1,
           0.8819171036881969,
           1,
           0.8819171036881969,
           0,
           1,
           1,
           1,
           1,
           0.8660254037844386,
           1,
           1,
           1,
           1,
           0.8660254037844386,
           1,
           0.9128709291752769,
           1,
           1,
           1,
           1
          ],
          [
           0.5,
           0.6741998624632421,
           0.5,
           0.5773502691896258,
           0.7977240352174656,
           0.5773502691896258,
           0.5773502691896258,
           0.7745966692414834,
           0.7745966692414834,
           0.5222329678670935,
           0.6831300510639732,
           0.3779644730092273,
           0.5,
           0.7745966692414834,
           0.7745966692414834,
           0.7745966692414834,
           0.5773502691896258,
           0.6546536707079772,
           0.7071067811865476,
           0.3779644730092273,
           0.7071067811865476,
           1,
           0,
           0.3779644730092273,
           0.5773502691896258,
           0.5773502691896258,
           0.6741998624632421,
           0.7745966692414834,
           0.7745966692414834,
           0.6546536707079772,
           0.6324555320336759,
           0.6741998624632421,
           0.5773502691896258,
           0.6831300510639732,
           0.3779644730092273,
           0.7745966692414834,
           0.7745966692414834,
           0.7745966692414834
          ],
          [
           0.3779644730092273,
           0.6324555320336759,
           0.3779644730092273,
           0.44721359549995787,
           0.7745966692414834,
           0.5,
           0.44721359549995787,
           0.7453559924999299,
           0.7071067811865476,
           0.6324555320336759,
           0.7559289460184544,
           0,
           0.3779644730092273,
           0.7071067811865476,
           0.7071067811865476,
           0.7071067811865476,
           0.44721359549995787,
           0.5773502691896258,
           0.6741998624632421,
           0,
           0.6741998624632421,
           1,
           0.3779644730092273,
           0,
           0.44721359549995787,
           0.44721359549995787,
           0.6324555320336759,
           0.7071067811865476,
           0.7071067811865476,
           0.5773502691896258,
           0.5773502691896258,
           0.6324555320336759,
           0.44721359549995787,
           0.7559289460184544,
           0,
           0.7071067811865476,
           0.7071067811865476,
           0.7071067811865476
          ],
          [
           0.5773502691896258,
           0.7453559924999299,
           0.5773502691896258,
           0.7071067811865476,
           0.7453559924999299,
           0.6546536707079772,
           0,
           0.7071067811865476,
           0.5773502691896258,
           0.7453559924999299,
           0.8320502943378437,
           0.44721359549995787,
           0.5773502691896258,
           0.5773502691896258,
           0.5773502691896258,
           0.5773502691896258,
           0,
           0.44721359549995787,
           0.7745966692414834,
           0.44721359549995787,
           0.7745966692414834,
           1,
           0.5773502691896258,
           0.44721359549995787,
           0,
           0,
           0.7453559924999299,
           0.5773502691896258,
           0.5773502691896258,
           0.44721359549995787,
           0.7071067811865476,
           0.7453559924999299,
           0,
           0.8320502943378437,
           0.44721359549995787,
           0.5773502691896258,
           0.5773502691896258,
           0.5773502691896258
          ],
          [
           0.5773502691896258,
           0.7453559924999299,
           0.5773502691896258,
           0.7071067811865476,
           0.7453559924999299,
           0.6546536707079772,
           0,
           0.7071067811865476,
           0.5773502691896258,
           0.7453559924999299,
           0.8320502943378437,
           0.44721359549995787,
           0.5773502691896258,
           0.5773502691896258,
           0.5773502691896258,
           0.5773502691896258,
           0,
           0.44721359549995787,
           0.7745966692414834,
           0.44721359549995787,
           0.7745966692414834,
           1,
           0.5773502691896258,
           0.44721359549995787,
           0,
           0,
           0.7453559924999299,
           0.5773502691896258,
           0.5773502691896258,
           0.44721359549995787,
           0.7071067811865476,
           0.7453559924999299,
           0,
           0.8320502943378437,
           0.44721359549995787,
           0.5773502691896258,
           0.5773502691896258,
           0.5773502691896258
          ],
          [
           0.5222329678670935,
           0,
           0.5222329678670935,
           0.7453559924999299,
           0.3779644730092273,
           0.40824829046386296,
           0.7453559924999299,
           0.27735009811261446,
           0.8660254037844386,
           0.3779644730092273,
           0.4714045207910317,
           0.6324555320336759,
           0.6741998624632421,
           0.8660254037844386,
           0.8660254037844386,
           0.8660254037844386,
           0.7453559924999299,
           0.7745966692414834,
           0.2581988897471611,
           0.6324555320336759,
           0.2581988897471611,
           0.8660254037844386,
           0.6741998624632421,
           0.6324555320336759,
           0.7453559924999299,
           0.7453559924999299,
           0,
           0.8660254037844386,
           0.8660254037844386,
           0.6324555320336759,
           0.27735009811261446,
           0,
           0.7453559924999299,
           0.4714045207910317,
           0.6324555320336759,
           0.8660254037844386,
           0.8660254037844386,
           0.8660254037844386
          ],
          [
           0.7745966692414834,
           0.8660254037844386,
           0.7745966692414834,
           1,
           0.8660254037844386,
           0.816496580927726,
           0.5773502691896258,
           0.8451542547285166,
           0,
           0.8660254037844386,
           0.9128709291752769,
           0.7071067811865476,
           0.7745966692414834,
           0,
           0,
           0,
           0.5773502691896258,
           0.7071067811865476,
           0.8819171036881969,
           0.7071067811865476,
           0.8819171036881969,
           1,
           0.7745966692414834,
           0.7071067811865476,
           0.5773502691896258,
           0.5773502691896258,
           0.8660254037844386,
           0,
           0,
           0.7071067811865476,
           0.8451542547285166,
           0.8660254037844386,
           0.5773502691896258,
           0.9128709291752769,
           0.7071067811865476,
           1,
           1,
           1
          ],
          [
           0.7745966692414834,
           0.8660254037844386,
           0.7745966692414834,
           1,
           0.8660254037844386,
           0.816496580927726,
           0.5773502691896258,
           0.8451542547285166,
           0,
           0.8660254037844386,
           0.9128709291752769,
           0.7071067811865476,
           0.7745966692414834,
           0,
           0,
           0,
           0.5773502691896258,
           0.7071067811865476,
           0.8819171036881969,
           0.7071067811865476,
           0.8819171036881969,
           1,
           0.7745966692414834,
           0.7071067811865476,
           0.5773502691896258,
           0.5773502691896258,
           0.8660254037844386,
           0,
           0,
           0.7071067811865476,
           0.8451542547285166,
           0.8660254037844386,
           0.5773502691896258,
           0.9128709291752769,
           0.7071067811865476,
           1,
           1,
           1
          ],
          [
           0.3779644730092273,
           0.6324555320336759,
           0.3779644730092273,
           0.7745966692414834,
           0.6324555320336759,
           0.5,
           0.44721359549995787,
           0.5773502691896258,
           0.7071067811865476,
           0.6324555320336759,
           0.7559289460184544,
           0.5773502691896258,
           0.6546536707079772,
           0.7071067811865476,
           0.7071067811865476,
           0.7071067811865476,
           0.44721359549995787,
           0.5773502691896258,
           0.6741998624632421,
           0.5773502691896258,
           0.6741998624632421,
           1,
           0.6546536707079772,
           0.5773502691896258,
           0.44721359549995787,
           0.44721359549995787,
           0.6324555320336759,
           0.7071067811865476,
           0.7071067811865476,
           0,
           0.5773502691896258,
           0.6324555320336759,
           0.44721359549995787,
           0.7559289460184544,
           0.5773502691896258,
           0.7071067811865476,
           0.7071067811865476,
           0.7071067811865476
          ],
          [
           0.44721359549995787,
           0.27735009811261446,
           0.44721359549995787,
           0.7071067811865476,
           0.48038446141526137,
           0.5222329678670935,
           0.7071067811865476,
           0.40824829046386296,
           0.8451542547285166,
           0.27735009811261446,
           0.5423261445466404,
           0.5773502691896258,
           0.6324555320336759,
           0.8451542547285166,
           0.8451542547285166,
           0.8451542547285166,
           0.7071067811865476,
           0.7453559924999299,
           0.3779644730092273,
           0.5773502691896258,
           0.3779644730092273,
           1,
           0.6324555320336759,
           0.5773502691896258,
           0.7071067811865476,
           0.7071067811865476,
           0.27735009811261446,
           0.8451542547285166,
           0.8451542547285166,
           0.5773502691896258,
           0,
           0.27735009811261446,
           0.7071067811865476,
           0.5423261445466404,
           0.5773502691896258,
           0.8451542547285166,
           0.8451542547285166,
           0.8451542547285166
          ],
          [
           0.5222329678670935,
           0,
           0.5222329678670935,
           0.7453559924999299,
           0.3779644730092273,
           0.40824829046386296,
           0.7453559924999299,
           0.27735009811261446,
           0.8660254037844386,
           0.3779644730092273,
           0.4714045207910317,
           0.6324555320336759,
           0.6741998624632421,
           0.8660254037844386,
           0.8660254037844386,
           0.8660254037844386,
           0.7453559924999299,
           0.7745966692414834,
           0.2581988897471611,
           0.6324555320336759,
           0.2581988897471611,
           0.8660254037844386,
           0.6741998624632421,
           0.6324555320336759,
           0.7453559924999299,
           0.7453559924999299,
           0,
           0.8660254037844386,
           0.8660254037844386,
           0.6324555320336759,
           0.27735009811261446,
           0,
           0.7453559924999299,
           0.4714045207910317,
           0.6324555320336759,
           0.8660254037844386,
           0.8660254037844386,
           0.8660254037844386
          ],
          [
           0.5773502691896258,
           0.7453559924999299,
           0.5773502691896258,
           0.7071067811865476,
           0.7453559924999299,
           0.6546536707079772,
           0,
           0.7071067811865476,
           0.5773502691896258,
           0.7453559924999299,
           0.8320502943378437,
           0.44721359549995787,
           0.5773502691896258,
           0.5773502691896258,
           0.5773502691896258,
           0.5773502691896258,
           0,
           0.44721359549995787,
           0.7745966692414834,
           0.44721359549995787,
           0.7745966692414834,
           1,
           0.5773502691896258,
           0.44721359549995787,
           0,
           0,
           0.7453559924999299,
           0.5773502691896258,
           0.5773502691896258,
           0.44721359549995787,
           0.7071067811865476,
           0.7453559924999299,
           0,
           0.8320502943378437,
           0.44721359549995787,
           0.5773502691896258,
           0.5773502691896258,
           0.5773502691896258
          ],
          [
           0.6831300510639732,
           0.4714045207910317,
           0.6831300510639732,
           0.8320502943378437,
           0.4714045207910317,
           0.6123724356957945,
           0.8320502943378437,
           0.5423261445466404,
           0.9128709291752769,
           0.4714045207910317,
           0.42640143271122083,
           0.7559289460184544,
           0.7745966692414834,
           0.9128709291752769,
           0.9128709291752769,
           0.9128709291752769,
           0.8320502943378437,
           0.7559289460184544,
           0.3973597071195132,
           0.7559289460184544,
           0.5129891760425771,
           0.9128709291752769,
           0.6831300510639732,
           0.7559289460184544,
           0.8320502943378437,
           0.8320502943378437,
           0.4714045207910317,
           0.9128709291752769,
           0.9128709291752769,
           0.7559289460184544,
           0.5423261445466404,
           0.4714045207910317,
           0.8320502943378437,
           0,
           0.7559289460184544,
           0.9128709291752769,
           0.9128709291752769,
           0.9128709291752769
          ],
          [
           0.3779644730092273,
           0.6324555320336759,
           0.3779644730092273,
           0.44721359549995787,
           0.7745966692414834,
           0.5,
           0.44721359549995787,
           0.7453559924999299,
           0.7071067811865476,
           0.6324555320336759,
           0.7559289460184544,
           0,
           0.3779644730092273,
           0.7071067811865476,
           0.7071067811865476,
           0.7071067811865476,
           0.44721359549995787,
           0.5773502691896258,
           0.6741998624632421,
           0,
           0.6741998624632421,
           1,
           0.3779644730092273,
           0,
           0.44721359549995787,
           0.44721359549995787,
           0.6324555320336759,
           0.7071067811865476,
           0.7071067811865476,
           0.5773502691896258,
           0.5773502691896258,
           0.6324555320336759,
           0.44721359549995787,
           0.7559289460184544,
           0,
           0.7071067811865476,
           0.7071067811865476,
           0.7071067811865476
          ],
          [
           0.7745966692414834,
           0.8660254037844386,
           0.7745966692414834,
           0.5773502691896258,
           0.8660254037844386,
           0.816496580927726,
           0.5773502691896258,
           0.8451542547285166,
           1,
           0.8660254037844386,
           0.9128709291752769,
           0.7071067811865476,
           0.7745966692414834,
           1,
           1,
           1,
           0.5773502691896258,
           0.7071067811865476,
           0.8819171036881969,
           0.7071067811865476,
           0.8819171036881969,
           1,
           0.7745966692414834,
           0.7071067811865476,
           0.5773502691896258,
           0.5773502691896258,
           0.8660254037844386,
           1,
           1,
           0.7071067811865476,
           0.8451542547285166,
           0.8660254037844386,
           0.5773502691896258,
           0.9128709291752769,
           0.7071067811865476,
           0,
           0,
           0
          ],
          [
           0.7745966692414834,
           0.8660254037844386,
           0.7745966692414834,
           0.5773502691896258,
           0.8660254037844386,
           0.816496580927726,
           0.5773502691896258,
           0.8451542547285166,
           1,
           0.8660254037844386,
           0.9128709291752769,
           0.7071067811865476,
           0.7745966692414834,
           1,
           1,
           1,
           0.5773502691896258,
           0.7071067811865476,
           0.8819171036881969,
           0.7071067811865476,
           0.8819171036881969,
           1,
           0.7745966692414834,
           0.7071067811865476,
           0.5773502691896258,
           0.5773502691896258,
           0.8660254037844386,
           1,
           1,
           0.7071067811865476,
           0.8451542547285166,
           0.8660254037844386,
           0.5773502691896258,
           0.9128709291752769,
           0.7071067811865476,
           0,
           0,
           0
          ],
          [
           0.7745966692414834,
           0.8660254037844386,
           0.7745966692414834,
           0.5773502691896258,
           0.8660254037844386,
           0.816496580927726,
           0.5773502691896258,
           0.8451542547285166,
           1,
           0.8660254037844386,
           0.9128709291752769,
           0.7071067811865476,
           0.7745966692414834,
           1,
           1,
           1,
           0.5773502691896258,
           0.7071067811865476,
           0.8819171036881969,
           0.7071067811865476,
           0.8819171036881969,
           1,
           0.7745966692414834,
           0.7071067811865476,
           0.5773502691896258,
           0.5773502691896258,
           0.8660254037844386,
           1,
           1,
           0.7071067811865476,
           0.8451542547285166,
           0.8660254037844386,
           0.5773502691896258,
           0.9128709291752769,
           0.7071067811865476,
           0,
           0,
           0
          ]
         ]
        }
       ],
       "layout": {
        "coloraxis": {
         "colorscale": [
          [
           0,
           "rgb(234, 172, 139)"
          ],
          [
           0.5,
           "rgb(181, 101, 118)"
          ],
          [
           1,
           "rgb(53, 80, 112)"
          ]
         ]
        },
        "template": {
         "data": {
          "bar": [
           {
            "error_x": {
             "color": "#2a3f5f"
            },
            "error_y": {
             "color": "#2a3f5f"
            },
            "marker": {
             "line": {
              "color": "#E5ECF6",
              "width": 0.5
             },
             "pattern": {
              "fillmode": "overlay",
              "size": 10,
              "solidity": 0.2
             }
            },
            "type": "bar"
           }
          ],
          "barpolar": [
           {
            "marker": {
             "line": {
              "color": "#E5ECF6",
              "width": 0.5
             },
             "pattern": {
              "fillmode": "overlay",
              "size": 10,
              "solidity": 0.2
             }
            },
            "type": "barpolar"
           }
          ],
          "carpet": [
           {
            "aaxis": {
             "endlinecolor": "#2a3f5f",
             "gridcolor": "white",
             "linecolor": "white",
             "minorgridcolor": "white",
             "startlinecolor": "#2a3f5f"
            },
            "baxis": {
             "endlinecolor": "#2a3f5f",
             "gridcolor": "white",
             "linecolor": "white",
             "minorgridcolor": "white",
             "startlinecolor": "#2a3f5f"
            },
            "type": "carpet"
           }
          ],
          "choropleth": [
           {
            "colorbar": {
             "outlinewidth": 0,
             "ticks": ""
            },
            "type": "choropleth"
           }
          ],
          "contour": [
           {
            "colorbar": {
             "outlinewidth": 0,
             "ticks": ""
            },
            "colorscale": [
             [
              0,
              "#0d0887"
             ],
             [
              0.1111111111111111,
              "#46039f"
             ],
             [
              0.2222222222222222,
              "#7201a8"
             ],
             [
              0.3333333333333333,
              "#9c179e"
             ],
             [
              0.4444444444444444,
              "#bd3786"
             ],
             [
              0.5555555555555556,
              "#d8576b"
             ],
             [
              0.6666666666666666,
              "#ed7953"
             ],
             [
              0.7777777777777778,
              "#fb9f3a"
             ],
             [
              0.8888888888888888,
              "#fdca26"
             ],
             [
              1,
              "#f0f921"
             ]
            ],
            "type": "contour"
           }
          ],
          "contourcarpet": [
           {
            "colorbar": {
             "outlinewidth": 0,
             "ticks": ""
            },
            "type": "contourcarpet"
           }
          ],
          "heatmap": [
           {
            "colorbar": {
             "outlinewidth": 0,
             "ticks": ""
            },
            "colorscale": [
             [
              0,
              "#0d0887"
             ],
             [
              0.1111111111111111,
              "#46039f"
             ],
             [
              0.2222222222222222,
              "#7201a8"
             ],
             [
              0.3333333333333333,
              "#9c179e"
             ],
             [
              0.4444444444444444,
              "#bd3786"
             ],
             [
              0.5555555555555556,
              "#d8576b"
             ],
             [
              0.6666666666666666,
              "#ed7953"
             ],
             [
              0.7777777777777778,
              "#fb9f3a"
             ],
             [
              0.8888888888888888,
              "#fdca26"
             ],
             [
              1,
              "#f0f921"
             ]
            ],
            "type": "heatmap"
           }
          ],
          "heatmapgl": [
           {
            "colorbar": {
             "outlinewidth": 0,
             "ticks": ""
            },
            "colorscale": [
             [
              0,
              "#0d0887"
             ],
             [
              0.1111111111111111,
              "#46039f"
             ],
             [
              0.2222222222222222,
              "#7201a8"
             ],
             [
              0.3333333333333333,
              "#9c179e"
             ],
             [
              0.4444444444444444,
              "#bd3786"
             ],
             [
              0.5555555555555556,
              "#d8576b"
             ],
             [
              0.6666666666666666,
              "#ed7953"
             ],
             [
              0.7777777777777778,
              "#fb9f3a"
             ],
             [
              0.8888888888888888,
              "#fdca26"
             ],
             [
              1,
              "#f0f921"
             ]
            ],
            "type": "heatmapgl"
           }
          ],
          "histogram": [
           {
            "marker": {
             "pattern": {
              "fillmode": "overlay",
              "size": 10,
              "solidity": 0.2
             }
            },
            "type": "histogram"
           }
          ],
          "histogram2d": [
           {
            "colorbar": {
             "outlinewidth": 0,
             "ticks": ""
            },
            "colorscale": [
             [
              0,
              "#0d0887"
             ],
             [
              0.1111111111111111,
              "#46039f"
             ],
             [
              0.2222222222222222,
              "#7201a8"
             ],
             [
              0.3333333333333333,
              "#9c179e"
             ],
             [
              0.4444444444444444,
              "#bd3786"
             ],
             [
              0.5555555555555556,
              "#d8576b"
             ],
             [
              0.6666666666666666,
              "#ed7953"
             ],
             [
              0.7777777777777778,
              "#fb9f3a"
             ],
             [
              0.8888888888888888,
              "#fdca26"
             ],
             [
              1,
              "#f0f921"
             ]
            ],
            "type": "histogram2d"
           }
          ],
          "histogram2dcontour": [
           {
            "colorbar": {
             "outlinewidth": 0,
             "ticks": ""
            },
            "colorscale": [
             [
              0,
              "#0d0887"
             ],
             [
              0.1111111111111111,
              "#46039f"
             ],
             [
              0.2222222222222222,
              "#7201a8"
             ],
             [
              0.3333333333333333,
              "#9c179e"
             ],
             [
              0.4444444444444444,
              "#bd3786"
             ],
             [
              0.5555555555555556,
              "#d8576b"
             ],
             [
              0.6666666666666666,
              "#ed7953"
             ],
             [
              0.7777777777777778,
              "#fb9f3a"
             ],
             [
              0.8888888888888888,
              "#fdca26"
             ],
             [
              1,
              "#f0f921"
             ]
            ],
            "type": "histogram2dcontour"
           }
          ],
          "mesh3d": [
           {
            "colorbar": {
             "outlinewidth": 0,
             "ticks": ""
            },
            "type": "mesh3d"
           }
          ],
          "parcoords": [
           {
            "line": {
             "colorbar": {
              "outlinewidth": 0,
              "ticks": ""
             }
            },
            "type": "parcoords"
           }
          ],
          "pie": [
           {
            "automargin": true,
            "type": "pie"
           }
          ],
          "scatter": [
           {
            "fillpattern": {
             "fillmode": "overlay",
             "size": 10,
             "solidity": 0.2
            },
            "type": "scatter"
           }
          ],
          "scatter3d": [
           {
            "line": {
             "colorbar": {
              "outlinewidth": 0,
              "ticks": ""
             }
            },
            "marker": {
             "colorbar": {
              "outlinewidth": 0,
              "ticks": ""
             }
            },
            "type": "scatter3d"
           }
          ],
          "scattercarpet": [
           {
            "marker": {
             "colorbar": {
              "outlinewidth": 0,
              "ticks": ""
             }
            },
            "type": "scattercarpet"
           }
          ],
          "scattergeo": [
           {
            "marker": {
             "colorbar": {
              "outlinewidth": 0,
              "ticks": ""
             }
            },
            "type": "scattergeo"
           }
          ],
          "scattergl": [
           {
            "marker": {
             "colorbar": {
              "outlinewidth": 0,
              "ticks": ""
             }
            },
            "type": "scattergl"
           }
          ],
          "scattermapbox": [
           {
            "marker": {
             "colorbar": {
              "outlinewidth": 0,
              "ticks": ""
             }
            },
            "type": "scattermapbox"
           }
          ],
          "scatterpolar": [
           {
            "marker": {
             "colorbar": {
              "outlinewidth": 0,
              "ticks": ""
             }
            },
            "type": "scatterpolar"
           }
          ],
          "scatterpolargl": [
           {
            "marker": {
             "colorbar": {
              "outlinewidth": 0,
              "ticks": ""
             }
            },
            "type": "scatterpolargl"
           }
          ],
          "scatterternary": [
           {
            "marker": {
             "colorbar": {
              "outlinewidth": 0,
              "ticks": ""
             }
            },
            "type": "scatterternary"
           }
          ],
          "surface": [
           {
            "colorbar": {
             "outlinewidth": 0,
             "ticks": ""
            },
            "colorscale": [
             [
              0,
              "#0d0887"
             ],
             [
              0.1111111111111111,
              "#46039f"
             ],
             [
              0.2222222222222222,
              "#7201a8"
             ],
             [
              0.3333333333333333,
              "#9c179e"
             ],
             [
              0.4444444444444444,
              "#bd3786"
             ],
             [
              0.5555555555555556,
              "#d8576b"
             ],
             [
              0.6666666666666666,
              "#ed7953"
             ],
             [
              0.7777777777777778,
              "#fb9f3a"
             ],
             [
              0.8888888888888888,
              "#fdca26"
             ],
             [
              1,
              "#f0f921"
             ]
            ],
            "type": "surface"
           }
          ],
          "table": [
           {
            "cells": {
             "fill": {
              "color": "#EBF0F8"
             },
             "line": {
              "color": "white"
             }
            },
            "header": {
             "fill": {
              "color": "#C8D4E3"
             },
             "line": {
              "color": "white"
             }
            },
            "type": "table"
           }
          ]
         },
         "layout": {
          "annotationdefaults": {
           "arrowcolor": "#2a3f5f",
           "arrowhead": 0,
           "arrowwidth": 1
          },
          "autotypenumbers": "strict",
          "coloraxis": {
           "colorbar": {
            "outlinewidth": 0,
            "ticks": ""
           }
          },
          "colorscale": {
           "diverging": [
            [
             0,
             "#8e0152"
            ],
            [
             0.1,
             "#c51b7d"
            ],
            [
             0.2,
             "#de77ae"
            ],
            [
             0.3,
             "#f1b6da"
            ],
            [
             0.4,
             "#fde0ef"
            ],
            [
             0.5,
             "#f7f7f7"
            ],
            [
             0.6,
             "#e6f5d0"
            ],
            [
             0.7,
             "#b8e186"
            ],
            [
             0.8,
             "#7fbc41"
            ],
            [
             0.9,
             "#4d9221"
            ],
            [
             1,
             "#276419"
            ]
           ],
           "sequential": [
            [
             0,
             "#0d0887"
            ],
            [
             0.1111111111111111,
             "#46039f"
            ],
            [
             0.2222222222222222,
             "#7201a8"
            ],
            [
             0.3333333333333333,
             "#9c179e"
            ],
            [
             0.4444444444444444,
             "#bd3786"
            ],
            [
             0.5555555555555556,
             "#d8576b"
            ],
            [
             0.6666666666666666,
             "#ed7953"
            ],
            [
             0.7777777777777778,
             "#fb9f3a"
            ],
            [
             0.8888888888888888,
             "#fdca26"
            ],
            [
             1,
             "#f0f921"
            ]
           ],
           "sequentialminus": [
            [
             0,
             "#0d0887"
            ],
            [
             0.1111111111111111,
             "#46039f"
            ],
            [
             0.2222222222222222,
             "#7201a8"
            ],
            [
             0.3333333333333333,
             "#9c179e"
            ],
            [
             0.4444444444444444,
             "#bd3786"
            ],
            [
             0.5555555555555556,
             "#d8576b"
            ],
            [
             0.6666666666666666,
             "#ed7953"
            ],
            [
             0.7777777777777778,
             "#fb9f3a"
            ],
            [
             0.8888888888888888,
             "#fdca26"
            ],
            [
             1,
             "#f0f921"
            ]
           ]
          },
          "colorway": [
           "#636efa",
           "#EF553B",
           "#00cc96",
           "#ab63fa",
           "#FFA15A",
           "#19d3f3",
           "#FF6692",
           "#B6E880",
           "#FF97FF",
           "#FECB52"
          ],
          "font": {
           "color": "#2a3f5f"
          },
          "geo": {
           "bgcolor": "white",
           "lakecolor": "white",
           "landcolor": "#E5ECF6",
           "showlakes": true,
           "showland": true,
           "subunitcolor": "white"
          },
          "hoverlabel": {
           "align": "left"
          },
          "hovermode": "closest",
          "mapbox": {
           "style": "light"
          },
          "paper_bgcolor": "white",
          "plot_bgcolor": "#E5ECF6",
          "polar": {
           "angularaxis": {
            "gridcolor": "white",
            "linecolor": "white",
            "ticks": ""
           },
           "bgcolor": "#E5ECF6",
           "radialaxis": {
            "gridcolor": "white",
            "linecolor": "white",
            "ticks": ""
           }
          },
          "scene": {
           "xaxis": {
            "backgroundcolor": "#E5ECF6",
            "gridcolor": "white",
            "gridwidth": 2,
            "linecolor": "white",
            "showbackground": true,
            "ticks": "",
            "zerolinecolor": "white"
           },
           "yaxis": {
            "backgroundcolor": "#E5ECF6",
            "gridcolor": "white",
            "gridwidth": 2,
            "linecolor": "white",
            "showbackground": true,
            "ticks": "",
            "zerolinecolor": "white"
           },
           "zaxis": {
            "backgroundcolor": "#E5ECF6",
            "gridcolor": "white",
            "gridwidth": 2,
            "linecolor": "white",
            "showbackground": true,
            "ticks": "",
            "zerolinecolor": "white"
           }
          },
          "shapedefaults": {
           "line": {
            "color": "#2a3f5f"
           }
          },
          "ternary": {
           "aaxis": {
            "gridcolor": "white",
            "linecolor": "white",
            "ticks": ""
           },
           "baxis": {
            "gridcolor": "white",
            "linecolor": "white",
            "ticks": ""
           },
           "bgcolor": "#E5ECF6",
           "caxis": {
            "gridcolor": "white",
            "linecolor": "white",
            "ticks": ""
           }
          },
          "title": {
           "x": 0.05
          },
          "xaxis": {
           "automargin": true,
           "gridcolor": "white",
           "linecolor": "white",
           "ticks": "",
           "title": {
            "standoff": 15
           },
           "zerolinecolor": "white",
           "zerolinewidth": 2
          },
          "yaxis": {
           "automargin": true,
           "gridcolor": "white",
           "linecolor": "white",
           "ticks": "",
           "title": {
            "standoff": 15
           },
           "zerolinecolor": "white",
           "zerolinewidth": 2
          }
         }
        },
        "title": {
         "text": "Distance matrix for Diet"
        },
        "xaxis": {
         "anchor": "y",
         "constrain": "domain",
         "domain": [
          0,
          1
         ],
         "scaleanchor": "y"
        },
        "yaxis": {
         "anchor": "x",
         "autorange": "reversed",
         "constrain": "domain",
         "domain": [
          0,
          1
         ]
        }
       }
      }
     },
     "metadata": {},
     "output_type": "display_data"
    },
    {
     "data": {
      "application/vnd.plotly.v1+json": {
       "config": {
        "plotlyServerURL": "https://plot.ly"
       },
       "data": [
        {
         "hoverinfo": "text",
         "marker": {
          "color": "rgb(248, 156, 116)"
         },
         "mode": "lines",
         "type": "scatter",
         "x": [
          25,
          25,
          35,
          35
         ],
         "xaxis": "x",
         "y": [
          0,
          0.1,
          0.1,
          0
         ],
         "yaxis": "y"
        },
        {
         "hoverinfo": "text",
         "marker": {
          "color": "rgb(248, 156, 116)"
         },
         "mode": "lines",
         "type": "scatter",
         "x": [
          15,
          15,
          30,
          30
         ],
         "xaxis": "x",
         "y": [
          0,
          0.1,
          0.1,
          0.1
         ],
         "yaxis": "y"
        },
        {
         "hoverinfo": "text",
         "marker": {
          "color": "rgb(248, 156, 116)"
         },
         "mode": "lines",
         "type": "scatter",
         "x": [
          55,
          55,
          65,
          65
         ],
         "xaxis": "x",
         "y": [
          0,
          0.1,
          0.1,
          0
         ],
         "yaxis": "y"
        },
        {
         "hoverinfo": "text",
         "marker": {
          "color": "rgb(248, 156, 116)"
         },
         "mode": "lines",
         "type": "scatter",
         "x": [
          45,
          45,
          60,
          60
         ],
         "xaxis": "x",
         "y": [
          0,
          0.1,
          0.1,
          0.1
         ],
         "yaxis": "y"
        },
        {
         "hoverinfo": "text",
         "marker": {
          "color": "rgb(248, 156, 116)"
         },
         "mode": "lines",
         "type": "scatter",
         "x": [
          22.5,
          22.5,
          52.5,
          52.5
         ],
         "xaxis": "x",
         "y": [
          0.1,
          0.10000000000000002,
          0.10000000000000002,
          0.1
         ],
         "yaxis": "y"
        },
        {
         "hoverinfo": "text",
         "marker": {
          "color": "rgb(158, 185, 243)"
         },
         "mode": "lines",
         "type": "scatter",
         "x": [
          75,
          75,
          85,
          85
         ],
         "xaxis": "x",
         "y": [
          0,
          0.37735009811261444,
          0.37735009811261444,
          0
         ],
         "yaxis": "y"
        },
        {
         "hoverinfo": "text",
         "marker": {
          "color": "rgb(158, 185, 243)"
         },
         "mode": "lines",
         "type": "scatter",
         "x": [
          95,
          95,
          105,
          105
         ],
         "xaxis": "x",
         "y": [
          0,
          0.3581988897471611,
          0.3581988897471611,
          0
         ],
         "yaxis": "y"
        },
        {
         "hoverinfo": "text",
         "marker": {
          "color": "rgb(158, 185, 243)"
         },
         "mode": "lines",
         "type": "scatter",
         "x": [
          145,
          145,
          155,
          155
         ],
         "xaxis": "x",
         "y": [
          0,
          0.1,
          0.1,
          0
         ],
         "yaxis": "y"
        },
        {
         "hoverinfo": "text",
         "marker": {
          "color": "rgb(158, 185, 243)"
         },
         "mode": "lines",
         "type": "scatter",
         "x": [
          135,
          135,
          150,
          150
         ],
         "xaxis": "x",
         "y": [
          0,
          0.1,
          0.1,
          0.1
         ],
         "yaxis": "y"
        },
        {
         "hoverinfo": "text",
         "marker": {
          "color": "rgb(158, 185, 243)"
         },
         "mode": "lines",
         "type": "scatter",
         "x": [
          125,
          125,
          142.5,
          142.5
         ],
         "xaxis": "x",
         "y": [
          0,
          0.3581988897471611,
          0.3581988897471611,
          0.1
         ],
         "yaxis": "y"
        },
        {
         "hoverinfo": "text",
         "marker": {
          "color": "rgb(158, 185, 243)"
         },
         "mode": "lines",
         "type": "scatter",
         "x": [
          115,
          115,
          133.75,
          133.75
         ],
         "xaxis": "x",
         "y": [
          0,
          0.4025036918367677,
          0.4025036918367677,
          0.3581988897471611
         ],
         "yaxis": "y"
        },
        {
         "hoverinfo": "text",
         "marker": {
          "color": "rgb(158, 185, 243)"
         },
         "mode": "lines",
         "type": "scatter",
         "x": [
          100,
          100,
          124.375,
          124.375
         ],
         "xaxis": "x",
         "y": [
          0.3581988897471611,
          0.4364571645484238,
          0.4364571645484238,
          0.4025036918367677
         ],
         "yaxis": "y"
        },
        {
         "hoverinfo": "text",
         "marker": {
          "color": "rgb(158, 185, 243)"
         },
         "mode": "lines",
         "type": "scatter",
         "x": [
          80,
          80,
          112.1875,
          112.1875
         ],
         "xaxis": "x",
         "y": [
          0.37735009811261444,
          0.49427425339308073,
          0.49427425339308073,
          0.4364571645484238
         ],
         "yaxis": "y"
        },
        {
         "hoverinfo": "text",
         "marker": {
          "color": "rgb(158, 185, 243)"
         },
         "mode": "lines",
         "type": "scatter",
         "x": [
          165,
          165,
          175,
          175
         ],
         "xaxis": "x",
         "y": [
          0,
          0.5264014327112209,
          0.5264014327112209,
          0
         ],
         "yaxis": "y"
        },
        {
         "hoverinfo": "text",
         "marker": {
          "color": "rgb(158, 185, 243)"
         },
         "mode": "lines",
         "type": "scatter",
         "x": [
          96.09375,
          96.09375,
          170,
          170
         ],
         "xaxis": "x",
         "y": [
          0.49427425339308073,
          0.5894440722677585,
          0.5894440722677585,
          0.5264014327112209
         ],
         "yaxis": "y"
        },
        {
         "hoverinfo": "text",
         "marker": {
          "color": "rgb(246, 207, 113)"
         },
         "mode": "lines",
         "type": "scatter",
         "x": [
          195,
          195,
          205,
          205
         ],
         "xaxis": "x",
         "y": [
          0,
          0.1,
          0.1,
          0
         ],
         "yaxis": "y"
        },
        {
         "hoverinfo": "text",
         "marker": {
          "color": "rgb(246, 207, 113)"
         },
         "mode": "lines",
         "type": "scatter",
         "x": [
          185,
          185,
          200,
          200
         ],
         "xaxis": "x",
         "y": [
          0,
          0.1,
          0.1,
          0.1
         ],
         "yaxis": "y"
        },
        {
         "hoverinfo": "text",
         "marker": {
          "color": "rgb(135, 197, 95)"
         },
         "mode": "lines",
         "type": "scatter",
         "x": [
          235,
          235,
          245,
          245
         ],
         "xaxis": "x",
         "y": [
          0,
          0.1,
          0.1,
          0
         ],
         "yaxis": "y"
        },
        {
         "hoverinfo": "text",
         "marker": {
          "color": "rgb(135, 197, 95)"
         },
         "mode": "lines",
         "type": "scatter",
         "x": [
          225,
          225,
          240,
          240
         ],
         "xaxis": "x",
         "y": [
          0,
          0.1,
          0.1,
          0.1
         ],
         "yaxis": "y"
        },
        {
         "hoverinfo": "text",
         "marker": {
          "color": "rgb(135, 197, 95)"
         },
         "mode": "lines",
         "type": "scatter",
         "x": [
          255,
          255,
          265,
          265
         ],
         "xaxis": "x",
         "y": [
          0,
          0.1,
          0.1,
          0
         ],
         "yaxis": "y"
        },
        {
         "hoverinfo": "text",
         "marker": {
          "color": "rgb(135, 197, 95)"
         },
         "mode": "lines",
         "type": "scatter",
         "x": [
          232.5,
          232.5,
          260,
          260
         ],
         "xaxis": "x",
         "y": [
          0.1,
          0.10000000000000002,
          0.10000000000000002,
          0.1
         ],
         "yaxis": "y"
        },
        {
         "hoverinfo": "text",
         "marker": {
          "color": "rgb(135, 197, 95)"
         },
         "mode": "lines",
         "type": "scatter",
         "x": [
          215,
          215,
          246.25,
          246.25
         ],
         "xaxis": "x",
         "y": [
          0,
          0.5472135954999577,
          0.5472135954999577,
          0.10000000000000002
         ],
         "yaxis": "y"
        },
        {
         "hoverinfo": "text",
         "marker": {
          "color": "rgb(135, 197, 95)"
         },
         "mode": "lines",
         "type": "scatter",
         "x": [
          295,
          295,
          305,
          305
         ],
         "xaxis": "x",
         "y": [
          0,
          0.1,
          0.1,
          0
         ],
         "yaxis": "y"
        },
        {
         "hoverinfo": "text",
         "marker": {
          "color": "rgb(135, 197, 95)"
         },
         "mode": "lines",
         "type": "scatter",
         "x": [
          285,
          285,
          300,
          300
         ],
         "xaxis": "x",
         "y": [
          0,
          0.43333333333333346,
          0.43333333333333346,
          0.1
         ],
         "yaxis": "y"
        },
        {
         "hoverinfo": "text",
         "marker": {
          "color": "rgb(135, 197, 95)"
         },
         "mode": "lines",
         "type": "scatter",
         "x": [
          275,
          275,
          292.5,
          292.5
         ],
         "xaxis": "x",
         "y": [
          0,
          0.5186429820061514,
          0.5186429820061514,
          0.43333333333333346
         ],
         "yaxis": "y"
        },
        {
         "hoverinfo": "text",
         "marker": {
          "color": "rgb(135, 197, 95)"
         },
         "mode": "lines",
         "type": "scatter",
         "x": [
          365,
          365,
          375,
          375
         ],
         "xaxis": "x",
         "y": [
          0,
          0.1,
          0.1,
          0
         ],
         "yaxis": "y"
        },
        {
         "hoverinfo": "text",
         "marker": {
          "color": "rgb(135, 197, 95)"
         },
         "mode": "lines",
         "type": "scatter",
         "x": [
          355,
          355,
          370,
          370
         ],
         "xaxis": "x",
         "y": [
          0,
          0.1,
          0.1,
          0.1
         ],
         "yaxis": "y"
        },
        {
         "hoverinfo": "text",
         "marker": {
          "color": "rgb(135, 197, 95)"
         },
         "mode": "lines",
         "type": "scatter",
         "x": [
          345,
          345,
          362.5,
          362.5
         ],
         "xaxis": "x",
         "y": [
          0,
          0.10000000000000002,
          0.10000000000000002,
          0.1
         ],
         "yaxis": "y"
        },
        {
         "hoverinfo": "text",
         "marker": {
          "color": "rgb(135, 197, 95)"
         },
         "mode": "lines",
         "type": "scatter",
         "x": [
          335,
          335,
          353.75,
          353.75
         ],
         "xaxis": "x",
         "y": [
          0,
          0.4779644730092273,
          0.4779644730092273,
          0.10000000000000002
         ],
         "yaxis": "y"
        },
        {
         "hoverinfo": "text",
         "marker": {
          "color": "rgb(135, 197, 95)"
         },
         "mode": "lines",
         "type": "scatter",
         "x": [
          325,
          325,
          344.375,
          344.375
         ],
         "xaxis": "x",
         "y": [
          0,
          0.5023715784073819,
          0.5023715784073819,
          0.4779644730092273
         ],
         "yaxis": "y"
        },
        {
         "hoverinfo": "text",
         "marker": {
          "color": "rgb(135, 197, 95)"
         },
         "mode": "lines",
         "type": "scatter",
         "x": [
          315,
          315,
          334.6875,
          334.6875
         ],
         "xaxis": "x",
         "y": [
          0,
          0.5905924867298472,
          0.5905924867298472,
          0.5023715784073819
         ],
         "yaxis": "y"
        },
        {
         "hoverinfo": "text",
         "marker": {
          "color": "rgb(135, 197, 95)"
         },
         "mode": "lines",
         "type": "scatter",
         "x": [
          283.75,
          283.75,
          324.84375,
          324.84375
         ],
         "xaxis": "x",
         "y": [
          0.5186429820061514,
          0.6136098435341514,
          0.6136098435341514,
          0.5905924867298472
         ],
         "yaxis": "y"
        },
        {
         "hoverinfo": "text",
         "marker": {
          "color": "rgb(135, 197, 95)"
         },
         "mode": "lines",
         "type": "scatter",
         "x": [
          230.625,
          230.625,
          304.296875,
          304.296875
         ],
         "xaxis": "x",
         "y": [
          0.5472135954999577,
          0.653382075908669,
          0.653382075908669,
          0.6136098435341514
         ],
         "yaxis": "y"
        },
        {
         "hoverinfo": "text",
         "marker": {
          "color": "rgb(102, 197, 204)"
         },
         "mode": "lines",
         "type": "scatter",
         "x": [
          192.5,
          192.5,
          267.4609375,
          267.4609375
         ],
         "xaxis": "x",
         "y": [
          0.1,
          0.783625032950041,
          0.783625032950041,
          0.653382075908669
         ],
         "yaxis": "y"
        },
        {
         "hoverinfo": "text",
         "marker": {
          "color": "rgb(102, 197, 204)"
         },
         "mode": "lines",
         "type": "scatter",
         "x": [
          133.046875,
          133.046875,
          229.98046875,
          229.98046875
         ],
         "xaxis": "x",
         "y": [
          0.5894440722677585,
          0.8196050618604293,
          0.8196050618604293,
          0.783625032950041
         ],
         "yaxis": "y"
        },
        {
         "hoverinfo": "text",
         "marker": {
          "color": "rgb(102, 197, 204)"
         },
         "mode": "lines",
         "type": "scatter",
         "x": [
          37.5,
          37.5,
          181.513671875,
          181.513671875
         ],
         "xaxis": "x",
         "y": [
          0.10000000000000002,
          0.8952995769376532,
          0.8952995769376532,
          0.8196050618604293
         ],
         "yaxis": "y"
        },
        {
         "hoverinfo": "text",
         "marker": {
          "color": "rgb(102, 197, 204)"
         },
         "mode": "lines",
         "type": "scatter",
         "x": [
          5,
          5,
          109.5068359375,
          109.5068359375
         ],
         "xaxis": "x",
         "y": [
          0,
          1.0652791490951607,
          1.0652791490951607,
          0.8952995769376532
         ],
         "yaxis": "y"
        }
       ],
       "layout": {
        "autosize": false,
        "height": null,
        "hovermode": "closest",
        "showlegend": false,
        "template": {
         "data": {
          "bar": [
           {
            "error_x": {
             "color": "#2a3f5f"
            },
            "error_y": {
             "color": "#2a3f5f"
            },
            "marker": {
             "line": {
              "color": "#E5ECF6",
              "width": 0.5
             },
             "pattern": {
              "fillmode": "overlay",
              "size": 10,
              "solidity": 0.2
             }
            },
            "type": "bar"
           }
          ],
          "barpolar": [
           {
            "marker": {
             "line": {
              "color": "#E5ECF6",
              "width": 0.5
             },
             "pattern": {
              "fillmode": "overlay",
              "size": 10,
              "solidity": 0.2
             }
            },
            "type": "barpolar"
           }
          ],
          "carpet": [
           {
            "aaxis": {
             "endlinecolor": "#2a3f5f",
             "gridcolor": "white",
             "linecolor": "white",
             "minorgridcolor": "white",
             "startlinecolor": "#2a3f5f"
            },
            "baxis": {
             "endlinecolor": "#2a3f5f",
             "gridcolor": "white",
             "linecolor": "white",
             "minorgridcolor": "white",
             "startlinecolor": "#2a3f5f"
            },
            "type": "carpet"
           }
          ],
          "choropleth": [
           {
            "colorbar": {
             "outlinewidth": 0,
             "ticks": ""
            },
            "type": "choropleth"
           }
          ],
          "contour": [
           {
            "colorbar": {
             "outlinewidth": 0,
             "ticks": ""
            },
            "colorscale": [
             [
              0,
              "#0d0887"
             ],
             [
              0.1111111111111111,
              "#46039f"
             ],
             [
              0.2222222222222222,
              "#7201a8"
             ],
             [
              0.3333333333333333,
              "#9c179e"
             ],
             [
              0.4444444444444444,
              "#bd3786"
             ],
             [
              0.5555555555555556,
              "#d8576b"
             ],
             [
              0.6666666666666666,
              "#ed7953"
             ],
             [
              0.7777777777777778,
              "#fb9f3a"
             ],
             [
              0.8888888888888888,
              "#fdca26"
             ],
             [
              1,
              "#f0f921"
             ]
            ],
            "type": "contour"
           }
          ],
          "contourcarpet": [
           {
            "colorbar": {
             "outlinewidth": 0,
             "ticks": ""
            },
            "type": "contourcarpet"
           }
          ],
          "heatmap": [
           {
            "colorbar": {
             "outlinewidth": 0,
             "ticks": ""
            },
            "colorscale": [
             [
              0,
              "#0d0887"
             ],
             [
              0.1111111111111111,
              "#46039f"
             ],
             [
              0.2222222222222222,
              "#7201a8"
             ],
             [
              0.3333333333333333,
              "#9c179e"
             ],
             [
              0.4444444444444444,
              "#bd3786"
             ],
             [
              0.5555555555555556,
              "#d8576b"
             ],
             [
              0.6666666666666666,
              "#ed7953"
             ],
             [
              0.7777777777777778,
              "#fb9f3a"
             ],
             [
              0.8888888888888888,
              "#fdca26"
             ],
             [
              1,
              "#f0f921"
             ]
            ],
            "type": "heatmap"
           }
          ],
          "heatmapgl": [
           {
            "colorbar": {
             "outlinewidth": 0,
             "ticks": ""
            },
            "colorscale": [
             [
              0,
              "#0d0887"
             ],
             [
              0.1111111111111111,
              "#46039f"
             ],
             [
              0.2222222222222222,
              "#7201a8"
             ],
             [
              0.3333333333333333,
              "#9c179e"
             ],
             [
              0.4444444444444444,
              "#bd3786"
             ],
             [
              0.5555555555555556,
              "#d8576b"
             ],
             [
              0.6666666666666666,
              "#ed7953"
             ],
             [
              0.7777777777777778,
              "#fb9f3a"
             ],
             [
              0.8888888888888888,
              "#fdca26"
             ],
             [
              1,
              "#f0f921"
             ]
            ],
            "type": "heatmapgl"
           }
          ],
          "histogram": [
           {
            "marker": {
             "pattern": {
              "fillmode": "overlay",
              "size": 10,
              "solidity": 0.2
             }
            },
            "type": "histogram"
           }
          ],
          "histogram2d": [
           {
            "colorbar": {
             "outlinewidth": 0,
             "ticks": ""
            },
            "colorscale": [
             [
              0,
              "#0d0887"
             ],
             [
              0.1111111111111111,
              "#46039f"
             ],
             [
              0.2222222222222222,
              "#7201a8"
             ],
             [
              0.3333333333333333,
              "#9c179e"
             ],
             [
              0.4444444444444444,
              "#bd3786"
             ],
             [
              0.5555555555555556,
              "#d8576b"
             ],
             [
              0.6666666666666666,
              "#ed7953"
             ],
             [
              0.7777777777777778,
              "#fb9f3a"
             ],
             [
              0.8888888888888888,
              "#fdca26"
             ],
             [
              1,
              "#f0f921"
             ]
            ],
            "type": "histogram2d"
           }
          ],
          "histogram2dcontour": [
           {
            "colorbar": {
             "outlinewidth": 0,
             "ticks": ""
            },
            "colorscale": [
             [
              0,
              "#0d0887"
             ],
             [
              0.1111111111111111,
              "#46039f"
             ],
             [
              0.2222222222222222,
              "#7201a8"
             ],
             [
              0.3333333333333333,
              "#9c179e"
             ],
             [
              0.4444444444444444,
              "#bd3786"
             ],
             [
              0.5555555555555556,
              "#d8576b"
             ],
             [
              0.6666666666666666,
              "#ed7953"
             ],
             [
              0.7777777777777778,
              "#fb9f3a"
             ],
             [
              0.8888888888888888,
              "#fdca26"
             ],
             [
              1,
              "#f0f921"
             ]
            ],
            "type": "histogram2dcontour"
           }
          ],
          "mesh3d": [
           {
            "colorbar": {
             "outlinewidth": 0,
             "ticks": ""
            },
            "type": "mesh3d"
           }
          ],
          "parcoords": [
           {
            "line": {
             "colorbar": {
              "outlinewidth": 0,
              "ticks": ""
             }
            },
            "type": "parcoords"
           }
          ],
          "pie": [
           {
            "automargin": true,
            "type": "pie"
           }
          ],
          "scatter": [
           {
            "fillpattern": {
             "fillmode": "overlay",
             "size": 10,
             "solidity": 0.2
            },
            "type": "scatter"
           }
          ],
          "scatter3d": [
           {
            "line": {
             "colorbar": {
              "outlinewidth": 0,
              "ticks": ""
             }
            },
            "marker": {
             "colorbar": {
              "outlinewidth": 0,
              "ticks": ""
             }
            },
            "type": "scatter3d"
           }
          ],
          "scattercarpet": [
           {
            "marker": {
             "colorbar": {
              "outlinewidth": 0,
              "ticks": ""
             }
            },
            "type": "scattercarpet"
           }
          ],
          "scattergeo": [
           {
            "marker": {
             "colorbar": {
              "outlinewidth": 0,
              "ticks": ""
             }
            },
            "type": "scattergeo"
           }
          ],
          "scattergl": [
           {
            "marker": {
             "colorbar": {
              "outlinewidth": 0,
              "ticks": ""
             }
            },
            "type": "scattergl"
           }
          ],
          "scattermapbox": [
           {
            "marker": {
             "colorbar": {
              "outlinewidth": 0,
              "ticks": ""
             }
            },
            "type": "scattermapbox"
           }
          ],
          "scatterpolar": [
           {
            "marker": {
             "colorbar": {
              "outlinewidth": 0,
              "ticks": ""
             }
            },
            "type": "scatterpolar"
           }
          ],
          "scatterpolargl": [
           {
            "marker": {
             "colorbar": {
              "outlinewidth": 0,
              "ticks": ""
             }
            },
            "type": "scatterpolargl"
           }
          ],
          "scatterternary": [
           {
            "marker": {
             "colorbar": {
              "outlinewidth": 0,
              "ticks": ""
             }
            },
            "type": "scatterternary"
           }
          ],
          "surface": [
           {
            "colorbar": {
             "outlinewidth": 0,
             "ticks": ""
            },
            "colorscale": [
             [
              0,
              "#0d0887"
             ],
             [
              0.1111111111111111,
              "#46039f"
             ],
             [
              0.2222222222222222,
              "#7201a8"
             ],
             [
              0.3333333333333333,
              "#9c179e"
             ],
             [
              0.4444444444444444,
              "#bd3786"
             ],
             [
              0.5555555555555556,
              "#d8576b"
             ],
             [
              0.6666666666666666,
              "#ed7953"
             ],
             [
              0.7777777777777778,
              "#fb9f3a"
             ],
             [
              0.8888888888888888,
              "#fdca26"
             ],
             [
              1,
              "#f0f921"
             ]
            ],
            "type": "surface"
           }
          ],
          "table": [
           {
            "cells": {
             "fill": {
              "color": "#EBF0F8"
             },
             "line": {
              "color": "white"
             }
            },
            "header": {
             "fill": {
              "color": "#C8D4E3"
             },
             "line": {
              "color": "white"
             }
            },
            "type": "table"
           }
          ]
         },
         "layout": {
          "annotationdefaults": {
           "arrowcolor": "#2a3f5f",
           "arrowhead": 0,
           "arrowwidth": 1
          },
          "autotypenumbers": "strict",
          "coloraxis": {
           "colorbar": {
            "outlinewidth": 0,
            "ticks": ""
           }
          },
          "colorscale": {
           "diverging": [
            [
             0,
             "#8e0152"
            ],
            [
             0.1,
             "#c51b7d"
            ],
            [
             0.2,
             "#de77ae"
            ],
            [
             0.3,
             "#f1b6da"
            ],
            [
             0.4,
             "#fde0ef"
            ],
            [
             0.5,
             "#f7f7f7"
            ],
            [
             0.6,
             "#e6f5d0"
            ],
            [
             0.7,
             "#b8e186"
            ],
            [
             0.8,
             "#7fbc41"
            ],
            [
             0.9,
             "#4d9221"
            ],
            [
             1,
             "#276419"
            ]
           ],
           "sequential": [
            [
             0,
             "#0d0887"
            ],
            [
             0.1111111111111111,
             "#46039f"
            ],
            [
             0.2222222222222222,
             "#7201a8"
            ],
            [
             0.3333333333333333,
             "#9c179e"
            ],
            [
             0.4444444444444444,
             "#bd3786"
            ],
            [
             0.5555555555555556,
             "#d8576b"
            ],
            [
             0.6666666666666666,
             "#ed7953"
            ],
            [
             0.7777777777777778,
             "#fb9f3a"
            ],
            [
             0.8888888888888888,
             "#fdca26"
            ],
            [
             1,
             "#f0f921"
            ]
           ],
           "sequentialminus": [
            [
             0,
             "#0d0887"
            ],
            [
             0.1111111111111111,
             "#46039f"
            ],
            [
             0.2222222222222222,
             "#7201a8"
            ],
            [
             0.3333333333333333,
             "#9c179e"
            ],
            [
             0.4444444444444444,
             "#bd3786"
            ],
            [
             0.5555555555555556,
             "#d8576b"
            ],
            [
             0.6666666666666666,
             "#ed7953"
            ],
            [
             0.7777777777777778,
             "#fb9f3a"
            ],
            [
             0.8888888888888888,
             "#fdca26"
            ],
            [
             1,
             "#f0f921"
            ]
           ]
          },
          "colorway": [
           "#636efa",
           "#EF553B",
           "#00cc96",
           "#ab63fa",
           "#FFA15A",
           "#19d3f3",
           "#FF6692",
           "#B6E880",
           "#FF97FF",
           "#FECB52"
          ],
          "font": {
           "color": "#2a3f5f"
          },
          "geo": {
           "bgcolor": "white",
           "lakecolor": "white",
           "landcolor": "#E5ECF6",
           "showlakes": true,
           "showland": true,
           "subunitcolor": "white"
          },
          "hoverlabel": {
           "align": "left"
          },
          "hovermode": "closest",
          "mapbox": {
           "style": "light"
          },
          "paper_bgcolor": "white",
          "plot_bgcolor": "#E5ECF6",
          "polar": {
           "angularaxis": {
            "gridcolor": "white",
            "linecolor": "white",
            "ticks": ""
           },
           "bgcolor": "#E5ECF6",
           "radialaxis": {
            "gridcolor": "white",
            "linecolor": "white",
            "ticks": ""
           }
          },
          "scene": {
           "xaxis": {
            "backgroundcolor": "#E5ECF6",
            "gridcolor": "white",
            "gridwidth": 2,
            "linecolor": "white",
            "showbackground": true,
            "ticks": "",
            "zerolinecolor": "white"
           },
           "yaxis": {
            "backgroundcolor": "#E5ECF6",
            "gridcolor": "white",
            "gridwidth": 2,
            "linecolor": "white",
            "showbackground": true,
            "ticks": "",
            "zerolinecolor": "white"
           },
           "zaxis": {
            "backgroundcolor": "#E5ECF6",
            "gridcolor": "white",
            "gridwidth": 2,
            "linecolor": "white",
            "showbackground": true,
            "ticks": "",
            "zerolinecolor": "white"
           }
          },
          "shapedefaults": {
           "line": {
            "color": "#2a3f5f"
           }
          },
          "ternary": {
           "aaxis": {
            "gridcolor": "white",
            "linecolor": "white",
            "ticks": ""
           },
           "baxis": {
            "gridcolor": "white",
            "linecolor": "white",
            "ticks": ""
           },
           "bgcolor": "#E5ECF6",
           "caxis": {
            "gridcolor": "white",
            "linecolor": "white",
            "ticks": ""
           }
          },
          "title": {
           "x": 0.05
          },
          "xaxis": {
           "automargin": true,
           "gridcolor": "white",
           "linecolor": "white",
           "ticks": "",
           "title": {
            "standoff": 15
           },
           "zerolinecolor": "white",
           "zerolinewidth": 2
          },
          "yaxis": {
           "automargin": true,
           "gridcolor": "white",
           "linecolor": "white",
           "ticks": "",
           "title": {
            "standoff": 15
           },
           "zerolinecolor": "white",
           "zerolinewidth": 2
          }
         }
        },
        "title": {
         "text": "Hierarchical Clustering on diet data"
        },
        "width": null,
        "xaxis": {
         "mirror": "allticks",
         "rangemode": "tozero",
         "showgrid": false,
         "showline": true,
         "showticklabels": true,
         "tickmode": "array",
         "ticks": "outside",
         "ticktext": [
          "Oxynotus centrina",
          "Leucoraja fullonica",
          "Dipturus oxyrinchus",
          "Leucoraja circularis",
          "Raja polystigma",
          "Leucoraja melitensis",
          "Raja montagui",
          "Etmopterus spinax",
          "Rostroraja alba",
          "Chimaera monstrosa",
          "Mustelus mustelus",
          "Dipturus batis",
          "Myliobatis aquila",
          "Scyliorhinus canicula",
          "Bathyraja brachyurops",
          "Raja miraletus",
          "Galeus melastomus",
          "Squalus acanthias",
          "Torpedo torpedo",
          "Tetronarce nobiliana",
          "Torpedo marmorata",
          "Mustelus asterias",
          "Raja brachyura",
          "Dasyatis pastinaca",
          "Leucoraja naevus",
          "Raja clavata",
          "Scyliorhinus stellaris",
          "Raja radula",
          "Dalatias licha",
          "Aetomylaeus bovinus",
          "Centrophorus granulosus",
          "Centrophorus uyato",
          "Pteroplatytrygon violacea",
          "Hexanchus griseus",
          "Squalus blainville",
          "Raja asterias",
          "Heptranchias perlo",
          "Mustelus punctulatus"
         ],
         "tickvals": [
          5,
          15,
          25,
          35,
          45,
          55,
          65,
          75,
          85,
          95,
          105,
          115,
          125,
          135,
          145,
          155,
          165,
          175,
          185,
          195,
          205,
          215,
          225,
          235,
          245,
          255,
          265,
          275,
          285,
          295,
          305,
          315,
          325,
          335,
          345,
          355,
          365,
          375
         ],
         "type": "linear",
         "zeroline": false
        },
        "yaxis": {
         "mirror": "allticks",
         "rangemode": "tozero",
         "showgrid": false,
         "showline": true,
         "showticklabels": true,
         "ticks": "outside",
         "type": "linear",
         "zeroline": false
        }
       }
      }
     },
     "metadata": {},
     "output_type": "display_data"
    },
    {
     "data": {
      "application/vnd.plotly.v1+json": {
       "config": {
        "plotlyServerURL": "https://plot.ly"
       },
       "data": [
        {
         "coloraxis": "coloraxis",
         "hovertemplate": "x: %{x}<br>y: %{y}<br>color: %{z}<extra></extra>",
         "name": "0",
         "type": "heatmap",
         "x": [
          "Aetomylaeus bovinus",
          "Raja asterias",
          "Mustelus asterias",
          "Leucoraja naevus",
          "Raja brachyura",
          "Raja clavata",
          "Hexanchus griseus",
          "Heptranchias perlo",
          "Mustelus punctulatus",
          "Raja radula",
          "Scyliorhinus stellaris",
          "Dasyatis pastinaca",
          "Dalatias licha",
          "Centrophorus uyato",
          "Centrophorus granulosus",
          "Squalus blainville",
          "Pteroplatytrygon violacea",
          "Scyliorhinus canicula",
          "Raja miraletus",
          "Squalus acanthias",
          "Rostroraja alba",
          "Mustelus mustelus",
          "Myliobatis aquila",
          "Galeus melastomus",
          "Etmopterus spinax",
          "Dipturus batis",
          "Chimaera monstrosa",
          "Bathyraja brachyurops",
          "Leucoraja melitensis",
          "Leucoraja fullonica",
          "Leucoraja circularis",
          "Raja montagui",
          "Raja polystigma",
          "Dipturus oxyrinchus",
          "Oxynotus centrina",
          "Torpedo marmorata",
          "Tetronarce nobiliana",
          "Torpedo torpedo"
         ],
         "xaxis": "x",
         "y": [
          "Aetomylaeus bovinus",
          "Raja asterias",
          "Mustelus asterias",
          "Leucoraja naevus",
          "Raja brachyura",
          "Raja clavata",
          "Hexanchus griseus",
          "Heptranchias perlo",
          "Mustelus punctulatus",
          "Raja radula",
          "Scyliorhinus stellaris",
          "Dasyatis pastinaca",
          "Dalatias licha",
          "Centrophorus uyato",
          "Centrophorus granulosus",
          "Squalus blainville",
          "Pteroplatytrygon violacea",
          "Scyliorhinus canicula",
          "Raja miraletus",
          "Squalus acanthias",
          "Rostroraja alba",
          "Mustelus mustelus",
          "Myliobatis aquila",
          "Galeus melastomus",
          "Etmopterus spinax",
          "Dipturus batis",
          "Chimaera monstrosa",
          "Bathyraja brachyurops",
          "Leucoraja melitensis",
          "Leucoraja fullonica",
          "Leucoraja circularis",
          "Raja montagui",
          "Raja polystigma",
          "Dipturus oxyrinchus",
          "Oxynotus centrina",
          "Torpedo marmorata",
          "Tetronarce nobiliana",
          "Torpedo torpedo"
         ],
         "yaxis": "y",
         "z": [
          [
           0,
           0.3779644730092273,
           0.6546536707079772,
           0.5773502691896258,
           0.5773502691896258,
           0.5773502691896258,
           0.5,
           0.3779644730092273,
           0.3779644730092273,
           0.3779644730092273,
           0.5773502691896258,
           0.5773502691896258,
           0.3333333333333334,
           0.5773502691896258,
           0,
           0.3779644730092273,
           0.5,
           0.5222329678670935,
           0.5222329678670935,
           0.6831300510639732,
           0.44721359549995787,
           0.5773502691896258,
           0.5773502691896258,
           0.6831300510639732,
           0.5222329678670935,
           0.6324555320336759,
           0.6741998624632421,
           0.5222329678670935,
           0.7745966692414834,
           0.7745966692414834,
           0.7745966692414834,
           0.7745966692414834,
           0.7745966692414834,
           0.7745966692414834,
           1,
           0.7745966692414834,
           0.7745966692414834,
           0.7745966692414834
          ],
          [
           0.3779644730092273,
           0,
           0.5773502691896258,
           0.44721359549995787,
           0.44721359549995787,
           0.44721359549995787,
           0.3779644730092273,
           0,
           0,
           0.5773502691896258,
           0.44721359549995787,
           0.44721359549995787,
           0.5,
           0.44721359549995787,
           0.3779644730092273,
           0,
           0.3779644730092273,
           0.6324555320336759,
           0.6324555320336759,
           0.7559289460184544,
           0.5773502691896258,
           0.6741998624632421,
           0.6741998624632421,
           0.7559289460184544,
           0.6324555320336759,
           0.7453559924999299,
           0.7745966692414834,
           0.6324555320336759,
           0.7071067811865476,
           0.7071067811865476,
           0.7071067811865476,
           0.7071067811865476,
           0.7071067811865476,
           0.7071067811865476,
           1,
           0.7071067811865476,
           0.7071067811865476,
           0.7071067811865476
          ],
          [
           0.6546536707079772,
           0.5773502691896258,
           0,
           0.44721359549995787,
           0.44721359549995787,
           0.44721359549995787,
           0.6546536707079772,
           0.5773502691896258,
           0.5773502691896258,
           0.5773502691896258,
           0.44721359549995787,
           0.44721359549995787,
           0.7071067811865476,
           0.7745966692414834,
           0.6546536707079772,
           0.5773502691896258,
           0.6546536707079772,
           0.7745966692414834,
           0.7745966692414834,
           0.7559289460184544,
           0.7453559924999299,
           0.6741998624632421,
           0.7977240352174656,
           0.8451542547285166,
           0.7745966692414834,
           0.7453559924999299,
           0.6324555320336759,
           0.7745966692414834,
           0.7071067811865476,
           0.7071067811865476,
           0.7071067811865476,
           0.7071067811865476,
           0.7071067811865476,
           0.7071067811865476,
           1,
           0.7071067811865476,
           0.7071067811865476,
           0.7071067811865476
          ],
          [
           0.5773502691896258,
           0.44721359549995787,
           0.44721359549995787,
           0,
           0,
           0,
           0.5773502691896258,
           0.44721359549995787,
           0.44721359549995787,
           0.44721359549995787,
           0,
           0,
           0.6546536707079772,
           0.7071067811865476,
           0.5773502691896258,
           0.44721359549995787,
           0.5773502691896258,
           0.7453559924999299,
           0.7453559924999299,
           0.8320502943378437,
           0.7071067811865476,
           0.7745966692414834,
           0.7745966692414834,
           0.8320502943378437,
           0.7453559924999299,
           0.7071067811865476,
           0.7453559924999299,
           0.7453559924999299,
           0.5773502691896258,
           0.5773502691896258,
           0.5773502691896258,
           0.5773502691896258,
           0.5773502691896258,
           0.5773502691896258,
           1,
           0.5773502691896258,
           0.5773502691896258,
           0.5773502691896258
          ],
          [
           0.5773502691896258,
           0.44721359549995787,
           0.44721359549995787,
           0,
           0,
           0,
           0.5773502691896258,
           0.44721359549995787,
           0.44721359549995787,
           0.44721359549995787,
           0,
           0,
           0.6546536707079772,
           0.7071067811865476,
           0.5773502691896258,
           0.44721359549995787,
           0.5773502691896258,
           0.7453559924999299,
           0.7453559924999299,
           0.8320502943378437,
           0.7071067811865476,
           0.7745966692414834,
           0.7745966692414834,
           0.8320502943378437,
           0.7453559924999299,
           0.7071067811865476,
           0.7453559924999299,
           0.7453559924999299,
           0.5773502691896258,
           0.5773502691896258,
           0.5773502691896258,
           0.5773502691896258,
           0.5773502691896258,
           0.5773502691896258,
           1,
           0.5773502691896258,
           0.5773502691896258,
           0.5773502691896258
          ],
          [
           0.5773502691896258,
           0.44721359549995787,
           0.44721359549995787,
           0,
           0,
           0,
           0.5773502691896258,
           0.44721359549995787,
           0.44721359549995787,
           0.44721359549995787,
           0,
           0,
           0.6546536707079772,
           0.7071067811865476,
           0.5773502691896258,
           0.44721359549995787,
           0.5773502691896258,
           0.7453559924999299,
           0.7453559924999299,
           0.8320502943378437,
           0.7071067811865476,
           0.7745966692414834,
           0.7745966692414834,
           0.8320502943378437,
           0.7453559924999299,
           0.7071067811865476,
           0.7453559924999299,
           0.7453559924999299,
           0.5773502691896258,
           0.5773502691896258,
           0.5773502691896258,
           0.5773502691896258,
           0.5773502691896258,
           0.5773502691896258,
           1,
           0.5773502691896258,
           0.5773502691896258,
           0.5773502691896258
          ],
          [
           0.5,
           0.3779644730092273,
           0.6546536707079772,
           0.5773502691896258,
           0.5773502691896258,
           0.5773502691896258,
           0,
           0.3779644730092273,
           0.3779644730092273,
           0.6546536707079772,
           0.5773502691896258,
           0.5773502691896258,
           0.5773502691896258,
           0.5773502691896258,
           0.5,
           0.3779644730092273,
           0.5,
           0.6741998624632421,
           0.6741998624632421,
           0.7745966692414834,
           0.6324555320336759,
           0.7071067811865476,
           0.7071067811865476,
           0.6831300510639732,
           0.6741998624632421,
           0.7745966692414834,
           0.7977240352174656,
           0.6741998624632421,
           0.7745966692414834,
           0.7745966692414834,
           0.7745966692414834,
           0.7745966692414834,
           0.7745966692414834,
           0.7745966692414834,
           1,
           0.7745966692414834,
           0.7745966692414834,
           0.7745966692414834
          ],
          [
           0.3779644730092273,
           0,
           0.5773502691896258,
           0.44721359549995787,
           0.44721359549995787,
           0.44721359549995787,
           0.3779644730092273,
           0,
           0,
           0.5773502691896258,
           0.44721359549995787,
           0.44721359549995787,
           0.5,
           0.44721359549995787,
           0.3779644730092273,
           0,
           0.3779644730092273,
           0.6324555320336759,
           0.6324555320336759,
           0.7559289460184544,
           0.5773502691896258,
           0.6741998624632421,
           0.6741998624632421,
           0.7559289460184544,
           0.6324555320336759,
           0.7453559924999299,
           0.7745966692414834,
           0.6324555320336759,
           0.7071067811865476,
           0.7071067811865476,
           0.7071067811865476,
           0.7071067811865476,
           0.7071067811865476,
           0.7071067811865476,
           1,
           0.7071067811865476,
           0.7071067811865476,
           0.7071067811865476
          ],
          [
           0.3779644730092273,
           0,
           0.5773502691896258,
           0.44721359549995787,
           0.44721359549995787,
           0.44721359549995787,
           0.3779644730092273,
           0,
           0,
           0.5773502691896258,
           0.44721359549995787,
           0.44721359549995787,
           0.5,
           0.44721359549995787,
           0.3779644730092273,
           0,
           0.3779644730092273,
           0.6324555320336759,
           0.6324555320336759,
           0.7559289460184544,
           0.5773502691896258,
           0.6741998624632421,
           0.6741998624632421,
           0.7559289460184544,
           0.6324555320336759,
           0.7453559924999299,
           0.7745966692414834,
           0.6324555320336759,
           0.7071067811865476,
           0.7071067811865476,
           0.7071067811865476,
           0.7071067811865476,
           0.7071067811865476,
           0.7071067811865476,
           1,
           0.7071067811865476,
           0.7071067811865476,
           0.7071067811865476
          ],
          [
           0.3779644730092273,
           0.5773502691896258,
           0.5773502691896258,
           0.44721359549995787,
           0.44721359549995787,
           0.44721359549995787,
           0.6546536707079772,
           0.5773502691896258,
           0.5773502691896258,
           0,
           0.44721359549995787,
           0.44721359549995787,
           0.5,
           0.7745966692414834,
           0.3779644730092273,
           0.5773502691896258,
           0.6546536707079772,
           0.6324555320336759,
           0.6324555320336759,
           0.7559289460184544,
           0.5773502691896258,
           0.6741998624632421,
           0.6741998624632421,
           0.7559289460184544,
           0.6324555320336759,
           0.5773502691896258,
           0.6324555320336759,
           0.6324555320336759,
           0.7071067811865476,
           0.7071067811865476,
           0.7071067811865476,
           0.7071067811865476,
           0.7071067811865476,
           0.7071067811865476,
           1,
           0.7071067811865476,
           0.7071067811865476,
           0.7071067811865476
          ],
          [
           0.5773502691896258,
           0.44721359549995787,
           0.44721359549995787,
           0,
           0,
           0,
           0.5773502691896258,
           0.44721359549995787,
           0.44721359549995787,
           0.44721359549995787,
           0,
           0,
           0.6546536707079772,
           0.7071067811865476,
           0.5773502691896258,
           0.44721359549995787,
           0.5773502691896258,
           0.7453559924999299,
           0.7453559924999299,
           0.8320502943378437,
           0.7071067811865476,
           0.7745966692414834,
           0.7745966692414834,
           0.8320502943378437,
           0.7453559924999299,
           0.7071067811865476,
           0.7453559924999299,
           0.7453559924999299,
           0.5773502691896258,
           0.5773502691896258,
           0.5773502691896258,
           0.5773502691896258,
           0.5773502691896258,
           0.5773502691896258,
           1,
           0.5773502691896258,
           0.5773502691896258,
           0.5773502691896258
          ],
          [
           0.5773502691896258,
           0.44721359549995787,
           0.44721359549995787,
           0,
           0,
           0,
           0.5773502691896258,
           0.44721359549995787,
           0.44721359549995787,
           0.44721359549995787,
           0,
           0,
           0.6546536707079772,
           0.7071067811865476,
           0.5773502691896258,
           0.44721359549995787,
           0.5773502691896258,
           0.7453559924999299,
           0.7453559924999299,
           0.8320502943378437,
           0.7071067811865476,
           0.7745966692414834,
           0.7745966692414834,
           0.8320502943378437,
           0.7453559924999299,
           0.7071067811865476,
           0.7453559924999299,
           0.7453559924999299,
           0.5773502691896258,
           0.5773502691896258,
           0.5773502691896258,
           0.5773502691896258,
           0.5773502691896258,
           0.5773502691896258,
           1,
           0.5773502691896258,
           0.5773502691896258,
           0.5773502691896258
          ],
          [
           0.3333333333333334,
           0.5,
           0.7071067811865476,
           0.6546536707079772,
           0.6546536707079772,
           0.6546536707079772,
           0.5773502691896258,
           0.5,
           0.5,
           0.5,
           0.6546536707079772,
           0.6546536707079772,
           0,
           0.6546536707079772,
           0.3333333333333334,
           0.5,
           0.5773502691896258,
           0.40824829046386296,
           0.40824829046386296,
           0.6123724356957945,
           0.5222329678670935,
           0.48038446141526137,
           0.48038446141526137,
           0.6123724356957945,
           0.5773502691896258,
           0.5222329678670935,
           0.5773502691896258,
           0.40824829046386296,
           0.816496580927726,
           0.816496580927726,
           0.816496580927726,
           0.816496580927726,
           0.816496580927726,
           0.816496580927726,
           0.816496580927726,
           0.816496580927726,
           0.816496580927726,
           0.816496580927726
          ],
          [
           0.5773502691896258,
           0.44721359549995787,
           0.7745966692414834,
           0.7071067811865476,
           0.7071067811865476,
           0.7071067811865476,
           0.5773502691896258,
           0.44721359549995787,
           0.44721359549995787,
           0.7745966692414834,
           0.7071067811865476,
           0.7071067811865476,
           0.6546536707079772,
           0,
           0.5773502691896258,
           0.44721359549995787,
           0.5773502691896258,
           0.7453559924999299,
           0.7453559924999299,
           0.8320502943378437,
           0.7071067811865476,
           0.7745966692414834,
           0.7745966692414834,
           0.8320502943378437,
           0.7453559924999299,
           0.8660254037844386,
           0.8819171036881969,
           0.7453559924999299,
           1,
           1,
           1,
           1,
           1,
           1,
           1,
           0.5773502691896258,
           0.5773502691896258,
           0.5773502691896258
          ],
          [
           0,
           0.3779644730092273,
           0.6546536707079772,
           0.5773502691896258,
           0.5773502691896258,
           0.5773502691896258,
           0.5,
           0.3779644730092273,
           0.3779644730092273,
           0.3779644730092273,
           0.5773502691896258,
           0.5773502691896258,
           0.3333333333333334,
           0.5773502691896258,
           0,
           0.3779644730092273,
           0.5,
           0.5222329678670935,
           0.5222329678670935,
           0.6831300510639732,
           0.44721359549995787,
           0.5773502691896258,
           0.5773502691896258,
           0.6831300510639732,
           0.5222329678670935,
           0.6324555320336759,
           0.6741998624632421,
           0.5222329678670935,
           0.7745966692414834,
           0.7745966692414834,
           0.7745966692414834,
           0.7745966692414834,
           0.7745966692414834,
           0.7745966692414834,
           1,
           0.7745966692414834,
           0.7745966692414834,
           0.7745966692414834
          ],
          [
           0.3779644730092273,
           0,
           0.5773502691896258,
           0.44721359549995787,
           0.44721359549995787,
           0.44721359549995787,
           0.3779644730092273,
           0,
           0,
           0.5773502691896258,
           0.44721359549995787,
           0.44721359549995787,
           0.5,
           0.44721359549995787,
           0.3779644730092273,
           0,
           0.3779644730092273,
           0.6324555320336759,
           0.6324555320336759,
           0.7559289460184544,
           0.5773502691896258,
           0.6741998624632421,
           0.6741998624632421,
           0.7559289460184544,
           0.6324555320336759,
           0.7453559924999299,
           0.7745966692414834,
           0.6324555320336759,
           0.7071067811865476,
           0.7071067811865476,
           0.7071067811865476,
           0.7071067811865476,
           0.7071067811865476,
           0.7071067811865476,
           1,
           0.7071067811865476,
           0.7071067811865476,
           0.7071067811865476
          ],
          [
           0.5,
           0.3779644730092273,
           0.6546536707079772,
           0.5773502691896258,
           0.5773502691896258,
           0.5773502691896258,
           0.5,
           0.3779644730092273,
           0.3779644730092273,
           0.6546536707079772,
           0.5773502691896258,
           0.5773502691896258,
           0.5773502691896258,
           0.5773502691896258,
           0.5,
           0.3779644730092273,
           0,
           0.6741998624632421,
           0.6741998624632421,
           0.6831300510639732,
           0.6324555320336759,
           0.7071067811865476,
           0.7071067811865476,
           0.6831300510639732,
           0.5222329678670935,
           0.7745966692414834,
           0.7977240352174656,
           0.6741998624632421,
           0.7745966692414834,
           0.7745966692414834,
           0.7745966692414834,
           0.7745966692414834,
           0.7745966692414834,
           0.7745966692414834,
           1,
           0.7745966692414834,
           0.7745966692414834,
           0.7745966692414834
          ],
          [
           0.5222329678670935,
           0.6324555320336759,
           0.7745966692414834,
           0.7453559924999299,
           0.7453559924999299,
           0.7453559924999299,
           0.6741998624632421,
           0.6324555320336759,
           0.6324555320336759,
           0.6324555320336759,
           0.7453559924999299,
           0.7453559924999299,
           0.40824829046386296,
           0.7453559924999299,
           0.5222329678670935,
           0.6324555320336759,
           0.6741998624632421,
           0,
           0,
           0.4714045207910317,
           0.27735009811261446,
           0.2581988897471611,
           0.2581988897471611,
           0.4714045207910317,
           0.3779644730092273,
           0.27735009811261446,
           0.3779644730092273,
           0,
           0.8660254037844386,
           0.8660254037844386,
           0.8660254037844386,
           0.8660254037844386,
           0.8660254037844386,
           0.8660254037844386,
           0.8660254037844386,
           0.8660254037844386,
           0.8660254037844386,
           0.8660254037844386
          ],
          [
           0.5222329678670935,
           0.6324555320336759,
           0.7745966692414834,
           0.7453559924999299,
           0.7453559924999299,
           0.7453559924999299,
           0.6741998624632421,
           0.6324555320336759,
           0.6324555320336759,
           0.6324555320336759,
           0.7453559924999299,
           0.7453559924999299,
           0.40824829046386296,
           0.7453559924999299,
           0.5222329678670935,
           0.6324555320336759,
           0.6741998624632421,
           0,
           0,
           0.4714045207910317,
           0.27735009811261446,
           0.2581988897471611,
           0.2581988897471611,
           0.4714045207910317,
           0.3779644730092273,
           0.27735009811261446,
           0.3779644730092273,
           0,
           0.8660254037844386,
           0.8660254037844386,
           0.8660254037844386,
           0.8660254037844386,
           0.8660254037844386,
           0.8660254037844386,
           0.8660254037844386,
           0.8660254037844386,
           0.8660254037844386,
           0.8660254037844386
          ],
          [
           0.6831300510639732,
           0.7559289460184544,
           0.7559289460184544,
           0.8320502943378437,
           0.8320502943378437,
           0.8320502943378437,
           0.7745966692414834,
           0.7559289460184544,
           0.7559289460184544,
           0.7559289460184544,
           0.8320502943378437,
           0.8320502943378437,
           0.6123724356957945,
           0.8320502943378437,
           0.6831300510639732,
           0.7559289460184544,
           0.6831300510639732,
           0.4714045207910317,
           0.4714045207910317,
           0,
           0.5423261445466404,
           0.3973597071195132,
           0.5129891760425771,
           0.42640143271122083,
           0.4714045207910317,
           0.5423261445466404,
           0.4714045207910317,
           0.4714045207910317,
           0.9128709291752769,
           0.9128709291752769,
           0.9128709291752769,
           0.9128709291752769,
           0.9128709291752769,
           0.9128709291752769,
           0.9128709291752769,
           0.9128709291752769,
           0.9128709291752769,
           0.9128709291752769
          ],
          [
           0.44721359549995787,
           0.5773502691896258,
           0.7453559924999299,
           0.7071067811865476,
           0.7071067811865476,
           0.7071067811865476,
           0.6324555320336759,
           0.5773502691896258,
           0.5773502691896258,
           0.5773502691896258,
           0.7071067811865476,
           0.7071067811865476,
           0.5222329678670935,
           0.7071067811865476,
           0.44721359549995787,
           0.5773502691896258,
           0.6324555320336759,
           0.27735009811261446,
           0.27735009811261446,
           0.5423261445466404,
           0,
           0.3779644730092273,
           0.3779644730092273,
           0.5423261445466404,
           0.27735009811261446,
           0.40824829046386296,
           0.48038446141526137,
           0.27735009811261446,
           0.8451542547285166,
           0.8451542547285166,
           0.8451542547285166,
           0.8451542547285166,
           0.8451542547285166,
           0.8451542547285166,
           1,
           0.8451542547285166,
           0.8451542547285166,
           0.8451542547285166
          ],
          [
           0.5773502691896258,
           0.6741998624632421,
           0.6741998624632421,
           0.7745966692414834,
           0.7745966692414834,
           0.7745966692414834,
           0.7071067811865476,
           0.6741998624632421,
           0.6741998624632421,
           0.6741998624632421,
           0.7745966692414834,
           0.7745966692414834,
           0.48038446141526137,
           0.7745966692414834,
           0.5773502691896258,
           0.6741998624632421,
           0.7071067811865476,
           0.2581988897471611,
           0.2581988897471611,
           0.3973597071195132,
           0.3779644730092273,
           0,
           0.3535533905932738,
           0.5129891760425771,
           0.44721359549995787,
           0.3779644730092273,
           0.2581988897471611,
           0.2581988897471611,
           0.8819171036881969,
           0.8819171036881969,
           0.8819171036881969,
           0.8819171036881969,
           0.8819171036881969,
           0.8819171036881969,
           0.8819171036881969,
           0.8819171036881969,
           0.8819171036881969,
           0.8819171036881969
          ],
          [
           0.5773502691896258,
           0.6741998624632421,
           0.7977240352174656,
           0.7745966692414834,
           0.7745966692414834,
           0.7745966692414834,
           0.7071067811865476,
           0.6741998624632421,
           0.6741998624632421,
           0.6741998624632421,
           0.7745966692414834,
           0.7745966692414834,
           0.48038446141526137,
           0.7745966692414834,
           0.5773502691896258,
           0.6741998624632421,
           0.7071067811865476,
           0.2581988897471611,
           0.2581988897471611,
           0.5129891760425771,
           0.3779644730092273,
           0.3535533905932738,
           0,
           0.3973597071195132,
           0.44721359549995787,
           0.3779644730092273,
           0.44721359549995787,
           0.2581988897471611,
           0.8819171036881969,
           0.8819171036881969,
           0.8819171036881969,
           0.8819171036881969,
           0.8819171036881969,
           0.8819171036881969,
           0.8819171036881969,
           0.8819171036881969,
           0.8819171036881969,
           0.8819171036881969
          ],
          [
           0.6831300510639732,
           0.7559289460184544,
           0.8451542547285166,
           0.8320502943378437,
           0.8320502943378437,
           0.8320502943378437,
           0.6831300510639732,
           0.7559289460184544,
           0.7559289460184544,
           0.7559289460184544,
           0.8320502943378437,
           0.8320502943378437,
           0.6123724356957945,
           0.8320502943378437,
           0.6831300510639732,
           0.7559289460184544,
           0.6831300510639732,
           0.4714045207910317,
           0.4714045207910317,
           0.42640143271122083,
           0.5423261445466404,
           0.5129891760425771,
           0.3973597071195132,
           0,
           0.4714045207910317,
           0.5423261445466404,
           0.5773502691896258,
           0.4714045207910317,
           0.9128709291752769,
           0.9128709291752769,
           0.9128709291752769,
           0.9128709291752769,
           0.9128709291752769,
           0.9128709291752769,
           0.9128709291752769,
           0.9128709291752769,
           0.9128709291752769,
           0.9128709291752769
          ],
          [
           0.5222329678670935,
           0.6324555320336759,
           0.7745966692414834,
           0.7453559924999299,
           0.7453559924999299,
           0.7453559924999299,
           0.6741998624632421,
           0.6324555320336759,
           0.6324555320336759,
           0.6324555320336759,
           0.7453559924999299,
           0.7453559924999299,
           0.5773502691896258,
           0.7453559924999299,
           0.5222329678670935,
           0.6324555320336759,
           0.5222329678670935,
           0.3779644730092273,
           0.3779644730092273,
           0.4714045207910317,
           0.27735009811261446,
           0.44721359549995787,
           0.44721359549995787,
           0.4714045207910317,
           0,
           0.48038446141526137,
           0.5345224838248488,
           0.3779644730092273,
           0.8660254037844386,
           0.8660254037844386,
           0.8660254037844386,
           0.8660254037844386,
           0.8660254037844386,
           0.8660254037844386,
           1,
           0.8660254037844386,
           0.8660254037844386,
           0.8660254037844386
          ],
          [
           0.6324555320336759,
           0.7453559924999299,
           0.7453559924999299,
           0.7071067811865476,
           0.7071067811865476,
           0.7071067811865476,
           0.7745966692414834,
           0.7453559924999299,
           0.7453559924999299,
           0.5773502691896258,
           0.7071067811865476,
           0.7071067811865476,
           0.5222329678670935,
           0.8660254037844386,
           0.6324555320336759,
           0.7453559924999299,
           0.7745966692414834,
           0.27735009811261446,
           0.27735009811261446,
           0.5423261445466404,
           0.40824829046386296,
           0.3779644730092273,
           0.3779644730092273,
           0.5423261445466404,
           0.48038446141526137,
           0,
           0.27735009811261446,
           0.27735009811261446,
           0.8451542547285166,
           0.8451542547285166,
           0.8451542547285166,
           0.8451542547285166,
           0.8451542547285166,
           0.8451542547285166,
           0.8451542547285166,
           0.8451542547285166,
           0.8451542547285166,
           0.8451542547285166
          ],
          [
           0.6741998624632421,
           0.7745966692414834,
           0.6324555320336759,
           0.7453559924999299,
           0.7453559924999299,
           0.7453559924999299,
           0.7977240352174656,
           0.7745966692414834,
           0.7745966692414834,
           0.6324555320336759,
           0.7453559924999299,
           0.7453559924999299,
           0.5773502691896258,
           0.8819171036881969,
           0.6741998624632421,
           0.7745966692414834,
           0.7977240352174656,
           0.3779644730092273,
           0.3779644730092273,
           0.4714045207910317,
           0.48038446141526137,
           0.2581988897471611,
           0.44721359549995787,
           0.5773502691896258,
           0.5345224838248488,
           0.27735009811261446,
           0,
           0.3779644730092273,
           0.8660254037844386,
           0.8660254037844386,
           0.8660254037844386,
           0.8660254037844386,
           0.8660254037844386,
           0.8660254037844386,
           0.8660254037844386,
           0.8660254037844386,
           0.8660254037844386,
           0.8660254037844386
          ],
          [
           0.5222329678670935,
           0.6324555320336759,
           0.7745966692414834,
           0.7453559924999299,
           0.7453559924999299,
           0.7453559924999299,
           0.6741998624632421,
           0.6324555320336759,
           0.6324555320336759,
           0.6324555320336759,
           0.7453559924999299,
           0.7453559924999299,
           0.40824829046386296,
           0.7453559924999299,
           0.5222329678670935,
           0.6324555320336759,
           0.6741998624632421,
           0,
           0,
           0.4714045207910317,
           0.27735009811261446,
           0.2581988897471611,
           0.2581988897471611,
           0.4714045207910317,
           0.3779644730092273,
           0.27735009811261446,
           0.3779644730092273,
           0,
           0.8660254037844386,
           0.8660254037844386,
           0.8660254037844386,
           0.8660254037844386,
           0.8660254037844386,
           0.8660254037844386,
           0.8660254037844386,
           0.8660254037844386,
           0.8660254037844386,
           0.8660254037844386
          ],
          [
           0.7745966692414834,
           0.7071067811865476,
           0.7071067811865476,
           0.5773502691896258,
           0.5773502691896258,
           0.5773502691896258,
           0.7745966692414834,
           0.7071067811865476,
           0.7071067811865476,
           0.7071067811865476,
           0.5773502691896258,
           0.5773502691896258,
           0.816496580927726,
           1,
           0.7745966692414834,
           0.7071067811865476,
           0.7745966692414834,
           0.8660254037844386,
           0.8660254037844386,
           0.9128709291752769,
           0.8451542547285166,
           0.8819171036881969,
           0.8819171036881969,
           0.9128709291752769,
           0.8660254037844386,
           0.8451542547285166,
           0.8660254037844386,
           0.8660254037844386,
           0,
           0,
           0,
           0,
           0,
           0,
           1,
           1,
           1,
           1
          ],
          [
           0.7745966692414834,
           0.7071067811865476,
           0.7071067811865476,
           0.5773502691896258,
           0.5773502691896258,
           0.5773502691896258,
           0.7745966692414834,
           0.7071067811865476,
           0.7071067811865476,
           0.7071067811865476,
           0.5773502691896258,
           0.5773502691896258,
           0.816496580927726,
           1,
           0.7745966692414834,
           0.7071067811865476,
           0.7745966692414834,
           0.8660254037844386,
           0.8660254037844386,
           0.9128709291752769,
           0.8451542547285166,
           0.8819171036881969,
           0.8819171036881969,
           0.9128709291752769,
           0.8660254037844386,
           0.8451542547285166,
           0.8660254037844386,
           0.8660254037844386,
           0,
           0,
           0,
           0,
           0,
           0,
           1,
           1,
           1,
           1
          ],
          [
           0.7745966692414834,
           0.7071067811865476,
           0.7071067811865476,
           0.5773502691896258,
           0.5773502691896258,
           0.5773502691896258,
           0.7745966692414834,
           0.7071067811865476,
           0.7071067811865476,
           0.7071067811865476,
           0.5773502691896258,
           0.5773502691896258,
           0.816496580927726,
           1,
           0.7745966692414834,
           0.7071067811865476,
           0.7745966692414834,
           0.8660254037844386,
           0.8660254037844386,
           0.9128709291752769,
           0.8451542547285166,
           0.8819171036881969,
           0.8819171036881969,
           0.9128709291752769,
           0.8660254037844386,
           0.8451542547285166,
           0.8660254037844386,
           0.8660254037844386,
           0,
           0,
           0,
           0,
           0,
           0,
           1,
           1,
           1,
           1
          ],
          [
           0.7745966692414834,
           0.7071067811865476,
           0.7071067811865476,
           0.5773502691896258,
           0.5773502691896258,
           0.5773502691896258,
           0.7745966692414834,
           0.7071067811865476,
           0.7071067811865476,
           0.7071067811865476,
           0.5773502691896258,
           0.5773502691896258,
           0.816496580927726,
           1,
           0.7745966692414834,
           0.7071067811865476,
           0.7745966692414834,
           0.8660254037844386,
           0.8660254037844386,
           0.9128709291752769,
           0.8451542547285166,
           0.8819171036881969,
           0.8819171036881969,
           0.9128709291752769,
           0.8660254037844386,
           0.8451542547285166,
           0.8660254037844386,
           0.8660254037844386,
           0,
           0,
           0,
           0,
           0,
           0,
           1,
           1,
           1,
           1
          ],
          [
           0.7745966692414834,
           0.7071067811865476,
           0.7071067811865476,
           0.5773502691896258,
           0.5773502691896258,
           0.5773502691896258,
           0.7745966692414834,
           0.7071067811865476,
           0.7071067811865476,
           0.7071067811865476,
           0.5773502691896258,
           0.5773502691896258,
           0.816496580927726,
           1,
           0.7745966692414834,
           0.7071067811865476,
           0.7745966692414834,
           0.8660254037844386,
           0.8660254037844386,
           0.9128709291752769,
           0.8451542547285166,
           0.8819171036881969,
           0.8819171036881969,
           0.9128709291752769,
           0.8660254037844386,
           0.8451542547285166,
           0.8660254037844386,
           0.8660254037844386,
           0,
           0,
           0,
           0,
           0,
           0,
           1,
           1,
           1,
           1
          ],
          [
           0.7745966692414834,
           0.7071067811865476,
           0.7071067811865476,
           0.5773502691896258,
           0.5773502691896258,
           0.5773502691896258,
           0.7745966692414834,
           0.7071067811865476,
           0.7071067811865476,
           0.7071067811865476,
           0.5773502691896258,
           0.5773502691896258,
           0.816496580927726,
           1,
           0.7745966692414834,
           0.7071067811865476,
           0.7745966692414834,
           0.8660254037844386,
           0.8660254037844386,
           0.9128709291752769,
           0.8451542547285166,
           0.8819171036881969,
           0.8819171036881969,
           0.9128709291752769,
           0.8660254037844386,
           0.8451542547285166,
           0.8660254037844386,
           0.8660254037844386,
           0,
           0,
           0,
           0,
           0,
           0,
           1,
           1,
           1,
           1
          ],
          [
           1,
           1,
           1,
           1,
           1,
           1,
           1,
           1,
           1,
           1,
           1,
           1,
           0.816496580927726,
           1,
           1,
           1,
           1,
           0.8660254037844386,
           0.8660254037844386,
           0.9128709291752769,
           1,
           0.8819171036881969,
           0.8819171036881969,
           0.9128709291752769,
           1,
           0.8451542547285166,
           0.8660254037844386,
           0.8660254037844386,
           1,
           1,
           1,
           1,
           1,
           1,
           0,
           1,
           1,
           1
          ],
          [
           0.7745966692414834,
           0.7071067811865476,
           0.7071067811865476,
           0.5773502691896258,
           0.5773502691896258,
           0.5773502691896258,
           0.7745966692414834,
           0.7071067811865476,
           0.7071067811865476,
           0.7071067811865476,
           0.5773502691896258,
           0.5773502691896258,
           0.816496580927726,
           0.5773502691896258,
           0.7745966692414834,
           0.7071067811865476,
           0.7745966692414834,
           0.8660254037844386,
           0.8660254037844386,
           0.9128709291752769,
           0.8451542547285166,
           0.8819171036881969,
           0.8819171036881969,
           0.9128709291752769,
           0.8660254037844386,
           0.8451542547285166,
           0.8660254037844386,
           0.8660254037844386,
           1,
           1,
           1,
           1,
           1,
           1,
           1,
           0,
           0,
           0
          ],
          [
           0.7745966692414834,
           0.7071067811865476,
           0.7071067811865476,
           0.5773502691896258,
           0.5773502691896258,
           0.5773502691896258,
           0.7745966692414834,
           0.7071067811865476,
           0.7071067811865476,
           0.7071067811865476,
           0.5773502691896258,
           0.5773502691896258,
           0.816496580927726,
           0.5773502691896258,
           0.7745966692414834,
           0.7071067811865476,
           0.7745966692414834,
           0.8660254037844386,
           0.8660254037844386,
           0.9128709291752769,
           0.8451542547285166,
           0.8819171036881969,
           0.8819171036881969,
           0.9128709291752769,
           0.8660254037844386,
           0.8451542547285166,
           0.8660254037844386,
           0.8660254037844386,
           1,
           1,
           1,
           1,
           1,
           1,
           1,
           0,
           0,
           0
          ],
          [
           0.7745966692414834,
           0.7071067811865476,
           0.7071067811865476,
           0.5773502691896258,
           0.5773502691896258,
           0.5773502691896258,
           0.7745966692414834,
           0.7071067811865476,
           0.7071067811865476,
           0.7071067811865476,
           0.5773502691896258,
           0.5773502691896258,
           0.816496580927726,
           0.5773502691896258,
           0.7745966692414834,
           0.7071067811865476,
           0.7745966692414834,
           0.8660254037844386,
           0.8660254037844386,
           0.9128709291752769,
           0.8451542547285166,
           0.8819171036881969,
           0.8819171036881969,
           0.9128709291752769,
           0.8660254037844386,
           0.8451542547285166,
           0.8660254037844386,
           0.8660254037844386,
           1,
           1,
           1,
           1,
           1,
           1,
           1,
           0,
           0,
           0
          ]
         ]
        }
       ],
       "layout": {
        "coloraxis": {
         "colorscale": [
          [
           0,
           "rgb(234, 172, 139)"
          ],
          [
           0.5,
           "rgb(181, 101, 118)"
          ],
          [
           1,
           "rgb(53, 80, 112)"
          ]
         ]
        },
        "template": {
         "data": {
          "bar": [
           {
            "error_x": {
             "color": "#2a3f5f"
            },
            "error_y": {
             "color": "#2a3f5f"
            },
            "marker": {
             "line": {
              "color": "#E5ECF6",
              "width": 0.5
             },
             "pattern": {
              "fillmode": "overlay",
              "size": 10,
              "solidity": 0.2
             }
            },
            "type": "bar"
           }
          ],
          "barpolar": [
           {
            "marker": {
             "line": {
              "color": "#E5ECF6",
              "width": 0.5
             },
             "pattern": {
              "fillmode": "overlay",
              "size": 10,
              "solidity": 0.2
             }
            },
            "type": "barpolar"
           }
          ],
          "carpet": [
           {
            "aaxis": {
             "endlinecolor": "#2a3f5f",
             "gridcolor": "white",
             "linecolor": "white",
             "minorgridcolor": "white",
             "startlinecolor": "#2a3f5f"
            },
            "baxis": {
             "endlinecolor": "#2a3f5f",
             "gridcolor": "white",
             "linecolor": "white",
             "minorgridcolor": "white",
             "startlinecolor": "#2a3f5f"
            },
            "type": "carpet"
           }
          ],
          "choropleth": [
           {
            "colorbar": {
             "outlinewidth": 0,
             "ticks": ""
            },
            "type": "choropleth"
           }
          ],
          "contour": [
           {
            "colorbar": {
             "outlinewidth": 0,
             "ticks": ""
            },
            "colorscale": [
             [
              0,
              "#0d0887"
             ],
             [
              0.1111111111111111,
              "#46039f"
             ],
             [
              0.2222222222222222,
              "#7201a8"
             ],
             [
              0.3333333333333333,
              "#9c179e"
             ],
             [
              0.4444444444444444,
              "#bd3786"
             ],
             [
              0.5555555555555556,
              "#d8576b"
             ],
             [
              0.6666666666666666,
              "#ed7953"
             ],
             [
              0.7777777777777778,
              "#fb9f3a"
             ],
             [
              0.8888888888888888,
              "#fdca26"
             ],
             [
              1,
              "#f0f921"
             ]
            ],
            "type": "contour"
           }
          ],
          "contourcarpet": [
           {
            "colorbar": {
             "outlinewidth": 0,
             "ticks": ""
            },
            "type": "contourcarpet"
           }
          ],
          "heatmap": [
           {
            "colorbar": {
             "outlinewidth": 0,
             "ticks": ""
            },
            "colorscale": [
             [
              0,
              "#0d0887"
             ],
             [
              0.1111111111111111,
              "#46039f"
             ],
             [
              0.2222222222222222,
              "#7201a8"
             ],
             [
              0.3333333333333333,
              "#9c179e"
             ],
             [
              0.4444444444444444,
              "#bd3786"
             ],
             [
              0.5555555555555556,
              "#d8576b"
             ],
             [
              0.6666666666666666,
              "#ed7953"
             ],
             [
              0.7777777777777778,
              "#fb9f3a"
             ],
             [
              0.8888888888888888,
              "#fdca26"
             ],
             [
              1,
              "#f0f921"
             ]
            ],
            "type": "heatmap"
           }
          ],
          "heatmapgl": [
           {
            "colorbar": {
             "outlinewidth": 0,
             "ticks": ""
            },
            "colorscale": [
             [
              0,
              "#0d0887"
             ],
             [
              0.1111111111111111,
              "#46039f"
             ],
             [
              0.2222222222222222,
              "#7201a8"
             ],
             [
              0.3333333333333333,
              "#9c179e"
             ],
             [
              0.4444444444444444,
              "#bd3786"
             ],
             [
              0.5555555555555556,
              "#d8576b"
             ],
             [
              0.6666666666666666,
              "#ed7953"
             ],
             [
              0.7777777777777778,
              "#fb9f3a"
             ],
             [
              0.8888888888888888,
              "#fdca26"
             ],
             [
              1,
              "#f0f921"
             ]
            ],
            "type": "heatmapgl"
           }
          ],
          "histogram": [
           {
            "marker": {
             "pattern": {
              "fillmode": "overlay",
              "size": 10,
              "solidity": 0.2
             }
            },
            "type": "histogram"
           }
          ],
          "histogram2d": [
           {
            "colorbar": {
             "outlinewidth": 0,
             "ticks": ""
            },
            "colorscale": [
             [
              0,
              "#0d0887"
             ],
             [
              0.1111111111111111,
              "#46039f"
             ],
             [
              0.2222222222222222,
              "#7201a8"
             ],
             [
              0.3333333333333333,
              "#9c179e"
             ],
             [
              0.4444444444444444,
              "#bd3786"
             ],
             [
              0.5555555555555556,
              "#d8576b"
             ],
             [
              0.6666666666666666,
              "#ed7953"
             ],
             [
              0.7777777777777778,
              "#fb9f3a"
             ],
             [
              0.8888888888888888,
              "#fdca26"
             ],
             [
              1,
              "#f0f921"
             ]
            ],
            "type": "histogram2d"
           }
          ],
          "histogram2dcontour": [
           {
            "colorbar": {
             "outlinewidth": 0,
             "ticks": ""
            },
            "colorscale": [
             [
              0,
              "#0d0887"
             ],
             [
              0.1111111111111111,
              "#46039f"
             ],
             [
              0.2222222222222222,
              "#7201a8"
             ],
             [
              0.3333333333333333,
              "#9c179e"
             ],
             [
              0.4444444444444444,
              "#bd3786"
             ],
             [
              0.5555555555555556,
              "#d8576b"
             ],
             [
              0.6666666666666666,
              "#ed7953"
             ],
             [
              0.7777777777777778,
              "#fb9f3a"
             ],
             [
              0.8888888888888888,
              "#fdca26"
             ],
             [
              1,
              "#f0f921"
             ]
            ],
            "type": "histogram2dcontour"
           }
          ],
          "mesh3d": [
           {
            "colorbar": {
             "outlinewidth": 0,
             "ticks": ""
            },
            "type": "mesh3d"
           }
          ],
          "parcoords": [
           {
            "line": {
             "colorbar": {
              "outlinewidth": 0,
              "ticks": ""
             }
            },
            "type": "parcoords"
           }
          ],
          "pie": [
           {
            "automargin": true,
            "type": "pie"
           }
          ],
          "scatter": [
           {
            "fillpattern": {
             "fillmode": "overlay",
             "size": 10,
             "solidity": 0.2
            },
            "type": "scatter"
           }
          ],
          "scatter3d": [
           {
            "line": {
             "colorbar": {
              "outlinewidth": 0,
              "ticks": ""
             }
            },
            "marker": {
             "colorbar": {
              "outlinewidth": 0,
              "ticks": ""
             }
            },
            "type": "scatter3d"
           }
          ],
          "scattercarpet": [
           {
            "marker": {
             "colorbar": {
              "outlinewidth": 0,
              "ticks": ""
             }
            },
            "type": "scattercarpet"
           }
          ],
          "scattergeo": [
           {
            "marker": {
             "colorbar": {
              "outlinewidth": 0,
              "ticks": ""
             }
            },
            "type": "scattergeo"
           }
          ],
          "scattergl": [
           {
            "marker": {
             "colorbar": {
              "outlinewidth": 0,
              "ticks": ""
             }
            },
            "type": "scattergl"
           }
          ],
          "scattermapbox": [
           {
            "marker": {
             "colorbar": {
              "outlinewidth": 0,
              "ticks": ""
             }
            },
            "type": "scattermapbox"
           }
          ],
          "scatterpolar": [
           {
            "marker": {
             "colorbar": {
              "outlinewidth": 0,
              "ticks": ""
             }
            },
            "type": "scatterpolar"
           }
          ],
          "scatterpolargl": [
           {
            "marker": {
             "colorbar": {
              "outlinewidth": 0,
              "ticks": ""
             }
            },
            "type": "scatterpolargl"
           }
          ],
          "scatterternary": [
           {
            "marker": {
             "colorbar": {
              "outlinewidth": 0,
              "ticks": ""
             }
            },
            "type": "scatterternary"
           }
          ],
          "surface": [
           {
            "colorbar": {
             "outlinewidth": 0,
             "ticks": ""
            },
            "colorscale": [
             [
              0,
              "#0d0887"
             ],
             [
              0.1111111111111111,
              "#46039f"
             ],
             [
              0.2222222222222222,
              "#7201a8"
             ],
             [
              0.3333333333333333,
              "#9c179e"
             ],
             [
              0.4444444444444444,
              "#bd3786"
             ],
             [
              0.5555555555555556,
              "#d8576b"
             ],
             [
              0.6666666666666666,
              "#ed7953"
             ],
             [
              0.7777777777777778,
              "#fb9f3a"
             ],
             [
              0.8888888888888888,
              "#fdca26"
             ],
             [
              1,
              "#f0f921"
             ]
            ],
            "type": "surface"
           }
          ],
          "table": [
           {
            "cells": {
             "fill": {
              "color": "#EBF0F8"
             },
             "line": {
              "color": "white"
             }
            },
            "header": {
             "fill": {
              "color": "#C8D4E3"
             },
             "line": {
              "color": "white"
             }
            },
            "type": "table"
           }
          ]
         },
         "layout": {
          "annotationdefaults": {
           "arrowcolor": "#2a3f5f",
           "arrowhead": 0,
           "arrowwidth": 1
          },
          "autotypenumbers": "strict",
          "coloraxis": {
           "colorbar": {
            "outlinewidth": 0,
            "ticks": ""
           }
          },
          "colorscale": {
           "diverging": [
            [
             0,
             "#8e0152"
            ],
            [
             0.1,
             "#c51b7d"
            ],
            [
             0.2,
             "#de77ae"
            ],
            [
             0.3,
             "#f1b6da"
            ],
            [
             0.4,
             "#fde0ef"
            ],
            [
             0.5,
             "#f7f7f7"
            ],
            [
             0.6,
             "#e6f5d0"
            ],
            [
             0.7,
             "#b8e186"
            ],
            [
             0.8,
             "#7fbc41"
            ],
            [
             0.9,
             "#4d9221"
            ],
            [
             1,
             "#276419"
            ]
           ],
           "sequential": [
            [
             0,
             "#0d0887"
            ],
            [
             0.1111111111111111,
             "#46039f"
            ],
            [
             0.2222222222222222,
             "#7201a8"
            ],
            [
             0.3333333333333333,
             "#9c179e"
            ],
            [
             0.4444444444444444,
             "#bd3786"
            ],
            [
             0.5555555555555556,
             "#d8576b"
            ],
            [
             0.6666666666666666,
             "#ed7953"
            ],
            [
             0.7777777777777778,
             "#fb9f3a"
            ],
            [
             0.8888888888888888,
             "#fdca26"
            ],
            [
             1,
             "#f0f921"
            ]
           ],
           "sequentialminus": [
            [
             0,
             "#0d0887"
            ],
            [
             0.1111111111111111,
             "#46039f"
            ],
            [
             0.2222222222222222,
             "#7201a8"
            ],
            [
             0.3333333333333333,
             "#9c179e"
            ],
            [
             0.4444444444444444,
             "#bd3786"
            ],
            [
             0.5555555555555556,
             "#d8576b"
            ],
            [
             0.6666666666666666,
             "#ed7953"
            ],
            [
             0.7777777777777778,
             "#fb9f3a"
            ],
            [
             0.8888888888888888,
             "#fdca26"
            ],
            [
             1,
             "#f0f921"
            ]
           ]
          },
          "colorway": [
           "#636efa",
           "#EF553B",
           "#00cc96",
           "#ab63fa",
           "#FFA15A",
           "#19d3f3",
           "#FF6692",
           "#B6E880",
           "#FF97FF",
           "#FECB52"
          ],
          "font": {
           "color": "#2a3f5f"
          },
          "geo": {
           "bgcolor": "white",
           "lakecolor": "white",
           "landcolor": "#E5ECF6",
           "showlakes": true,
           "showland": true,
           "subunitcolor": "white"
          },
          "hoverlabel": {
           "align": "left"
          },
          "hovermode": "closest",
          "mapbox": {
           "style": "light"
          },
          "paper_bgcolor": "white",
          "plot_bgcolor": "#E5ECF6",
          "polar": {
           "angularaxis": {
            "gridcolor": "white",
            "linecolor": "white",
            "ticks": ""
           },
           "bgcolor": "#E5ECF6",
           "radialaxis": {
            "gridcolor": "white",
            "linecolor": "white",
            "ticks": ""
           }
          },
          "scene": {
           "xaxis": {
            "backgroundcolor": "#E5ECF6",
            "gridcolor": "white",
            "gridwidth": 2,
            "linecolor": "white",
            "showbackground": true,
            "ticks": "",
            "zerolinecolor": "white"
           },
           "yaxis": {
            "backgroundcolor": "#E5ECF6",
            "gridcolor": "white",
            "gridwidth": 2,
            "linecolor": "white",
            "showbackground": true,
            "ticks": "",
            "zerolinecolor": "white"
           },
           "zaxis": {
            "backgroundcolor": "#E5ECF6",
            "gridcolor": "white",
            "gridwidth": 2,
            "linecolor": "white",
            "showbackground": true,
            "ticks": "",
            "zerolinecolor": "white"
           }
          },
          "shapedefaults": {
           "line": {
            "color": "#2a3f5f"
           }
          },
          "ternary": {
           "aaxis": {
            "gridcolor": "white",
            "linecolor": "white",
            "ticks": ""
           },
           "baxis": {
            "gridcolor": "white",
            "linecolor": "white",
            "ticks": ""
           },
           "bgcolor": "#E5ECF6",
           "caxis": {
            "gridcolor": "white",
            "linecolor": "white",
            "ticks": ""
           }
          },
          "title": {
           "x": 0.05
          },
          "xaxis": {
           "automargin": true,
           "gridcolor": "white",
           "linecolor": "white",
           "ticks": "",
           "title": {
            "standoff": 15
           },
           "zerolinecolor": "white",
           "zerolinewidth": 2
          },
          "yaxis": {
           "automargin": true,
           "gridcolor": "white",
           "linecolor": "white",
           "ticks": "",
           "title": {
            "standoff": 15
           },
           "zerolinecolor": "white",
           "zerolinewidth": 2
          }
         }
        },
        "title": {
         "text": "Distance matrix for Diet sorted by cluster"
        },
        "xaxis": {
         "anchor": "y",
         "constrain": "domain",
         "domain": [
          0,
          1
         ],
         "scaleanchor": "y"
        },
        "yaxis": {
         "anchor": "x",
         "autorange": "reversed",
         "constrain": "domain",
         "domain": [
          0,
          1
         ]
        }
       }
      }
     },
     "metadata": {},
     "output_type": "display_data"
    },
    {
     "data": {
      "application/vnd.plotly.v1+json": {
       "config": {
        "plotlyServerURL": "https://plot.ly"
       },
       "data": [
        {
         "colorbar": {
          "ticktext": [
           "",
           ""
          ],
          "tickvals": [
           0.25,
           0.75
          ]
         },
         "colorscale": [
          [
           0,
           "rgb(255,255,255)"
          ],
          [
           0.01,
           "rgb(234, 172, 139)"
          ],
          [
           0.5,
           "rgb(181, 101, 118)"
          ],
          [
           1,
           "rgb(53, 80, 112)"
          ]
         ],
         "showlegend": false,
         "transpose": true,
         "type": "heatmap",
         "x": [
          "Aetomylaeus bovinus",
          "Pteroplatytrygon violacea",
          "Squalus blainville",
          "Centrophorus granulosus",
          "Centrophorus uyato",
          "Dalatias licha",
          "Dasyatis pastinaca",
          "Raja radula",
          "Scyliorhinus stellaris",
          "Heptranchias perlo",
          "Hexanchus griseus",
          "Raja clavata",
          "Raja brachyura",
          "Leucoraja naevus",
          "Mustelus asterias",
          "Raja asterias",
          "Mustelus punctulatus",
          "Etmopterus spinax",
          "Bathyraja brachyurops",
          "Chimaera monstrosa",
          "Dipturus batis",
          "Galeus melastomus",
          "Raja miraletus",
          "Mustelus mustelus",
          "Rostroraja alba",
          "Squalus acanthias",
          "Scyliorhinus canicula",
          "Myliobatis aquila",
          "Leucoraja melitensis",
          "Leucoraja fullonica",
          "Leucoraja circularis",
          "Raja montagui",
          "Raja polystigma",
          "Dipturus oxyrinchus",
          "Oxynotus centrina",
          "Tetronarce nobiliana",
          "Torpedo marmorata",
          "Torpedo torpedo"
         ],
         "y": [
          "cephalopods",
          "cnidarians",
          "detritus",
          "echinoderms",
          "finfish",
          "jellyfish/hydroids",
          "mollusks",
          "other plank. invertebrates",
          "plank. crust.",
          "sponges/tunicates",
          "worms",
          "plank. invertebrates",
          "benth. invertebrates"
         ],
         "z": [
          [
           1,
           0,
           0,
           0,
           1,
           0,
           1,
           0,
           0,
           0,
           0,
           0,
           1
          ],
          [
           1,
           0,
           0,
           0,
           1,
           1,
           0,
           0,
           0,
           0,
           0,
           0,
           1
          ],
          [
           1,
           0,
           0,
           0,
           1,
           0,
           0,
           0,
           0,
           0,
           0,
           0,
           1
          ],
          [
           1,
           0,
           0,
           0,
           1,
           0,
           1,
           0,
           0,
           0,
           0,
           0,
           1
          ],
          [
           1,
           0,
           0,
           0,
           1,
           0,
           0,
           0,
           0,
           0,
           0,
           0,
           0
          ],
          [
           1,
           0,
           0,
           0,
           1,
           0,
           1,
           0,
           0,
           0,
           1,
           0,
           1
          ],
          [
           0,
           0,
           0,
           0,
           1,
           0,
           0,
           0,
           0,
           0,
           0,
           0,
           1
          ],
          [
           0,
           0,
           0,
           0,
           1,
           0,
           1,
           0,
           0,
           0,
           0,
           0,
           1
          ],
          [
           0,
           0,
           0,
           0,
           1,
           0,
           0,
           0,
           0,
           0,
           0,
           0,
           1
          ],
          [
           1,
           0,
           0,
           0,
           1,
           0,
           0,
           0,
           0,
           0,
           0,
           0,
           1
          ],
          [
           1,
           0,
           1,
           0,
           1,
           0,
           0,
           0,
           0,
           0,
           0,
           0,
           1
          ],
          [
           0,
           0,
           0,
           0,
           1,
           0,
           0,
           0,
           0,
           0,
           0,
           0,
           1
          ],
          [
           0,
           0,
           0,
           0,
           1,
           0,
           0,
           0,
           0,
           0,
           0,
           0,
           1
          ],
          [
           0,
           0,
           0,
           0,
           1,
           0,
           0,
           0,
           0,
           0,
           0,
           0,
           1
          ],
          [
           0,
           0,
           0,
           1,
           1,
           0,
           0,
           0,
           0,
           0,
           0,
           0,
           1
          ],
          [
           1,
           0,
           0,
           0,
           1,
           0,
           0,
           0,
           0,
           0,
           0,
           0,
           1
          ],
          [
           1,
           0,
           0,
           0,
           1,
           0,
           0,
           0,
           0,
           0,
           0,
           0,
           1
          ],
          [
           2,
           0,
           0,
           0,
           2,
           2,
           2,
           0,
           2,
           0,
           0,
           2,
           2
          ],
          [
           2,
           0,
           0,
           0,
           2,
           0,
           2,
           0,
           2,
           0,
           2,
           2,
           2
          ],
          [
           0,
           0,
           0,
           2,
           2,
           0,
           2,
           0,
           2,
           0,
           2,
           2,
           2
          ],
          [
           0,
           0,
           0,
           0,
           2,
           0,
           2,
           0,
           2,
           0,
           2,
           2,
           2
          ],
          [
           2,
           0,
           2,
           0,
           2,
           2,
           2,
           2,
           2,
           2,
           2,
           2,
           2
          ],
          [
           2,
           0,
           0,
           0,
           2,
           0,
           2,
           0,
           2,
           0,
           2,
           2,
           2
          ],
          [
           2,
           0,
           0,
           2,
           2,
           0,
           2,
           0,
           2,
           0,
           2,
           2,
           2
          ],
          [
           2,
           0,
           0,
           0,
           2,
           0,
           2,
           0,
           2,
           0,
           0,
           2,
           2
          ],
          [
           2,
           2,
           0,
           2,
           2,
           2,
           2,
           2,
           2,
           0,
           2,
           2,
           2
          ],
          [
           2,
           0,
           0,
           0,
           2,
           0,
           2,
           0,
           2,
           0,
           2,
           2,
           2
          ],
          [
           2,
           0,
           0,
           0,
           2,
           0,
           2,
           0,
           2,
           2,
           2,
           2,
           2
          ],
          [
           0,
           0,
           0,
           0,
           0,
           0,
           0,
           0,
           0,
           0,
           0,
           0,
           3
          ],
          [
           0,
           0,
           0,
           0,
           0,
           0,
           0,
           0,
           0,
           0,
           0,
           0,
           3
          ],
          [
           0,
           0,
           0,
           0,
           0,
           0,
           0,
           0,
           0,
           0,
           0,
           0,
           3
          ],
          [
           0,
           0,
           0,
           0,
           0,
           0,
           0,
           0,
           0,
           0,
           0,
           0,
           3
          ],
          [
           0,
           0,
           0,
           0,
           0,
           0,
           0,
           0,
           0,
           0,
           0,
           0,
           3
          ],
          [
           0,
           0,
           0,
           0,
           0,
           0,
           0,
           0,
           0,
           0,
           0,
           0,
           3
          ],
          [
           0,
           0,
           0,
           0,
           0,
           0,
           0,
           0,
           0,
           0,
           4,
           0,
           0
          ],
          [
           0,
           0,
           0,
           0,
           5,
           0,
           0,
           0,
           0,
           0,
           0,
           0,
           0
          ],
          [
           0,
           0,
           0,
           0,
           5,
           0,
           0,
           0,
           0,
           0,
           0,
           0,
           0
          ],
          [
           0,
           0,
           0,
           0,
           5,
           0,
           0,
           0,
           0,
           0,
           0,
           0,
           0
          ]
         ]
        }
       ],
       "layout": {
        "template": {
         "data": {
          "bar": [
           {
            "error_x": {
             "color": "#2a3f5f"
            },
            "error_y": {
             "color": "#2a3f5f"
            },
            "marker": {
             "line": {
              "color": "#E5ECF6",
              "width": 0.5
             },
             "pattern": {
              "fillmode": "overlay",
              "size": 10,
              "solidity": 0.2
             }
            },
            "type": "bar"
           }
          ],
          "barpolar": [
           {
            "marker": {
             "line": {
              "color": "#E5ECF6",
              "width": 0.5
             },
             "pattern": {
              "fillmode": "overlay",
              "size": 10,
              "solidity": 0.2
             }
            },
            "type": "barpolar"
           }
          ],
          "carpet": [
           {
            "aaxis": {
             "endlinecolor": "#2a3f5f",
             "gridcolor": "white",
             "linecolor": "white",
             "minorgridcolor": "white",
             "startlinecolor": "#2a3f5f"
            },
            "baxis": {
             "endlinecolor": "#2a3f5f",
             "gridcolor": "white",
             "linecolor": "white",
             "minorgridcolor": "white",
             "startlinecolor": "#2a3f5f"
            },
            "type": "carpet"
           }
          ],
          "choropleth": [
           {
            "colorbar": {
             "outlinewidth": 0,
             "ticks": ""
            },
            "type": "choropleth"
           }
          ],
          "contour": [
           {
            "colorbar": {
             "outlinewidth": 0,
             "ticks": ""
            },
            "colorscale": [
             [
              0,
              "#0d0887"
             ],
             [
              0.1111111111111111,
              "#46039f"
             ],
             [
              0.2222222222222222,
              "#7201a8"
             ],
             [
              0.3333333333333333,
              "#9c179e"
             ],
             [
              0.4444444444444444,
              "#bd3786"
             ],
             [
              0.5555555555555556,
              "#d8576b"
             ],
             [
              0.6666666666666666,
              "#ed7953"
             ],
             [
              0.7777777777777778,
              "#fb9f3a"
             ],
             [
              0.8888888888888888,
              "#fdca26"
             ],
             [
              1,
              "#f0f921"
             ]
            ],
            "type": "contour"
           }
          ],
          "contourcarpet": [
           {
            "colorbar": {
             "outlinewidth": 0,
             "ticks": ""
            },
            "type": "contourcarpet"
           }
          ],
          "heatmap": [
           {
            "colorbar": {
             "outlinewidth": 0,
             "ticks": ""
            },
            "colorscale": [
             [
              0,
              "#0d0887"
             ],
             [
              0.1111111111111111,
              "#46039f"
             ],
             [
              0.2222222222222222,
              "#7201a8"
             ],
             [
              0.3333333333333333,
              "#9c179e"
             ],
             [
              0.4444444444444444,
              "#bd3786"
             ],
             [
              0.5555555555555556,
              "#d8576b"
             ],
             [
              0.6666666666666666,
              "#ed7953"
             ],
             [
              0.7777777777777778,
              "#fb9f3a"
             ],
             [
              0.8888888888888888,
              "#fdca26"
             ],
             [
              1,
              "#f0f921"
             ]
            ],
            "type": "heatmap"
           }
          ],
          "heatmapgl": [
           {
            "colorbar": {
             "outlinewidth": 0,
             "ticks": ""
            },
            "colorscale": [
             [
              0,
              "#0d0887"
             ],
             [
              0.1111111111111111,
              "#46039f"
             ],
             [
              0.2222222222222222,
              "#7201a8"
             ],
             [
              0.3333333333333333,
              "#9c179e"
             ],
             [
              0.4444444444444444,
              "#bd3786"
             ],
             [
              0.5555555555555556,
              "#d8576b"
             ],
             [
              0.6666666666666666,
              "#ed7953"
             ],
             [
              0.7777777777777778,
              "#fb9f3a"
             ],
             [
              0.8888888888888888,
              "#fdca26"
             ],
             [
              1,
              "#f0f921"
             ]
            ],
            "type": "heatmapgl"
           }
          ],
          "histogram": [
           {
            "marker": {
             "pattern": {
              "fillmode": "overlay",
              "size": 10,
              "solidity": 0.2
             }
            },
            "type": "histogram"
           }
          ],
          "histogram2d": [
           {
            "colorbar": {
             "outlinewidth": 0,
             "ticks": ""
            },
            "colorscale": [
             [
              0,
              "#0d0887"
             ],
             [
              0.1111111111111111,
              "#46039f"
             ],
             [
              0.2222222222222222,
              "#7201a8"
             ],
             [
              0.3333333333333333,
              "#9c179e"
             ],
             [
              0.4444444444444444,
              "#bd3786"
             ],
             [
              0.5555555555555556,
              "#d8576b"
             ],
             [
              0.6666666666666666,
              "#ed7953"
             ],
             [
              0.7777777777777778,
              "#fb9f3a"
             ],
             [
              0.8888888888888888,
              "#fdca26"
             ],
             [
              1,
              "#f0f921"
             ]
            ],
            "type": "histogram2d"
           }
          ],
          "histogram2dcontour": [
           {
            "colorbar": {
             "outlinewidth": 0,
             "ticks": ""
            },
            "colorscale": [
             [
              0,
              "#0d0887"
             ],
             [
              0.1111111111111111,
              "#46039f"
             ],
             [
              0.2222222222222222,
              "#7201a8"
             ],
             [
              0.3333333333333333,
              "#9c179e"
             ],
             [
              0.4444444444444444,
              "#bd3786"
             ],
             [
              0.5555555555555556,
              "#d8576b"
             ],
             [
              0.6666666666666666,
              "#ed7953"
             ],
             [
              0.7777777777777778,
              "#fb9f3a"
             ],
             [
              0.8888888888888888,
              "#fdca26"
             ],
             [
              1,
              "#f0f921"
             ]
            ],
            "type": "histogram2dcontour"
           }
          ],
          "mesh3d": [
           {
            "colorbar": {
             "outlinewidth": 0,
             "ticks": ""
            },
            "type": "mesh3d"
           }
          ],
          "parcoords": [
           {
            "line": {
             "colorbar": {
              "outlinewidth": 0,
              "ticks": ""
             }
            },
            "type": "parcoords"
           }
          ],
          "pie": [
           {
            "automargin": true,
            "type": "pie"
           }
          ],
          "scatter": [
           {
            "fillpattern": {
             "fillmode": "overlay",
             "size": 10,
             "solidity": 0.2
            },
            "type": "scatter"
           }
          ],
          "scatter3d": [
           {
            "line": {
             "colorbar": {
              "outlinewidth": 0,
              "ticks": ""
             }
            },
            "marker": {
             "colorbar": {
              "outlinewidth": 0,
              "ticks": ""
             }
            },
            "type": "scatter3d"
           }
          ],
          "scattercarpet": [
           {
            "marker": {
             "colorbar": {
              "outlinewidth": 0,
              "ticks": ""
             }
            },
            "type": "scattercarpet"
           }
          ],
          "scattergeo": [
           {
            "marker": {
             "colorbar": {
              "outlinewidth": 0,
              "ticks": ""
             }
            },
            "type": "scattergeo"
           }
          ],
          "scattergl": [
           {
            "marker": {
             "colorbar": {
              "outlinewidth": 0,
              "ticks": ""
             }
            },
            "type": "scattergl"
           }
          ],
          "scattermapbox": [
           {
            "marker": {
             "colorbar": {
              "outlinewidth": 0,
              "ticks": ""
             }
            },
            "type": "scattermapbox"
           }
          ],
          "scatterpolar": [
           {
            "marker": {
             "colorbar": {
              "outlinewidth": 0,
              "ticks": ""
             }
            },
            "type": "scatterpolar"
           }
          ],
          "scatterpolargl": [
           {
            "marker": {
             "colorbar": {
              "outlinewidth": 0,
              "ticks": ""
             }
            },
            "type": "scatterpolargl"
           }
          ],
          "scatterternary": [
           {
            "marker": {
             "colorbar": {
              "outlinewidth": 0,
              "ticks": ""
             }
            },
            "type": "scatterternary"
           }
          ],
          "surface": [
           {
            "colorbar": {
             "outlinewidth": 0,
             "ticks": ""
            },
            "colorscale": [
             [
              0,
              "#0d0887"
             ],
             [
              0.1111111111111111,
              "#46039f"
             ],
             [
              0.2222222222222222,
              "#7201a8"
             ],
             [
              0.3333333333333333,
              "#9c179e"
             ],
             [
              0.4444444444444444,
              "#bd3786"
             ],
             [
              0.5555555555555556,
              "#d8576b"
             ],
             [
              0.6666666666666666,
              "#ed7953"
             ],
             [
              0.7777777777777778,
              "#fb9f3a"
             ],
             [
              0.8888888888888888,
              "#fdca26"
             ],
             [
              1,
              "#f0f921"
             ]
            ],
            "type": "surface"
           }
          ],
          "table": [
           {
            "cells": {
             "fill": {
              "color": "#EBF0F8"
             },
             "line": {
              "color": "white"
             }
            },
            "header": {
             "fill": {
              "color": "#C8D4E3"
             },
             "line": {
              "color": "white"
             }
            },
            "type": "table"
           }
          ]
         },
         "layout": {
          "annotationdefaults": {
           "arrowcolor": "#2a3f5f",
           "arrowhead": 0,
           "arrowwidth": 1
          },
          "autotypenumbers": "strict",
          "coloraxis": {
           "colorbar": {
            "outlinewidth": 0,
            "ticks": ""
           }
          },
          "colorscale": {
           "diverging": [
            [
             0,
             "#8e0152"
            ],
            [
             0.1,
             "#c51b7d"
            ],
            [
             0.2,
             "#de77ae"
            ],
            [
             0.3,
             "#f1b6da"
            ],
            [
             0.4,
             "#fde0ef"
            ],
            [
             0.5,
             "#f7f7f7"
            ],
            [
             0.6,
             "#e6f5d0"
            ],
            [
             0.7,
             "#b8e186"
            ],
            [
             0.8,
             "#7fbc41"
            ],
            [
             0.9,
             "#4d9221"
            ],
            [
             1,
             "#276419"
            ]
           ],
           "sequential": [
            [
             0,
             "#0d0887"
            ],
            [
             0.1111111111111111,
             "#46039f"
            ],
            [
             0.2222222222222222,
             "#7201a8"
            ],
            [
             0.3333333333333333,
             "#9c179e"
            ],
            [
             0.4444444444444444,
             "#bd3786"
            ],
            [
             0.5555555555555556,
             "#d8576b"
            ],
            [
             0.6666666666666666,
             "#ed7953"
            ],
            [
             0.7777777777777778,
             "#fb9f3a"
            ],
            [
             0.8888888888888888,
             "#fdca26"
            ],
            [
             1,
             "#f0f921"
            ]
           ],
           "sequentialminus": [
            [
             0,
             "#0d0887"
            ],
            [
             0.1111111111111111,
             "#46039f"
            ],
            [
             0.2222222222222222,
             "#7201a8"
            ],
            [
             0.3333333333333333,
             "#9c179e"
            ],
            [
             0.4444444444444444,
             "#bd3786"
            ],
            [
             0.5555555555555556,
             "#d8576b"
            ],
            [
             0.6666666666666666,
             "#ed7953"
            ],
            [
             0.7777777777777778,
             "#fb9f3a"
            ],
            [
             0.8888888888888888,
             "#fdca26"
            ],
            [
             1,
             "#f0f921"
            ]
           ]
          },
          "colorway": [
           "#636efa",
           "#EF553B",
           "#00cc96",
           "#ab63fa",
           "#FFA15A",
           "#19d3f3",
           "#FF6692",
           "#B6E880",
           "#FF97FF",
           "#FECB52"
          ],
          "font": {
           "color": "#2a3f5f"
          },
          "geo": {
           "bgcolor": "white",
           "lakecolor": "white",
           "landcolor": "#E5ECF6",
           "showlakes": true,
           "showland": true,
           "subunitcolor": "white"
          },
          "hoverlabel": {
           "align": "left"
          },
          "hovermode": "closest",
          "mapbox": {
           "style": "light"
          },
          "paper_bgcolor": "white",
          "plot_bgcolor": "#E5ECF6",
          "polar": {
           "angularaxis": {
            "gridcolor": "white",
            "linecolor": "white",
            "ticks": ""
           },
           "bgcolor": "#E5ECF6",
           "radialaxis": {
            "gridcolor": "white",
            "linecolor": "white",
            "ticks": ""
           }
          },
          "scene": {
           "xaxis": {
            "backgroundcolor": "#E5ECF6",
            "gridcolor": "white",
            "gridwidth": 2,
            "linecolor": "white",
            "showbackground": true,
            "ticks": "",
            "zerolinecolor": "white"
           },
           "yaxis": {
            "backgroundcolor": "#E5ECF6",
            "gridcolor": "white",
            "gridwidth": 2,
            "linecolor": "white",
            "showbackground": true,
            "ticks": "",
            "zerolinecolor": "white"
           },
           "zaxis": {
            "backgroundcolor": "#E5ECF6",
            "gridcolor": "white",
            "gridwidth": 2,
            "linecolor": "white",
            "showbackground": true,
            "ticks": "",
            "zerolinecolor": "white"
           }
          },
          "shapedefaults": {
           "line": {
            "color": "#2a3f5f"
           }
          },
          "ternary": {
           "aaxis": {
            "gridcolor": "white",
            "linecolor": "white",
            "ticks": ""
           },
           "baxis": {
            "gridcolor": "white",
            "linecolor": "white",
            "ticks": ""
           },
           "bgcolor": "#E5ECF6",
           "caxis": {
            "gridcolor": "white",
            "linecolor": "white",
            "ticks": ""
           }
          },
          "title": {
           "x": 0.05
          },
          "xaxis": {
           "automargin": true,
           "gridcolor": "white",
           "linecolor": "white",
           "ticks": "",
           "title": {
            "standoff": 15
           },
           "zerolinecolor": "white",
           "zerolinewidth": 2
          },
          "yaxis": {
           "automargin": true,
           "gridcolor": "white",
           "linecolor": "white",
           "ticks": "",
           "title": {
            "standoff": 15
           },
           "zerolinecolor": "white",
           "zerolinewidth": 2
          }
         }
        },
        "title": {
         "text": "Clusters based on Diet"
        }
       }
      }
     },
     "metadata": {},
     "output_type": "display_data"
    }
   ],
   "source": [
    "#calculating coincidence index and distance matrix\n",
    "diet_coincidence_matrix = calc_coincidence_matrix(diet_df.values)\n",
    "diet_distance_matrix = calc_metric_distance(diet_coincidence_matrix)\n",
    "fig = px.imshow(diet_distance_matrix, x= diet_df.index, y=diet_df.index, color_continuous_scale=cont_scale, title='Distance matrix for Diet')\n",
    "fig.show()\n",
    "\n",
    "## plotting dendrogram and assigning clusters names to Diet Cluster column in df\n",
    "diet_threshold = 0.77\n",
    "diet_df['Diet Cluster'] = plot_dendro(diet_df, 'average', diet_threshold, 'Hierarchical Clustering on diet data', offset=0.1)\n",
    "\n",
    "# plotting sorted distance matrix\n",
    "diet_df.sort_values('Diet Cluster', inplace=True)\n",
    "sorted_diet_distance = calc_metric_distance(calc_coincidence_matrix(diet_df.drop(columns='Diet Cluster').values))\n",
    "fig = px.imshow(sorted_diet_distance, x=diet_df.index, y=diet_df.index, title='Distance matrix for Diet sorted by cluster', color_continuous_scale=cont_scale)\n",
    "fig.show()\n",
    "\n",
    "#Plotting clustered heatmap\n",
    "z_matrix = calc_z_matrix(diet_df, 'Diet Cluster')\n",
    "plot_clustered_heatmap(z_matrix, transpose=True, xticks=diet_df.index, yticks=z_matrix.columns, title='Clusters based on Diet',)"
   ]
  },
  {
   "cell_type": "markdown",
   "metadata": {},
   "source": [
    "# Cluster Analysis <a class=\"anchor\" id='clust_an'></a>\n",
    "## Clusters Indexes Comparison <a class=\"anchor\" id='clus_ind'></a>\n",
    "\n",
    "### Rand Index\n",
    "**Definition**  \n",
    "Given a set of $n$ elements $S = \\{o_1, \\ldots, o_n\\}$ and two partitions of $S$ to compare, $X = \\{X_1, \\ldots, X_r\\}$, a partition of $S$ into $r$ subsets, and $Y = \\{Y_1, \\ldots, Y_s\\}$, a partition of $S$ into $s$ subsets, define the following:\n",
    "* $a$, the number of pairs of elements in $S$ that are in the *same* subset in $X$ and in the *same* subset in $Y$\n",
    "* $b$, the number of pairs of elements in $S$ that are in *different* subsets in $X$ and in *different* subsets in $Y$\n",
    "* $c$, the number of pairs of elements in $S$ that are in the *same* subset in $X$ and in *different* subsets in $Y$\n",
    "* $d$, the number of pairs of elements in $S$ that are in *different* subsets in $X$ and in the *same* subset in $Y$  \n",
    "\n",
    "The Rand index, $R$, is:\n",
    "$$ R = \\frac{a+b}{a+b+c+d} = \\frac{a+b}{{n \\choose 2 }}$$\n",
    "Intuitively,  $a + b$ can be considered as the number of agreements between $X$ and $Y$ and $c + d$ as the number of disagreements between $X$ and $Y$.\n",
    "Since the denominator is the total number of pairs, the Rand index represents the 'frequency of occurrence' of agreements over the total pairs, or the probability that $X$ and $Y$ will agree on a randomly chosen pair.\n",
    "The Rand index has a value between 0 and 1, with 0 indicating that the two data clusterings do not agree on any pair of points and 1 indicating that the data clusterings are exactly the same.\n",
    "#### Adjusted Rand Index - ARI\n",
    "The adjusted Rand index is the corrected-for-chance version of the Rand index. Such a correction for chance establishes a baseline by using the expected similarity of all pair-wise comparisons between clusterings specified by a random model.  \n",
    "Though the Rand Index may only yield a value between 0 and +1, the adjusted Rand index can yield negative values if the index is less than the expected index.\n",
    "### Jaccard Index\n",
    "The Jaccard index, also known as the Jaccard similarity coefficient, is a statistic used for gauging the similarity and diversity of sample sets.  \n",
    "The Jaccard coefficient measures similarity between finite sample sets, and is defined as the size of the intersection divided by the size of the union of the sample sets: $$ J(A,B) = {{|A \\cap B|}\\over{|A \\cup B|}} = {{|A \\cap B|}\\over{|A| + |B| - |A \\cap B|}}$$\n",
    "Applying the same notation used for Coincidence index, it can be formulated as\n",
    "$$ J = \\frac{a}{a+b+c} $$\n",
    "### Mutual Information\n",
    "In probability theory and information theory, the mutual information (MI) of two random variables is a measure of the mutual dependence between the two variables. More specifically, it quantifies the \"amount of information\" (in units such as shannons (bits), nats or hartleys) obtained about one random variable by observing the other random variable. The concept of mutual information is intimately linked to that of entropy of a random variable, a fundamental notion in information theory that quantifies the expected \"amount of information\" held in a random variable. It corresponds to the expected value of Punctual Mutual Information \n",
    "$$ PMI = \\log{ \\frac{\\frac{a}{\\sqrt{(a+b)(a+c)}}}{\\sqrt{\\frac{a+b}{n} \\frac{a+c}{n}}}} $$\n",
    "<sub> [StackExchange](https://stats.stackexchange.com/questions/256684/jaccard-similarity-coefficient-vs-point-wise-mutual-information-coefficient) </sub>\n",
    "\n",
    "#### Adjusted Mutual Information - AMI\n",
    "The adjusted mutual information or AMI subtracts the expectation value of the MI, so that the AMI is zero when two different distributions are random, and one when two distributions are identical."
   ]
  },
  {
   "cell_type": "code",
   "execution_count": 275,
   "metadata": {},
   "outputs": [
    {
     "data": {
      "application/vnd.plotly.v1+json": {
       "config": {
        "plotlyServerURL": "https://plot.ly"
       },
       "data": [
        {
         "coloraxis": "coloraxis",
         "hovertemplate": "x: %{x}<br>y: %{y}<br>color: %{z}<extra></extra>",
         "name": "0",
         "type": "heatmap",
         "x": [
          "Size",
          "Depth",
          "Diet",
          "Taxon"
         ],
         "xaxis": "x",
         "y": [
          "Size",
          "Depth",
          "Diet",
          "Taxon"
         ],
         "yaxis": "y",
         "z": [
          [
           1,
           0.13790931989924432,
           -0.0919779252979285,
           -0.01485679403418465
          ],
          [
           0.13790931989924432,
           1,
           -0.0005118143819841338,
           0.07350565428109855
          ],
          [
           -0.0919779252979285,
           -0.0005118143819841338,
           1,
           -0.036111343308534646
          ],
          [
           -0.01485679403418465,
           0.07350565428109855,
           -0.036111343308534646,
           1
          ]
         ]
        },
        {
         "coloraxis": "coloraxis",
         "hovertemplate": "x: %{x}<br>y: %{y}<br>color: %{z}<extra></extra>",
         "name": "1",
         "type": "heatmap",
         "x": [
          "Size",
          "Depth",
          "Diet",
          "Taxon"
         ],
         "xaxis": "x2",
         "y": [
          "Size",
          "Depth",
          "Diet",
          "Taxon"
         ],
         "yaxis": "y2",
         "z": [
          [
           1,
           0.11764705882352941,
           0.1875,
           0.2459016393442623
          ],
          [
           0.11764705882352941,
           1,
           0.08571428571428572,
           0.02702702702702703
          ],
          [
           0.1875,
           0.08571428571428572,
           1,
           0.15151515151515152
          ],
          [
           0.2459016393442623,
           0.02702702702702703,
           0.15151515151515152,
           1
          ]
         ]
        },
        {
         "coloraxis": "coloraxis",
         "hovertemplate": "x: %{x}<br>y: %{y}<br>color: %{z}<extra></extra>",
         "name": "2",
         "type": "heatmap",
         "x": [
          "Size",
          "Depth",
          "Diet",
          "Taxon"
         ],
         "xaxis": "x3",
         "y": [
          "Size",
          "Depth",
          "Diet",
          "Taxon"
         ],
         "yaxis": "y3",
         "z": [
          [
           1,
           0.10930636482092232,
           -0.04715489961731191,
           -0.018826780405964614
          ],
          [
           0.1093063648209226,
           1,
           0.014284516205891657,
           0.14851342953763705
          ],
          [
           -0.04715489961731227,
           0.014284516205891657,
           1,
           0.06832910003211508
          ],
          [
           -0.01882678040596422,
           0.14851342953763763,
           0.06832910003211609,
           1
          ]
         ]
        }
       ],
       "layout": {
        "annotations": [
         {
          "font": {
           "size": 16
          },
          "showarrow": false,
          "text": "ARI",
          "x": 0.15999999999999998,
          "xanchor": "center",
          "xref": "paper",
          "y": 1,
          "yanchor": "bottom",
          "yref": "paper"
         },
         {
          "font": {
           "size": 16
          },
          "showarrow": false,
          "text": "Jaccard",
          "x": 0.49999999999999994,
          "xanchor": "center",
          "xref": "paper",
          "y": 1,
          "yanchor": "bottom",
          "yref": "paper"
         },
         {
          "font": {
           "size": 16
          },
          "showarrow": false,
          "text": "AMI",
          "x": 0.8399999999999999,
          "xanchor": "center",
          "xref": "paper",
          "y": 1,
          "yanchor": "bottom",
          "yref": "paper"
         }
        ],
        "coloraxis": {
         "cmax": 1,
         "cmin": -0.0919779252979285,
         "colorscale": [
          [
           0,
           "rgb(248, 232, 224)"
          ],
          [
           0.3,
           "rgb(229, 166, 137)"
          ],
          [
           1,
           "rgb(60, 81, 112)"
          ]
         ]
        },
        "margin": {
         "t": 60
        },
        "template": {
         "data": {
          "bar": [
           {
            "error_x": {
             "color": "#2a3f5f"
            },
            "error_y": {
             "color": "#2a3f5f"
            },
            "marker": {
             "line": {
              "color": "#E5ECF6",
              "width": 0.5
             },
             "pattern": {
              "fillmode": "overlay",
              "size": 10,
              "solidity": 0.2
             }
            },
            "type": "bar"
           }
          ],
          "barpolar": [
           {
            "marker": {
             "line": {
              "color": "#E5ECF6",
              "width": 0.5
             },
             "pattern": {
              "fillmode": "overlay",
              "size": 10,
              "solidity": 0.2
             }
            },
            "type": "barpolar"
           }
          ],
          "carpet": [
           {
            "aaxis": {
             "endlinecolor": "#2a3f5f",
             "gridcolor": "white",
             "linecolor": "white",
             "minorgridcolor": "white",
             "startlinecolor": "#2a3f5f"
            },
            "baxis": {
             "endlinecolor": "#2a3f5f",
             "gridcolor": "white",
             "linecolor": "white",
             "minorgridcolor": "white",
             "startlinecolor": "#2a3f5f"
            },
            "type": "carpet"
           }
          ],
          "choropleth": [
           {
            "colorbar": {
             "outlinewidth": 0,
             "ticks": ""
            },
            "type": "choropleth"
           }
          ],
          "contour": [
           {
            "colorbar": {
             "outlinewidth": 0,
             "ticks": ""
            },
            "colorscale": [
             [
              0,
              "#0d0887"
             ],
             [
              0.1111111111111111,
              "#46039f"
             ],
             [
              0.2222222222222222,
              "#7201a8"
             ],
             [
              0.3333333333333333,
              "#9c179e"
             ],
             [
              0.4444444444444444,
              "#bd3786"
             ],
             [
              0.5555555555555556,
              "#d8576b"
             ],
             [
              0.6666666666666666,
              "#ed7953"
             ],
             [
              0.7777777777777778,
              "#fb9f3a"
             ],
             [
              0.8888888888888888,
              "#fdca26"
             ],
             [
              1,
              "#f0f921"
             ]
            ],
            "type": "contour"
           }
          ],
          "contourcarpet": [
           {
            "colorbar": {
             "outlinewidth": 0,
             "ticks": ""
            },
            "type": "contourcarpet"
           }
          ],
          "heatmap": [
           {
            "colorbar": {
             "outlinewidth": 0,
             "ticks": ""
            },
            "colorscale": [
             [
              0,
              "#0d0887"
             ],
             [
              0.1111111111111111,
              "#46039f"
             ],
             [
              0.2222222222222222,
              "#7201a8"
             ],
             [
              0.3333333333333333,
              "#9c179e"
             ],
             [
              0.4444444444444444,
              "#bd3786"
             ],
             [
              0.5555555555555556,
              "#d8576b"
             ],
             [
              0.6666666666666666,
              "#ed7953"
             ],
             [
              0.7777777777777778,
              "#fb9f3a"
             ],
             [
              0.8888888888888888,
              "#fdca26"
             ],
             [
              1,
              "#f0f921"
             ]
            ],
            "type": "heatmap"
           }
          ],
          "heatmapgl": [
           {
            "colorbar": {
             "outlinewidth": 0,
             "ticks": ""
            },
            "colorscale": [
             [
              0,
              "#0d0887"
             ],
             [
              0.1111111111111111,
              "#46039f"
             ],
             [
              0.2222222222222222,
              "#7201a8"
             ],
             [
              0.3333333333333333,
              "#9c179e"
             ],
             [
              0.4444444444444444,
              "#bd3786"
             ],
             [
              0.5555555555555556,
              "#d8576b"
             ],
             [
              0.6666666666666666,
              "#ed7953"
             ],
             [
              0.7777777777777778,
              "#fb9f3a"
             ],
             [
              0.8888888888888888,
              "#fdca26"
             ],
             [
              1,
              "#f0f921"
             ]
            ],
            "type": "heatmapgl"
           }
          ],
          "histogram": [
           {
            "marker": {
             "pattern": {
              "fillmode": "overlay",
              "size": 10,
              "solidity": 0.2
             }
            },
            "type": "histogram"
           }
          ],
          "histogram2d": [
           {
            "colorbar": {
             "outlinewidth": 0,
             "ticks": ""
            },
            "colorscale": [
             [
              0,
              "#0d0887"
             ],
             [
              0.1111111111111111,
              "#46039f"
             ],
             [
              0.2222222222222222,
              "#7201a8"
             ],
             [
              0.3333333333333333,
              "#9c179e"
             ],
             [
              0.4444444444444444,
              "#bd3786"
             ],
             [
              0.5555555555555556,
              "#d8576b"
             ],
             [
              0.6666666666666666,
              "#ed7953"
             ],
             [
              0.7777777777777778,
              "#fb9f3a"
             ],
             [
              0.8888888888888888,
              "#fdca26"
             ],
             [
              1,
              "#f0f921"
             ]
            ],
            "type": "histogram2d"
           }
          ],
          "histogram2dcontour": [
           {
            "colorbar": {
             "outlinewidth": 0,
             "ticks": ""
            },
            "colorscale": [
             [
              0,
              "#0d0887"
             ],
             [
              0.1111111111111111,
              "#46039f"
             ],
             [
              0.2222222222222222,
              "#7201a8"
             ],
             [
              0.3333333333333333,
              "#9c179e"
             ],
             [
              0.4444444444444444,
              "#bd3786"
             ],
             [
              0.5555555555555556,
              "#d8576b"
             ],
             [
              0.6666666666666666,
              "#ed7953"
             ],
             [
              0.7777777777777778,
              "#fb9f3a"
             ],
             [
              0.8888888888888888,
              "#fdca26"
             ],
             [
              1,
              "#f0f921"
             ]
            ],
            "type": "histogram2dcontour"
           }
          ],
          "mesh3d": [
           {
            "colorbar": {
             "outlinewidth": 0,
             "ticks": ""
            },
            "type": "mesh3d"
           }
          ],
          "parcoords": [
           {
            "line": {
             "colorbar": {
              "outlinewidth": 0,
              "ticks": ""
             }
            },
            "type": "parcoords"
           }
          ],
          "pie": [
           {
            "automargin": true,
            "type": "pie"
           }
          ],
          "scatter": [
           {
            "fillpattern": {
             "fillmode": "overlay",
             "size": 10,
             "solidity": 0.2
            },
            "type": "scatter"
           }
          ],
          "scatter3d": [
           {
            "line": {
             "colorbar": {
              "outlinewidth": 0,
              "ticks": ""
             }
            },
            "marker": {
             "colorbar": {
              "outlinewidth": 0,
              "ticks": ""
             }
            },
            "type": "scatter3d"
           }
          ],
          "scattercarpet": [
           {
            "marker": {
             "colorbar": {
              "outlinewidth": 0,
              "ticks": ""
             }
            },
            "type": "scattercarpet"
           }
          ],
          "scattergeo": [
           {
            "marker": {
             "colorbar": {
              "outlinewidth": 0,
              "ticks": ""
             }
            },
            "type": "scattergeo"
           }
          ],
          "scattergl": [
           {
            "marker": {
             "colorbar": {
              "outlinewidth": 0,
              "ticks": ""
             }
            },
            "type": "scattergl"
           }
          ],
          "scattermapbox": [
           {
            "marker": {
             "colorbar": {
              "outlinewidth": 0,
              "ticks": ""
             }
            },
            "type": "scattermapbox"
           }
          ],
          "scatterpolar": [
           {
            "marker": {
             "colorbar": {
              "outlinewidth": 0,
              "ticks": ""
             }
            },
            "type": "scatterpolar"
           }
          ],
          "scatterpolargl": [
           {
            "marker": {
             "colorbar": {
              "outlinewidth": 0,
              "ticks": ""
             }
            },
            "type": "scatterpolargl"
           }
          ],
          "scatterternary": [
           {
            "marker": {
             "colorbar": {
              "outlinewidth": 0,
              "ticks": ""
             }
            },
            "type": "scatterternary"
           }
          ],
          "surface": [
           {
            "colorbar": {
             "outlinewidth": 0,
             "ticks": ""
            },
            "colorscale": [
             [
              0,
              "#0d0887"
             ],
             [
              0.1111111111111111,
              "#46039f"
             ],
             [
              0.2222222222222222,
              "#7201a8"
             ],
             [
              0.3333333333333333,
              "#9c179e"
             ],
             [
              0.4444444444444444,
              "#bd3786"
             ],
             [
              0.5555555555555556,
              "#d8576b"
             ],
             [
              0.6666666666666666,
              "#ed7953"
             ],
             [
              0.7777777777777778,
              "#fb9f3a"
             ],
             [
              0.8888888888888888,
              "#fdca26"
             ],
             [
              1,
              "#f0f921"
             ]
            ],
            "type": "surface"
           }
          ],
          "table": [
           {
            "cells": {
             "fill": {
              "color": "#EBF0F8"
             },
             "line": {
              "color": "white"
             }
            },
            "header": {
             "fill": {
              "color": "#C8D4E3"
             },
             "line": {
              "color": "white"
             }
            },
            "type": "table"
           }
          ]
         },
         "layout": {
          "annotationdefaults": {
           "arrowcolor": "#2a3f5f",
           "arrowhead": 0,
           "arrowwidth": 1
          },
          "autotypenumbers": "strict",
          "coloraxis": {
           "colorbar": {
            "outlinewidth": 0,
            "ticks": ""
           }
          },
          "colorscale": {
           "diverging": [
            [
             0,
             "#8e0152"
            ],
            [
             0.1,
             "#c51b7d"
            ],
            [
             0.2,
             "#de77ae"
            ],
            [
             0.3,
             "#f1b6da"
            ],
            [
             0.4,
             "#fde0ef"
            ],
            [
             0.5,
             "#f7f7f7"
            ],
            [
             0.6,
             "#e6f5d0"
            ],
            [
             0.7,
             "#b8e186"
            ],
            [
             0.8,
             "#7fbc41"
            ],
            [
             0.9,
             "#4d9221"
            ],
            [
             1,
             "#276419"
            ]
           ],
           "sequential": [
            [
             0,
             "#0d0887"
            ],
            [
             0.1111111111111111,
             "#46039f"
            ],
            [
             0.2222222222222222,
             "#7201a8"
            ],
            [
             0.3333333333333333,
             "#9c179e"
            ],
            [
             0.4444444444444444,
             "#bd3786"
            ],
            [
             0.5555555555555556,
             "#d8576b"
            ],
            [
             0.6666666666666666,
             "#ed7953"
            ],
            [
             0.7777777777777778,
             "#fb9f3a"
            ],
            [
             0.8888888888888888,
             "#fdca26"
            ],
            [
             1,
             "#f0f921"
            ]
           ],
           "sequentialminus": [
            [
             0,
             "#0d0887"
            ],
            [
             0.1111111111111111,
             "#46039f"
            ],
            [
             0.2222222222222222,
             "#7201a8"
            ],
            [
             0.3333333333333333,
             "#9c179e"
            ],
            [
             0.4444444444444444,
             "#bd3786"
            ],
            [
             0.5555555555555556,
             "#d8576b"
            ],
            [
             0.6666666666666666,
             "#ed7953"
            ],
            [
             0.7777777777777778,
             "#fb9f3a"
            ],
            [
             0.8888888888888888,
             "#fdca26"
            ],
            [
             1,
             "#f0f921"
            ]
           ]
          },
          "colorway": [
           "#636efa",
           "#EF553B",
           "#00cc96",
           "#ab63fa",
           "#FFA15A",
           "#19d3f3",
           "#FF6692",
           "#B6E880",
           "#FF97FF",
           "#FECB52"
          ],
          "font": {
           "color": "#2a3f5f"
          },
          "geo": {
           "bgcolor": "white",
           "lakecolor": "white",
           "landcolor": "#E5ECF6",
           "showlakes": true,
           "showland": true,
           "subunitcolor": "white"
          },
          "hoverlabel": {
           "align": "left"
          },
          "hovermode": "closest",
          "mapbox": {
           "style": "light"
          },
          "paper_bgcolor": "white",
          "plot_bgcolor": "#E5ECF6",
          "polar": {
           "angularaxis": {
            "gridcolor": "white",
            "linecolor": "white",
            "ticks": ""
           },
           "bgcolor": "#E5ECF6",
           "radialaxis": {
            "gridcolor": "white",
            "linecolor": "white",
            "ticks": ""
           }
          },
          "scene": {
           "xaxis": {
            "backgroundcolor": "#E5ECF6",
            "gridcolor": "white",
            "gridwidth": 2,
            "linecolor": "white",
            "showbackground": true,
            "ticks": "",
            "zerolinecolor": "white"
           },
           "yaxis": {
            "backgroundcolor": "#E5ECF6",
            "gridcolor": "white",
            "gridwidth": 2,
            "linecolor": "white",
            "showbackground": true,
            "ticks": "",
            "zerolinecolor": "white"
           },
           "zaxis": {
            "backgroundcolor": "#E5ECF6",
            "gridcolor": "white",
            "gridwidth": 2,
            "linecolor": "white",
            "showbackground": true,
            "ticks": "",
            "zerolinecolor": "white"
           }
          },
          "shapedefaults": {
           "line": {
            "color": "#2a3f5f"
           }
          },
          "ternary": {
           "aaxis": {
            "gridcolor": "white",
            "linecolor": "white",
            "ticks": ""
           },
           "baxis": {
            "gridcolor": "white",
            "linecolor": "white",
            "ticks": ""
           },
           "bgcolor": "#E5ECF6",
           "caxis": {
            "gridcolor": "white",
            "linecolor": "white",
            "ticks": ""
           }
          },
          "title": {
           "x": 0.05
          },
          "xaxis": {
           "automargin": true,
           "gridcolor": "white",
           "linecolor": "white",
           "ticks": "",
           "title": {
            "standoff": 15
           },
           "zerolinecolor": "white",
           "zerolinewidth": 2
          },
          "yaxis": {
           "automargin": true,
           "gridcolor": "white",
           "linecolor": "white",
           "ticks": "",
           "title": {
            "standoff": 15
           },
           "zerolinecolor": "white",
           "zerolinewidth": 2
          }
         }
        },
        "xaxis": {
         "anchor": "y",
         "constrain": "domain",
         "domain": [
          0,
          0.31999999999999995
         ],
         "scaleanchor": "y"
        },
        "xaxis2": {
         "anchor": "y2",
         "domain": [
          0.33999999999999997,
          0.6599999999999999
         ],
         "matches": "x"
        },
        "xaxis3": {
         "anchor": "y3",
         "domain": [
          0.6799999999999999,
          0.9999999999999999
         ],
         "matches": "x"
        },
        "yaxis": {
         "anchor": "x",
         "autorange": "reversed",
         "constrain": "domain",
         "domain": [
          0,
          1
         ]
        },
        "yaxis2": {
         "anchor": "x2",
         "domain": [
          0,
          1
         ],
         "matches": "y",
         "showticklabels": false
        },
        "yaxis3": {
         "anchor": "x3",
         "domain": [
          0,
          1
         ],
         "matches": "y",
         "showticklabels": false
        }
       }
      }
     },
     "metadata": {},
     "output_type": "display_data"
    }
   ],
   "source": [
    "size_cluster = size_df.sort_values('Species', ignore_index=True)['Size Cluster'].astype(str)\n",
    "depth_cluster = depth_df.sort_values('Species',ignore_index=True)['Depth Cluster'].astype(str)\n",
    "diet_cluster = diet_df.sort_values('Species',ignore_index=True)['Diet Cluster'].astype(str)\n",
    "taxon_cluster = size_df.sort_values('Species',ignore_index=True)['Taxonomic Unit'].astype(str)\n",
    "\n",
    "## creating a df with all the cluster names for different descriptors\n",
    "cluster_df = pd.DataFrame({\n",
    "    'Species': size_df.sort_values('Species', ignore_index=True)['Species'],\n",
    "    'Size Cluster': size_cluster,\n",
    "    'Depth Cluster': depth_cluster,\n",
    "    'Diet Cluster': diet_cluster,\n",
    "    'Taxon Cluster': taxon_cluster,\n",
    "})\n",
    "\n",
    "## uniforming taxon clusters names with the others\n",
    "replacements = ['C{}'.format(i) for i in range(1,len(cluster_df['Taxon Cluster'].unique())+1)]\n",
    "cluster_df['Taxon Cluster'] = cluster_df['Taxon Cluster'].replace(cluster_df['Taxon Cluster'].unique(), replacements)\n",
    "cluster_mtx = [cluster_df['Size Cluster'], cluster_df['Depth Cluster'], cluster_df['Diet Cluster'], cluster_df['Taxon Cluster']] \n",
    "nn = len(cluster_mtx)\n",
    "\n",
    "## function that plot cluster analysis indexes for each couple of descriptors\n",
    "def calc_clust_analysis_index(cluster_matrix):\n",
    "    light_scale = [\n",
    "        [0, 'rgb(248, 232, 224)'],\n",
    "        [0.3, 'rgb(229, 166, 137)'],\n",
    "        [1, 'rgb(60, 81, 112)']\n",
    "    ]\n",
    "\n",
    "    ari_mtx = [[i for i in range(nn)] for i in range(nn)]\n",
    "    jaccard_mtx = [[i for i in range(nn)] for i in range(nn)]\n",
    "    ami_mtx = [[i for i in range(nn)] for i in range(nn)]\n",
    "    for i in range(len(cluster_matrix)):\n",
    "        for j in range(len(cluster_matrix)):\n",
    "            ari_mtx[i][j] = ari(cluster_matrix[i],cluster_matrix[j])\n",
    "            jaccard_mtx[i][j] = jaccard_score(cluster_matrix[i], cluster_matrix[j], average='micro')\n",
    "            ami_mtx[i][j] = ami(cluster_matrix[i], cluster_matrix[j])\n",
    "\n",
    "    mtx_plot_df = pd.DataFrame(\n",
    "        {\n",
    "            'Correlation Metrics': ['ARI', 'Jaccard', 'AMI'],\n",
    "            'Index Matrix': [ari_mtx, jaccard_mtx, ami_mtx],\n",
    "        }\n",
    "    )\n",
    "    data_array = [i for i in mtx_plot_df['Index Matrix']]\n",
    "    data_xarray = xr.DataArray(\n",
    "        data=data_array,\n",
    "        dims=['Metrics', 'Parameter2', 'Parameter1'],\n",
    "        coords={'Metrics': [1,2,3],\n",
    "                'Parameter1': ['Size', 'Depth', 'Diet', 'Taxon'],\n",
    "                'Parameter2': ['Size', 'Depth', 'Diet', 'Taxon']\n",
    "                }\n",
    "    )\n",
    "    fig = px.imshow(data_xarray, facet_col='Metrics', x=data_xarray['Parameter1'].data, y=data_xarray['Parameter1'].data, color_continuous_scale=light_scale, zmax=1)\n",
    "    new_titles = ['ARI', 'Jaccard', 'AMI']\n",
    "    for k in range(len(new_titles)):\n",
    "        fig.layout.annotations[k].update(text = new_titles[k], font_size=16)\n",
    "    return fig\n",
    "\n",
    "calc_clust_analysis_index(cluster_mtx)"
   ]
  },
  {
   "cell_type": "markdown",
   "metadata": {},
   "source": [
    "___\n",
    "### Labels Optimization Algorithm - Markov Chain Monte Carlo\n",
    "#### Goal\n",
    "The goal is to maximize the number of times each species is included in a cluster wiht the same cluster names.\n",
    "#### Why it is necessary\n",
    "When hierarchical clustering algorythms assign a cluster index there is no particular order in which they do that. Two very similar species A and B might always co-occur in the same cluster but the cluster name might be different ('Cluster1' or 'ClustA').  \n",
    "**Jaccard index** depends on the names of the clusters while AMI and ARI only count co-occurrence.\n",
    "\n",
    "#### Explaination\n",
    "The dataframe include one column for each object and one row for each clustering method.  \n",
    "The aim is to maximixe the number of times one columns contains the same value.  \n",
    "An appropriate Scoring System has been defined in order to obtain maximum values when in each column there is only one value and minimum when all the values are different.   \n",
    "\n",
    "0) Duplicate the starting df --> temp_df    || This is necessary to compare the 2 dfs\n",
    "1) Choose a random column of the temp_df\n",
    "2) Permute labels in that column \n",
    "3) Calculate the partial-score along all the columns\n",
    "3) Calc Match score on the entire state as sum of partial-scores for each row both for original df (Mscore) and for temp_df (Mscore')\n",
    "4) If Mscore' > Mscore --> move in that direction but if Mscore' < Mscore there is a certain probability to move in that direction too.\n",
    "\n",
    "#### Metropolis Choice\n",
    "In random walk algorithms it is always important to check for local maxima as they might prevent to  obtain the best possible solution.  \n",
    "A greedy algorythm always move towards higher values, thus it is very susceptible to local maxima.  \n",
    "Metropolis Algorithm let the random walk follow the score gradient while also inserting a certain probability move in a direction with lower score with a certain probability, this let the walker visit a broader space."
   ]
  },
  {
   "cell_type": "code",
   "execution_count": 303,
   "metadata": {},
   "outputs": [],
   "source": [
    "def permute_column(df):   #permute the values in one random column of the dataframe\n",
    "    df = df.copy(deep=True)\n",
    "    a = np.random.randint(0, len(df.columns))\n",
    "    column_name = df.iloc[:,a].name\n",
    "    rep1, rep2 = random.sample(df.iloc[:,a].unique().tolist(), k=2)\n",
    "    new_df = df.copy(deep=True)\n",
    "    new_column = df.iloc[:,a].replace([rep1, rep2], [rep2, rep1])\n",
    "    new_df[column_name] = new_column\n",
    "    return new_df\n",
    "    \n",
    "def calc_partial(column): # calculate the score for ech column (aka species)\n",
    "    vec = column.value_counts().tolist()\n",
    "    partial_score=0\n",
    "    for i in vec:\n",
    "    ## Scoring system defined this way: max if the species is always in the same cluster, minimum if all clusters are different\n",
    "        partial_score+=i**2  \n",
    "    return partial_score\n",
    "\n",
    "def calc_Mscore(df): #after each iteration this function sums all the scores to obtain a score of the entire state\n",
    "    mscore = 0\n",
    "    for i in range(len(df)):\n",
    "        mscore += calc_partial(df.iloc[i])\n",
    "    return mscore\n",
    "\n",
    "def greedy_replace(new_mscore, mscore, new_df, df):  #always move to higher values in the score landscape\n",
    "    if new_mscore >= mscore:\n",
    "        return new_df, new_mscore\n",
    "    else:\n",
    "        return df, mscore\n",
    "\n",
    "def metropolis_replace(new_mscore, mscore, new_df, df, beta):  \n",
    "    #always moves to higher scores, but can also visit lower score space with a certain probability\n",
    "    if new_mscore >= mscore:\n",
    "        return new_df, new_mscore\n",
    "    else:\n",
    "        if np.random.rand() < np.exp(-beta * (mscore-new_mscore)):   #definition of the probability function\n",
    "            return new_df, new_mscore\n",
    "        else:\n",
    "            return df, mscore\n",
    "\n",
    "def group_clusters(origin_df, beta = 1, label_choice = None):\n",
    "    if label_choice == None:\n",
    "        label_choice = 'greedy'\n",
    "    new_df = permute_column(origin_df)\n",
    "    mscore = calc_Mscore(origin_df)\n",
    "    new_mscore = calc_Mscore(new_df)\n",
    "    if label_choice == 'greedy':\n",
    "        return greedy_replace(new_mscore, mscore, new_df, origin_df)\n",
    "    else:\n",
    "        return metropolis_replace(new_mscore, mscore, new_df, origin_df, beta)\n",
    "\n",
    "\n",
    "def cold_chain(origin_df):  \n",
    "    #this 'chain' represent a totally random walker\n",
    "    #it is used to assess wheter a local maximum has been reached but it is not the global maximum\n",
    "    for i in range(10):                 #permute the values of ten random columns (with resampling)\n",
    "        origin_df=permute_column(origin_df)     #the original df is replaced with a randomly permuted one\n",
    "    new_mscore = calc_Mscore(origin_df)\n",
    "    return origin_df, new_mscore\n",
    "\n",
    "def watch_scores(score_list=[], names_list=[]): #plot the score of the state at each iteration\n",
    "    fig = go.Figure()                           #it is possible to input different scores as a list to compare them\n",
    "    for idx, vec in enumerate(score_list):\n",
    "        fig.add_trace(go.Scatter(y=vec, name=names_list[idx], marker_color=px.colors.qualitative.Pastel[idx]))\n",
    "        fig.update_xaxes(title='Number of Iterations')\n",
    "        fig.update_layout(template='plotly_white', title='System Score at each iteration')\n",
    "    fig.show()"
   ]
  },
  {
   "cell_type": "code",
   "execution_count": 306,
   "metadata": {},
   "outputs": [
    {
     "data": {
      "application/vnd.plotly.v1+json": {
       "config": {
        "plotlyServerURL": "https://plot.ly"
       },
       "data": [
        {
         "marker": {
          "color": "rgb(102, 197, 204)"
         },
         "name": "Cold Chain",
         "type": "scatter",
         "y": [
          270,
          276,
          234,
          288,
          256,
          244,
          302,
          234,
          248,
          260,
          232,
          250,
          262,
          228,
          234,
          248,
          276,
          252,
          288,
          228,
          216,
          252,
          282,
          246,
          234,
          278,
          252,
          254,
          248,
          234,
          230,
          258,
          240,
          288,
          274,
          226,
          256,
          250,
          250,
          288,
          298,
          256,
          276,
          284,
          262,
          210,
          244,
          242,
          290,
          238,
          292,
          246,
          276,
          258,
          266,
          266,
          248,
          246,
          232,
          224,
          232,
          276,
          244,
          220,
          270,
          290,
          242,
          258,
          258,
          256,
          250,
          244,
          254,
          232,
          302,
          248,
          252,
          266,
          302,
          238,
          300,
          236,
          260,
          250,
          242,
          288,
          218,
          254,
          214,
          266,
          264,
          242,
          286,
          272,
          256,
          292,
          256,
          286,
          248,
          254,
          270,
          270,
          276,
          260,
          310,
          268,
          244,
          328,
          304,
          276,
          248,
          248,
          244,
          260,
          290,
          302,
          260,
          258,
          252,
          236,
          256,
          280,
          310,
          276,
          230,
          234,
          252,
          238,
          258,
          288,
          248,
          248,
          216,
          256,
          298,
          238,
          306,
          262,
          216,
          276,
          252,
          272,
          252,
          278,
          262,
          220,
          248,
          236,
          244,
          270,
          278,
          276,
          272,
          214,
          214,
          226,
          242,
          236,
          254,
          266,
          274,
          262,
          242,
          264,
          250,
          250,
          270,
          272,
          266,
          260,
          232,
          266,
          216,
          250,
          284,
          246,
          256,
          240,
          258,
          246,
          230,
          260,
          234,
          270,
          260,
          308,
          286,
          234,
          228,
          244,
          244,
          268,
          234,
          242,
          254,
          246,
          230,
          266,
          214,
          248
         ]
        },
        {
         "marker": {
          "color": "rgb(246, 207, 113)"
         },
         "name": "Greedy Algorithm",
         "type": "scatter",
         "y": [
          272,
          272,
          272,
          302,
          302,
          302,
          302,
          318,
          318,
          318,
          318,
          320,
          320,
          320,
          320,
          320,
          320,
          320,
          322,
          322,
          322,
          322,
          322,
          322,
          322,
          322,
          322,
          322,
          322,
          322,
          322,
          322,
          322,
          322,
          322,
          322,
          322,
          322,
          322,
          324,
          324,
          324,
          324,
          324,
          324,
          324,
          324,
          324,
          324,
          324,
          324,
          324,
          324,
          324,
          324,
          324,
          324,
          324,
          326,
          326,
          326,
          326,
          326,
          326,
          326,
          326,
          326,
          326,
          326,
          326,
          326,
          326,
          326,
          326,
          326,
          326,
          326,
          326,
          326,
          326,
          326,
          326,
          326,
          326,
          326,
          326,
          326,
          326,
          326,
          326,
          326,
          326,
          326,
          326,
          326,
          326,
          326,
          326,
          326,
          326,
          326,
          326,
          326,
          326,
          326,
          326,
          326,
          326,
          326,
          326,
          326,
          326,
          326,
          326,
          326,
          326,
          326,
          326,
          326,
          326,
          326,
          326,
          326,
          326,
          326,
          326,
          326,
          326,
          326,
          326,
          326,
          326,
          326,
          326,
          326,
          326,
          326,
          326,
          326,
          326,
          326,
          326,
          326,
          326,
          326,
          326,
          326,
          326,
          326,
          326,
          326,
          326,
          326,
          326,
          326,
          326,
          326,
          326,
          326,
          326,
          326,
          326,
          326,
          326,
          326,
          326,
          326,
          326,
          326,
          326,
          326,
          326,
          326,
          326,
          326,
          326,
          326,
          326,
          326,
          326,
          326,
          326,
          326,
          326,
          326,
          326,
          326,
          326,
          326,
          326,
          326,
          326,
          326,
          326,
          326,
          326,
          326,
          326,
          326,
          326
         ]
        },
        {
         "marker": {
          "color": "rgb(248, 156, 116)"
         },
         "name": "Metropolis",
         "type": "scatter",
         "y": [
          288,
          288,
          272,
          304,
          302,
          302,
          302,
          320,
          318,
          318,
          318,
          320,
          320,
          320,
          320,
          320,
          320,
          320,
          322,
          322,
          322,
          322,
          322,
          322,
          322,
          322,
          322,
          322,
          322,
          320,
          322,
          322,
          322,
          322,
          320,
          322,
          322,
          322,
          322,
          324,
          324,
          324,
          324,
          324,
          324,
          324,
          326,
          324,
          324,
          324,
          324,
          324,
          326,
          324,
          324,
          324,
          324,
          324,
          326,
          326,
          326,
          326,
          326,
          326,
          326,
          326,
          326,
          326,
          326,
          326,
          326,
          326,
          326,
          326,
          326,
          326,
          326,
          326,
          326,
          326,
          326,
          326,
          326,
          326,
          326,
          326,
          326,
          326,
          326,
          326,
          326,
          326,
          326,
          326,
          326,
          326,
          326,
          326,
          326,
          326,
          326,
          326,
          326,
          326,
          324,
          326,
          326,
          326,
          326,
          326,
          326,
          326,
          326,
          326,
          326,
          326,
          326,
          326,
          326,
          326,
          326,
          326,
          326,
          326,
          326,
          326,
          326,
          326,
          326,
          326,
          326,
          326,
          326,
          326,
          326,
          326,
          326,
          326,
          326,
          326,
          326,
          326,
          324,
          326,
          326,
          326,
          326,
          326,
          326,
          326,
          326,
          326,
          324,
          326,
          326,
          326,
          326,
          326,
          324,
          326,
          326,
          326,
          326,
          326,
          326,
          326,
          326,
          326,
          326,
          326,
          326,
          326,
          326,
          322,
          326,
          326,
          326,
          326,
          326,
          326,
          326,
          326,
          326,
          326,
          326,
          326,
          326,
          326,
          326,
          326,
          326,
          326,
          326,
          322,
          326,
          326,
          324,
          326,
          326,
          326
         ]
        }
       ],
       "layout": {
        "template": {
         "data": {
          "bar": [
           {
            "error_x": {
             "color": "#2a3f5f"
            },
            "error_y": {
             "color": "#2a3f5f"
            },
            "marker": {
             "line": {
              "color": "white",
              "width": 0.5
             },
             "pattern": {
              "fillmode": "overlay",
              "size": 10,
              "solidity": 0.2
             }
            },
            "type": "bar"
           }
          ],
          "barpolar": [
           {
            "marker": {
             "line": {
              "color": "white",
              "width": 0.5
             },
             "pattern": {
              "fillmode": "overlay",
              "size": 10,
              "solidity": 0.2
             }
            },
            "type": "barpolar"
           }
          ],
          "carpet": [
           {
            "aaxis": {
             "endlinecolor": "#2a3f5f",
             "gridcolor": "#C8D4E3",
             "linecolor": "#C8D4E3",
             "minorgridcolor": "#C8D4E3",
             "startlinecolor": "#2a3f5f"
            },
            "baxis": {
             "endlinecolor": "#2a3f5f",
             "gridcolor": "#C8D4E3",
             "linecolor": "#C8D4E3",
             "minorgridcolor": "#C8D4E3",
             "startlinecolor": "#2a3f5f"
            },
            "type": "carpet"
           }
          ],
          "choropleth": [
           {
            "colorbar": {
             "outlinewidth": 0,
             "ticks": ""
            },
            "type": "choropleth"
           }
          ],
          "contour": [
           {
            "colorbar": {
             "outlinewidth": 0,
             "ticks": ""
            },
            "colorscale": [
             [
              0,
              "#0d0887"
             ],
             [
              0.1111111111111111,
              "#46039f"
             ],
             [
              0.2222222222222222,
              "#7201a8"
             ],
             [
              0.3333333333333333,
              "#9c179e"
             ],
             [
              0.4444444444444444,
              "#bd3786"
             ],
             [
              0.5555555555555556,
              "#d8576b"
             ],
             [
              0.6666666666666666,
              "#ed7953"
             ],
             [
              0.7777777777777778,
              "#fb9f3a"
             ],
             [
              0.8888888888888888,
              "#fdca26"
             ],
             [
              1,
              "#f0f921"
             ]
            ],
            "type": "contour"
           }
          ],
          "contourcarpet": [
           {
            "colorbar": {
             "outlinewidth": 0,
             "ticks": ""
            },
            "type": "contourcarpet"
           }
          ],
          "heatmap": [
           {
            "colorbar": {
             "outlinewidth": 0,
             "ticks": ""
            },
            "colorscale": [
             [
              0,
              "#0d0887"
             ],
             [
              0.1111111111111111,
              "#46039f"
             ],
             [
              0.2222222222222222,
              "#7201a8"
             ],
             [
              0.3333333333333333,
              "#9c179e"
             ],
             [
              0.4444444444444444,
              "#bd3786"
             ],
             [
              0.5555555555555556,
              "#d8576b"
             ],
             [
              0.6666666666666666,
              "#ed7953"
             ],
             [
              0.7777777777777778,
              "#fb9f3a"
             ],
             [
              0.8888888888888888,
              "#fdca26"
             ],
             [
              1,
              "#f0f921"
             ]
            ],
            "type": "heatmap"
           }
          ],
          "heatmapgl": [
           {
            "colorbar": {
             "outlinewidth": 0,
             "ticks": ""
            },
            "colorscale": [
             [
              0,
              "#0d0887"
             ],
             [
              0.1111111111111111,
              "#46039f"
             ],
             [
              0.2222222222222222,
              "#7201a8"
             ],
             [
              0.3333333333333333,
              "#9c179e"
             ],
             [
              0.4444444444444444,
              "#bd3786"
             ],
             [
              0.5555555555555556,
              "#d8576b"
             ],
             [
              0.6666666666666666,
              "#ed7953"
             ],
             [
              0.7777777777777778,
              "#fb9f3a"
             ],
             [
              0.8888888888888888,
              "#fdca26"
             ],
             [
              1,
              "#f0f921"
             ]
            ],
            "type": "heatmapgl"
           }
          ],
          "histogram": [
           {
            "marker": {
             "pattern": {
              "fillmode": "overlay",
              "size": 10,
              "solidity": 0.2
             }
            },
            "type": "histogram"
           }
          ],
          "histogram2d": [
           {
            "colorbar": {
             "outlinewidth": 0,
             "ticks": ""
            },
            "colorscale": [
             [
              0,
              "#0d0887"
             ],
             [
              0.1111111111111111,
              "#46039f"
             ],
             [
              0.2222222222222222,
              "#7201a8"
             ],
             [
              0.3333333333333333,
              "#9c179e"
             ],
             [
              0.4444444444444444,
              "#bd3786"
             ],
             [
              0.5555555555555556,
              "#d8576b"
             ],
             [
              0.6666666666666666,
              "#ed7953"
             ],
             [
              0.7777777777777778,
              "#fb9f3a"
             ],
             [
              0.8888888888888888,
              "#fdca26"
             ],
             [
              1,
              "#f0f921"
             ]
            ],
            "type": "histogram2d"
           }
          ],
          "histogram2dcontour": [
           {
            "colorbar": {
             "outlinewidth": 0,
             "ticks": ""
            },
            "colorscale": [
             [
              0,
              "#0d0887"
             ],
             [
              0.1111111111111111,
              "#46039f"
             ],
             [
              0.2222222222222222,
              "#7201a8"
             ],
             [
              0.3333333333333333,
              "#9c179e"
             ],
             [
              0.4444444444444444,
              "#bd3786"
             ],
             [
              0.5555555555555556,
              "#d8576b"
             ],
             [
              0.6666666666666666,
              "#ed7953"
             ],
             [
              0.7777777777777778,
              "#fb9f3a"
             ],
             [
              0.8888888888888888,
              "#fdca26"
             ],
             [
              1,
              "#f0f921"
             ]
            ],
            "type": "histogram2dcontour"
           }
          ],
          "mesh3d": [
           {
            "colorbar": {
             "outlinewidth": 0,
             "ticks": ""
            },
            "type": "mesh3d"
           }
          ],
          "parcoords": [
           {
            "line": {
             "colorbar": {
              "outlinewidth": 0,
              "ticks": ""
             }
            },
            "type": "parcoords"
           }
          ],
          "pie": [
           {
            "automargin": true,
            "type": "pie"
           }
          ],
          "scatter": [
           {
            "fillpattern": {
             "fillmode": "overlay",
             "size": 10,
             "solidity": 0.2
            },
            "type": "scatter"
           }
          ],
          "scatter3d": [
           {
            "line": {
             "colorbar": {
              "outlinewidth": 0,
              "ticks": ""
             }
            },
            "marker": {
             "colorbar": {
              "outlinewidth": 0,
              "ticks": ""
             }
            },
            "type": "scatter3d"
           }
          ],
          "scattercarpet": [
           {
            "marker": {
             "colorbar": {
              "outlinewidth": 0,
              "ticks": ""
             }
            },
            "type": "scattercarpet"
           }
          ],
          "scattergeo": [
           {
            "marker": {
             "colorbar": {
              "outlinewidth": 0,
              "ticks": ""
             }
            },
            "type": "scattergeo"
           }
          ],
          "scattergl": [
           {
            "marker": {
             "colorbar": {
              "outlinewidth": 0,
              "ticks": ""
             }
            },
            "type": "scattergl"
           }
          ],
          "scattermapbox": [
           {
            "marker": {
             "colorbar": {
              "outlinewidth": 0,
              "ticks": ""
             }
            },
            "type": "scattermapbox"
           }
          ],
          "scatterpolar": [
           {
            "marker": {
             "colorbar": {
              "outlinewidth": 0,
              "ticks": ""
             }
            },
            "type": "scatterpolar"
           }
          ],
          "scatterpolargl": [
           {
            "marker": {
             "colorbar": {
              "outlinewidth": 0,
              "ticks": ""
             }
            },
            "type": "scatterpolargl"
           }
          ],
          "scatterternary": [
           {
            "marker": {
             "colorbar": {
              "outlinewidth": 0,
              "ticks": ""
             }
            },
            "type": "scatterternary"
           }
          ],
          "surface": [
           {
            "colorbar": {
             "outlinewidth": 0,
             "ticks": ""
            },
            "colorscale": [
             [
              0,
              "#0d0887"
             ],
             [
              0.1111111111111111,
              "#46039f"
             ],
             [
              0.2222222222222222,
              "#7201a8"
             ],
             [
              0.3333333333333333,
              "#9c179e"
             ],
             [
              0.4444444444444444,
              "#bd3786"
             ],
             [
              0.5555555555555556,
              "#d8576b"
             ],
             [
              0.6666666666666666,
              "#ed7953"
             ],
             [
              0.7777777777777778,
              "#fb9f3a"
             ],
             [
              0.8888888888888888,
              "#fdca26"
             ],
             [
              1,
              "#f0f921"
             ]
            ],
            "type": "surface"
           }
          ],
          "table": [
           {
            "cells": {
             "fill": {
              "color": "#EBF0F8"
             },
             "line": {
              "color": "white"
             }
            },
            "header": {
             "fill": {
              "color": "#C8D4E3"
             },
             "line": {
              "color": "white"
             }
            },
            "type": "table"
           }
          ]
         },
         "layout": {
          "annotationdefaults": {
           "arrowcolor": "#2a3f5f",
           "arrowhead": 0,
           "arrowwidth": 1
          },
          "autotypenumbers": "strict",
          "coloraxis": {
           "colorbar": {
            "outlinewidth": 0,
            "ticks": ""
           }
          },
          "colorscale": {
           "diverging": [
            [
             0,
             "#8e0152"
            ],
            [
             0.1,
             "#c51b7d"
            ],
            [
             0.2,
             "#de77ae"
            ],
            [
             0.3,
             "#f1b6da"
            ],
            [
             0.4,
             "#fde0ef"
            ],
            [
             0.5,
             "#f7f7f7"
            ],
            [
             0.6,
             "#e6f5d0"
            ],
            [
             0.7,
             "#b8e186"
            ],
            [
             0.8,
             "#7fbc41"
            ],
            [
             0.9,
             "#4d9221"
            ],
            [
             1,
             "#276419"
            ]
           ],
           "sequential": [
            [
             0,
             "#0d0887"
            ],
            [
             0.1111111111111111,
             "#46039f"
            ],
            [
             0.2222222222222222,
             "#7201a8"
            ],
            [
             0.3333333333333333,
             "#9c179e"
            ],
            [
             0.4444444444444444,
             "#bd3786"
            ],
            [
             0.5555555555555556,
             "#d8576b"
            ],
            [
             0.6666666666666666,
             "#ed7953"
            ],
            [
             0.7777777777777778,
             "#fb9f3a"
            ],
            [
             0.8888888888888888,
             "#fdca26"
            ],
            [
             1,
             "#f0f921"
            ]
           ],
           "sequentialminus": [
            [
             0,
             "#0d0887"
            ],
            [
             0.1111111111111111,
             "#46039f"
            ],
            [
             0.2222222222222222,
             "#7201a8"
            ],
            [
             0.3333333333333333,
             "#9c179e"
            ],
            [
             0.4444444444444444,
             "#bd3786"
            ],
            [
             0.5555555555555556,
             "#d8576b"
            ],
            [
             0.6666666666666666,
             "#ed7953"
            ],
            [
             0.7777777777777778,
             "#fb9f3a"
            ],
            [
             0.8888888888888888,
             "#fdca26"
            ],
            [
             1,
             "#f0f921"
            ]
           ]
          },
          "colorway": [
           "#636efa",
           "#EF553B",
           "#00cc96",
           "#ab63fa",
           "#FFA15A",
           "#19d3f3",
           "#FF6692",
           "#B6E880",
           "#FF97FF",
           "#FECB52"
          ],
          "font": {
           "color": "#2a3f5f"
          },
          "geo": {
           "bgcolor": "white",
           "lakecolor": "white",
           "landcolor": "white",
           "showlakes": true,
           "showland": true,
           "subunitcolor": "#C8D4E3"
          },
          "hoverlabel": {
           "align": "left"
          },
          "hovermode": "closest",
          "mapbox": {
           "style": "light"
          },
          "paper_bgcolor": "white",
          "plot_bgcolor": "white",
          "polar": {
           "angularaxis": {
            "gridcolor": "#EBF0F8",
            "linecolor": "#EBF0F8",
            "ticks": ""
           },
           "bgcolor": "white",
           "radialaxis": {
            "gridcolor": "#EBF0F8",
            "linecolor": "#EBF0F8",
            "ticks": ""
           }
          },
          "scene": {
           "xaxis": {
            "backgroundcolor": "white",
            "gridcolor": "#DFE8F3",
            "gridwidth": 2,
            "linecolor": "#EBF0F8",
            "showbackground": true,
            "ticks": "",
            "zerolinecolor": "#EBF0F8"
           },
           "yaxis": {
            "backgroundcolor": "white",
            "gridcolor": "#DFE8F3",
            "gridwidth": 2,
            "linecolor": "#EBF0F8",
            "showbackground": true,
            "ticks": "",
            "zerolinecolor": "#EBF0F8"
           },
           "zaxis": {
            "backgroundcolor": "white",
            "gridcolor": "#DFE8F3",
            "gridwidth": 2,
            "linecolor": "#EBF0F8",
            "showbackground": true,
            "ticks": "",
            "zerolinecolor": "#EBF0F8"
           }
          },
          "shapedefaults": {
           "line": {
            "color": "#2a3f5f"
           }
          },
          "ternary": {
           "aaxis": {
            "gridcolor": "#DFE8F3",
            "linecolor": "#A2B1C6",
            "ticks": ""
           },
           "baxis": {
            "gridcolor": "#DFE8F3",
            "linecolor": "#A2B1C6",
            "ticks": ""
           },
           "bgcolor": "white",
           "caxis": {
            "gridcolor": "#DFE8F3",
            "linecolor": "#A2B1C6",
            "ticks": ""
           }
          },
          "title": {
           "x": 0.05
          },
          "xaxis": {
           "automargin": true,
           "gridcolor": "#EBF0F8",
           "linecolor": "#EBF0F8",
           "ticks": "",
           "title": {
            "standoff": 15
           },
           "zerolinecolor": "#EBF0F8",
           "zerolinewidth": 2
          },
          "yaxis": {
           "automargin": true,
           "gridcolor": "#EBF0F8",
           "linecolor": "#EBF0F8",
           "ticks": "",
           "title": {
            "standoff": 15
           },
           "zerolinecolor": "#EBF0F8",
           "zerolinewidth": 2
          }
         }
        },
        "xaxis": {
         "title": {
          "text": "Number of Iterations"
         }
        }
       }
      }
     },
     "metadata": {},
     "output_type": "display_data"
    },
    {
     "data": {
      "application/vnd.plotly.v1+json": {
       "config": {
        "plotlyServerURL": "https://plot.ly"
       },
       "data": [
        {
         "coloraxis": "coloraxis",
         "hovertemplate": "x: %{x}<br>y: %{y}<br>color: %{z}<extra></extra>",
         "name": "0",
         "type": "heatmap",
         "x": [
          "Mustelus mustelus",
          "Mustelus punctulatus",
          "Mustelus asterias",
          "Galeus melastomus",
          "Scyliorhinus stellaris",
          "Scyliorhinus canicula",
          "Hexanchus griseus",
          "Oxynotus centrina",
          "Etmopterus spinax",
          "Heptranchias perlo",
          "Dalatias licha",
          "Squalus blainville",
          "Centrophorus uyato",
          "Centrophorus granulosus",
          "Squalus acanthias",
          "Rostroraja alba",
          "Raja radula",
          "Raja polystigma",
          "Raja montagui",
          "Raja miraletus",
          "Tetronarce nobiliana",
          "Raja clavata",
          "Raja brachyura",
          "Aetomylaeus bovinus",
          "Pteroplatytrygon violacea",
          "Myliobatis aquila",
          "Torpedo marmorata",
          "Leucoraja naevus",
          "Leucoraja melitensis",
          "Leucoraja fullonica",
          "Leucoraja circularis",
          "Dipturus oxyrinchus",
          "Dipturus batis",
          "Dasyatis pastinaca",
          "Bathyraja brachyurops",
          "Raja asterias",
          "Torpedo torpedo",
          "Chimaera monstrosa"
         ],
         "xaxis": "x",
         "y": [
          "Size Cluster",
          "Depth Cluster",
          "Diet Cluster",
          "Taxon Cluster"
         ],
         "yaxis": "y",
         "z": [
          [
           1,
           1,
           3,
           3,
           1,
           3,
           2,
           3,
           3,
           3,
           1,
           3,
           3,
           4,
           3,
           4,
           3,
           3,
           3,
           3,
           3,
           3,
           3,
           1,
           1,
           1,
           3,
           3,
           3,
           1,
           3,
           3,
           4,
           4,
           1,
           3,
           3,
           3
          ],
          [
           1,
           2,
           1,
           3,
           1,
           3,
           3,
           3,
           3,
           3,
           3,
           3,
           3,
           3,
           3,
           3,
           1,
           1,
           1,
           3,
           3,
           3,
           1,
           2,
           1,
           1,
           3,
           1,
           3,
           1,
           4,
           4,
           4,
           1,
           1,
           3,
           1,
           3
          ],
          [
           1,
           3,
           3,
           1,
           3,
           1,
           3,
           2,
           1,
           3,
           3,
           3,
           3,
           3,
           1,
           1,
           3,
           4,
           4,
           1,
           5,
           3,
           3,
           3,
           3,
           1,
           5,
           3,
           4,
           4,
           4,
           4,
           1,
           3,
           1,
           3,
           5,
           1
          ],
          [
           1,
           1,
           1,
           1,
           1,
           1,
           2,
           2,
           2,
           2,
           2,
           2,
           2,
           2,
           2,
           3,
           3,
           3,
           3,
           3,
           3,
           3,
           3,
           3,
           3,
           3,
           3,
           3,
           3,
           3,
           3,
           3,
           3,
           3,
           3,
           3,
           3,
           4
          ]
         ]
        }
       ],
       "layout": {
        "coloraxis": {
         "colorscale": [
          [
           0,
           "rgb(234, 172, 139)"
          ],
          [
           0.5,
           "rgb(181, 101, 118)"
          ],
          [
           1,
           "rgb(53, 80, 112)"
          ]
         ]
        },
        "template": {
         "data": {
          "bar": [
           {
            "error_x": {
             "color": "#2a3f5f"
            },
            "error_y": {
             "color": "#2a3f5f"
            },
            "marker": {
             "line": {
              "color": "#E5ECF6",
              "width": 0.5
             },
             "pattern": {
              "fillmode": "overlay",
              "size": 10,
              "solidity": 0.2
             }
            },
            "type": "bar"
           }
          ],
          "barpolar": [
           {
            "marker": {
             "line": {
              "color": "#E5ECF6",
              "width": 0.5
             },
             "pattern": {
              "fillmode": "overlay",
              "size": 10,
              "solidity": 0.2
             }
            },
            "type": "barpolar"
           }
          ],
          "carpet": [
           {
            "aaxis": {
             "endlinecolor": "#2a3f5f",
             "gridcolor": "white",
             "linecolor": "white",
             "minorgridcolor": "white",
             "startlinecolor": "#2a3f5f"
            },
            "baxis": {
             "endlinecolor": "#2a3f5f",
             "gridcolor": "white",
             "linecolor": "white",
             "minorgridcolor": "white",
             "startlinecolor": "#2a3f5f"
            },
            "type": "carpet"
           }
          ],
          "choropleth": [
           {
            "colorbar": {
             "outlinewidth": 0,
             "ticks": ""
            },
            "type": "choropleth"
           }
          ],
          "contour": [
           {
            "colorbar": {
             "outlinewidth": 0,
             "ticks": ""
            },
            "colorscale": [
             [
              0,
              "#0d0887"
             ],
             [
              0.1111111111111111,
              "#46039f"
             ],
             [
              0.2222222222222222,
              "#7201a8"
             ],
             [
              0.3333333333333333,
              "#9c179e"
             ],
             [
              0.4444444444444444,
              "#bd3786"
             ],
             [
              0.5555555555555556,
              "#d8576b"
             ],
             [
              0.6666666666666666,
              "#ed7953"
             ],
             [
              0.7777777777777778,
              "#fb9f3a"
             ],
             [
              0.8888888888888888,
              "#fdca26"
             ],
             [
              1,
              "#f0f921"
             ]
            ],
            "type": "contour"
           }
          ],
          "contourcarpet": [
           {
            "colorbar": {
             "outlinewidth": 0,
             "ticks": ""
            },
            "type": "contourcarpet"
           }
          ],
          "heatmap": [
           {
            "colorbar": {
             "outlinewidth": 0,
             "ticks": ""
            },
            "colorscale": [
             [
              0,
              "#0d0887"
             ],
             [
              0.1111111111111111,
              "#46039f"
             ],
             [
              0.2222222222222222,
              "#7201a8"
             ],
             [
              0.3333333333333333,
              "#9c179e"
             ],
             [
              0.4444444444444444,
              "#bd3786"
             ],
             [
              0.5555555555555556,
              "#d8576b"
             ],
             [
              0.6666666666666666,
              "#ed7953"
             ],
             [
              0.7777777777777778,
              "#fb9f3a"
             ],
             [
              0.8888888888888888,
              "#fdca26"
             ],
             [
              1,
              "#f0f921"
             ]
            ],
            "type": "heatmap"
           }
          ],
          "heatmapgl": [
           {
            "colorbar": {
             "outlinewidth": 0,
             "ticks": ""
            },
            "colorscale": [
             [
              0,
              "#0d0887"
             ],
             [
              0.1111111111111111,
              "#46039f"
             ],
             [
              0.2222222222222222,
              "#7201a8"
             ],
             [
              0.3333333333333333,
              "#9c179e"
             ],
             [
              0.4444444444444444,
              "#bd3786"
             ],
             [
              0.5555555555555556,
              "#d8576b"
             ],
             [
              0.6666666666666666,
              "#ed7953"
             ],
             [
              0.7777777777777778,
              "#fb9f3a"
             ],
             [
              0.8888888888888888,
              "#fdca26"
             ],
             [
              1,
              "#f0f921"
             ]
            ],
            "type": "heatmapgl"
           }
          ],
          "histogram": [
           {
            "marker": {
             "pattern": {
              "fillmode": "overlay",
              "size": 10,
              "solidity": 0.2
             }
            },
            "type": "histogram"
           }
          ],
          "histogram2d": [
           {
            "colorbar": {
             "outlinewidth": 0,
             "ticks": ""
            },
            "colorscale": [
             [
              0,
              "#0d0887"
             ],
             [
              0.1111111111111111,
              "#46039f"
             ],
             [
              0.2222222222222222,
              "#7201a8"
             ],
             [
              0.3333333333333333,
              "#9c179e"
             ],
             [
              0.4444444444444444,
              "#bd3786"
             ],
             [
              0.5555555555555556,
              "#d8576b"
             ],
             [
              0.6666666666666666,
              "#ed7953"
             ],
             [
              0.7777777777777778,
              "#fb9f3a"
             ],
             [
              0.8888888888888888,
              "#fdca26"
             ],
             [
              1,
              "#f0f921"
             ]
            ],
            "type": "histogram2d"
           }
          ],
          "histogram2dcontour": [
           {
            "colorbar": {
             "outlinewidth": 0,
             "ticks": ""
            },
            "colorscale": [
             [
              0,
              "#0d0887"
             ],
             [
              0.1111111111111111,
              "#46039f"
             ],
             [
              0.2222222222222222,
              "#7201a8"
             ],
             [
              0.3333333333333333,
              "#9c179e"
             ],
             [
              0.4444444444444444,
              "#bd3786"
             ],
             [
              0.5555555555555556,
              "#d8576b"
             ],
             [
              0.6666666666666666,
              "#ed7953"
             ],
             [
              0.7777777777777778,
              "#fb9f3a"
             ],
             [
              0.8888888888888888,
              "#fdca26"
             ],
             [
              1,
              "#f0f921"
             ]
            ],
            "type": "histogram2dcontour"
           }
          ],
          "mesh3d": [
           {
            "colorbar": {
             "outlinewidth": 0,
             "ticks": ""
            },
            "type": "mesh3d"
           }
          ],
          "parcoords": [
           {
            "line": {
             "colorbar": {
              "outlinewidth": 0,
              "ticks": ""
             }
            },
            "type": "parcoords"
           }
          ],
          "pie": [
           {
            "automargin": true,
            "type": "pie"
           }
          ],
          "scatter": [
           {
            "fillpattern": {
             "fillmode": "overlay",
             "size": 10,
             "solidity": 0.2
            },
            "type": "scatter"
           }
          ],
          "scatter3d": [
           {
            "line": {
             "colorbar": {
              "outlinewidth": 0,
              "ticks": ""
             }
            },
            "marker": {
             "colorbar": {
              "outlinewidth": 0,
              "ticks": ""
             }
            },
            "type": "scatter3d"
           }
          ],
          "scattercarpet": [
           {
            "marker": {
             "colorbar": {
              "outlinewidth": 0,
              "ticks": ""
             }
            },
            "type": "scattercarpet"
           }
          ],
          "scattergeo": [
           {
            "marker": {
             "colorbar": {
              "outlinewidth": 0,
              "ticks": ""
             }
            },
            "type": "scattergeo"
           }
          ],
          "scattergl": [
           {
            "marker": {
             "colorbar": {
              "outlinewidth": 0,
              "ticks": ""
             }
            },
            "type": "scattergl"
           }
          ],
          "scattermapbox": [
           {
            "marker": {
             "colorbar": {
              "outlinewidth": 0,
              "ticks": ""
             }
            },
            "type": "scattermapbox"
           }
          ],
          "scatterpolar": [
           {
            "marker": {
             "colorbar": {
              "outlinewidth": 0,
              "ticks": ""
             }
            },
            "type": "scatterpolar"
           }
          ],
          "scatterpolargl": [
           {
            "marker": {
             "colorbar": {
              "outlinewidth": 0,
              "ticks": ""
             }
            },
            "type": "scatterpolargl"
           }
          ],
          "scatterternary": [
           {
            "marker": {
             "colorbar": {
              "outlinewidth": 0,
              "ticks": ""
             }
            },
            "type": "scatterternary"
           }
          ],
          "surface": [
           {
            "colorbar": {
             "outlinewidth": 0,
             "ticks": ""
            },
            "colorscale": [
             [
              0,
              "#0d0887"
             ],
             [
              0.1111111111111111,
              "#46039f"
             ],
             [
              0.2222222222222222,
              "#7201a8"
             ],
             [
              0.3333333333333333,
              "#9c179e"
             ],
             [
              0.4444444444444444,
              "#bd3786"
             ],
             [
              0.5555555555555556,
              "#d8576b"
             ],
             [
              0.6666666666666666,
              "#ed7953"
             ],
             [
              0.7777777777777778,
              "#fb9f3a"
             ],
             [
              0.8888888888888888,
              "#fdca26"
             ],
             [
              1,
              "#f0f921"
             ]
            ],
            "type": "surface"
           }
          ],
          "table": [
           {
            "cells": {
             "fill": {
              "color": "#EBF0F8"
             },
             "line": {
              "color": "white"
             }
            },
            "header": {
             "fill": {
              "color": "#C8D4E3"
             },
             "line": {
              "color": "white"
             }
            },
            "type": "table"
           }
          ]
         },
         "layout": {
          "annotationdefaults": {
           "arrowcolor": "#2a3f5f",
           "arrowhead": 0,
           "arrowwidth": 1
          },
          "autotypenumbers": "strict",
          "coloraxis": {
           "colorbar": {
            "outlinewidth": 0,
            "ticks": ""
           }
          },
          "colorscale": {
           "diverging": [
            [
             0,
             "#8e0152"
            ],
            [
             0.1,
             "#c51b7d"
            ],
            [
             0.2,
             "#de77ae"
            ],
            [
             0.3,
             "#f1b6da"
            ],
            [
             0.4,
             "#fde0ef"
            ],
            [
             0.5,
             "#f7f7f7"
            ],
            [
             0.6,
             "#e6f5d0"
            ],
            [
             0.7,
             "#b8e186"
            ],
            [
             0.8,
             "#7fbc41"
            ],
            [
             0.9,
             "#4d9221"
            ],
            [
             1,
             "#276419"
            ]
           ],
           "sequential": [
            [
             0,
             "#0d0887"
            ],
            [
             0.1111111111111111,
             "#46039f"
            ],
            [
             0.2222222222222222,
             "#7201a8"
            ],
            [
             0.3333333333333333,
             "#9c179e"
            ],
            [
             0.4444444444444444,
             "#bd3786"
            ],
            [
             0.5555555555555556,
             "#d8576b"
            ],
            [
             0.6666666666666666,
             "#ed7953"
            ],
            [
             0.7777777777777778,
             "#fb9f3a"
            ],
            [
             0.8888888888888888,
             "#fdca26"
            ],
            [
             1,
             "#f0f921"
            ]
           ],
           "sequentialminus": [
            [
             0,
             "#0d0887"
            ],
            [
             0.1111111111111111,
             "#46039f"
            ],
            [
             0.2222222222222222,
             "#7201a8"
            ],
            [
             0.3333333333333333,
             "#9c179e"
            ],
            [
             0.4444444444444444,
             "#bd3786"
            ],
            [
             0.5555555555555556,
             "#d8576b"
            ],
            [
             0.6666666666666666,
             "#ed7953"
            ],
            [
             0.7777777777777778,
             "#fb9f3a"
            ],
            [
             0.8888888888888888,
             "#fdca26"
            ],
            [
             1,
             "#f0f921"
            ]
           ]
          },
          "colorway": [
           "#636efa",
           "#EF553B",
           "#00cc96",
           "#ab63fa",
           "#FFA15A",
           "#19d3f3",
           "#FF6692",
           "#B6E880",
           "#FF97FF",
           "#FECB52"
          ],
          "font": {
           "color": "#2a3f5f"
          },
          "geo": {
           "bgcolor": "white",
           "lakecolor": "white",
           "landcolor": "#E5ECF6",
           "showlakes": true,
           "showland": true,
           "subunitcolor": "white"
          },
          "hoverlabel": {
           "align": "left"
          },
          "hovermode": "closest",
          "mapbox": {
           "style": "light"
          },
          "paper_bgcolor": "white",
          "plot_bgcolor": "#E5ECF6",
          "polar": {
           "angularaxis": {
            "gridcolor": "white",
            "linecolor": "white",
            "ticks": ""
           },
           "bgcolor": "#E5ECF6",
           "radialaxis": {
            "gridcolor": "white",
            "linecolor": "white",
            "ticks": ""
           }
          },
          "scene": {
           "xaxis": {
            "backgroundcolor": "#E5ECF6",
            "gridcolor": "white",
            "gridwidth": 2,
            "linecolor": "white",
            "showbackground": true,
            "ticks": "",
            "zerolinecolor": "white"
           },
           "yaxis": {
            "backgroundcolor": "#E5ECF6",
            "gridcolor": "white",
            "gridwidth": 2,
            "linecolor": "white",
            "showbackground": true,
            "ticks": "",
            "zerolinecolor": "white"
           },
           "zaxis": {
            "backgroundcolor": "#E5ECF6",
            "gridcolor": "white",
            "gridwidth": 2,
            "linecolor": "white",
            "showbackground": true,
            "ticks": "",
            "zerolinecolor": "white"
           }
          },
          "shapedefaults": {
           "line": {
            "color": "#2a3f5f"
           }
          },
          "ternary": {
           "aaxis": {
            "gridcolor": "white",
            "linecolor": "white",
            "ticks": ""
           },
           "baxis": {
            "gridcolor": "white",
            "linecolor": "white",
            "ticks": ""
           },
           "bgcolor": "#E5ECF6",
           "caxis": {
            "gridcolor": "white",
            "linecolor": "white",
            "ticks": ""
           }
          },
          "title": {
           "x": 0.05
          },
          "xaxis": {
           "automargin": true,
           "gridcolor": "white",
           "linecolor": "white",
           "ticks": "",
           "title": {
            "standoff": 15
           },
           "zerolinecolor": "white",
           "zerolinewidth": 2
          },
          "yaxis": {
           "automargin": true,
           "gridcolor": "white",
           "linecolor": "white",
           "ticks": "",
           "title": {
            "standoff": 15
           },
           "zerolinecolor": "white",
           "zerolinewidth": 2
          }
         }
        },
        "title": {
         "text": "Comparison for each species between cluster labels <br>Score:326"
        },
        "xaxis": {
         "anchor": "y",
         "domain": [
          0,
          1
         ]
        },
        "yaxis": {
         "anchor": "x",
         "autorange": "reversed",
         "domain": [
          0,
          1
         ]
        }
       }
      }
     },
     "metadata": {},
     "output_type": "display_data"
    }
   ],
   "source": [
    "df = cluster_df.copy()\n",
    "df = df.sort_values('Species').set_index('Species')\n",
    "mk_df = df.copy()   #df for the cold chain comparison\n",
    "mscore_vec = []     #vec containing scores obtained by greedy algorithm\n",
    "mscore_vec1 = []    #vec with scores obtained from metropolis algorithm\n",
    "mkscore_vec = []    #vec with cold chain scores\n",
    "iterations = 200\n",
    "\n",
    "for i in range(iterations):\n",
    "    df, mscore = group_clusters(df, label_choice='greedy')\n",
    "    df1, mscore1 = group_clusters(df, beta=0.4, label_choice='metro')\n",
    "    mk_df, mkscore = cold_chain(mk_df)\n",
    "    mscore_vec.append(mscore)\n",
    "    mscore_vec1.append(mscore1)\n",
    "    mkscore_vec.append(mkscore)\n",
    "watch_scores([mkscore_vec, mscore_vec, mscore_vec1], ['Cold Chain','Greedy Algorithm','Metropolis'])\n",
    "\n",
    "\n",
    "labels = pd.unique(np.array([df.iloc[i].tolist() for i in range(len(df))]).flatten()).tolist()\n",
    "new_labels = [i for i in range(1, len(labels)+1)]\n",
    "comparison_df = df1.replace(labels, new_labels).transpose()\n",
    "comparison_df.columns = cluster_df['Species'].tolist()\n",
    "\n",
    "comparison_df.sort_values('Taxon Cluster', axis=1, inplace=True) #set the taxon as reference for sorting\n",
    "#plot of the heatmap\n",
    "#each species has a different color accoridng to the cluster value it has assigned\n",
    "px.imshow(comparison_df, x=comparison_df.columns, y=comparison_df.index,\n",
    "    title='Comparison for each species between cluster labels <br>Score:{}'.format(mscore),\n",
    "    color_continuous_scale=cont_scale, aspect='auto')\n"
   ]
  }
 ],
 "metadata": {
  "kernelspec": {
   "display_name": "Python 3.9.12 ('plot_env')",
   "language": "python",
   "name": "python3"
  },
  "language_info": {
   "codemirror_mode": {
    "name": "ipython",
    "version": 3
   },
   "file_extension": ".py",
   "mimetype": "text/x-python",
   "name": "python",
   "nbconvert_exporter": "python",
   "pygments_lexer": "ipython3",
   "version": "3.9.12"
  },
  "orig_nbformat": 4,
  "vscode": {
   "interpreter": {
    "hash": "68f8ffb8a3074c0cf9154d5d0bcd8fd5e4a1ee6af5ade523485b9b5fe08c0e63"
   }
  }
 },
 "nbformat": 4,
 "nbformat_minor": 2
}
